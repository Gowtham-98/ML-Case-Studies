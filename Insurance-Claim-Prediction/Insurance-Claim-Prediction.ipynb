{
  "nbformat": 4,
  "nbformat_minor": 0,
  "metadata": {
    "colab": {
      "provenance": [],
      "collapsed_sections": [
        "Otslyy9CFdR_",
        "7RJujgTJHRwu",
        "yjsfdgSkHy9v",
        "EIQYbV6SKufp",
        "MUhi6rm8LmIa",
        "UXY3L9_Po02s",
        "POeMdb-utc5z",
        "_n0BXaRfz3dt",
        "Zc1xdYqc0sDv"
      ],
      "toc_visible": true
    },
    "kernelspec": {
      "name": "python3",
      "display_name": "Python 3"
    },
    "language_info": {
      "name": "python"
    }
  },
  "cells": [
    {
      "cell_type": "code",
      "source": [
        "# installing catboost since it is not readily available in Google Colab\n",
        "!pip3 install catboost\n"
      ],
      "metadata": {
        "colab": {
          "base_uri": "https://localhost:8080/"
        },
        "id": "4iJuXP2_WO-H",
        "outputId": "6f364be9-db21-4114-bd5d-dffdc2f2fc18"
      },
      "execution_count": 2,
      "outputs": [
        {
          "output_type": "stream",
          "name": "stdout",
          "text": [
            "Looking in indexes: https://pypi.org/simple, https://us-python.pkg.dev/colab-wheels/public/simple/\n",
            "Collecting catboost\n",
            "  Downloading catboost-1.1.1-cp37-none-manylinux1_x86_64.whl (76.6 MB)\n",
            "\u001b[K     |████████████████████████████████| 76.6 MB 1.3 MB/s \n",
            "\u001b[?25hRequirement already satisfied: plotly in /usr/local/lib/python3.7/dist-packages (from catboost) (5.5.0)\n",
            "Requirement already satisfied: pandas>=0.24.0 in /usr/local/lib/python3.7/dist-packages (from catboost) (1.3.5)\n",
            "Requirement already satisfied: scipy in /usr/local/lib/python3.7/dist-packages (from catboost) (1.7.3)\n",
            "Requirement already satisfied: numpy>=1.16.0 in /usr/local/lib/python3.7/dist-packages (from catboost) (1.21.6)\n",
            "Requirement already satisfied: six in /usr/local/lib/python3.7/dist-packages (from catboost) (1.15.0)\n",
            "Requirement already satisfied: matplotlib in /usr/local/lib/python3.7/dist-packages (from catboost) (3.2.2)\n",
            "Requirement already satisfied: graphviz in /usr/local/lib/python3.7/dist-packages (from catboost) (0.10.1)\n",
            "Requirement already satisfied: pytz>=2017.3 in /usr/local/lib/python3.7/dist-packages (from pandas>=0.24.0->catboost) (2022.6)\n",
            "Requirement already satisfied: python-dateutil>=2.7.3 in /usr/local/lib/python3.7/dist-packages (from pandas>=0.24.0->catboost) (2.8.2)\n",
            "Requirement already satisfied: cycler>=0.10 in /usr/local/lib/python3.7/dist-packages (from matplotlib->catboost) (0.11.0)\n",
            "Requirement already satisfied: pyparsing!=2.0.4,!=2.1.2,!=2.1.6,>=2.0.1 in /usr/local/lib/python3.7/dist-packages (from matplotlib->catboost) (3.0.9)\n",
            "Requirement already satisfied: kiwisolver>=1.0.1 in /usr/local/lib/python3.7/dist-packages (from matplotlib->catboost) (1.4.4)\n",
            "Requirement already satisfied: typing-extensions in /usr/local/lib/python3.7/dist-packages (from kiwisolver>=1.0.1->matplotlib->catboost) (4.1.1)\n",
            "Requirement already satisfied: tenacity>=6.2.0 in /usr/local/lib/python3.7/dist-packages (from plotly->catboost) (8.1.0)\n",
            "Installing collected packages: catboost\n",
            "Successfully installed catboost-1.1.1\n"
          ]
        }
      ]
    },
    {
      "cell_type": "code",
      "source": [
        "! pip install xverse\n",
        "! pip install --upgrade category_encoders"
      ],
      "metadata": {
        "colab": {
          "base_uri": "https://localhost:8080/"
        },
        "id": "XeOGVXftV4dR",
        "outputId": "72c20747-de9c-44da-b1f8-36b6b6873a90"
      },
      "execution_count": 3,
      "outputs": [
        {
          "output_type": "stream",
          "name": "stdout",
          "text": [
            "Looking in indexes: https://pypi.org/simple, https://us-python.pkg.dev/colab-wheels/public/simple/\n",
            "Collecting xverse\n",
            "  Downloading xverse-1.0.5-py3-none-any.whl (21 kB)\n",
            "Requirement already satisfied: scikit-learn>=0.19.0 in /usr/local/lib/python3.7/dist-packages (from xverse) (1.0.2)\n",
            "Requirement already satisfied: matplotlib>=3.0.3 in /usr/local/lib/python3.7/dist-packages (from xverse) (3.2.2)\n",
            "Requirement already satisfied: numpy>=1.11.3 in /usr/local/lib/python3.7/dist-packages (from xverse) (1.21.6)\n",
            "Requirement already satisfied: statsmodels>=0.6.1 in /usr/local/lib/python3.7/dist-packages (from xverse) (0.12.2)\n",
            "Requirement already satisfied: scipy>=0.19.0 in /usr/local/lib/python3.7/dist-packages (from xverse) (1.7.3)\n",
            "Requirement already satisfied: pandas>=0.21.1 in /usr/local/lib/python3.7/dist-packages (from xverse) (1.3.5)\n",
            "Requirement already satisfied: python-dateutil>=2.1 in /usr/local/lib/python3.7/dist-packages (from matplotlib>=3.0.3->xverse) (2.8.2)\n",
            "Requirement already satisfied: pyparsing!=2.0.4,!=2.1.2,!=2.1.6,>=2.0.1 in /usr/local/lib/python3.7/dist-packages (from matplotlib>=3.0.3->xverse) (3.0.9)\n",
            "Requirement already satisfied: kiwisolver>=1.0.1 in /usr/local/lib/python3.7/dist-packages (from matplotlib>=3.0.3->xverse) (1.4.4)\n",
            "Requirement already satisfied: cycler>=0.10 in /usr/local/lib/python3.7/dist-packages (from matplotlib>=3.0.3->xverse) (0.11.0)\n",
            "Requirement already satisfied: typing-extensions in /usr/local/lib/python3.7/dist-packages (from kiwisolver>=1.0.1->matplotlib>=3.0.3->xverse) (4.1.1)\n",
            "Requirement already satisfied: pytz>=2017.3 in /usr/local/lib/python3.7/dist-packages (from pandas>=0.21.1->xverse) (2022.6)\n",
            "Requirement already satisfied: six>=1.5 in /usr/local/lib/python3.7/dist-packages (from python-dateutil>=2.1->matplotlib>=3.0.3->xverse) (1.15.0)\n",
            "Requirement already satisfied: threadpoolctl>=2.0.0 in /usr/local/lib/python3.7/dist-packages (from scikit-learn>=0.19.0->xverse) (3.1.0)\n",
            "Requirement already satisfied: joblib>=0.11 in /usr/local/lib/python3.7/dist-packages (from scikit-learn>=0.19.0->xverse) (1.2.0)\n",
            "Requirement already satisfied: patsy>=0.5 in /usr/local/lib/python3.7/dist-packages (from statsmodels>=0.6.1->xverse) (0.5.3)\n",
            "Installing collected packages: xverse\n",
            "Successfully installed xverse-1.0.5\n",
            "Looking in indexes: https://pypi.org/simple, https://us-python.pkg.dev/colab-wheels/public/simple/\n",
            "Collecting category_encoders\n",
            "  Downloading category_encoders-2.5.1.post0-py2.py3-none-any.whl (72 kB)\n",
            "\u001b[K     |████████████████████████████████| 72 kB 710 kB/s \n",
            "\u001b[?25hRequirement already satisfied: patsy>=0.5.1 in /usr/local/lib/python3.7/dist-packages (from category_encoders) (0.5.3)\n",
            "Requirement already satisfied: scipy>=1.0.0 in /usr/local/lib/python3.7/dist-packages (from category_encoders) (1.7.3)\n",
            "Requirement already satisfied: statsmodels>=0.9.0 in /usr/local/lib/python3.7/dist-packages (from category_encoders) (0.12.2)\n",
            "Requirement already satisfied: scikit-learn>=0.20.0 in /usr/local/lib/python3.7/dist-packages (from category_encoders) (1.0.2)\n",
            "Requirement already satisfied: pandas>=1.0.5 in /usr/local/lib/python3.7/dist-packages (from category_encoders) (1.3.5)\n",
            "Requirement already satisfied: numpy>=1.14.0 in /usr/local/lib/python3.7/dist-packages (from category_encoders) (1.21.6)\n",
            "Requirement already satisfied: pytz>=2017.3 in /usr/local/lib/python3.7/dist-packages (from pandas>=1.0.5->category_encoders) (2022.6)\n",
            "Requirement already satisfied: python-dateutil>=2.7.3 in /usr/local/lib/python3.7/dist-packages (from pandas>=1.0.5->category_encoders) (2.8.2)\n",
            "Requirement already satisfied: six in /usr/local/lib/python3.7/dist-packages (from patsy>=0.5.1->category_encoders) (1.15.0)\n",
            "Requirement already satisfied: joblib>=0.11 in /usr/local/lib/python3.7/dist-packages (from scikit-learn>=0.20.0->category_encoders) (1.2.0)\n",
            "Requirement already satisfied: threadpoolctl>=2.0.0 in /usr/local/lib/python3.7/dist-packages (from scikit-learn>=0.20.0->category_encoders) (3.1.0)\n",
            "Installing collected packages: category-encoders\n",
            "Successfully installed category-encoders-2.5.1.post0\n"
          ]
        }
      ]
    },
    {
      "cell_type": "code",
      "source": [
        "# to show the time taken by each cell \n",
        "!pip install ipython-autotime\n",
        "%load_ext autotime"
      ],
      "metadata": {
        "colab": {
          "base_uri": "https://localhost:8080/"
        },
        "id": "GPD-nUEeX5gz",
        "outputId": "d18ad234-9639-46da-b61c-07b60377b8d3"
      },
      "execution_count": 4,
      "outputs": [
        {
          "output_type": "stream",
          "name": "stdout",
          "text": [
            "Looking in indexes: https://pypi.org/simple, https://us-python.pkg.dev/colab-wheels/public/simple/\n",
            "Collecting ipython-autotime\n",
            "  Downloading ipython_autotime-0.3.1-py2.py3-none-any.whl (6.8 kB)\n",
            "Requirement already satisfied: ipython in /usr/local/lib/python3.7/dist-packages (from ipython-autotime) (7.9.0)\n",
            "Requirement already satisfied: pygments in /usr/local/lib/python3.7/dist-packages (from ipython->ipython-autotime) (2.6.1)\n",
            "Requirement already satisfied: traitlets>=4.2 in /usr/local/lib/python3.7/dist-packages (from ipython->ipython-autotime) (5.1.1)\n",
            "Requirement already satisfied: decorator in /usr/local/lib/python3.7/dist-packages (from ipython->ipython-autotime) (4.4.2)\n",
            "Collecting jedi>=0.10\n",
            "  Downloading jedi-0.18.2-py2.py3-none-any.whl (1.6 MB)\n",
            "\u001b[K     |████████████████████████████████| 1.6 MB 4.0 MB/s \n",
            "\u001b[?25hRequirement already satisfied: prompt-toolkit<2.1.0,>=2.0.0 in /usr/local/lib/python3.7/dist-packages (from ipython->ipython-autotime) (2.0.10)\n",
            "Requirement already satisfied: setuptools>=18.5 in /usr/local/lib/python3.7/dist-packages (from ipython->ipython-autotime) (57.4.0)\n",
            "Requirement already satisfied: pickleshare in /usr/local/lib/python3.7/dist-packages (from ipython->ipython-autotime) (0.7.5)\n",
            "Requirement already satisfied: pexpect in /usr/local/lib/python3.7/dist-packages (from ipython->ipython-autotime) (4.8.0)\n",
            "Requirement already satisfied: backcall in /usr/local/lib/python3.7/dist-packages (from ipython->ipython-autotime) (0.2.0)\n",
            "Requirement already satisfied: parso<0.9.0,>=0.8.0 in /usr/local/lib/python3.7/dist-packages (from jedi>=0.10->ipython->ipython-autotime) (0.8.3)\n",
            "Requirement already satisfied: wcwidth in /usr/local/lib/python3.7/dist-packages (from prompt-toolkit<2.1.0,>=2.0.0->ipython->ipython-autotime) (0.2.5)\n",
            "Requirement already satisfied: six>=1.9.0 in /usr/local/lib/python3.7/dist-packages (from prompt-toolkit<2.1.0,>=2.0.0->ipython->ipython-autotime) (1.15.0)\n",
            "Requirement already satisfied: ptyprocess>=0.5 in /usr/local/lib/python3.7/dist-packages (from pexpect->ipython->ipython-autotime) (0.7.0)\n",
            "Installing collected packages: jedi, ipython-autotime\n",
            "Successfully installed ipython-autotime-0.3.1 jedi-0.18.2\n",
            "time: 485 µs (started: 2022-11-23 16:27:14 +00:00)\n"
          ]
        }
      ]
    },
    {
      "cell_type": "code",
      "source": [
        "\n",
        "import numpy as np\n",
        "import pandas as pd\n",
        "\n",
        "pd.set_option('display.max_rows', None)\n",
        "pd.set_option('display.max_columns', None)\n",
        "\n",
        "import matplotlib.pyplot as plt\n",
        "import seaborn as sns\n",
        "\n",
        "from xverse.transformer import WOE\n",
        "from category_encoders.cat_boost import CatBoostEncoder\n",
        "from category_encoders.woe import WOEEncoder\n",
        "\n",
        "from sklearn.model_selection import train_test_split\n",
        "from sklearn.pipeline import Pipeline\n",
        "from catboost import CatBoostClassifier\n",
        "\n",
        "from sklearn.ensemble import RandomForestClassifier\n",
        "from xgboost import XGBClassifier\n",
        "from lightgbm import LGBMClassifier\n",
        "from sklearn.model_selection import RandomizedSearchCV, GridSearchCV\n",
        "from sklearn.metrics import classification_report, f1_score, confusion_matrix, ConfusionMatrixDisplay\n",
        "from statsmodels.stats.outliers_influence import variance_inflation_factor\n",
        "\n",
        "from scipy.stats import randint as sp_randint\n",
        "from scipy.stats import uniform as sp_uniform\n",
        "from sklearn.feature_selection import RFE"
      ],
      "metadata": {
        "colab": {
          "base_uri": "https://localhost:8080/"
        },
        "id": "N-cZoVKdVw-o",
        "outputId": "b3634655-0c39-4550-b91c-afcc1b6006d7"
      },
      "execution_count": 5,
      "outputs": [
        {
          "output_type": "stream",
          "name": "stdout",
          "text": [
            "time: 1.89 s (started: 2022-11-23 16:27:14 +00:00)\n"
          ]
        }
      ]
    },
    {
      "cell_type": "code",
      "source": [
        "# importing required libraries\n",
        "\n",
        "%matplotlib inline\n",
        "\n",
        "import pandas as pd\n",
        "from catboost import CatBoostClassifier\n",
        "import numpy as np\n",
        "import matplotlib.pyplot as plt\n",
        "\n",
        "from sklearn.metrics import confusion_matrix, roc_curve, auc, ConfusionMatrixDisplay, f1_score, RocCurveDisplay, roc_auc_score, accuracy_score, classification_report, recall_score\n",
        "from sklearn.model_selection import train_test_split"
      ],
      "metadata": {
        "colab": {
          "base_uri": "https://localhost:8080/"
        },
        "id": "0kes006BWFr3",
        "outputId": "e4375ea7-6a65-4a84-ca8b-0bd92d3d3616"
      },
      "execution_count": 29,
      "outputs": [
        {
          "output_type": "stream",
          "name": "stdout",
          "text": [
            "time: 4.89 ms (started: 2022-11-23 16:28:08 +00:00)\n"
          ]
        }
      ]
    },
    {
      "cell_type": "markdown",
      "source": [
        "# About the Dataset\n",
        "---\n",
        "## Insurance Claim Prediction\n",
        "---\n",
        "\n",
        "1. An insurance policy is an agreement between a company and a customer by which a company undertakes to provide a guarantee of compensation for specified loss, damage or illness in return for the payment of a specified premium. A premium is a sum of money that the customer needs to pay regularly to an insurance company for this guarantee.\n",
        "\n",
        "2. For example, you pay a premium of Rs. 3000/- each year for car insurance with a coverage of Rs. 100,000/-. Unfortunately, in case of an accident, the car is severely damaged. In that case, the insurance provider company will bear the cost of damage etc. for up to Rs. 100,000. \n",
        "\n",
        "3. Now if you are wondering how can a company bear such a high cost when it charges a premium of only Rs. 3000/- per year only i.e. where the concept of probability comes into the picture. For example, there might be thousands of customers who would be paying a premium of Rs. 3000 every year just like you, but only a few of them (say 2-3) would have had an accident that year and not everyone. This way everyone shares the risk of everyone else.\n",
        "\n",
        "4. Our client is an Insurance company that provides insurance for cars to its customers. In this hackathon, you will be closely working with the insurer in understanding the behaviour of the policyholders."
      ],
      "metadata": {
        "id": "ov1EsTzL0Cdo"
      }
    },
    {
      "cell_type": "code",
      "source": [
        "# to display all the rows and columns\n",
        "pd.set_option('display.max_rows', 100)\n",
        "pd.set_option('display.max_columns', 100)"
      ],
      "metadata": {
        "colab": {
          "base_uri": "https://localhost:8080/"
        },
        "id": "6WuijXErWemF",
        "outputId": "f5daf3e5-02f6-4487-a962-c63304d87716"
      },
      "execution_count": 30,
      "outputs": [
        {
          "output_type": "stream",
          "name": "stdout",
          "text": [
            "time: 1.07 ms (started: 2022-11-23 16:28:08 +00:00)\n"
          ]
        }
      ]
    },
    {
      "cell_type": "code",
      "source": [
        "df = pd.read_csv('train_qWM28Yl.csv')\n",
        "oot = pd.read_csv('test_zo1G9sv.csv')"
      ],
      "metadata": {
        "colab": {
          "base_uri": "https://localhost:8080/"
        },
        "id": "OyvrqKReXRnB",
        "outputId": "969d4ad6-80d6-4387-d725-7280e620a696"
      },
      "execution_count": 103,
      "outputs": [
        {
          "output_type": "stream",
          "name": "stdout",
          "text": [
            "time: 557 ms (started: 2022-11-23 16:45:04 +00:00)\n"
          ]
        }
      ]
    },
    {
      "cell_type": "code",
      "source": [
        "# checking for any duplicate policy IDs\n",
        "df['policy_id'].duplicated().sum()"
      ],
      "metadata": {
        "colab": {
          "base_uri": "https://localhost:8080/"
        },
        "id": "2HrKtvDQXUw2",
        "outputId": "2007ca9f-2b96-4ff9-b5c0-f48c048d3a3e"
      },
      "execution_count": 32,
      "outputs": [
        {
          "output_type": "execute_result",
          "data": {
            "text/plain": [
              "0"
            ]
          },
          "metadata": {},
          "execution_count": 32
        },
        {
          "output_type": "stream",
          "name": "stdout",
          "text": [
            "time: 16.6 ms (started: 2022-11-23 16:28:08 +00:00)\n"
          ]
        }
      ]
    },
    {
      "cell_type": "code",
      "source": [
        "df.head()"
      ],
      "metadata": {
        "colab": {
          "base_uri": "https://localhost:8080/",
          "height": 357
        },
        "id": "XWBsZ0GSXfZV",
        "outputId": "4c4feb35-3e4c-4e4a-aff3-30bf2393dfb8"
      },
      "execution_count": 33,
      "outputs": [
        {
          "output_type": "execute_result",
          "data": {
            "text/plain": [
              "  policy_id  policy_tenure  age_of_car  age_of_policyholder area_cluster  \\\n",
              "0   ID00001       0.515874        0.05             0.644231           C1   \n",
              "1   ID00002       0.672619        0.02             0.375000           C2   \n",
              "2   ID00003       0.841110        0.02             0.384615           C3   \n",
              "3   ID00004       0.900277        0.11             0.432692           C4   \n",
              "4   ID00005       0.596403        0.11             0.634615           C5   \n",
              "\n",
              "   population_density  make segment model fuel_type     max_torque  \\\n",
              "0                4990     1       A    M1       CNG   60Nm@3500rpm   \n",
              "1               27003     1       A    M1       CNG   60Nm@3500rpm   \n",
              "2                4076     1       A    M1       CNG   60Nm@3500rpm   \n",
              "3               21622     1      C1    M2    Petrol  113Nm@4400rpm   \n",
              "4               34738     2       A    M3    Petrol   91Nm@4250rpm   \n",
              "\n",
              "          max_power         engine_type  airbags is_esc  \\\n",
              "0  40.36bhp@6000rpm   F8D Petrol Engine        2     No   \n",
              "1  40.36bhp@6000rpm   F8D Petrol Engine        2     No   \n",
              "2  40.36bhp@6000rpm   F8D Petrol Engine        2     No   \n",
              "3  88.50bhp@6000rpm  1.2 L K12N Dualjet        2    Yes   \n",
              "4  67.06bhp@5500rpm             1.0 SCe        2     No   \n",
              "\n",
              "  is_adjustable_steering is_tpms is_parking_sensors is_parking_camera  \\\n",
              "0                     No      No                Yes                No   \n",
              "1                     No      No                Yes                No   \n",
              "2                     No      No                Yes                No   \n",
              "3                    Yes      No                Yes               Yes   \n",
              "4                     No      No                 No               Yes   \n",
              "\n",
              "  rear_brakes_type  displacement  cylinder transmission_type  gear_box  \\\n",
              "0             Drum           796         3            Manual         5   \n",
              "1             Drum           796         3            Manual         5   \n",
              "2             Drum           796         3            Manual         5   \n",
              "3             Drum          1197         4         Automatic         5   \n",
              "4             Drum           999         3         Automatic         5   \n",
              "\n",
              "  steering_type  turning_radius  length  width  height  gross_weight  \\\n",
              "0         Power             4.6    3445   1515    1475          1185   \n",
              "1         Power             4.6    3445   1515    1475          1185   \n",
              "2         Power             4.6    3445   1515    1475          1185   \n",
              "3      Electric             4.8    3995   1735    1515          1335   \n",
              "4      Electric             5.0    3731   1579    1490          1155   \n",
              "\n",
              "  is_front_fog_lights is_rear_window_wiper is_rear_window_washer  \\\n",
              "0                  No                   No                    No   \n",
              "1                  No                   No                    No   \n",
              "2                  No                   No                    No   \n",
              "3                 Yes                   No                    No   \n",
              "4                  No                   No                    No   \n",
              "\n",
              "  is_rear_window_defogger is_brake_assist is_power_door_locks  \\\n",
              "0                      No              No                  No   \n",
              "1                      No              No                  No   \n",
              "2                      No              No                  No   \n",
              "3                     Yes             Yes                 Yes   \n",
              "4                      No              No                 Yes   \n",
              "\n",
              "  is_central_locking is_power_steering is_driver_seat_height_adjustable  \\\n",
              "0                 No               Yes                               No   \n",
              "1                 No               Yes                               No   \n",
              "2                 No               Yes                               No   \n",
              "3                Yes               Yes                              Yes   \n",
              "4                Yes               Yes                               No   \n",
              "\n",
              "  is_day_night_rear_view_mirror is_ecw is_speed_alert  ncap_rating  is_claim  \n",
              "0                            No     No            Yes            0         0  \n",
              "1                            No     No            Yes            0         0  \n",
              "2                            No     No            Yes            0         0  \n",
              "3                           Yes    Yes            Yes            2         0  \n",
              "4                           Yes    Yes            Yes            2         0  "
            ],
            "text/html": [
              "\n",
              "  <div id=\"df-1d70f7b5-5d80-4e86-bd2c-14f4d2043e03\">\n",
              "    <div class=\"colab-df-container\">\n",
              "      <div>\n",
              "<style scoped>\n",
              "    .dataframe tbody tr th:only-of-type {\n",
              "        vertical-align: middle;\n",
              "    }\n",
              "\n",
              "    .dataframe tbody tr th {\n",
              "        vertical-align: top;\n",
              "    }\n",
              "\n",
              "    .dataframe thead th {\n",
              "        text-align: right;\n",
              "    }\n",
              "</style>\n",
              "<table border=\"1\" class=\"dataframe\">\n",
              "  <thead>\n",
              "    <tr style=\"text-align: right;\">\n",
              "      <th></th>\n",
              "      <th>policy_id</th>\n",
              "      <th>policy_tenure</th>\n",
              "      <th>age_of_car</th>\n",
              "      <th>age_of_policyholder</th>\n",
              "      <th>area_cluster</th>\n",
              "      <th>population_density</th>\n",
              "      <th>make</th>\n",
              "      <th>segment</th>\n",
              "      <th>model</th>\n",
              "      <th>fuel_type</th>\n",
              "      <th>max_torque</th>\n",
              "      <th>max_power</th>\n",
              "      <th>engine_type</th>\n",
              "      <th>airbags</th>\n",
              "      <th>is_esc</th>\n",
              "      <th>is_adjustable_steering</th>\n",
              "      <th>is_tpms</th>\n",
              "      <th>is_parking_sensors</th>\n",
              "      <th>is_parking_camera</th>\n",
              "      <th>rear_brakes_type</th>\n",
              "      <th>displacement</th>\n",
              "      <th>cylinder</th>\n",
              "      <th>transmission_type</th>\n",
              "      <th>gear_box</th>\n",
              "      <th>steering_type</th>\n",
              "      <th>turning_radius</th>\n",
              "      <th>length</th>\n",
              "      <th>width</th>\n",
              "      <th>height</th>\n",
              "      <th>gross_weight</th>\n",
              "      <th>is_front_fog_lights</th>\n",
              "      <th>is_rear_window_wiper</th>\n",
              "      <th>is_rear_window_washer</th>\n",
              "      <th>is_rear_window_defogger</th>\n",
              "      <th>is_brake_assist</th>\n",
              "      <th>is_power_door_locks</th>\n",
              "      <th>is_central_locking</th>\n",
              "      <th>is_power_steering</th>\n",
              "      <th>is_driver_seat_height_adjustable</th>\n",
              "      <th>is_day_night_rear_view_mirror</th>\n",
              "      <th>is_ecw</th>\n",
              "      <th>is_speed_alert</th>\n",
              "      <th>ncap_rating</th>\n",
              "      <th>is_claim</th>\n",
              "    </tr>\n",
              "  </thead>\n",
              "  <tbody>\n",
              "    <tr>\n",
              "      <th>0</th>\n",
              "      <td>ID00001</td>\n",
              "      <td>0.515874</td>\n",
              "      <td>0.05</td>\n",
              "      <td>0.644231</td>\n",
              "      <td>C1</td>\n",
              "      <td>4990</td>\n",
              "      <td>1</td>\n",
              "      <td>A</td>\n",
              "      <td>M1</td>\n",
              "      <td>CNG</td>\n",
              "      <td>60Nm@3500rpm</td>\n",
              "      <td>40.36bhp@6000rpm</td>\n",
              "      <td>F8D Petrol Engine</td>\n",
              "      <td>2</td>\n",
              "      <td>No</td>\n",
              "      <td>No</td>\n",
              "      <td>No</td>\n",
              "      <td>Yes</td>\n",
              "      <td>No</td>\n",
              "      <td>Drum</td>\n",
              "      <td>796</td>\n",
              "      <td>3</td>\n",
              "      <td>Manual</td>\n",
              "      <td>5</td>\n",
              "      <td>Power</td>\n",
              "      <td>4.6</td>\n",
              "      <td>3445</td>\n",
              "      <td>1515</td>\n",
              "      <td>1475</td>\n",
              "      <td>1185</td>\n",
              "      <td>No</td>\n",
              "      <td>No</td>\n",
              "      <td>No</td>\n",
              "      <td>No</td>\n",
              "      <td>No</td>\n",
              "      <td>No</td>\n",
              "      <td>No</td>\n",
              "      <td>Yes</td>\n",
              "      <td>No</td>\n",
              "      <td>No</td>\n",
              "      <td>No</td>\n",
              "      <td>Yes</td>\n",
              "      <td>0</td>\n",
              "      <td>0</td>\n",
              "    </tr>\n",
              "    <tr>\n",
              "      <th>1</th>\n",
              "      <td>ID00002</td>\n",
              "      <td>0.672619</td>\n",
              "      <td>0.02</td>\n",
              "      <td>0.375000</td>\n",
              "      <td>C2</td>\n",
              "      <td>27003</td>\n",
              "      <td>1</td>\n",
              "      <td>A</td>\n",
              "      <td>M1</td>\n",
              "      <td>CNG</td>\n",
              "      <td>60Nm@3500rpm</td>\n",
              "      <td>40.36bhp@6000rpm</td>\n",
              "      <td>F8D Petrol Engine</td>\n",
              "      <td>2</td>\n",
              "      <td>No</td>\n",
              "      <td>No</td>\n",
              "      <td>No</td>\n",
              "      <td>Yes</td>\n",
              "      <td>No</td>\n",
              "      <td>Drum</td>\n",
              "      <td>796</td>\n",
              "      <td>3</td>\n",
              "      <td>Manual</td>\n",
              "      <td>5</td>\n",
              "      <td>Power</td>\n",
              "      <td>4.6</td>\n",
              "      <td>3445</td>\n",
              "      <td>1515</td>\n",
              "      <td>1475</td>\n",
              "      <td>1185</td>\n",
              "      <td>No</td>\n",
              "      <td>No</td>\n",
              "      <td>No</td>\n",
              "      <td>No</td>\n",
              "      <td>No</td>\n",
              "      <td>No</td>\n",
              "      <td>No</td>\n",
              "      <td>Yes</td>\n",
              "      <td>No</td>\n",
              "      <td>No</td>\n",
              "      <td>No</td>\n",
              "      <td>Yes</td>\n",
              "      <td>0</td>\n",
              "      <td>0</td>\n",
              "    </tr>\n",
              "    <tr>\n",
              "      <th>2</th>\n",
              "      <td>ID00003</td>\n",
              "      <td>0.841110</td>\n",
              "      <td>0.02</td>\n",
              "      <td>0.384615</td>\n",
              "      <td>C3</td>\n",
              "      <td>4076</td>\n",
              "      <td>1</td>\n",
              "      <td>A</td>\n",
              "      <td>M1</td>\n",
              "      <td>CNG</td>\n",
              "      <td>60Nm@3500rpm</td>\n",
              "      <td>40.36bhp@6000rpm</td>\n",
              "      <td>F8D Petrol Engine</td>\n",
              "      <td>2</td>\n",
              "      <td>No</td>\n",
              "      <td>No</td>\n",
              "      <td>No</td>\n",
              "      <td>Yes</td>\n",
              "      <td>No</td>\n",
              "      <td>Drum</td>\n",
              "      <td>796</td>\n",
              "      <td>3</td>\n",
              "      <td>Manual</td>\n",
              "      <td>5</td>\n",
              "      <td>Power</td>\n",
              "      <td>4.6</td>\n",
              "      <td>3445</td>\n",
              "      <td>1515</td>\n",
              "      <td>1475</td>\n",
              "      <td>1185</td>\n",
              "      <td>No</td>\n",
              "      <td>No</td>\n",
              "      <td>No</td>\n",
              "      <td>No</td>\n",
              "      <td>No</td>\n",
              "      <td>No</td>\n",
              "      <td>No</td>\n",
              "      <td>Yes</td>\n",
              "      <td>No</td>\n",
              "      <td>No</td>\n",
              "      <td>No</td>\n",
              "      <td>Yes</td>\n",
              "      <td>0</td>\n",
              "      <td>0</td>\n",
              "    </tr>\n",
              "    <tr>\n",
              "      <th>3</th>\n",
              "      <td>ID00004</td>\n",
              "      <td>0.900277</td>\n",
              "      <td>0.11</td>\n",
              "      <td>0.432692</td>\n",
              "      <td>C4</td>\n",
              "      <td>21622</td>\n",
              "      <td>1</td>\n",
              "      <td>C1</td>\n",
              "      <td>M2</td>\n",
              "      <td>Petrol</td>\n",
              "      <td>113Nm@4400rpm</td>\n",
              "      <td>88.50bhp@6000rpm</td>\n",
              "      <td>1.2 L K12N Dualjet</td>\n",
              "      <td>2</td>\n",
              "      <td>Yes</td>\n",
              "      <td>Yes</td>\n",
              "      <td>No</td>\n",
              "      <td>Yes</td>\n",
              "      <td>Yes</td>\n",
              "      <td>Drum</td>\n",
              "      <td>1197</td>\n",
              "      <td>4</td>\n",
              "      <td>Automatic</td>\n",
              "      <td>5</td>\n",
              "      <td>Electric</td>\n",
              "      <td>4.8</td>\n",
              "      <td>3995</td>\n",
              "      <td>1735</td>\n",
              "      <td>1515</td>\n",
              "      <td>1335</td>\n",
              "      <td>Yes</td>\n",
              "      <td>No</td>\n",
              "      <td>No</td>\n",
              "      <td>Yes</td>\n",
              "      <td>Yes</td>\n",
              "      <td>Yes</td>\n",
              "      <td>Yes</td>\n",
              "      <td>Yes</td>\n",
              "      <td>Yes</td>\n",
              "      <td>Yes</td>\n",
              "      <td>Yes</td>\n",
              "      <td>Yes</td>\n",
              "      <td>2</td>\n",
              "      <td>0</td>\n",
              "    </tr>\n",
              "    <tr>\n",
              "      <th>4</th>\n",
              "      <td>ID00005</td>\n",
              "      <td>0.596403</td>\n",
              "      <td>0.11</td>\n",
              "      <td>0.634615</td>\n",
              "      <td>C5</td>\n",
              "      <td>34738</td>\n",
              "      <td>2</td>\n",
              "      <td>A</td>\n",
              "      <td>M3</td>\n",
              "      <td>Petrol</td>\n",
              "      <td>91Nm@4250rpm</td>\n",
              "      <td>67.06bhp@5500rpm</td>\n",
              "      <td>1.0 SCe</td>\n",
              "      <td>2</td>\n",
              "      <td>No</td>\n",
              "      <td>No</td>\n",
              "      <td>No</td>\n",
              "      <td>No</td>\n",
              "      <td>Yes</td>\n",
              "      <td>Drum</td>\n",
              "      <td>999</td>\n",
              "      <td>3</td>\n",
              "      <td>Automatic</td>\n",
              "      <td>5</td>\n",
              "      <td>Electric</td>\n",
              "      <td>5.0</td>\n",
              "      <td>3731</td>\n",
              "      <td>1579</td>\n",
              "      <td>1490</td>\n",
              "      <td>1155</td>\n",
              "      <td>No</td>\n",
              "      <td>No</td>\n",
              "      <td>No</td>\n",
              "      <td>No</td>\n",
              "      <td>No</td>\n",
              "      <td>Yes</td>\n",
              "      <td>Yes</td>\n",
              "      <td>Yes</td>\n",
              "      <td>No</td>\n",
              "      <td>Yes</td>\n",
              "      <td>Yes</td>\n",
              "      <td>Yes</td>\n",
              "      <td>2</td>\n",
              "      <td>0</td>\n",
              "    </tr>\n",
              "  </tbody>\n",
              "</table>\n",
              "</div>\n",
              "      <button class=\"colab-df-convert\" onclick=\"convertToInteractive('df-1d70f7b5-5d80-4e86-bd2c-14f4d2043e03')\"\n",
              "              title=\"Convert this dataframe to an interactive table.\"\n",
              "              style=\"display:none;\">\n",
              "        \n",
              "  <svg xmlns=\"http://www.w3.org/2000/svg\" height=\"24px\"viewBox=\"0 0 24 24\"\n",
              "       width=\"24px\">\n",
              "    <path d=\"M0 0h24v24H0V0z\" fill=\"none\"/>\n",
              "    <path d=\"M18.56 5.44l.94 2.06.94-2.06 2.06-.94-2.06-.94-.94-2.06-.94 2.06-2.06.94zm-11 1L8.5 8.5l.94-2.06 2.06-.94-2.06-.94L8.5 2.5l-.94 2.06-2.06.94zm10 10l.94 2.06.94-2.06 2.06-.94-2.06-.94-.94-2.06-.94 2.06-2.06.94z\"/><path d=\"M17.41 7.96l-1.37-1.37c-.4-.4-.92-.59-1.43-.59-.52 0-1.04.2-1.43.59L10.3 9.45l-7.72 7.72c-.78.78-.78 2.05 0 2.83L4 21.41c.39.39.9.59 1.41.59.51 0 1.02-.2 1.41-.59l7.78-7.78 2.81-2.81c.8-.78.8-2.07 0-2.86zM5.41 20L4 18.59l7.72-7.72 1.47 1.35L5.41 20z\"/>\n",
              "  </svg>\n",
              "      </button>\n",
              "      \n",
              "  <style>\n",
              "    .colab-df-container {\n",
              "      display:flex;\n",
              "      flex-wrap:wrap;\n",
              "      gap: 12px;\n",
              "    }\n",
              "\n",
              "    .colab-df-convert {\n",
              "      background-color: #E8F0FE;\n",
              "      border: none;\n",
              "      border-radius: 50%;\n",
              "      cursor: pointer;\n",
              "      display: none;\n",
              "      fill: #1967D2;\n",
              "      height: 32px;\n",
              "      padding: 0 0 0 0;\n",
              "      width: 32px;\n",
              "    }\n",
              "\n",
              "    .colab-df-convert:hover {\n",
              "      background-color: #E2EBFA;\n",
              "      box-shadow: 0px 1px 2px rgba(60, 64, 67, 0.3), 0px 1px 3px 1px rgba(60, 64, 67, 0.15);\n",
              "      fill: #174EA6;\n",
              "    }\n",
              "\n",
              "    [theme=dark] .colab-df-convert {\n",
              "      background-color: #3B4455;\n",
              "      fill: #D2E3FC;\n",
              "    }\n",
              "\n",
              "    [theme=dark] .colab-df-convert:hover {\n",
              "      background-color: #434B5C;\n",
              "      box-shadow: 0px 1px 3px 1px rgba(0, 0, 0, 0.15);\n",
              "      filter: drop-shadow(0px 1px 2px rgba(0, 0, 0, 0.3));\n",
              "      fill: #FFFFFF;\n",
              "    }\n",
              "  </style>\n",
              "\n",
              "      <script>\n",
              "        const buttonEl =\n",
              "          document.querySelector('#df-1d70f7b5-5d80-4e86-bd2c-14f4d2043e03 button.colab-df-convert');\n",
              "        buttonEl.style.display =\n",
              "          google.colab.kernel.accessAllowed ? 'block' : 'none';\n",
              "\n",
              "        async function convertToInteractive(key) {\n",
              "          const element = document.querySelector('#df-1d70f7b5-5d80-4e86-bd2c-14f4d2043e03');\n",
              "          const dataTable =\n",
              "            await google.colab.kernel.invokeFunction('convertToInteractive',\n",
              "                                                     [key], {});\n",
              "          if (!dataTable) return;\n",
              "\n",
              "          const docLinkHtml = 'Like what you see? Visit the ' +\n",
              "            '<a target=\"_blank\" href=https://colab.research.google.com/notebooks/data_table.ipynb>data table notebook</a>'\n",
              "            + ' to learn more about interactive tables.';\n",
              "          element.innerHTML = '';\n",
              "          dataTable['output_type'] = 'display_data';\n",
              "          await google.colab.output.renderOutput(dataTable, element);\n",
              "          const docLink = document.createElement('div');\n",
              "          docLink.innerHTML = docLinkHtml;\n",
              "          element.appendChild(docLink);\n",
              "        }\n",
              "      </script>\n",
              "    </div>\n",
              "  </div>\n",
              "  "
            ]
          },
          "metadata": {},
          "execution_count": 33
        },
        {
          "output_type": "stream",
          "name": "stdout",
          "text": [
            "time: 45.6 ms (started: 2022-11-23 16:28:08 +00:00)\n"
          ]
        }
      ]
    },
    {
      "cell_type": "markdown",
      "source": [
        "## Description of each column:\n",
        "---\n",
        "| Variable | Description |\n",
        "| ---: | :--- |\n",
        "| `policy_id` | Unique identifier of the policyholder |\n",
        "| `policy_tenure`| Time period of the policy |\n",
        "| `age_of_car` | Normalized age of the car in years | \n",
        "| ` age_of_policyholder`| Normalized age of policyholder in years |\n",
        "|`area_cluster`| \tArea cluster of the policyholder|\n",
        "| `population`| Population density of the city (Policyholder City) |\n",
        "| `make` | Encoded Manufacturer/company of the car |\n",
        "| `segment` | Segment of the car (A/ B1/ B2/ C1/ C2) |\n",
        "| `model`| Encoded name of the car|\n",
        "|`fuel_type` | Type of fuel used by the car|\n",
        "|`max_torque`| Maximum Torque generated by the car (Nm@rpm)|\n",
        "| `max_power`| Maximum Power generated by the car (bhp@rpm) |\n",
        "|`engine_type`| Type of engine used in the car|\n",
        "|`engine_type`| Type of engine used in the car|\n",
        "|`airbags`|Number of airbags installed in the car| \n",
        "|`is_esc`| Boolean flag indicating whether Electronic Stability Control (ESC) is present in the car or not.| \n",
        "|`is_adjustable_steering`| Boolean flag indicating whether the steering wheel of the car is adjustable or not.|\n",
        "|'is_tpms'|Boolean flag indicating whether Tyre Pressure Monitoring System (TPMS) is present in the car or not.|\n",
        "|`is_parking_sensors`|Boolean flag indicating whether parking sensors are present in the car or not.|\n",
        "|`is_parking_camera`| Boolean flag indicating whether the parking camera is present in the car or not.|\n",
        "|`rear_brakes_type`| \tType of brakes used in the rear of the car|\n",
        "|`displacement`|Engine displacement of the car (cc)|\n",
        "|`cylinder`|Number of cylinders present in the engine of the car|\n",
        "|`transmission_type`|Transmission type of the car|\n",
        "|`gear_box`|Number of gears in the car|\n",
        "|`steering_type`|Type of the power steering present in the car|\n",
        "|`turning_radius`| The space a vehicle needs to make a certain turn (Meters)|\n",
        "|`lemgth`|Length of the car (Millimetre)|\n",
        "|`width`|\tWidth of the car (Millimetre)|\n",
        "|`height`|Height of the car (Millimetre)|\n",
        "|`gross_weight`|The maximum allowable weight of the fully-loaded car, including passengers, cargo and equipment (Kg)|\n",
        "|`is_front_fog_lights`|\tBoolean flag indicating whether front fog lights are available in the car or not.|\n",
        "|`is_rear_window_wiper`|Boolean flag indicating whether the rear window wiper is available in the car or not.|\n",
        "|`is_rear_window_washer`| Boolean flag indicating whether the rear window washer is available in the car or not.|\n",
        "|`is_rear_window_defogger`| Boolean flag indicating whether rear window defogger is available in the car or not.|\n",
        "|`is_brake_assist`|Boolean flag indicating whether the brake assistance feature is available in the car or not.|\n",
        "|`is_power_door_lock`| \tBoolean flag indicating whether a power door lock is available in the car or not.|\n",
        "|`is_central_locking`| Boolean flag indicating whether the central locking feature is available in the car or not.|\n",
        "|`is_power_steering`| Boolean flag indicating whether power steering is available in the car or not.|\n",
        "|`is_driver_seat_height_adjustable`| Boolean flag indicating whether the height of the driver seat is adjustable or not.|\n",
        "|`is_day_night_rear_view_mirror`|\tBoolean flag indicating whether day & night rearview mirror is present in the car or not.|\n",
        "|`is_ecw`| Boolean flag indicating whether Engine Check Warning (ECW) is available in the car or not.|\n",
        "|`is_speed_alert`| Boolean flag indicating whether the speed alert system is available in the car or not.|\n",
        "|`ncap_rating`|\tSafety rating given by NCAP (out of 5)|\n",
        "|`is_claim`| \tOutcome: Boolean flag indicating whether the policyholder file a claim in the next 6 months or not.|\n",
        "\n",
        "is_claim: 0 -- not claimed & 1 -- claimed"
      ],
      "metadata": {
        "id": "3VUlHbpi2rZy"
      }
    },
    {
      "cell_type": "markdown",
      "source": [
        "# Exploratory Data Analysis (EDA)\n",
        "---"
      ],
      "metadata": {
        "id": "3ty_TbxRXac7"
      }
    },
    {
      "cell_type": "markdown",
      "source": [
        "## Plot between 'policy_tenure' & 'is_claim'"
      ],
      "metadata": {
        "id": "2N0ThOwHFnbd"
      }
    },
    {
      "cell_type": "code",
      "source": [
        "plt.figure(figsize=(9, 6))\n",
        "ax = sns.boxplot(x = 'is_claim', y = 'policy_tenure', data = df)\n",
        "\n",
        "#plt.legend(fontsize = 13)\n",
        "\n",
        "# y-axis\n",
        "plt.ylabel(\"policy_tenure \", fontdict = {'fontsize': 13})\n",
        "plt.yticks(size=13)\n",
        "\n",
        "#x-axis\n",
        "plt.xlabel(\"is_claim\", fontdict = {'fontsize': 13})\n",
        "plt.xticks(size=13)\n",
        "\n",
        "# title\n",
        "plt.title(\"Box plot between 'policy_tenure' & 'is_claim' \", fontdict = {'fontsize': 15})\n",
        "\n",
        "#plotting the graph\n",
        "plt.grid()\n",
        "plt.show()"
      ],
      "metadata": {
        "colab": {
          "base_uri": "https://localhost:8080/",
          "height": 430
        },
        "id": "KDNzJw1jXXXh",
        "outputId": "eacaf6cc-2901-440d-e838-c28a35d58410"
      },
      "execution_count": 34,
      "outputs": [
        {
          "output_type": "display_data",
          "data": {
            "text/plain": [
              "<Figure size 648x432 with 1 Axes>"
            ],
            "image/png": "[encoded data removed]"
          },
          "metadata": {
            "needs_background": "light"
          }
        },
        {
          "output_type": "stream",
          "name": "stdout",
          "text": [
            "time: 172 ms (started: 2022-11-23 16:28:09 +00:00)\n"
          ]
        }
      ]
    },
    {
      "cell_type": "markdown",
      "source": [
        "## Observations:\n",
        "1. Customers who has claimed the insurance are having more policty tenure when compared to the ones who didnot claim.\n",
        "2. Nearly 50% of the customers who has claimed the insurance are having policy tenure = 0.8 which is only 0.55 for customers who has not claimed."
      ],
      "metadata": {
        "id": "Otslyy9CFdR_"
      }
    },
    {
      "cell_type": "markdown",
      "source": [
        "## Box plot between 'age_of_car' & 'is_claim'"
      ],
      "metadata": {
        "id": "RHbxVKUwHLZ8"
      }
    },
    {
      "cell_type": "code",
      "source": [
        "plt.figure(figsize=(9, 6))\n",
        "\n",
        "# specifying x and y axis for our graph\n",
        "ax = sns.boxplot(x = 'is_claim', y = 'age_of_car', data = df);\n",
        "\n",
        "#plt.legend(fontsize = 13)\n",
        "\n",
        "# y-axis\n",
        "plt.ylabel(\"age_of_car \", fontdict = {'fontsize': 13})\n",
        "plt.yticks(size=13)\n",
        "\n",
        "# x-axis\n",
        "plt.xlabel(\"is_claim\", fontdict = {'fontsize': 13})\n",
        "plt.xticks(size=13)\n",
        "\n",
        "# title\n",
        "plt.title(\"Box plot between 'age_of_car' & 'is_claim' \", fontdict = {'fontsize': 15})\n",
        "\n",
        "# plotting the graph\n",
        "plt.grid()\n",
        "plt.show()"
      ],
      "metadata": {
        "colab": {
          "base_uri": "https://localhost:8080/",
          "height": 430
        },
        "id": "QhyneUN8X180",
        "outputId": "ab1e8e51-3683-4281-f234-f0b0c7f8bc97"
      },
      "execution_count": 35,
      "outputs": [
        {
          "output_type": "display_data",
          "data": {
            "text/plain": [
              "<Figure size 648x432 with 1 Axes>"
            ],
            "image/png": "[encoded data removed]"
          },
          "metadata": {
            "needs_background": "light"
          }
        },
        {
          "output_type": "stream",
          "name": "stdout",
          "text": [
            "time: 157 ms (started: 2022-11-23 16:28:09 +00:00)\n"
          ]
        }
      ]
    },
    {
      "cell_type": "markdown",
      "source": [
        "## Observations:\n",
        "1. age of the cars is very much high for the customers who has not claimed. "
      ],
      "metadata": {
        "id": "7RJujgTJHRwu"
      }
    },
    {
      "cell_type": "markdown",
      "source": [
        "## Box plot betwen 'age_of_policyholder' & 'is_claim' "
      ],
      "metadata": {
        "id": "fwcbdYepHtcF"
      }
    },
    {
      "cell_type": "code",
      "source": [
        "plt.figure(figsize=(9, 6))\n",
        "\n",
        "# specifying x and y axis for our graph\n",
        "ax = sns.boxplot(x = 'is_claim', y = 'age_of_policyholder', data = df)\n",
        "\n",
        "#plt.legend(fontsize = 13)\n",
        "\n",
        "# y-axis\n",
        "plt.ylabel(\"age_of_policyholder \", fontdict = {'fontsize': 13})\n",
        "plt.yticks(size=13)\n",
        "\n",
        "# x-axis\n",
        "plt.xlabel(\"is_claim\", fontdict = {'fontsize': 13})\n",
        "plt.xticks(size=13)\n",
        "\n",
        "# title\n",
        "plt.title(\"Box plot betwen 'age_of_policyholder' & 'is_claim' \", fontdict = {'fontsize': 15})\n",
        "\n",
        "# plotting the graph\n",
        "plt.grid()\n",
        "plt.show()"
      ],
      "metadata": {
        "colab": {
          "base_uri": "https://localhost:8080/",
          "height": 430
        },
        "id": "GEjekEVYX5O-",
        "outputId": "581fcb60-54fc-45d4-d750-8dbf7407dd12"
      },
      "execution_count": 36,
      "outputs": [
        {
          "output_type": "display_data",
          "data": {
            "text/plain": [
              "<Figure size 648x432 with 1 Axes>"
            ],
            "image/png": "[encoded data removed]"
          },
          "metadata": {
            "needs_background": "light"
          }
        },
        {
          "output_type": "stream",
          "name": "stdout",
          "text": [
            "time: 195 ms (started: 2022-11-23 16:28:09 +00:00)\n"
          ]
        }
      ]
    },
    {
      "cell_type": "markdown",
      "source": [
        "## Observations:\n",
        "1. Age of policy holders who not claimed is little high when compared to the customers who has claimed."
      ],
      "metadata": {
        "id": "yjsfdgSkHy9v"
      }
    },
    {
      "cell_type": "markdown",
      "source": [
        "## Density of claims in different Area Clusters"
      ],
      "metadata": {
        "id": "5TMONeA_Ionm"
      }
    },
    {
      "cell_type": "code",
      "source": [
        "plt.figure(figsize=(14, 10))\n",
        "\n",
        "# specifying x and y axis for our graph\n",
        "ax = sns.histplot(x = 'area_cluster', hue = 'is_claim', data = df, multiple = 'stack', stat = 'density', common_norm = False); \n",
        "\n",
        "# y-axis\n",
        "plt.ylabel(\"area_cluster Density \", fontdict = {'fontsize': 13})\n",
        "plt.yticks(size=13)\n",
        "\n",
        "# x-axis\n",
        "plt.xlabel(\"area_cluster\", fontdict = {'fontsize': 13})\n",
        "plt.xticks(size=13)\n",
        "\n",
        "# title\n",
        "plt.title(\"Density of claims in different Area Clusters\", fontdict = {'fontsize': 15})\n",
        "from matplotlib.ticker import PercentFormatter\n",
        "plt.gca().yaxis.set_major_formatter(PercentFormatter(1))\n",
        "\n",
        "# plotting the graph\n",
        "plt.grid()\n",
        "plt.show()"
      ],
      "metadata": {
        "colab": {
          "base_uri": "https://localhost:8080/",
          "height": 647
        },
        "id": "AFX8qxuEX84B",
        "outputId": "2dd7c322-2028-4ca0-e68e-8c5eb411d3ed"
      },
      "execution_count": 37,
      "outputs": [
        {
          "output_type": "display_data",
          "data": {
            "text/plain": [
              "<Figure size 1008x720 with 1 Axes>"
            ],
            "image/png": "[encoded data removed]"
          },
          "metadata": {
            "needs_background": "light"
          }
        },
        {
          "output_type": "stream",
          "name": "stdout",
          "text": [
            "time: 429 ms (started: 2022-11-23 16:28:09 +00:00)\n"
          ]
        }
      ]
    },
    {
      "cell_type": "markdown",
      "source": [
        "## Observation: \n",
        "1. We can observer that most of the policy holders are the area_cluster C8 and least are from C20 area cluster."
      ],
      "metadata": {
        "id": "EIQYbV6SKufp"
      }
    },
    {
      "cell_type": "markdown",
      "source": [
        "## Box plot between 'is_claim' and 'population_density'"
      ],
      "metadata": {
        "id": "s30G2xeaK8Rv"
      }
    },
    {
      "cell_type": "code",
      "source": [
        "plt.figure(figsize=(9, 6))\n",
        "\n",
        "# specifying x and y axis for our graph\n",
        "ax = sns.boxplot(x = 'is_claim', y = 'population_density', data = df); \n",
        "\n",
        "# y-axis\n",
        "plt.ylabel(\"population_density \", fontdict = {'fontsize': 13})\n",
        "plt.yticks(size=13)\n",
        "\n",
        "# x-axis\n",
        "plt.xlabel(\"is_claim\", fontdict = {'fontsize': 13})\n",
        "plt.xticks(size=13)\n",
        "\n",
        "# title\n",
        "plt.title(\"Box plot between 'is_claim' and 'population_density' \", fontdict = {'fontsize': 15})\n",
        "\n",
        "# plotting the graph\n",
        "plt.show()"
      ],
      "metadata": {
        "colab": {
          "base_uri": "https://localhost:8080/",
          "height": 430
        },
        "id": "uqZQfRbwYs6G",
        "outputId": "470d42ea-194c-4f3c-c1d9-a91ba43a8373"
      },
      "execution_count": 38,
      "outputs": [
        {
          "output_type": "display_data",
          "data": {
            "text/plain": [
              "<Figure size 648x432 with 1 Axes>"
            ],
            "image/png": "[encoded data removed]"
          },
          "metadata": {
            "needs_background": "light"
          }
        },
        {
          "output_type": "stream",
          "name": "stdout",
          "text": [
            "time: 165 ms (started: 2022-11-23 16:28:10 +00:00)\n"
          ]
        }
      ]
    },
    {
      "cell_type": "markdown",
      "source": [
        "## Observation: \n",
        "1. population density is almost same in both the categories."
      ],
      "metadata": {
        "id": "dlallfeBK-_K"
      }
    },
    {
      "cell_type": "code",
      "source": [
        "df.make.value_counts().sort_values(ascending = False)\n",
        "                                  "
      ],
      "metadata": {
        "colab": {
          "base_uri": "https://localhost:8080/"
        },
        "id": "z3I7h69eLQyf",
        "outputId": "35f66347-c09b-4d0c-ed67-663fb56b6d1e"
      },
      "execution_count": 39,
      "outputs": [
        {
          "output_type": "execute_result",
          "data": {
            "text/plain": [
              "1    38126\n",
              "3    14018\n",
              "2     2373\n",
              "5     2114\n",
              "4     1961\n",
              "Name: make, dtype: int64"
            ]
          },
          "metadata": {},
          "execution_count": 39
        },
        {
          "output_type": "stream",
          "name": "stdout",
          "text": [
            "time: 9.51 ms (started: 2022-11-23 16:28:10 +00:00)\n"
          ]
        }
      ]
    },
    {
      "cell_type": "markdown",
      "source": [
        "## Plot between 'is_claim' density based on 'make'"
      ],
      "metadata": {
        "id": "J1jf1FfjLPWk"
      }
    },
    {
      "cell_type": "code",
      "source": [
        "df['make'] = df['make'].astype('category')\n",
        "\n",
        "plt.figure(figsize=(9, 6))\n",
        "\n",
        "# specifying x and y axis for our graph\n",
        "ax = sns.histplot(x = 'make', hue = 'is_claim', data = df, multiple = 'stack', stat = 'density', common_norm=False); \n",
        "\n",
        "# y-axis\n",
        "plt.ylabel(\"is_claim density \", fontdict = {'fontsize': 13})\n",
        "plt.yticks(size=13)\n",
        "\n",
        "# x-axis\n",
        "plt.xlabel(\"make\", fontdict = {'fontsize': 13})\n",
        "plt.xticks(size=13)\n",
        "\n",
        "# title\n",
        "plt.title(\"Plot between 'is_claim' density based on 'make' \", fontdict = {'fontsize': 15})\n",
        "\n",
        "# plotting the graph\n",
        "plt.grid()\n",
        "plt.show()"
      ],
      "metadata": {
        "colab": {
          "base_uri": "https://localhost:8080/",
          "height": 430
        },
        "id": "js9QcqTtYtg4",
        "outputId": "8631d113-4240-4aa2-ac34-697d0e9d6c78"
      },
      "execution_count": 40,
      "outputs": [
        {
          "output_type": "display_data",
          "data": {
            "text/plain": [
              "<Figure size 648x432 with 1 Axes>"
            ],
            "image/png": "[encoded data removed]"
          },
          "metadata": {
            "needs_background": "light"
          }
        },
        {
          "output_type": "stream",
          "name": "stdout",
          "text": [
            "time: 422 ms (started: 2022-11-23 16:28:10 +00:00)\n"
          ]
        }
      ]
    },
    {
      "cell_type": "markdown",
      "source": [
        "## Observation: \n",
        "1. We can observe that most of the policy holders are from make = 1 cateogory and claimed, not claimed ration is alomost same in the same type."
      ],
      "metadata": {
        "id": "MUhi6rm8LmIa"
      }
    },
    {
      "cell_type": "markdown",
      "source": [
        "## Plot between 'is_claim' density based on 'segment' "
      ],
      "metadata": {
        "id": "KEeDKFmQL8XV"
      }
    },
    {
      "cell_type": "code",
      "source": [
        "plt.figure(figsize=(9, 6))\n",
        "\n",
        "# specifying x and y axis for our graph\n",
        "ax = sns.histplot(x = 'segment', hue = 'is_claim', data = df, multiple = 'stack', stat = 'density', common_norm=False) ; \n",
        "\n",
        "# y-axis\n",
        "plt.ylabel(\"is_claim\", fontdict = {'fontsize': 13})\n",
        "plt.yticks(size=13)\n",
        "\n",
        "# x-axis\n",
        "plt.xlabel(\"segment\", fontdict = {'fontsize': 13})\n",
        "plt.xticks(size=13)\n",
        "\n",
        "# title\n",
        "plt.title(\"Plot between 'is_claim' density based on 'segment' \", fontdict = {'fontsize': 15})\n",
        "\n",
        "# plotting the graph\n",
        "plt.grid()\n",
        "plt.show()"
      ],
      "metadata": {
        "colab": {
          "base_uri": "https://localhost:8080/",
          "height": 430
        },
        "id": "xZfa_hMqYwPh",
        "outputId": "f1c26f19-c488-4a75-8b23-d55a56ccaae8"
      },
      "execution_count": 41,
      "outputs": [
        {
          "output_type": "display_data",
          "data": {
            "text/plain": [
              "<Figure size 648x432 with 1 Axes>"
            ],
            "image/png": "[encoded data removed]"
          },
          "metadata": {
            "needs_background": "light"
          }
        },
        {
          "output_type": "stream",
          "name": "stdout",
          "text": [
            "time: 273 ms (started: 2022-11-23 16:28:10 +00:00)\n"
          ]
        }
      ]
    },
    {
      "cell_type": "markdown",
      "source": [
        "## Plot between 'is_claim' density based on 'model' of the Car"
      ],
      "metadata": {
        "id": "qkhSVtOLorxt"
      }
    },
    {
      "cell_type": "code",
      "source": [
        "a = df.groupby(['is_claim']).model.value_counts(normalize = False)\n",
        "print(a)"
      ],
      "metadata": {
        "colab": {
          "base_uri": "https://localhost:8080/"
        },
        "id": "KvYcn4P-o5Cr",
        "outputId": "6bbfd314-b29e-4ceb-f792-33ec825bd61a"
      },
      "execution_count": 42,
      "outputs": [
        {
          "output_type": "stream",
          "name": "stdout",
          "text": [
            "is_claim  model\n",
            "0         M1       14030\n",
            "          M4       13117\n",
            "          M6       12837\n",
            "          M8        3929\n",
            "          M7        2739\n",
            "          M3        2245\n",
            "          M9        1981\n",
            "          M5        1482\n",
            "          M10       1136\n",
            "          M2        1000\n",
            "          M11        348\n",
            "1         M6         939\n",
            "          M1         918\n",
            "          M4         901\n",
            "          M8         244\n",
            "          M7         201\n",
            "          M9         133\n",
            "          M3         128\n",
            "          M5         116\n",
            "          M2          80\n",
            "          M10         73\n",
            "          M11         15\n",
            "Name: model, dtype: int64\n",
            "time: 19.2 ms (started: 2022-11-23 16:28:10 +00:00)\n"
          ]
        }
      ]
    },
    {
      "cell_type": "code",
      "source": [
        "plt.figure(figsize=(9, 6))\n",
        "\n",
        "# specifying x and y axis for our graph\n",
        "ax = sns.histplot(x = 'model', hue = 'is_claim', data = df, multiple = 'stack', stat = 'density', common_norm=False); \n",
        "\n",
        "# y-axis\n",
        "plt.ylabel(\"is_claim\", fontdict = {'fontsize': 13})\n",
        "plt.yticks(size=13)\n",
        "\n",
        "# x-axis\n",
        "plt.xlabel(\"model\", fontdict = {'fontsize': 13})\n",
        "plt.xticks(size=13)\n",
        "\n",
        "# title\n",
        "plt.title(\"Plot between 'is_claim' density based on 'model' \", fontdict = {'fontsize': 15})\n",
        "\n",
        "# plotting the graph\n",
        "plt.grid()\n",
        "plt.show()"
      ],
      "metadata": {
        "colab": {
          "base_uri": "https://localhost:8080/",
          "height": 430
        },
        "id": "adfChkfRYyW-",
        "outputId": "db86f57c-9427-4e7f-8520-d18ddbbddf13"
      },
      "execution_count": 43,
      "outputs": [
        {
          "output_type": "display_data",
          "data": {
            "text/plain": [
              "<Figure size 648x432 with 1 Axes>"
            ],
            "image/png": "[encoded data removed]"
          },
          "metadata": {
            "needs_background": "light"
          }
        },
        {
          "output_type": "stream",
          "name": "stdout",
          "text": [
            "time: 315 ms (started: 2022-11-23 16:28:10 +00:00)\n"
          ]
        }
      ]
    },
    {
      "cell_type": "markdown",
      "source": [
        "## Observations:\n",
        "1. We can observe that most of the claims are done by the model M6 which is around  939 and least number of claims i.e, 15 are made by M11 model.\n"
      ],
      "metadata": {
        "id": "UXY3L9_Po02s"
      }
    },
    {
      "cell_type": "markdown",
      "source": [
        "## Plot between 'is_claim' density based on 'fuel_type'"
      ],
      "metadata": {
        "id": "txFRLQD4s71J"
      }
    },
    {
      "cell_type": "code",
      "source": [
        "plt.figure(figsize=(9, 6))\n",
        "\n",
        "# specifying x and y axis for our graph\n",
        "ax = sns.histplot(x = 'fuel_type', hue = 'is_claim', data = df, multiple = 'stack', stat = 'density', common_norm=False); \n",
        "\n",
        "# y-axis\n",
        "plt.ylabel(\"is_claim density\", fontdict = {'fontsize': 13})\n",
        "plt.yticks(size=13)\n",
        "\n",
        "# x-axis\n",
        "plt.xlabel(\"fuel_type\", fontdict = {'fontsize': 13})\n",
        "plt.xticks(size=13)\n",
        "\n",
        "# title\n",
        "plt.title(\"Plot between 'is_claim' density based on 'fuel_type' \", fontdict = {'fontsize': 15})\n",
        "\n",
        "# plotting the graph\n",
        "plt.grid()\n",
        "plt.tight_layout()\n",
        "plt.show()"
      ],
      "metadata": {
        "colab": {
          "base_uri": "https://localhost:8080/",
          "height": 459
        },
        "id": "_3GZurzcY5Jq",
        "outputId": "24cb123e-b806-4657-9402-cfa643aeeac0"
      },
      "execution_count": 44,
      "outputs": [
        {
          "output_type": "display_data",
          "data": {
            "text/plain": [
              "<Figure size 648x432 with 1 Axes>"
            ],
            "image/png": "[encoded data removed]"
          },
          "metadata": {
            "needs_background": "light"
          }
        },
        {
          "output_type": "stream",
          "name": "stdout",
          "text": [
            "time: 317 ms (started: 2022-11-23 16:28:11 +00:00)\n"
          ]
        }
      ]
    },
    {
      "cell_type": "markdown",
      "source": [
        "## Observation: \n",
        "1. Most of the Claims are made by the cars which are having fuel_type as Petrol and next to this almost equal number of claims are made by the cars which are having fuel type of Diesel and CNG."
      ],
      "metadata": {
        "id": "EC93Wklxs__S"
      }
    },
    {
      "cell_type": "code",
      "source": [
        "a = df.groupby(['is_claim']).max_torque.value_counts(normalize = True)\n",
        "print(a)"
      ],
      "metadata": {
        "colab": {
          "base_uri": "https://localhost:8080/"
        },
        "id": "OtcI-jA3tvfG",
        "outputId": "ffd51cf0-378b-4bab-bfb3-9e68ad9ec2c3"
      },
      "execution_count": 45,
      "outputs": [
        {
          "output_type": "stream",
          "name": "stdout",
          "text": [
            "is_claim  max_torque    \n",
            "0         113Nm@4400rpm     0.302239\n",
            "          60Nm@3500rpm      0.255816\n",
            "          250Nm@2750rpm     0.239169\n",
            "          82.1Nm@3400rpm    0.071640\n",
            "          91Nm@4250rpm      0.040934\n",
            "          200Nm@1750rpm     0.036121\n",
            "          200Nm@3000rpm     0.027022\n",
            "          85Nm@3000rpm      0.020713\n",
            "          170Nm@4000rpm     0.006345\n",
            "1         113Nm@4400rpm     0.325507\n",
            "          60Nm@3500rpm      0.244931\n",
            "          250Nm@2750rpm     0.240395\n",
            "          82.1Nm@3400rpm    0.065101\n",
            "          200Nm@1750rpm     0.035486\n",
            "          91Nm@4250rpm      0.034152\n",
            "          200Nm@3000rpm     0.030950\n",
            "          85Nm@3000rpm      0.019477\n",
            "          170Nm@4000rpm     0.004002\n",
            "Name: max_torque, dtype: float64\n",
            "time: 19.7 ms (started: 2022-11-23 16:28:11 +00:00)\n"
          ]
        }
      ]
    },
    {
      "cell_type": "markdown",
      "source": [
        "## Plot between 'is_claim' density based on 'max_torque' "
      ],
      "metadata": {
        "id": "f_Zs4EVVtZu8"
      }
    },
    {
      "cell_type": "code",
      "source": [
        "plt.figure(figsize=(20, 10))\n",
        "ax = sns.countplot(data = df, x='max_torque', hue='is_claim')\n",
        "\n",
        "# adding legend with title\n",
        "plt.legend(title = 'is_claim', title_fontsize = 18, fontsize = 15)\n",
        "\n",
        "# x-axis\n",
        "plt.xlabel(\"max_torque\", fontdict = {'fontsize': 15})\n",
        "plt.xticks(size = 15)\n",
        "\n",
        "# y-axis\n",
        "plt.ylabel(\"is_claim \", fontdict = {'fontsize': 15})\n",
        "plt.yticks(size = 15)\n",
        "\n",
        "# adding title\n",
        "plt.title(\"Plot between 'is_claim' and 'max_torque' \", fontdict = {'fontsize': 15})\n",
        "\n",
        "# annotating the bars\n",
        "for p in ax.patches:\n",
        "        ax.annotate('{:.1f}'.format(p.get_height()), (p.get_x()+0.1, p.get_height()+25), ha='left', va='baseline', fontsize = 13)\n",
        "\n",
        "# plotting the graph\n",
        "#plt.grid()\n",
        "plt.tight_layout()        \n",
        "plt.show()"
      ],
      "metadata": {
        "colab": {
          "base_uri": "https://localhost:8080/",
          "height": 543
        },
        "id": "vga2vnpwu5Gf",
        "outputId": "14cf3739-af49-4c7a-ca4c-f21818051778"
      },
      "execution_count": 46,
      "outputs": [
        {
          "output_type": "display_data",
          "data": {
            "text/plain": [
              "<Figure size 1440x720 with 1 Axes>"
            ],
            "image/png": "[encoded data removed]"
          },
          "metadata": {
            "needs_background": "light"
          }
        },
        {
          "output_type": "stream",
          "name": "stdout",
          "text": [
            "time: 508 ms (started: 2022-11-23 16:28:11 +00:00)\n"
          ]
        }
      ]
    },
    {
      "cell_type": "markdown",
      "source": [
        "## Observation:\n",
        "1. 1220 claims are made by the cars which are having max_torque as 113Nm@440rpm and least of them which is 15 claims were made by cars having max_torque as 170Nm@4000 rpm."
      ],
      "metadata": {
        "id": "POeMdb-utc5z"
      }
    },
    {
      "cell_type": "markdown",
      "source": [
        "## Plot between 'is_claim' and 'max_power'"
      ],
      "metadata": {
        "id": "b5f2ccLh2ecy"
      }
    },
    {
      "cell_type": "code",
      "source": [
        "plt.figure(figsize=(25, 10))\n",
        "ax = sns.countplot(data = df, x='max_power', hue='is_claim')\n",
        "\n",
        "# adding legend with title\n",
        "plt.legend(title = 'is_claim', title_fontsize = 18, fontsize = 15)\n",
        "\n",
        "# x-axis\n",
        "plt.xlabel(\"max_power\", fontdict = {'fontsize': 17})\n",
        "plt.xticks(size = 16)\n",
        "\n",
        "# y-axis\n",
        "plt.ylabel(\"is_claim \", fontdict = {'fontsize': 17})\n",
        "plt.yticks(size = 16)\n",
        "\n",
        "# adding title\n",
        "plt.title(\"Plot between 'is_claim' and 'max_power' \", fontdict = {'fontsize': 15})\n",
        "\n",
        "# annotating the bars\n",
        "for p in ax.patches:\n",
        "        ax.annotate('{:.1f}'.format(p.get_height()), (p.get_x()+0.1, p.get_height()+25), ha='left', va='baseline', fontsize = 15)\n",
        "\n",
        "# plotting the graph\n",
        "#plt.grid()\n",
        "plt.tight_layout()        \n",
        "plt.show()"
      ],
      "metadata": {
        "colab": {
          "base_uri": "https://localhost:8080/",
          "height": 423
        },
        "id": "kwTnSufzZCJj",
        "outputId": "8494b163-6b7b-44de-ad7e-760649075265"
      },
      "execution_count": 47,
      "outputs": [
        {
          "output_type": "display_data",
          "data": {
            "text/plain": [
              "<Figure size 1800x720 with 1 Axes>"
            ],
            "image/png": "[encoded data removed]"
          },
          "metadata": {
            "needs_background": "light"
          }
        }
      ]
    },
    {
      "cell_type": "markdown",
      "source": [
        "## Observation: \n",
        "1. We can observe that the cars which are having max_power of 88.50bhp@6000rpm has made as highest of 1220 claims and least numbers of claims are made by the cars that have max_power of 118.36bhp@5500rpm which is 15 claims."
      ],
      "metadata": {
        "id": "_n0BXaRfz3dt"
      }
    },
    {
      "cell_type": "markdown",
      "source": [
        "## Plot between 'is_claim' and 'engine_type'"
      ],
      "metadata": {
        "id": "6swZmFsn2cAz"
      }
    },
    {
      "cell_type": "code",
      "source": [
        "plt.figure(figsize=(32, 10))\n",
        "ax = sns.countplot(data = df, x='engine_type', hue='is_claim')\n",
        "\n",
        "# adding legend with title\n",
        "plt.legend(title = 'is_claim', title_fontsize = 18, fontsize = 15)\n",
        "\n",
        "# x-axis\n",
        "plt.xlabel(\"engine_type\", fontdict = {'fontsize': 22})\n",
        "plt.xticks(size = 17)\n",
        "\n",
        "# y-axis\n",
        "plt.ylabel(\"is_claim \", fontdict = {'fontsize': 22})\n",
        "plt.yticks(size = 17)\n",
        "\n",
        "# adding title\n",
        "plt.title(\"Plot between 'is_claim' and 'engine_type' \", fontdict = {'fontsize': 25})\n",
        "\n",
        "# annotating the bars\n",
        "for p in ax.patches:\n",
        "        ax.annotate('{:.1f}'.format(p.get_height()), (p.get_x()+0.1, p.get_height()+25), ha='left', va='baseline', fontsize = 25)\n",
        "\n",
        "# plotting the graph\n",
        "# plt.grid()\n",
        "plt.tight_layout()        \n",
        "plt.show()"
      ],
      "metadata": {
        "colab": {
          "base_uri": "https://localhost:8080/",
          "height": 353
        },
        "id": "1ajaXpKmZD6h",
        "outputId": "20e750bc-b66f-42ee-865c-f92918966abb"
      },
      "execution_count": 51,
      "outputs": [
        {
          "output_type": "display_data",
          "data": {
            "text/plain": [
              "<Figure size 2304x720 with 1 Axes>"
            ],
            "image/png": "[encoded data removed]"
          },
          "metadata": {
            "needs_background": "light"
          }
        },
        {
          "output_type": "stream",
          "name": "stdout",
          "text": [
            "time: 1.21 s (started: 2022-11-23 16:29:32 +00:00)\n"
          ]
        }
      ]
    },
    {
      "cell_type": "markdown",
      "source": [
        "## Observation:\n",
        "1. Most number of claims are made by the cars that have engine type as F&D Petrol engine and least number by the ones which have engine type as 1.5 Turbocharged Revotron"
      ],
      "metadata": {
        "id": "Zc1xdYqc0sDv"
      }
    },
    {
      "cell_type": "markdown",
      "source": [
        "## Plot between 'is_claim' and 'airbags'"
      ],
      "metadata": {
        "id": "LVorBxjH2ZoM"
      }
    },
    {
      "cell_type": "code",
      "source": [
        "plt.figure(figsize=(10, 5))\n",
        "ax = sns.countplot(data = df, x='airbags', hue='is_claim')\n",
        "\n",
        "# adding legend with title\n",
        "plt.legend(title = 'is_claim', title_fontsize = 10, fontsize = 7)\n",
        "\n",
        "# x-axis\n",
        "plt.xlabel(\"airbags\", fontdict = {'fontsize': 11})\n",
        "plt.xticks(size = 13)\n",
        "\n",
        "# y-axis\n",
        "plt.ylabel(\"is_claim \", fontdict = {'fontsize': 11})\n",
        "plt.yticks(size = 13)\n",
        "\n",
        "# adding title\n",
        "plt.title(\"Plot between 'is_claim' and 'airbags' \", fontdict = {'fontsize': 15})\n",
        "\n",
        "# annotating the bars\n",
        "for p in ax.patches:\n",
        "        ax.annotate('{:.1f}'.format(p.get_height()), (p.get_x()+0.1, p.get_height()+25), ha='left', va='baseline', fontsize = 10)\n",
        "\n",
        "# plotting the graph\n",
        "#plt.grid()\n",
        "plt.tight_layout()        \n",
        "plt.show()"
      ],
      "metadata": {
        "colab": {
          "base_uri": "https://localhost:8080/",
          "height": 387
        },
        "id": "bGowzCkvZbpR",
        "outputId": "f9701aea-33fc-4760-b3ac-8505f8fab08e"
      },
      "execution_count": 49,
      "outputs": [
        {
          "output_type": "display_data",
          "data": {
            "text/plain": [
              "<Figure size 720x360 with 1 Axes>"
            ],
            "image/png": "[encoded data removed]"
          },
          "metadata": {
            "needs_background": "light"
          }
        },
        {
          "output_type": "stream",
          "name": "stdout",
          "text": [
            "time: 264 ms (started: 2022-11-23 16:28:13 +00:00)\n"
          ]
        }
      ]
    },
    {
      "cell_type": "markdown",
      "source": [
        "## Observations:\n",
        "1. Cars that have only 2 air bags have claimed more times when compared to the ones have 1 and 6 air bags ."
      ],
      "metadata": {
        "id": "1cZ_rR7Q2JLl"
      }
    },
    {
      "cell_type": "code",
      "source": [
        "cols = ['is_esc', 'is_adjustable_steering', 'is_tpms', 'is_parking_sensors', 'is_parking_camera',\n",
        "        'is_front_fog_lights', 'is_rear_window_wiper', 'is_rear_window_washer',\n",
        "        'is_rear_window_defogger', 'is_brake_assist', 'is_power_door_locks', 'is_central_locking', 'is_power_steering',\n",
        "        'is_driver_seat_height_adjustable', 'is_day_night_rear_view_mirror', 'is_ecw', 'is_speed_alert']\n",
        "\n",
        "for col in cols:\n",
        "    df[col] = np.where(df[col] == 'Yes', 1, 0)\n",
        "    \n",
        "for col in cols:\n",
        "    oot[col] = np.where(oot[col] == 'Yes', 1, 0)"
      ],
      "metadata": {
        "colab": {
          "base_uri": "https://localhost:8080/"
        },
        "id": "dX0LDOJuZfL-",
        "outputId": "be321261-e94a-49b5-e584-e10037bb64d5"
      },
      "execution_count": 104,
      "outputs": [
        {
          "output_type": "stream",
          "name": "stdout",
          "text": [
            "time: 357 ms (started: 2022-11-23 16:45:20 +00:00)\n"
          ]
        }
      ]
    },
    {
      "cell_type": "markdown",
      "source": [
        "# Modelling - LGBM\n",
        "---"
      ],
      "metadata": {
        "id": "XHasvZ96U1PJ"
      }
    },
    {
      "cell_type": "markdown",
      "source": [
        "## Train and Validation Split"
      ],
      "metadata": {
        "id": "GVnMBQwEP3qq"
      }
    },
    {
      "cell_type": "code",
      "source": [
        "X = df.drop(columns = ['policy_id', 'is_claim'])\n",
        "y = df['is_claim']"
      ],
      "metadata": {
        "colab": {
          "base_uri": "https://localhost:8080/"
        },
        "id": "lQcjx0ScP4va",
        "outputId": "84b3f1df-bf65-4dbf-e1a9-83e09bb1bbf1"
      },
      "execution_count": 105,
      "outputs": [
        {
          "output_type": "stream",
          "name": "stdout",
          "text": [
            "time: 22.9 ms (started: 2022-11-23 16:45:26 +00:00)\n"
          ]
        }
      ]
    },
    {
      "cell_type": "code",
      "source": [
        "# using 10% of the given data in testing\n",
        "x_train, x_test, y_train, y_test = train_test_split(X, y, test_size = 0.1, stratify = y, random_state = 1)\n"
      ],
      "metadata": {
        "colab": {
          "base_uri": "https://localhost:8080/"
        },
        "id": "I4Snhjz7P7vn",
        "outputId": "069ff375-7985-4961-ab6e-f15add0c63ea"
      },
      "execution_count": 106,
      "outputs": [
        {
          "output_type": "stream",
          "name": "stdout",
          "text": [
            "time: 44.6 ms (started: 2022-11-23 16:45:28 +00:00)\n"
          ]
        }
      ]
    },
    {
      "cell_type": "code",
      "source": [
        "print(\"Number of points available in Training data for each claim type are:\")\n",
        "y_train.value_counts()"
      ],
      "metadata": {
        "colab": {
          "base_uri": "https://localhost:8080/"
        },
        "id": "GtgB2MFqXDdx",
        "outputId": "f3ab5820-3f15-4c22-ee70-12a263c7e9bf"
      },
      "execution_count": 107,
      "outputs": [
        {
          "output_type": "stream",
          "name": "stdout",
          "text": [
            "Number of points available in Training data for each claim type are:\n"
          ]
        },
        {
          "output_type": "execute_result",
          "data": {
            "text/plain": [
              "0    49359\n",
              "1     3373\n",
              "Name: is_claim, dtype: int64"
            ]
          },
          "metadata": {},
          "execution_count": 107
        },
        {
          "output_type": "stream",
          "name": "stdout",
          "text": [
            "time: 8.87 ms (started: 2022-11-23 16:45:31 +00:00)\n"
          ]
        }
      ]
    },
    {
      "cell_type": "code",
      "source": [
        "val = (y_train.value_counts(normalize = True)) * 100\n",
        "print(\"Percentage of points available in Training data for each claim type are:\")\n",
        "print(val)\n",
        "# we can observe that nearly 93% percent of the values are having is_claim status as '0' and other 6% have as status '1'"
      ],
      "metadata": {
        "colab": {
          "base_uri": "https://localhost:8080/"
        },
        "id": "MTF3Y8NRP9b6",
        "outputId": "5f0c1c27-0742-4e1a-91b5-95c59793c99e"
      },
      "execution_count": 108,
      "outputs": [
        {
          "output_type": "stream",
          "name": "stdout",
          "text": [
            "Percentage of points available in Training data for each claim type are:\n",
            "0    93.603505\n",
            "1     6.396495\n",
            "Name: is_claim, dtype: float64\n",
            "time: 3.89 ms (started: 2022-11-23 16:45:33 +00:00)\n"
          ]
        }
      ]
    },
    {
      "cell_type": "code",
      "source": [
        "print(\"Number of points available in Test data for each claim type are:\")\n",
        "y_test.value_counts()"
      ],
      "metadata": {
        "colab": {
          "base_uri": "https://localhost:8080/"
        },
        "id": "mMBl1emAXHXQ",
        "outputId": "4f193b9b-91a6-4e76-e06c-9a44b53f156d"
      },
      "execution_count": 109,
      "outputs": [
        {
          "output_type": "stream",
          "name": "stdout",
          "text": [
            "Number of points available in Test data for each claim type are:\n"
          ]
        },
        {
          "output_type": "execute_result",
          "data": {
            "text/plain": [
              "0    5485\n",
              "1     375\n",
              "Name: is_claim, dtype: int64"
            ]
          },
          "metadata": {},
          "execution_count": 109
        },
        {
          "output_type": "stream",
          "name": "stdout",
          "text": [
            "time: 8.43 ms (started: 2022-11-23 16:45:37 +00:00)\n"
          ]
        }
      ]
    },
    {
      "cell_type": "code",
      "source": [
        "val = (y_test.value_counts(normalize = True)) * 100\n",
        "print(\"Percentage of points available in Test data for each claim type are:\")\n",
        "print(val)\n"
      ],
      "metadata": {
        "colab": {
          "base_uri": "https://localhost:8080/"
        },
        "id": "OhbE7f2cP--G",
        "outputId": "865074be-a205-4fea-e31d-9eacbf2a62be"
      },
      "execution_count": 110,
      "outputs": [
        {
          "output_type": "stream",
          "name": "stdout",
          "text": [
            "Percentage of points available in Test data for each claim type are:\n",
            "0    93.600683\n",
            "1     6.399317\n",
            "Name: is_claim, dtype: float64\n",
            "time: 5.68 ms (started: 2022-11-23 16:45:39 +00:00)\n"
          ]
        }
      ]
    },
    {
      "cell_type": "markdown",
      "source": [
        "## References for WOEEncoder( Weight of Evidence): \n",
        "1. https://www.listendata.com/2015/03/weight-of-evidence-woe-and-information.html\n",
        "2. https://towardsdatascience.com/an-easier-way-to-encode-categorical-features-d840ff6b3900\n",
        "3. https://www.analyticsvidhya.com/blog/2021/06/understand-weight-of-evidence-and-information-value/\n"
      ],
      "metadata": {
        "id": "P9yVnmexr_L1"
      }
    },
    {
      "cell_type": "code",
      "source": [
        "# implementing Weight of Evidence Encoding\n",
        "woe = WOEEncoder()"
      ],
      "metadata": {
        "colab": {
          "base_uri": "https://localhost:8080/"
        },
        "id": "V6-KViZsPm8n",
        "outputId": "8a0451fb-03c9-47bc-8dec-e505803d9325"
      },
      "execution_count": 111,
      "outputs": [
        {
          "output_type": "stream",
          "name": "stdout",
          "text": [
            "time: 723 µs (started: 2022-11-23 16:45:44 +00:00)\n"
          ]
        }
      ]
    },
    {
      "cell_type": "code",
      "source": [
        "# listing down all the categorical features in our Data\n",
        "feature_list = ['area_cluster', 'make', 'segment', 'model', 'fuel_type', 'max_torque', 'max_power', 'engine_type',\n",
        "                 'rear_brakes_type', 'transmission_type', 'steering_type']"
      ],
      "metadata": {
        "colab": {
          "base_uri": "https://localhost:8080/"
        },
        "id": "wVwb5ZfxPpcf",
        "outputId": "aaebfad9-07f6-404a-fdde-d50f397de0a4"
      },
      "execution_count": 112,
      "outputs": [
        {
          "output_type": "stream",
          "name": "stdout",
          "text": [
            "time: 976 µs (started: 2022-11-23 16:45:46 +00:00)\n"
          ]
        }
      ]
    },
    {
      "cell_type": "code",
      "source": [
        "# applying WOEEncoder on Train and Test data sets\n",
        "train_woe = woe.fit_transform(x_train[feature_list], y_train)\n",
        "test_woe = woe.transform(x_test[feature_list])\n",
        "oot_woe = woe.transform(oot[feature_list])"
      ],
      "metadata": {
        "colab": {
          "base_uri": "https://localhost:8080/"
        },
        "id": "Itgks5ExPxNY",
        "outputId": "9fbed39f-1c76-456e-c80b-8622fab2087c"
      },
      "execution_count": 113,
      "outputs": [
        {
          "output_type": "stream",
          "name": "stdout",
          "text": [
            "time: 1.01 s (started: 2022-11-23 16:45:48 +00:00)\n"
          ]
        }
      ]
    },
    {
      "cell_type": "code",
      "source": [
        "train_woe.shape\n"
      ],
      "metadata": {
        "colab": {
          "base_uri": "https://localhost:8080/"
        },
        "id": "0JWHw5dYQDhP",
        "outputId": "a16c4574-4791-4143-eba3-568270967c3e"
      },
      "execution_count": 114,
      "outputs": [
        {
          "output_type": "execute_result",
          "data": {
            "text/plain": [
              "(52732, 11)"
            ]
          },
          "metadata": {},
          "execution_count": 114
        },
        {
          "output_type": "stream",
          "name": "stdout",
          "text": [
            "time: 3.89 ms (started: 2022-11-23 16:45:54 +00:00)\n"
          ]
        }
      ]
    },
    {
      "cell_type": "code",
      "source": [
        "train_woe.head()"
      ],
      "metadata": {
        "colab": {
          "base_uri": "https://localhost:8080/",
          "height": 288
        },
        "id": "gGuT4MMwQGCL",
        "outputId": "f60d3269-99ea-4875-f805-d52b0724af51"
      },
      "execution_count": 115,
      "outputs": [
        {
          "output_type": "execute_result",
          "data": {
            "text/plain": [
              "       area_cluster  make   segment     model  fuel_type  max_torque  \\\n",
              "42769      0.104014     1  0.090258  0.076777   0.043882    0.083521   \n",
              "35051      0.104014     1 -0.060953 -0.037514  -0.053764   -0.037514   \n",
              "12127      0.116440     1 -0.060953 -0.037514  -0.053764   -0.037514   \n",
              "17456      0.127955     1  0.090258  0.076777   0.043882    0.083521   \n",
              "17734     -0.087772     3 -0.007887 -0.007887   0.009051   -0.007887   \n",
              "\n",
              "       max_power  engine_type  rear_brakes_type  transmission_type  \\\n",
              "42769   0.083521     0.076777          0.002479           0.003574   \n",
              "35051  -0.037514    -0.037514          0.002479           0.003574   \n",
              "12127  -0.037514    -0.037514          0.002479           0.003574   \n",
              "17456   0.083521     0.076777          0.002479           0.003574   \n",
              "17734  -0.007887    -0.007887         -0.007887          -0.006683   \n",
              "\n",
              "       steering_type  \n",
              "42769       0.054712  \n",
              "35051      -0.040718  \n",
              "12127      -0.040718  \n",
              "17456       0.054712  \n",
              "17734      -0.040718  "
            ],
            "text/html": [
              "\n",
              "  <div id=\"df-1ca21ac7-fbe3-4d43-bdc3-84c5c0ef1a20\">\n",
              "    <div class=\"colab-df-container\">\n",
              "      <div>\n",
              "<style scoped>\n",
              "    .dataframe tbody tr th:only-of-type {\n",
              "        vertical-align: middle;\n",
              "    }\n",
              "\n",
              "    .dataframe tbody tr th {\n",
              "        vertical-align: top;\n",
              "    }\n",
              "\n",
              "    .dataframe thead th {\n",
              "        text-align: right;\n",
              "    }\n",
              "</style>\n",
              "<table border=\"1\" class=\"dataframe\">\n",
              "  <thead>\n",
              "    <tr style=\"text-align: right;\">\n",
              "      <th></th>\n",
              "      <th>area_cluster</th>\n",
              "      <th>make</th>\n",
              "      <th>segment</th>\n",
              "      <th>model</th>\n",
              "      <th>fuel_type</th>\n",
              "      <th>max_torque</th>\n",
              "      <th>max_power</th>\n",
              "      <th>engine_type</th>\n",
              "      <th>rear_brakes_type</th>\n",
              "      <th>transmission_type</th>\n",
              "      <th>steering_type</th>\n",
              "    </tr>\n",
              "  </thead>\n",
              "  <tbody>\n",
              "    <tr>\n",
              "      <th>42769</th>\n",
              "      <td>0.104014</td>\n",
              "      <td>1</td>\n",
              "      <td>0.090258</td>\n",
              "      <td>0.076777</td>\n",
              "      <td>0.043882</td>\n",
              "      <td>0.083521</td>\n",
              "      <td>0.083521</td>\n",
              "      <td>0.076777</td>\n",
              "      <td>0.002479</td>\n",
              "      <td>0.003574</td>\n",
              "      <td>0.054712</td>\n",
              "    </tr>\n",
              "    <tr>\n",
              "      <th>35051</th>\n",
              "      <td>0.104014</td>\n",
              "      <td>1</td>\n",
              "      <td>-0.060953</td>\n",
              "      <td>-0.037514</td>\n",
              "      <td>-0.053764</td>\n",
              "      <td>-0.037514</td>\n",
              "      <td>-0.037514</td>\n",
              "      <td>-0.037514</td>\n",
              "      <td>0.002479</td>\n",
              "      <td>0.003574</td>\n",
              "      <td>-0.040718</td>\n",
              "    </tr>\n",
              "    <tr>\n",
              "      <th>12127</th>\n",
              "      <td>0.116440</td>\n",
              "      <td>1</td>\n",
              "      <td>-0.060953</td>\n",
              "      <td>-0.037514</td>\n",
              "      <td>-0.053764</td>\n",
              "      <td>-0.037514</td>\n",
              "      <td>-0.037514</td>\n",
              "      <td>-0.037514</td>\n",
              "      <td>0.002479</td>\n",
              "      <td>0.003574</td>\n",
              "      <td>-0.040718</td>\n",
              "    </tr>\n",
              "    <tr>\n",
              "      <th>17456</th>\n",
              "      <td>0.127955</td>\n",
              "      <td>1</td>\n",
              "      <td>0.090258</td>\n",
              "      <td>0.076777</td>\n",
              "      <td>0.043882</td>\n",
              "      <td>0.083521</td>\n",
              "      <td>0.083521</td>\n",
              "      <td>0.076777</td>\n",
              "      <td>0.002479</td>\n",
              "      <td>0.003574</td>\n",
              "      <td>0.054712</td>\n",
              "    </tr>\n",
              "    <tr>\n",
              "      <th>17734</th>\n",
              "      <td>-0.087772</td>\n",
              "      <td>3</td>\n",
              "      <td>-0.007887</td>\n",
              "      <td>-0.007887</td>\n",
              "      <td>0.009051</td>\n",
              "      <td>-0.007887</td>\n",
              "      <td>-0.007887</td>\n",
              "      <td>-0.007887</td>\n",
              "      <td>-0.007887</td>\n",
              "      <td>-0.006683</td>\n",
              "      <td>-0.040718</td>\n",
              "    </tr>\n",
              "  </tbody>\n",
              "</table>\n",
              "</div>\n",
              "      <button class=\"colab-df-convert\" onclick=\"convertToInteractive('df-1ca21ac7-fbe3-4d43-bdc3-84c5c0ef1a20')\"\n",
              "              title=\"Convert this dataframe to an interactive table.\"\n",
              "              style=\"display:none;\">\n",
              "        \n",
              "  <svg xmlns=\"http://www.w3.org/2000/svg\" height=\"24px\"viewBox=\"0 0 24 24\"\n",
              "       width=\"24px\">\n",
              "    <path d=\"M0 0h24v24H0V0z\" fill=\"none\"/>\n",
              "    <path d=\"M18.56 5.44l.94 2.06.94-2.06 2.06-.94-2.06-.94-.94-2.06-.94 2.06-2.06.94zm-11 1L8.5 8.5l.94-2.06 2.06-.94-2.06-.94L8.5 2.5l-.94 2.06-2.06.94zm10 10l.94 2.06.94-2.06 2.06-.94-2.06-.94-.94-2.06-.94 2.06-2.06.94z\"/><path d=\"M17.41 7.96l-1.37-1.37c-.4-.4-.92-.59-1.43-.59-.52 0-1.04.2-1.43.59L10.3 9.45l-7.72 7.72c-.78.78-.78 2.05 0 2.83L4 21.41c.39.39.9.59 1.41.59.51 0 1.02-.2 1.41-.59l7.78-7.78 2.81-2.81c.8-.78.8-2.07 0-2.86zM5.41 20L4 18.59l7.72-7.72 1.47 1.35L5.41 20z\"/>\n",
              "  </svg>\n",
              "      </button>\n",
              "      \n",
              "  <style>\n",
              "    .colab-df-container {\n",
              "      display:flex;\n",
              "      flex-wrap:wrap;\n",
              "      gap: 12px;\n",
              "    }\n",
              "\n",
              "    .colab-df-convert {\n",
              "      background-color: #E8F0FE;\n",
              "      border: none;\n",
              "      border-radius: 50%;\n",
              "      cursor: pointer;\n",
              "      display: none;\n",
              "      fill: #1967D2;\n",
              "      height: 32px;\n",
              "      padding: 0 0 0 0;\n",
              "      width: 32px;\n",
              "    }\n",
              "\n",
              "    .colab-df-convert:hover {\n",
              "      background-color: #E2EBFA;\n",
              "      box-shadow: 0px 1px 2px rgba(60, 64, 67, 0.3), 0px 1px 3px 1px rgba(60, 64, 67, 0.15);\n",
              "      fill: #174EA6;\n",
              "    }\n",
              "\n",
              "    [theme=dark] .colab-df-convert {\n",
              "      background-color: #3B4455;\n",
              "      fill: #D2E3FC;\n",
              "    }\n",
              "\n",
              "    [theme=dark] .colab-df-convert:hover {\n",
              "      background-color: #434B5C;\n",
              "      box-shadow: 0px 1px 3px 1px rgba(0, 0, 0, 0.15);\n",
              "      filter: drop-shadow(0px 1px 2px rgba(0, 0, 0, 0.3));\n",
              "      fill: #FFFFFF;\n",
              "    }\n",
              "  </style>\n",
              "\n",
              "      <script>\n",
              "        const buttonEl =\n",
              "          document.querySelector('#df-1ca21ac7-fbe3-4d43-bdc3-84c5c0ef1a20 button.colab-df-convert');\n",
              "        buttonEl.style.display =\n",
              "          google.colab.kernel.accessAllowed ? 'block' : 'none';\n",
              "\n",
              "        async function convertToInteractive(key) {\n",
              "          const element = document.querySelector('#df-1ca21ac7-fbe3-4d43-bdc3-84c5c0ef1a20');\n",
              "          const dataTable =\n",
              "            await google.colab.kernel.invokeFunction('convertToInteractive',\n",
              "                                                     [key], {});\n",
              "          if (!dataTable) return;\n",
              "\n",
              "          const docLinkHtml = 'Like what you see? Visit the ' +\n",
              "            '<a target=\"_blank\" href=https://colab.research.google.com/notebooks/data_table.ipynb>data table notebook</a>'\n",
              "            + ' to learn more about interactive tables.';\n",
              "          element.innerHTML = '';\n",
              "          dataTable['output_type'] = 'display_data';\n",
              "          await google.colab.output.renderOutput(dataTable, element);\n",
              "          const docLink = document.createElement('div');\n",
              "          docLink.innerHTML = docLinkHtml;\n",
              "          element.appendChild(docLink);\n",
              "        }\n",
              "      </script>\n",
              "    </div>\n",
              "  </div>\n",
              "  "
            ]
          },
          "metadata": {},
          "execution_count": 115
        },
        {
          "output_type": "stream",
          "name": "stdout",
          "text": [
            "time: 18.2 ms (started: 2022-11-23 16:45:55 +00:00)\n"
          ]
        }
      ]
    },
    {
      "cell_type": "code",
      "source": [
        "x_train.drop(columns = feature_list, inplace = True)\n",
        "x_test.drop(columns = feature_list, inplace = True)\n",
        "oot.drop(columns = feature_list, inplace = True)"
      ],
      "metadata": {
        "colab": {
          "base_uri": "https://localhost:8080/"
        },
        "id": "7-lgexqIQKQx",
        "outputId": "d1c02c65-dfa1-46dc-eb23-15a2b2a50663"
      },
      "execution_count": 116,
      "outputs": [
        {
          "output_type": "stream",
          "name": "stdout",
          "text": [
            "time: 19.5 ms (started: 2022-11-23 16:46:01 +00:00)\n"
          ]
        }
      ]
    },
    {
      "cell_type": "code",
      "source": [
        "x_train_final = pd.concat([x_train, train_woe], axis = 1)\n",
        "x_test_final = pd.concat([x_test, test_woe], axis = 1)\n",
        "oot_final = pd.concat([oot, oot_woe], axis = 1)"
      ],
      "metadata": {
        "colab": {
          "base_uri": "https://localhost:8080/"
        },
        "id": "ypR9ehH8QLaL",
        "outputId": "af877e81-0804-4d28-abe7-a689c0ca37ae"
      },
      "execution_count": 117,
      "outputs": [
        {
          "output_type": "stream",
          "name": "stdout",
          "text": [
            "time: 21.2 ms (started: 2022-11-23 16:46:07 +00:00)\n"
          ]
        }
      ]
    },
    {
      "cell_type": "code",
      "source": [
        "x_train_final.head()\n"
      ],
      "metadata": {
        "colab": {
          "base_uri": "https://localhost:8080/",
          "height": 288
        },
        "id": "jF6aPZ8zQPs7",
        "outputId": "1a9f7b32-da89-4153-dd5f-d86d02ba7ce6"
      },
      "execution_count": 118,
      "outputs": [
        {
          "output_type": "execute_result",
          "data": {
            "text/plain": [
              "       policy_tenure  age_of_car  age_of_policyholder  population_density  \\\n",
              "42769       0.868744        0.08             0.346154                8794   \n",
              "35051       0.383458        0.00             0.509615                8794   \n",
              "12127       0.869126        0.00             0.423077                4076   \n",
              "17456       0.766596        0.01             0.307692               27742   \n",
              "17734       0.031597        0.06             0.298077                5410   \n",
              "\n",
              "       airbags  is_esc  is_adjustable_steering  is_tpms  is_parking_sensors  \\\n",
              "42769        2       0                       1        0                   1   \n",
              "35051        2       0                       0        0                   1   \n",
              "12127        2       0                       0        0                   1   \n",
              "17456        2       0                       1        0                   1   \n",
              "17734        6       1                       1        1                   1   \n",
              "\n",
              "       is_parking_camera  displacement  cylinder  gear_box  turning_radius  \\\n",
              "42769                  0          1197         4         5             4.8   \n",
              "35051                  0           796         3         5             4.6   \n",
              "12127                  0           796         3         5             4.6   \n",
              "17456                  0          1197         4         5             4.8   \n",
              "17734                  1          1493         4         6             5.2   \n",
              "\n",
              "       length  width  height  gross_weight  is_front_fog_lights  \\\n",
              "42769    3845   1735    1530          1335                    1   \n",
              "35051    3445   1515    1475          1185                    0   \n",
              "12127    3445   1515    1475          1185                    0   \n",
              "17456    3845   1735    1530          1335                    1   \n",
              "17734    4300   1790    1635          1720                    1   \n",
              "\n",
              "       is_rear_window_wiper  is_rear_window_washer  is_rear_window_defogger  \\\n",
              "42769                     0                      0                        0   \n",
              "35051                     0                      0                        0   \n",
              "12127                     0                      0                        0   \n",
              "17456                     0                      0                        0   \n",
              "17734                     1                      1                        1   \n",
              "\n",
              "       is_brake_assist  is_power_door_locks  is_central_locking  \\\n",
              "42769                1                    1                   1   \n",
              "35051                0                    0                   0   \n",
              "12127                0                    0                   0   \n",
              "17456                1                    1                   1   \n",
              "17734                1                    1                   1   \n",
              "\n",
              "       is_power_steering  is_driver_seat_height_adjustable  \\\n",
              "42769                  1                                 1   \n",
              "35051                  1                                 0   \n",
              "12127                  1                                 0   \n",
              "17456                  1                                 1   \n",
              "17734                  1                                 1   \n",
              "\n",
              "       is_day_night_rear_view_mirror  is_ecw  is_speed_alert  ncap_rating  \\\n",
              "42769                              1       1               1            2   \n",
              "35051                              0       0               1            0   \n",
              "12127                              0       0               1            0   \n",
              "17456                              1       1               1            2   \n",
              "17734                              0       1               1            3   \n",
              "\n",
              "       area_cluster  make   segment     model  fuel_type  max_torque  \\\n",
              "42769      0.104014     1  0.090258  0.076777   0.043882    0.083521   \n",
              "35051      0.104014     1 -0.060953 -0.037514  -0.053764   -0.037514   \n",
              "12127      0.116440     1 -0.060953 -0.037514  -0.053764   -0.037514   \n",
              "17456      0.127955     1  0.090258  0.076777   0.043882    0.083521   \n",
              "17734     -0.087772     3 -0.007887 -0.007887   0.009051   -0.007887   \n",
              "\n",
              "       max_power  engine_type  rear_brakes_type  transmission_type  \\\n",
              "42769   0.083521     0.076777          0.002479           0.003574   \n",
              "35051  -0.037514    -0.037514          0.002479           0.003574   \n",
              "12127  -0.037514    -0.037514          0.002479           0.003574   \n",
              "17456   0.083521     0.076777          0.002479           0.003574   \n",
              "17734  -0.007887    -0.007887         -0.007887          -0.006683   \n",
              "\n",
              "       steering_type  \n",
              "42769       0.054712  \n",
              "35051      -0.040718  \n",
              "12127      -0.040718  \n",
              "17456       0.054712  \n",
              "17734      -0.040718  "
            ],
            "text/html": [
              "\n",
              "  <div id=\"df-1a6b6ef8-5f60-4eaf-905d-7657e9f6636a\">\n",
              "    <div class=\"colab-df-container\">\n",
              "      <div>\n",
              "<style scoped>\n",
              "    .dataframe tbody tr th:only-of-type {\n",
              "        vertical-align: middle;\n",
              "    }\n",
              "\n",
              "    .dataframe tbody tr th {\n",
              "        vertical-align: top;\n",
              "    }\n",
              "\n",
              "    .dataframe thead th {\n",
              "        text-align: right;\n",
              "    }\n",
              "</style>\n",
              "<table border=\"1\" class=\"dataframe\">\n",
              "  <thead>\n",
              "    <tr style=\"text-align: right;\">\n",
              "      <th></th>\n",
              "      <th>policy_tenure</th>\n",
              "      <th>age_of_car</th>\n",
              "      <th>age_of_policyholder</th>\n",
              "      <th>population_density</th>\n",
              "      <th>airbags</th>\n",
              "      <th>is_esc</th>\n",
              "      <th>is_adjustable_steering</th>\n",
              "      <th>is_tpms</th>\n",
              "      <th>is_parking_sensors</th>\n",
              "      <th>is_parking_camera</th>\n",
              "      <th>displacement</th>\n",
              "      <th>cylinder</th>\n",
              "      <th>gear_box</th>\n",
              "      <th>turning_radius</th>\n",
              "      <th>length</th>\n",
              "      <th>width</th>\n",
              "      <th>height</th>\n",
              "      <th>gross_weight</th>\n",
              "      <th>is_front_fog_lights</th>\n",
              "      <th>is_rear_window_wiper</th>\n",
              "      <th>is_rear_window_washer</th>\n",
              "      <th>is_rear_window_defogger</th>\n",
              "      <th>is_brake_assist</th>\n",
              "      <th>is_power_door_locks</th>\n",
              "      <th>is_central_locking</th>\n",
              "      <th>is_power_steering</th>\n",
              "      <th>is_driver_seat_height_adjustable</th>\n",
              "      <th>is_day_night_rear_view_mirror</th>\n",
              "      <th>is_ecw</th>\n",
              "      <th>is_speed_alert</th>\n",
              "      <th>ncap_rating</th>\n",
              "      <th>area_cluster</th>\n",
              "      <th>make</th>\n",
              "      <th>segment</th>\n",
              "      <th>model</th>\n",
              "      <th>fuel_type</th>\n",
              "      <th>max_torque</th>\n",
              "      <th>max_power</th>\n",
              "      <th>engine_type</th>\n",
              "      <th>rear_brakes_type</th>\n",
              "      <th>transmission_type</th>\n",
              "      <th>steering_type</th>\n",
              "    </tr>\n",
              "  </thead>\n",
              "  <tbody>\n",
              "    <tr>\n",
              "      <th>42769</th>\n",
              "      <td>0.868744</td>\n",
              "      <td>0.08</td>\n",
              "      <td>0.346154</td>\n",
              "      <td>8794</td>\n",
              "      <td>2</td>\n",
              "      <td>0</td>\n",
              "      <td>1</td>\n",
              "      <td>0</td>\n",
              "      <td>1</td>\n",
              "      <td>0</td>\n",
              "      <td>1197</td>\n",
              "      <td>4</td>\n",
              "      <td>5</td>\n",
              "      <td>4.8</td>\n",
              "      <td>3845</td>\n",
              "      <td>1735</td>\n",
              "      <td>1530</td>\n",
              "      <td>1335</td>\n",
              "      <td>1</td>\n",
              "      <td>0</td>\n",
              "      <td>0</td>\n",
              "      <td>0</td>\n",
              "      <td>1</td>\n",
              "      <td>1</td>\n",
              "      <td>1</td>\n",
              "      <td>1</td>\n",
              "      <td>1</td>\n",
              "      <td>1</td>\n",
              "      <td>1</td>\n",
              "      <td>1</td>\n",
              "      <td>2</td>\n",
              "      <td>0.104014</td>\n",
              "      <td>1</td>\n",
              "      <td>0.090258</td>\n",
              "      <td>0.076777</td>\n",
              "      <td>0.043882</td>\n",
              "      <td>0.083521</td>\n",
              "      <td>0.083521</td>\n",
              "      <td>0.076777</td>\n",
              "      <td>0.002479</td>\n",
              "      <td>0.003574</td>\n",
              "      <td>0.054712</td>\n",
              "    </tr>\n",
              "    <tr>\n",
              "      <th>35051</th>\n",
              "      <td>0.383458</td>\n",
              "      <td>0.00</td>\n",
              "      <td>0.509615</td>\n",
              "      <td>8794</td>\n",
              "      <td>2</td>\n",
              "      <td>0</td>\n",
              "      <td>0</td>\n",
              "      <td>0</td>\n",
              "      <td>1</td>\n",
              "      <td>0</td>\n",
              "      <td>796</td>\n",
              "      <td>3</td>\n",
              "      <td>5</td>\n",
              "      <td>4.6</td>\n",
              "      <td>3445</td>\n",
              "      <td>1515</td>\n",
              "      <td>1475</td>\n",
              "      <td>1185</td>\n",
              "      <td>0</td>\n",
              "      <td>0</td>\n",
              "      <td>0</td>\n",
              "      <td>0</td>\n",
              "      <td>0</td>\n",
              "      <td>0</td>\n",
              "      <td>0</td>\n",
              "      <td>1</td>\n",
              "      <td>0</td>\n",
              "      <td>0</td>\n",
              "      <td>0</td>\n",
              "      <td>1</td>\n",
              "      <td>0</td>\n",
              "      <td>0.104014</td>\n",
              "      <td>1</td>\n",
              "      <td>-0.060953</td>\n",
              "      <td>-0.037514</td>\n",
              "      <td>-0.053764</td>\n",
              "      <td>-0.037514</td>\n",
              "      <td>-0.037514</td>\n",
              "      <td>-0.037514</td>\n",
              "      <td>0.002479</td>\n",
              "      <td>0.003574</td>\n",
              "      <td>-0.040718</td>\n",
              "    </tr>\n",
              "    <tr>\n",
              "      <th>12127</th>\n",
              "      <td>0.869126</td>\n",
              "      <td>0.00</td>\n",
              "      <td>0.423077</td>\n",
              "      <td>4076</td>\n",
              "      <td>2</td>\n",
              "      <td>0</td>\n",
              "      <td>0</td>\n",
              "      <td>0</td>\n",
              "      <td>1</td>\n",
              "      <td>0</td>\n",
              "      <td>796</td>\n",
              "      <td>3</td>\n",
              "      <td>5</td>\n",
              "      <td>4.6</td>\n",
              "      <td>3445</td>\n",
              "      <td>1515</td>\n",
              "      <td>1475</td>\n",
              "      <td>1185</td>\n",
              "      <td>0</td>\n",
              "      <td>0</td>\n",
              "      <td>0</td>\n",
              "      <td>0</td>\n",
              "      <td>0</td>\n",
              "      <td>0</td>\n",
              "      <td>0</td>\n",
              "      <td>1</td>\n",
              "      <td>0</td>\n",
              "      <td>0</td>\n",
              "      <td>0</td>\n",
              "      <td>1</td>\n",
              "      <td>0</td>\n",
              "      <td>0.116440</td>\n",
              "      <td>1</td>\n",
              "      <td>-0.060953</td>\n",
              "      <td>-0.037514</td>\n",
              "      <td>-0.053764</td>\n",
              "      <td>-0.037514</td>\n",
              "      <td>-0.037514</td>\n",
              "      <td>-0.037514</td>\n",
              "      <td>0.002479</td>\n",
              "      <td>0.003574</td>\n",
              "      <td>-0.040718</td>\n",
              "    </tr>\n",
              "    <tr>\n",
              "      <th>17456</th>\n",
              "      <td>0.766596</td>\n",
              "      <td>0.01</td>\n",
              "      <td>0.307692</td>\n",
              "      <td>27742</td>\n",
              "      <td>2</td>\n",
              "      <td>0</td>\n",
              "      <td>1</td>\n",
              "      <td>0</td>\n",
              "      <td>1</td>\n",
              "      <td>0</td>\n",
              "      <td>1197</td>\n",
              "      <td>4</td>\n",
              "      <td>5</td>\n",
              "      <td>4.8</td>\n",
              "      <td>3845</td>\n",
              "      <td>1735</td>\n",
              "      <td>1530</td>\n",
              "      <td>1335</td>\n",
              "      <td>1</td>\n",
              "      <td>0</td>\n",
              "      <td>0</td>\n",
              "      <td>0</td>\n",
              "      <td>1</td>\n",
              "      <td>1</td>\n",
              "      <td>1</td>\n",
              "      <td>1</td>\n",
              "      <td>1</td>\n",
              "      <td>1</td>\n",
              "      <td>1</td>\n",
              "      <td>1</td>\n",
              "      <td>2</td>\n",
              "      <td>0.127955</td>\n",
              "      <td>1</td>\n",
              "      <td>0.090258</td>\n",
              "      <td>0.076777</td>\n",
              "      <td>0.043882</td>\n",
              "      <td>0.083521</td>\n",
              "      <td>0.083521</td>\n",
              "      <td>0.076777</td>\n",
              "      <td>0.002479</td>\n",
              "      <td>0.003574</td>\n",
              "      <td>0.054712</td>\n",
              "    </tr>\n",
              "    <tr>\n",
              "      <th>17734</th>\n",
              "      <td>0.031597</td>\n",
              "      <td>0.06</td>\n",
              "      <td>0.298077</td>\n",
              "      <td>5410</td>\n",
              "      <td>6</td>\n",
              "      <td>1</td>\n",
              "      <td>1</td>\n",
              "      <td>1</td>\n",
              "      <td>1</td>\n",
              "      <td>1</td>\n",
              "      <td>1493</td>\n",
              "      <td>4</td>\n",
              "      <td>6</td>\n",
              "      <td>5.2</td>\n",
              "      <td>4300</td>\n",
              "      <td>1790</td>\n",
              "      <td>1635</td>\n",
              "      <td>1720</td>\n",
              "      <td>1</td>\n",
              "      <td>1</td>\n",
              "      <td>1</td>\n",
              "      <td>1</td>\n",
              "      <td>1</td>\n",
              "      <td>1</td>\n",
              "      <td>1</td>\n",
              "      <td>1</td>\n",
              "      <td>1</td>\n",
              "      <td>0</td>\n",
              "      <td>1</td>\n",
              "      <td>1</td>\n",
              "      <td>3</td>\n",
              "      <td>-0.087772</td>\n",
              "      <td>3</td>\n",
              "      <td>-0.007887</td>\n",
              "      <td>-0.007887</td>\n",
              "      <td>0.009051</td>\n",
              "      <td>-0.007887</td>\n",
              "      <td>-0.007887</td>\n",
              "      <td>-0.007887</td>\n",
              "      <td>-0.007887</td>\n",
              "      <td>-0.006683</td>\n",
              "      <td>-0.040718</td>\n",
              "    </tr>\n",
              "  </tbody>\n",
              "</table>\n",
              "</div>\n",
              "      <button class=\"colab-df-convert\" onclick=\"convertToInteractive('df-1a6b6ef8-5f60-4eaf-905d-7657e9f6636a')\"\n",
              "              title=\"Convert this dataframe to an interactive table.\"\n",
              "              style=\"display:none;\">\n",
              "        \n",
              "  <svg xmlns=\"http://www.w3.org/2000/svg\" height=\"24px\"viewBox=\"0 0 24 24\"\n",
              "       width=\"24px\">\n",
              "    <path d=\"M0 0h24v24H0V0z\" fill=\"none\"/>\n",
              "    <path d=\"M18.56 5.44l.94 2.06.94-2.06 2.06-.94-2.06-.94-.94-2.06-.94 2.06-2.06.94zm-11 1L8.5 8.5l.94-2.06 2.06-.94-2.06-.94L8.5 2.5l-.94 2.06-2.06.94zm10 10l.94 2.06.94-2.06 2.06-.94-2.06-.94-.94-2.06-.94 2.06-2.06.94z\"/><path d=\"M17.41 7.96l-1.37-1.37c-.4-.4-.92-.59-1.43-.59-.52 0-1.04.2-1.43.59L10.3 9.45l-7.72 7.72c-.78.78-.78 2.05 0 2.83L4 21.41c.39.39.9.59 1.41.59.51 0 1.02-.2 1.41-.59l7.78-7.78 2.81-2.81c.8-.78.8-2.07 0-2.86zM5.41 20L4 18.59l7.72-7.72 1.47 1.35L5.41 20z\"/>\n",
              "  </svg>\n",
              "      </button>\n",
              "      \n",
              "  <style>\n",
              "    .colab-df-container {\n",
              "      display:flex;\n",
              "      flex-wrap:wrap;\n",
              "      gap: 12px;\n",
              "    }\n",
              "\n",
              "    .colab-df-convert {\n",
              "      background-color: #E8F0FE;\n",
              "      border: none;\n",
              "      border-radius: 50%;\n",
              "      cursor: pointer;\n",
              "      display: none;\n",
              "      fill: #1967D2;\n",
              "      height: 32px;\n",
              "      padding: 0 0 0 0;\n",
              "      width: 32px;\n",
              "    }\n",
              "\n",
              "    .colab-df-convert:hover {\n",
              "      background-color: #E2EBFA;\n",
              "      box-shadow: 0px 1px 2px rgba(60, 64, 67, 0.3), 0px 1px 3px 1px rgba(60, 64, 67, 0.15);\n",
              "      fill: #174EA6;\n",
              "    }\n",
              "\n",
              "    [theme=dark] .colab-df-convert {\n",
              "      background-color: #3B4455;\n",
              "      fill: #D2E3FC;\n",
              "    }\n",
              "\n",
              "    [theme=dark] .colab-df-convert:hover {\n",
              "      background-color: #434B5C;\n",
              "      box-shadow: 0px 1px 3px 1px rgba(0, 0, 0, 0.15);\n",
              "      filter: drop-shadow(0px 1px 2px rgba(0, 0, 0, 0.3));\n",
              "      fill: #FFFFFF;\n",
              "    }\n",
              "  </style>\n",
              "\n",
              "      <script>\n",
              "        const buttonEl =\n",
              "          document.querySelector('#df-1a6b6ef8-5f60-4eaf-905d-7657e9f6636a button.colab-df-convert');\n",
              "        buttonEl.style.display =\n",
              "          google.colab.kernel.accessAllowed ? 'block' : 'none';\n",
              "\n",
              "        async function convertToInteractive(key) {\n",
              "          const element = document.querySelector('#df-1a6b6ef8-5f60-4eaf-905d-7657e9f6636a');\n",
              "          const dataTable =\n",
              "            await google.colab.kernel.invokeFunction('convertToInteractive',\n",
              "                                                     [key], {});\n",
              "          if (!dataTable) return;\n",
              "\n",
              "          const docLinkHtml = 'Like what you see? Visit the ' +\n",
              "            '<a target=\"_blank\" href=https://colab.research.google.com/notebooks/data_table.ipynb>data table notebook</a>'\n",
              "            + ' to learn more about interactive tables.';\n",
              "          element.innerHTML = '';\n",
              "          dataTable['output_type'] = 'display_data';\n",
              "          await google.colab.output.renderOutput(dataTable, element);\n",
              "          const docLink = document.createElement('div');\n",
              "          docLink.innerHTML = docLinkHtml;\n",
              "          element.appendChild(docLink);\n",
              "        }\n",
              "      </script>\n",
              "    </div>\n",
              "  </div>\n",
              "  "
            ]
          },
          "metadata": {},
          "execution_count": 118
        },
        {
          "output_type": "stream",
          "name": "stdout",
          "text": [
            "time: 31 ms (started: 2022-11-23 16:46:07 +00:00)\n"
          ]
        }
      ]
    },
    {
      "cell_type": "code",
      "source": [
        "x_test_final.head()"
      ],
      "metadata": {
        "colab": {
          "base_uri": "https://localhost:8080/",
          "height": 288
        },
        "id": "WAuD68qRQSSj",
        "outputId": "d1a932f5-e528-4599-f645-85427852ae69"
      },
      "execution_count": 119,
      "outputs": [
        {
          "output_type": "execute_result",
          "data": {
            "text/plain": [
              "       policy_tenure  age_of_car  age_of_policyholder  population_density  \\\n",
              "24307       0.867852        0.02             0.653846                4076   \n",
              "57327       1.090563        0.17             0.451923                8794   \n",
              "24703       1.088634        0.18             0.423077                8794   \n",
              "40585       0.913375        0.01             0.605769                4076   \n",
              "17527       0.745566        0.04             0.576923                6108   \n",
              "\n",
              "       airbags  is_esc  is_adjustable_steering  is_tpms  is_parking_sensors  \\\n",
              "24307        2       0                       0        0                   1   \n",
              "57327        2       0                       1        0                   1   \n",
              "24703        2       0                       1        0                   1   \n",
              "40585        6       1                       1        1                   1   \n",
              "17527        2       0                       0        0                   1   \n",
              "\n",
              "       is_parking_camera  displacement  cylinder  gear_box  turning_radius  \\\n",
              "24307                  0           796         3         5             4.6   \n",
              "57327                  1          1498         4         5             4.9   \n",
              "24703                  0          1197         4         5             4.8   \n",
              "40585                  1          1493         4         6             5.2   \n",
              "17527                  0           796         3         5             4.6   \n",
              "\n",
              "       length  width  height  gross_weight  is_front_fog_lights  \\\n",
              "24307    3445   1515    1475          1185                    0   \n",
              "57327    3995   1695    1501          1051                    1   \n",
              "24703    3845   1735    1530          1335                    1   \n",
              "40585    4300   1790    1635          1720                    1   \n",
              "17527    3445   1515    1475          1185                    0   \n",
              "\n",
              "       is_rear_window_wiper  is_rear_window_washer  is_rear_window_defogger  \\\n",
              "24307                     0                      0                        0   \n",
              "57327                     0                      0                        1   \n",
              "24703                     0                      0                        0   \n",
              "40585                     1                      1                        1   \n",
              "17527                     0                      0                        0   \n",
              "\n",
              "       is_brake_assist  is_power_door_locks  is_central_locking  \\\n",
              "24307                0                    0                   0   \n",
              "57327                0                    1                   1   \n",
              "24703                1                    1                   1   \n",
              "40585                1                    1                   1   \n",
              "17527                0                    0                   0   \n",
              "\n",
              "       is_power_steering  is_driver_seat_height_adjustable  \\\n",
              "24307                  1                                 0   \n",
              "57327                  1                                 1   \n",
              "24703                  1                                 1   \n",
              "40585                  1                                 1   \n",
              "17527                  1                                 0   \n",
              "\n",
              "       is_day_night_rear_view_mirror  is_ecw  is_speed_alert  ncap_rating  \\\n",
              "24307                              0       0               1            0   \n",
              "57327                              1       1               1            4   \n",
              "24703                              1       1               1            2   \n",
              "40585                              0       1               1            3   \n",
              "17527                              0       0               1            0   \n",
              "\n",
              "       area_cluster  make   segment     model  fuel_type  max_torque  \\\n",
              "24307      0.116440     1 -0.060953 -0.037514  -0.053764   -0.037514   \n",
              "57327      0.104014     5 -0.010470 -0.029199   0.009051   -0.029199   \n",
              "24703      0.104014     1  0.090258  0.076777   0.043882    0.083521   \n",
              "40585      0.116440     3 -0.007887 -0.007887   0.009051   -0.007887   \n",
              "17527     -0.105572     1 -0.060953 -0.037514  -0.053764   -0.037514   \n",
              "\n",
              "       max_power  engine_type  rear_brakes_type  transmission_type  \\\n",
              "24307  -0.037514    -0.037514          0.002479           0.003574   \n",
              "57327  -0.029199    -0.029199          0.002479           0.003574   \n",
              "24703   0.083521     0.076777          0.002479           0.003574   \n",
              "40585  -0.007887    -0.007887         -0.007887          -0.006683   \n",
              "17527  -0.037514    -0.037514          0.002479           0.003574   \n",
              "\n",
              "       steering_type  \n",
              "24307      -0.040718  \n",
              "57327       0.054712  \n",
              "24703       0.054712  \n",
              "40585      -0.040718  \n",
              "17527      -0.040718  "
            ],
            "text/html": [
              "\n",
              "  <div id=\"df-d42323b7-f944-48b8-8ca9-616386ea3975\">\n",
              "    <div class=\"colab-df-container\">\n",
              "      <div>\n",
              "<style scoped>\n",
              "    .dataframe tbody tr th:only-of-type {\n",
              "        vertical-align: middle;\n",
              "    }\n",
              "\n",
              "    .dataframe tbody tr th {\n",
              "        vertical-align: top;\n",
              "    }\n",
              "\n",
              "    .dataframe thead th {\n",
              "        text-align: right;\n",
              "    }\n",
              "</style>\n",
              "<table border=\"1\" class=\"dataframe\">\n",
              "  <thead>\n",
              "    <tr style=\"text-align: right;\">\n",
              "      <th></th>\n",
              "      <th>policy_tenure</th>\n",
              "      <th>age_of_car</th>\n",
              "      <th>age_of_policyholder</th>\n",
              "      <th>population_density</th>\n",
              "      <th>airbags</th>\n",
              "      <th>is_esc</th>\n",
              "      <th>is_adjustable_steering</th>\n",
              "      <th>is_tpms</th>\n",
              "      <th>is_parking_sensors</th>\n",
              "      <th>is_parking_camera</th>\n",
              "      <th>displacement</th>\n",
              "      <th>cylinder</th>\n",
              "      <th>gear_box</th>\n",
              "      <th>turning_radius</th>\n",
              "      <th>length</th>\n",
              "      <th>width</th>\n",
              "      <th>height</th>\n",
              "      <th>gross_weight</th>\n",
              "      <th>is_front_fog_lights</th>\n",
              "      <th>is_rear_window_wiper</th>\n",
              "      <th>is_rear_window_washer</th>\n",
              "      <th>is_rear_window_defogger</th>\n",
              "      <th>is_brake_assist</th>\n",
              "      <th>is_power_door_locks</th>\n",
              "      <th>is_central_locking</th>\n",
              "      <th>is_power_steering</th>\n",
              "      <th>is_driver_seat_height_adjustable</th>\n",
              "      <th>is_day_night_rear_view_mirror</th>\n",
              "      <th>is_ecw</th>\n",
              "      <th>is_speed_alert</th>\n",
              "      <th>ncap_rating</th>\n",
              "      <th>area_cluster</th>\n",
              "      <th>make</th>\n",
              "      <th>segment</th>\n",
              "      <th>model</th>\n",
              "      <th>fuel_type</th>\n",
              "      <th>max_torque</th>\n",
              "      <th>max_power</th>\n",
              "      <th>engine_type</th>\n",
              "      <th>rear_brakes_type</th>\n",
              "      <th>transmission_type</th>\n",
              "      <th>steering_type</th>\n",
              "    </tr>\n",
              "  </thead>\n",
              "  <tbody>\n",
              "    <tr>\n",
              "      <th>24307</th>\n",
              "      <td>0.867852</td>\n",
              "      <td>0.02</td>\n",
              "      <td>0.653846</td>\n",
              "      <td>4076</td>\n",
              "      <td>2</td>\n",
              "      <td>0</td>\n",
              "      <td>0</td>\n",
              "      <td>0</td>\n",
              "      <td>1</td>\n",
              "      <td>0</td>\n",
              "      <td>796</td>\n",
              "      <td>3</td>\n",
              "      <td>5</td>\n",
              "      <td>4.6</td>\n",
              "      <td>3445</td>\n",
              "      <td>1515</td>\n",
              "      <td>1475</td>\n",
              "      <td>1185</td>\n",
              "      <td>0</td>\n",
              "      <td>0</td>\n",
              "      <td>0</td>\n",
              "      <td>0</td>\n",
              "      <td>0</td>\n",
              "      <td>0</td>\n",
              "      <td>0</td>\n",
              "      <td>1</td>\n",
              "      <td>0</td>\n",
              "      <td>0</td>\n",
              "      <td>0</td>\n",
              "      <td>1</td>\n",
              "      <td>0</td>\n",
              "      <td>0.116440</td>\n",
              "      <td>1</td>\n",
              "      <td>-0.060953</td>\n",
              "      <td>-0.037514</td>\n",
              "      <td>-0.053764</td>\n",
              "      <td>-0.037514</td>\n",
              "      <td>-0.037514</td>\n",
              "      <td>-0.037514</td>\n",
              "      <td>0.002479</td>\n",
              "      <td>0.003574</td>\n",
              "      <td>-0.040718</td>\n",
              "    </tr>\n",
              "    <tr>\n",
              "      <th>57327</th>\n",
              "      <td>1.090563</td>\n",
              "      <td>0.17</td>\n",
              "      <td>0.451923</td>\n",
              "      <td>8794</td>\n",
              "      <td>2</td>\n",
              "      <td>0</td>\n",
              "      <td>1</td>\n",
              "      <td>0</td>\n",
              "      <td>1</td>\n",
              "      <td>1</td>\n",
              "      <td>1498</td>\n",
              "      <td>4</td>\n",
              "      <td>5</td>\n",
              "      <td>4.9</td>\n",
              "      <td>3995</td>\n",
              "      <td>1695</td>\n",
              "      <td>1501</td>\n",
              "      <td>1051</td>\n",
              "      <td>1</td>\n",
              "      <td>0</td>\n",
              "      <td>0</td>\n",
              "      <td>1</td>\n",
              "      <td>0</td>\n",
              "      <td>1</td>\n",
              "      <td>1</td>\n",
              "      <td>1</td>\n",
              "      <td>1</td>\n",
              "      <td>1</td>\n",
              "      <td>1</td>\n",
              "      <td>1</td>\n",
              "      <td>4</td>\n",
              "      <td>0.104014</td>\n",
              "      <td>5</td>\n",
              "      <td>-0.010470</td>\n",
              "      <td>-0.029199</td>\n",
              "      <td>0.009051</td>\n",
              "      <td>-0.029199</td>\n",
              "      <td>-0.029199</td>\n",
              "      <td>-0.029199</td>\n",
              "      <td>0.002479</td>\n",
              "      <td>0.003574</td>\n",
              "      <td>0.054712</td>\n",
              "    </tr>\n",
              "    <tr>\n",
              "      <th>24703</th>\n",
              "      <td>1.088634</td>\n",
              "      <td>0.18</td>\n",
              "      <td>0.423077</td>\n",
              "      <td>8794</td>\n",
              "      <td>2</td>\n",
              "      <td>0</td>\n",
              "      <td>1</td>\n",
              "      <td>0</td>\n",
              "      <td>1</td>\n",
              "      <td>0</td>\n",
              "      <td>1197</td>\n",
              "      <td>4</td>\n",
              "      <td>5</td>\n",
              "      <td>4.8</td>\n",
              "      <td>3845</td>\n",
              "      <td>1735</td>\n",
              "      <td>1530</td>\n",
              "      <td>1335</td>\n",
              "      <td>1</td>\n",
              "      <td>0</td>\n",
              "      <td>0</td>\n",
              "      <td>0</td>\n",
              "      <td>1</td>\n",
              "      <td>1</td>\n",
              "      <td>1</td>\n",
              "      <td>1</td>\n",
              "      <td>1</td>\n",
              "      <td>1</td>\n",
              "      <td>1</td>\n",
              "      <td>1</td>\n",
              "      <td>2</td>\n",
              "      <td>0.104014</td>\n",
              "      <td>1</td>\n",
              "      <td>0.090258</td>\n",
              "      <td>0.076777</td>\n",
              "      <td>0.043882</td>\n",
              "      <td>0.083521</td>\n",
              "      <td>0.083521</td>\n",
              "      <td>0.076777</td>\n",
              "      <td>0.002479</td>\n",
              "      <td>0.003574</td>\n",
              "      <td>0.054712</td>\n",
              "    </tr>\n",
              "    <tr>\n",
              "      <th>40585</th>\n",
              "      <td>0.913375</td>\n",
              "      <td>0.01</td>\n",
              "      <td>0.605769</td>\n",
              "      <td>4076</td>\n",
              "      <td>6</td>\n",
              "      <td>1</td>\n",
              "      <td>1</td>\n",
              "      <td>1</td>\n",
              "      <td>1</td>\n",
              "      <td>1</td>\n",
              "      <td>1493</td>\n",
              "      <td>4</td>\n",
              "      <td>6</td>\n",
              "      <td>5.2</td>\n",
              "      <td>4300</td>\n",
              "      <td>1790</td>\n",
              "      <td>1635</td>\n",
              "      <td>1720</td>\n",
              "      <td>1</td>\n",
              "      <td>1</td>\n",
              "      <td>1</td>\n",
              "      <td>1</td>\n",
              "      <td>1</td>\n",
              "      <td>1</td>\n",
              "      <td>1</td>\n",
              "      <td>1</td>\n",
              "      <td>1</td>\n",
              "      <td>0</td>\n",
              "      <td>1</td>\n",
              "      <td>1</td>\n",
              "      <td>3</td>\n",
              "      <td>0.116440</td>\n",
              "      <td>3</td>\n",
              "      <td>-0.007887</td>\n",
              "      <td>-0.007887</td>\n",
              "      <td>0.009051</td>\n",
              "      <td>-0.007887</td>\n",
              "      <td>-0.007887</td>\n",
              "      <td>-0.007887</td>\n",
              "      <td>-0.007887</td>\n",
              "      <td>-0.006683</td>\n",
              "      <td>-0.040718</td>\n",
              "    </tr>\n",
              "    <tr>\n",
              "      <th>17527</th>\n",
              "      <td>0.745566</td>\n",
              "      <td>0.04</td>\n",
              "      <td>0.576923</td>\n",
              "      <td>6108</td>\n",
              "      <td>2</td>\n",
              "      <td>0</td>\n",
              "      <td>0</td>\n",
              "      <td>0</td>\n",
              "      <td>1</td>\n",
              "      <td>0</td>\n",
              "      <td>796</td>\n",
              "      <td>3</td>\n",
              "      <td>5</td>\n",
              "      <td>4.6</td>\n",
              "      <td>3445</td>\n",
              "      <td>1515</td>\n",
              "      <td>1475</td>\n",
              "      <td>1185</td>\n",
              "      <td>0</td>\n",
              "      <td>0</td>\n",
              "      <td>0</td>\n",
              "      <td>0</td>\n",
              "      <td>0</td>\n",
              "      <td>0</td>\n",
              "      <td>0</td>\n",
              "      <td>1</td>\n",
              "      <td>0</td>\n",
              "      <td>0</td>\n",
              "      <td>0</td>\n",
              "      <td>1</td>\n",
              "      <td>0</td>\n",
              "      <td>-0.105572</td>\n",
              "      <td>1</td>\n",
              "      <td>-0.060953</td>\n",
              "      <td>-0.037514</td>\n",
              "      <td>-0.053764</td>\n",
              "      <td>-0.037514</td>\n",
              "      <td>-0.037514</td>\n",
              "      <td>-0.037514</td>\n",
              "      <td>0.002479</td>\n",
              "      <td>0.003574</td>\n",
              "      <td>-0.040718</td>\n",
              "    </tr>\n",
              "  </tbody>\n",
              "</table>\n",
              "</div>\n",
              "      <button class=\"colab-df-convert\" onclick=\"convertToInteractive('df-d42323b7-f944-48b8-8ca9-616386ea3975')\"\n",
              "              title=\"Convert this dataframe to an interactive table.\"\n",
              "              style=\"display:none;\">\n",
              "        \n",
              "  <svg xmlns=\"http://www.w3.org/2000/svg\" height=\"24px\"viewBox=\"0 0 24 24\"\n",
              "       width=\"24px\">\n",
              "    <path d=\"M0 0h24v24H0V0z\" fill=\"none\"/>\n",
              "    <path d=\"M18.56 5.44l.94 2.06.94-2.06 2.06-.94-2.06-.94-.94-2.06-.94 2.06-2.06.94zm-11 1L8.5 8.5l.94-2.06 2.06-.94-2.06-.94L8.5 2.5l-.94 2.06-2.06.94zm10 10l.94 2.06.94-2.06 2.06-.94-2.06-.94-.94-2.06-.94 2.06-2.06.94z\"/><path d=\"M17.41 7.96l-1.37-1.37c-.4-.4-.92-.59-1.43-.59-.52 0-1.04.2-1.43.59L10.3 9.45l-7.72 7.72c-.78.78-.78 2.05 0 2.83L4 21.41c.39.39.9.59 1.41.59.51 0 1.02-.2 1.41-.59l7.78-7.78 2.81-2.81c.8-.78.8-2.07 0-2.86zM5.41 20L4 18.59l7.72-7.72 1.47 1.35L5.41 20z\"/>\n",
              "  </svg>\n",
              "      </button>\n",
              "      \n",
              "  <style>\n",
              "    .colab-df-container {\n",
              "      display:flex;\n",
              "      flex-wrap:wrap;\n",
              "      gap: 12px;\n",
              "    }\n",
              "\n",
              "    .colab-df-convert {\n",
              "      background-color: #E8F0FE;\n",
              "      border: none;\n",
              "      border-radius: 50%;\n",
              "      cursor: pointer;\n",
              "      display: none;\n",
              "      fill: #1967D2;\n",
              "      height: 32px;\n",
              "      padding: 0 0 0 0;\n",
              "      width: 32px;\n",
              "    }\n",
              "\n",
              "    .colab-df-convert:hover {\n",
              "      background-color: #E2EBFA;\n",
              "      box-shadow: 0px 1px 2px rgba(60, 64, 67, 0.3), 0px 1px 3px 1px rgba(60, 64, 67, 0.15);\n",
              "      fill: #174EA6;\n",
              "    }\n",
              "\n",
              "    [theme=dark] .colab-df-convert {\n",
              "      background-color: #3B4455;\n",
              "      fill: #D2E3FC;\n",
              "    }\n",
              "\n",
              "    [theme=dark] .colab-df-convert:hover {\n",
              "      background-color: #434B5C;\n",
              "      box-shadow: 0px 1px 3px 1px rgba(0, 0, 0, 0.15);\n",
              "      filter: drop-shadow(0px 1px 2px rgba(0, 0, 0, 0.3));\n",
              "      fill: #FFFFFF;\n",
              "    }\n",
              "  </style>\n",
              "\n",
              "      <script>\n",
              "        const buttonEl =\n",
              "          document.querySelector('#df-d42323b7-f944-48b8-8ca9-616386ea3975 button.colab-df-convert');\n",
              "        buttonEl.style.display =\n",
              "          google.colab.kernel.accessAllowed ? 'block' : 'none';\n",
              "\n",
              "        async function convertToInteractive(key) {\n",
              "          const element = document.querySelector('#df-d42323b7-f944-48b8-8ca9-616386ea3975');\n",
              "          const dataTable =\n",
              "            await google.colab.kernel.invokeFunction('convertToInteractive',\n",
              "                                                     [key], {});\n",
              "          if (!dataTable) return;\n",
              "\n",
              "          const docLinkHtml = 'Like what you see? Visit the ' +\n",
              "            '<a target=\"_blank\" href=https://colab.research.google.com/notebooks/data_table.ipynb>data table notebook</a>'\n",
              "            + ' to learn more about interactive tables.';\n",
              "          element.innerHTML = '';\n",
              "          dataTable['output_type'] = 'display_data';\n",
              "          await google.colab.output.renderOutput(dataTable, element);\n",
              "          const docLink = document.createElement('div');\n",
              "          docLink.innerHTML = docLinkHtml;\n",
              "          element.appendChild(docLink);\n",
              "        }\n",
              "      </script>\n",
              "    </div>\n",
              "  </div>\n",
              "  "
            ]
          },
          "metadata": {},
          "execution_count": 119
        },
        {
          "output_type": "stream",
          "name": "stdout",
          "text": [
            "time: 32.1 ms (started: 2022-11-23 16:46:18 +00:00)\n"
          ]
        }
      ]
    },
    {
      "cell_type": "code",
      "source": [
        "oot_final.head()\n"
      ],
      "metadata": {
        "colab": {
          "base_uri": "https://localhost:8080/",
          "height": 288
        },
        "id": "TSrpW8b2QWU4",
        "outputId": "fdf5c7c4-b598-412b-d70f-6954360dac67"
      },
      "execution_count": 120,
      "outputs": [
        {
          "output_type": "execute_result",
          "data": {
            "text/plain": [
              "  policy_id  policy_tenure  age_of_car  age_of_policyholder  \\\n",
              "0   ID58593       0.341732        0.00             0.586538   \n",
              "1   ID58594       0.307241        0.13             0.442308   \n",
              "2   ID58595       0.327924        0.12             0.451923   \n",
              "3   ID58596       0.782654        0.01             0.461538   \n",
              "4   ID58597       1.233404        0.02             0.634615   \n",
              "\n",
              "   population_density  airbags  is_esc  is_adjustable_steering  is_tpms  \\\n",
              "0                4076        2       0                       0        0   \n",
              "1                8794        2       0                       1        0   \n",
              "2                8794        2       0                       0        0   \n",
              "3               34738        2       0                       0        0   \n",
              "4               34738        2       0                       0        0   \n",
              "\n",
              "   is_parking_sensors  is_parking_camera  displacement  cylinder  gear_box  \\\n",
              "0                   1                  0           796         3         5   \n",
              "1                   1                  0          1197         4         5   \n",
              "2                   0                  1           999         3         5   \n",
              "3                   1                  0           796         3         5   \n",
              "4                   1                  0           796         3         5   \n",
              "\n",
              "   turning_radius  length  width  height  gross_weight  is_front_fog_lights  \\\n",
              "0             4.6    3445   1515    1475          1185                    0   \n",
              "1             4.8    3845   1735    1530          1335                    1   \n",
              "2             5.0    3731   1579    1490          1155                    0   \n",
              "3             4.6    3445   1515    1475          1185                    0   \n",
              "4             4.6    3445   1515    1475          1185                    0   \n",
              "\n",
              "   is_rear_window_wiper  is_rear_window_washer  is_rear_window_defogger  \\\n",
              "0                     0                      0                        0   \n",
              "1                     0                      0                        0   \n",
              "2                     0                      0                        0   \n",
              "3                     0                      0                        0   \n",
              "4                     0                      0                        0   \n",
              "\n",
              "   is_brake_assist  is_power_door_locks  is_central_locking  \\\n",
              "0                0                    0                   0   \n",
              "1                1                    1                   1   \n",
              "2                0                    1                   1   \n",
              "3                0                    0                   0   \n",
              "4                0                    0                   0   \n",
              "\n",
              "   is_power_steering  is_driver_seat_height_adjustable  \\\n",
              "0                  1                                 0   \n",
              "1                  1                                 1   \n",
              "2                  1                                 0   \n",
              "3                  1                                 0   \n",
              "4                  1                                 0   \n",
              "\n",
              "   is_day_night_rear_view_mirror  is_ecw  is_speed_alert  ncap_rating  \\\n",
              "0                              0       0               1            0   \n",
              "1                              1       1               1            2   \n",
              "2                              1       1               1            2   \n",
              "3                              0       0               1            0   \n",
              "4                              0       0               1            0   \n",
              "\n",
              "   area_cluster  make   segment     model  fuel_type  max_torque  max_power  \\\n",
              "0      0.116440     1 -0.060953 -0.037514  -0.053764   -0.037514  -0.037514   \n",
              "1      0.104014     1  0.090258  0.076777   0.043882    0.083521   0.083521   \n",
              "2      0.104014     2 -0.060953 -0.212061   0.043882   -0.212061  -0.212061   \n",
              "3     -0.095075     1 -0.060953 -0.037514  -0.053764   -0.037514  -0.037514   \n",
              "4     -0.095075     1 -0.060953 -0.037514  -0.053764   -0.037514  -0.037514   \n",
              "\n",
              "   engine_type  rear_brakes_type  transmission_type  steering_type  \n",
              "0    -0.037514          0.002479           0.003574      -0.040718  \n",
              "1     0.076777          0.002479           0.003574       0.054712  \n",
              "2    -0.212061          0.002479          -0.006683       0.054712  \n",
              "3    -0.037514          0.002479           0.003574      -0.040718  \n",
              "4    -0.037514          0.002479           0.003574      -0.040718  "
            ],
            "text/html": [
              "\n",
              "  <div id=\"df-7cbeb949-7ec1-4356-808b-cbbd83d78ff8\">\n",
              "    <div class=\"colab-df-container\">\n",
              "      <div>\n",
              "<style scoped>\n",
              "    .dataframe tbody tr th:only-of-type {\n",
              "        vertical-align: middle;\n",
              "    }\n",
              "\n",
              "    .dataframe tbody tr th {\n",
              "        vertical-align: top;\n",
              "    }\n",
              "\n",
              "    .dataframe thead th {\n",
              "        text-align: right;\n",
              "    }\n",
              "</style>\n",
              "<table border=\"1\" class=\"dataframe\">\n",
              "  <thead>\n",
              "    <tr style=\"text-align: right;\">\n",
              "      <th></th>\n",
              "      <th>policy_id</th>\n",
              "      <th>policy_tenure</th>\n",
              "      <th>age_of_car</th>\n",
              "      <th>age_of_policyholder</th>\n",
              "      <th>population_density</th>\n",
              "      <th>airbags</th>\n",
              "      <th>is_esc</th>\n",
              "      <th>is_adjustable_steering</th>\n",
              "      <th>is_tpms</th>\n",
              "      <th>is_parking_sensors</th>\n",
              "      <th>is_parking_camera</th>\n",
              "      <th>displacement</th>\n",
              "      <th>cylinder</th>\n",
              "      <th>gear_box</th>\n",
              "      <th>turning_radius</th>\n",
              "      <th>length</th>\n",
              "      <th>width</th>\n",
              "      <th>height</th>\n",
              "      <th>gross_weight</th>\n",
              "      <th>is_front_fog_lights</th>\n",
              "      <th>is_rear_window_wiper</th>\n",
              "      <th>is_rear_window_washer</th>\n",
              "      <th>is_rear_window_defogger</th>\n",
              "      <th>is_brake_assist</th>\n",
              "      <th>is_power_door_locks</th>\n",
              "      <th>is_central_locking</th>\n",
              "      <th>is_power_steering</th>\n",
              "      <th>is_driver_seat_height_adjustable</th>\n",
              "      <th>is_day_night_rear_view_mirror</th>\n",
              "      <th>is_ecw</th>\n",
              "      <th>is_speed_alert</th>\n",
              "      <th>ncap_rating</th>\n",
              "      <th>area_cluster</th>\n",
              "      <th>make</th>\n",
              "      <th>segment</th>\n",
              "      <th>model</th>\n",
              "      <th>fuel_type</th>\n",
              "      <th>max_torque</th>\n",
              "      <th>max_power</th>\n",
              "      <th>engine_type</th>\n",
              "      <th>rear_brakes_type</th>\n",
              "      <th>transmission_type</th>\n",
              "      <th>steering_type</th>\n",
              "    </tr>\n",
              "  </thead>\n",
              "  <tbody>\n",
              "    <tr>\n",
              "      <th>0</th>\n",
              "      <td>ID58593</td>\n",
              "      <td>0.341732</td>\n",
              "      <td>0.00</td>\n",
              "      <td>0.586538</td>\n",
              "      <td>4076</td>\n",
              "      <td>2</td>\n",
              "      <td>0</td>\n",
              "      <td>0</td>\n",
              "      <td>0</td>\n",
              "      <td>1</td>\n",
              "      <td>0</td>\n",
              "      <td>796</td>\n",
              "      <td>3</td>\n",
              "      <td>5</td>\n",
              "      <td>4.6</td>\n",
              "      <td>3445</td>\n",
              "      <td>1515</td>\n",
              "      <td>1475</td>\n",
              "      <td>1185</td>\n",
              "      <td>0</td>\n",
              "      <td>0</td>\n",
              "      <td>0</td>\n",
              "      <td>0</td>\n",
              "      <td>0</td>\n",
              "      <td>0</td>\n",
              "      <td>0</td>\n",
              "      <td>1</td>\n",
              "      <td>0</td>\n",
              "      <td>0</td>\n",
              "      <td>0</td>\n",
              "      <td>1</td>\n",
              "      <td>0</td>\n",
              "      <td>0.116440</td>\n",
              "      <td>1</td>\n",
              "      <td>-0.060953</td>\n",
              "      <td>-0.037514</td>\n",
              "      <td>-0.053764</td>\n",
              "      <td>-0.037514</td>\n",
              "      <td>-0.037514</td>\n",
              "      <td>-0.037514</td>\n",
              "      <td>0.002479</td>\n",
              "      <td>0.003574</td>\n",
              "      <td>-0.040718</td>\n",
              "    </tr>\n",
              "    <tr>\n",
              "      <th>1</th>\n",
              "      <td>ID58594</td>\n",
              "      <td>0.307241</td>\n",
              "      <td>0.13</td>\n",
              "      <td>0.442308</td>\n",
              "      <td>8794</td>\n",
              "      <td>2</td>\n",
              "      <td>0</td>\n",
              "      <td>1</td>\n",
              "      <td>0</td>\n",
              "      <td>1</td>\n",
              "      <td>0</td>\n",
              "      <td>1197</td>\n",
              "      <td>4</td>\n",
              "      <td>5</td>\n",
              "      <td>4.8</td>\n",
              "      <td>3845</td>\n",
              "      <td>1735</td>\n",
              "      <td>1530</td>\n",
              "      <td>1335</td>\n",
              "      <td>1</td>\n",
              "      <td>0</td>\n",
              "      <td>0</td>\n",
              "      <td>0</td>\n",
              "      <td>1</td>\n",
              "      <td>1</td>\n",
              "      <td>1</td>\n",
              "      <td>1</td>\n",
              "      <td>1</td>\n",
              "      <td>1</td>\n",
              "      <td>1</td>\n",
              "      <td>1</td>\n",
              "      <td>2</td>\n",
              "      <td>0.104014</td>\n",
              "      <td>1</td>\n",
              "      <td>0.090258</td>\n",
              "      <td>0.076777</td>\n",
              "      <td>0.043882</td>\n",
              "      <td>0.083521</td>\n",
              "      <td>0.083521</td>\n",
              "      <td>0.076777</td>\n",
              "      <td>0.002479</td>\n",
              "      <td>0.003574</td>\n",
              "      <td>0.054712</td>\n",
              "    </tr>\n",
              "    <tr>\n",
              "      <th>2</th>\n",
              "      <td>ID58595</td>\n",
              "      <td>0.327924</td>\n",
              "      <td>0.12</td>\n",
              "      <td>0.451923</td>\n",
              "      <td>8794</td>\n",
              "      <td>2</td>\n",
              "      <td>0</td>\n",
              "      <td>0</td>\n",
              "      <td>0</td>\n",
              "      <td>0</td>\n",
              "      <td>1</td>\n",
              "      <td>999</td>\n",
              "      <td>3</td>\n",
              "      <td>5</td>\n",
              "      <td>5.0</td>\n",
              "      <td>3731</td>\n",
              "      <td>1579</td>\n",
              "      <td>1490</td>\n",
              "      <td>1155</td>\n",
              "      <td>0</td>\n",
              "      <td>0</td>\n",
              "      <td>0</td>\n",
              "      <td>0</td>\n",
              "      <td>0</td>\n",
              "      <td>1</td>\n",
              "      <td>1</td>\n",
              "      <td>1</td>\n",
              "      <td>0</td>\n",
              "      <td>1</td>\n",
              "      <td>1</td>\n",
              "      <td>1</td>\n",
              "      <td>2</td>\n",
              "      <td>0.104014</td>\n",
              "      <td>2</td>\n",
              "      <td>-0.060953</td>\n",
              "      <td>-0.212061</td>\n",
              "      <td>0.043882</td>\n",
              "      <td>-0.212061</td>\n",
              "      <td>-0.212061</td>\n",
              "      <td>-0.212061</td>\n",
              "      <td>0.002479</td>\n",
              "      <td>-0.006683</td>\n",
              "      <td>0.054712</td>\n",
              "    </tr>\n",
              "    <tr>\n",
              "      <th>3</th>\n",
              "      <td>ID58596</td>\n",
              "      <td>0.782654</td>\n",
              "      <td>0.01</td>\n",
              "      <td>0.461538</td>\n",
              "      <td>34738</td>\n",
              "      <td>2</td>\n",
              "      <td>0</td>\n",
              "      <td>0</td>\n",
              "      <td>0</td>\n",
              "      <td>1</td>\n",
              "      <td>0</td>\n",
              "      <td>796</td>\n",
              "      <td>3</td>\n",
              "      <td>5</td>\n",
              "      <td>4.6</td>\n",
              "      <td>3445</td>\n",
              "      <td>1515</td>\n",
              "      <td>1475</td>\n",
              "      <td>1185</td>\n",
              "      <td>0</td>\n",
              "      <td>0</td>\n",
              "      <td>0</td>\n",
              "      <td>0</td>\n",
              "      <td>0</td>\n",
              "      <td>0</td>\n",
              "      <td>0</td>\n",
              "      <td>1</td>\n",
              "      <td>0</td>\n",
              "      <td>0</td>\n",
              "      <td>0</td>\n",
              "      <td>1</td>\n",
              "      <td>0</td>\n",
              "      <td>-0.095075</td>\n",
              "      <td>1</td>\n",
              "      <td>-0.060953</td>\n",
              "      <td>-0.037514</td>\n",
              "      <td>-0.053764</td>\n",
              "      <td>-0.037514</td>\n",
              "      <td>-0.037514</td>\n",
              "      <td>-0.037514</td>\n",
              "      <td>0.002479</td>\n",
              "      <td>0.003574</td>\n",
              "      <td>-0.040718</td>\n",
              "    </tr>\n",
              "    <tr>\n",
              "      <th>4</th>\n",
              "      <td>ID58597</td>\n",
              "      <td>1.233404</td>\n",
              "      <td>0.02</td>\n",
              "      <td>0.634615</td>\n",
              "      <td>34738</td>\n",
              "      <td>2</td>\n",
              "      <td>0</td>\n",
              "      <td>0</td>\n",
              "      <td>0</td>\n",
              "      <td>1</td>\n",
              "      <td>0</td>\n",
              "      <td>796</td>\n",
              "      <td>3</td>\n",
              "      <td>5</td>\n",
              "      <td>4.6</td>\n",
              "      <td>3445</td>\n",
              "      <td>1515</td>\n",
              "      <td>1475</td>\n",
              "      <td>1185</td>\n",
              "      <td>0</td>\n",
              "      <td>0</td>\n",
              "      <td>0</td>\n",
              "      <td>0</td>\n",
              "      <td>0</td>\n",
              "      <td>0</td>\n",
              "      <td>0</td>\n",
              "      <td>1</td>\n",
              "      <td>0</td>\n",
              "      <td>0</td>\n",
              "      <td>0</td>\n",
              "      <td>1</td>\n",
              "      <td>0</td>\n",
              "      <td>-0.095075</td>\n",
              "      <td>1</td>\n",
              "      <td>-0.060953</td>\n",
              "      <td>-0.037514</td>\n",
              "      <td>-0.053764</td>\n",
              "      <td>-0.037514</td>\n",
              "      <td>-0.037514</td>\n",
              "      <td>-0.037514</td>\n",
              "      <td>0.002479</td>\n",
              "      <td>0.003574</td>\n",
              "      <td>-0.040718</td>\n",
              "    </tr>\n",
              "  </tbody>\n",
              "</table>\n",
              "</div>\n",
              "      <button class=\"colab-df-convert\" onclick=\"convertToInteractive('df-7cbeb949-7ec1-4356-808b-cbbd83d78ff8')\"\n",
              "              title=\"Convert this dataframe to an interactive table.\"\n",
              "              style=\"display:none;\">\n",
              "        \n",
              "  <svg xmlns=\"http://www.w3.org/2000/svg\" height=\"24px\"viewBox=\"0 0 24 24\"\n",
              "       width=\"24px\">\n",
              "    <path d=\"M0 0h24v24H0V0z\" fill=\"none\"/>\n",
              "    <path d=\"M18.56 5.44l.94 2.06.94-2.06 2.06-.94-2.06-.94-.94-2.06-.94 2.06-2.06.94zm-11 1L8.5 8.5l.94-2.06 2.06-.94-2.06-.94L8.5 2.5l-.94 2.06-2.06.94zm10 10l.94 2.06.94-2.06 2.06-.94-2.06-.94-.94-2.06-.94 2.06-2.06.94z\"/><path d=\"M17.41 7.96l-1.37-1.37c-.4-.4-.92-.59-1.43-.59-.52 0-1.04.2-1.43.59L10.3 9.45l-7.72 7.72c-.78.78-.78 2.05 0 2.83L4 21.41c.39.39.9.59 1.41.59.51 0 1.02-.2 1.41-.59l7.78-7.78 2.81-2.81c.8-.78.8-2.07 0-2.86zM5.41 20L4 18.59l7.72-7.72 1.47 1.35L5.41 20z\"/>\n",
              "  </svg>\n",
              "      </button>\n",
              "      \n",
              "  <style>\n",
              "    .colab-df-container {\n",
              "      display:flex;\n",
              "      flex-wrap:wrap;\n",
              "      gap: 12px;\n",
              "    }\n",
              "\n",
              "    .colab-df-convert {\n",
              "      background-color: #E8F0FE;\n",
              "      border: none;\n",
              "      border-radius: 50%;\n",
              "      cursor: pointer;\n",
              "      display: none;\n",
              "      fill: #1967D2;\n",
              "      height: 32px;\n",
              "      padding: 0 0 0 0;\n",
              "      width: 32px;\n",
              "    }\n",
              "\n",
              "    .colab-df-convert:hover {\n",
              "      background-color: #E2EBFA;\n",
              "      box-shadow: 0px 1px 2px rgba(60, 64, 67, 0.3), 0px 1px 3px 1px rgba(60, 64, 67, 0.15);\n",
              "      fill: #174EA6;\n",
              "    }\n",
              "\n",
              "    [theme=dark] .colab-df-convert {\n",
              "      background-color: #3B4455;\n",
              "      fill: #D2E3FC;\n",
              "    }\n",
              "\n",
              "    [theme=dark] .colab-df-convert:hover {\n",
              "      background-color: #434B5C;\n",
              "      box-shadow: 0px 1px 3px 1px rgba(0, 0, 0, 0.15);\n",
              "      filter: drop-shadow(0px 1px 2px rgba(0, 0, 0, 0.3));\n",
              "      fill: #FFFFFF;\n",
              "    }\n",
              "  </style>\n",
              "\n",
              "      <script>\n",
              "        const buttonEl =\n",
              "          document.querySelector('#df-7cbeb949-7ec1-4356-808b-cbbd83d78ff8 button.colab-df-convert');\n",
              "        buttonEl.style.display =\n",
              "          google.colab.kernel.accessAllowed ? 'block' : 'none';\n",
              "\n",
              "        async function convertToInteractive(key) {\n",
              "          const element = document.querySelector('#df-7cbeb949-7ec1-4356-808b-cbbd83d78ff8');\n",
              "          const dataTable =\n",
              "            await google.colab.kernel.invokeFunction('convertToInteractive',\n",
              "                                                     [key], {});\n",
              "          if (!dataTable) return;\n",
              "\n",
              "          const docLinkHtml = 'Like what you see? Visit the ' +\n",
              "            '<a target=\"_blank\" href=https://colab.research.google.com/notebooks/data_table.ipynb>data table notebook</a>'\n",
              "            + ' to learn more about interactive tables.';\n",
              "          element.innerHTML = '';\n",
              "          dataTable['output_type'] = 'display_data';\n",
              "          await google.colab.output.renderOutput(dataTable, element);\n",
              "          const docLink = document.createElement('div');\n",
              "          docLink.innerHTML = docLinkHtml;\n",
              "          element.appendChild(docLink);\n",
              "        }\n",
              "      </script>\n",
              "    </div>\n",
              "  </div>\n",
              "  "
            ]
          },
          "metadata": {},
          "execution_count": 120
        },
        {
          "output_type": "stream",
          "name": "stdout",
          "text": [
            "time: 29 ms (started: 2022-11-23 16:46:23 +00:00)\n"
          ]
        }
      ]
    },
    {
      "cell_type": "markdown",
      "source": [
        "## Hyperparameter tuning"
      ],
      "metadata": {
        "id": "XInvCnDobjnZ"
      }
    },
    {
      "cell_type": "code",
      "source": [
        "# parameters that will be used for Random Seacrh CV\n",
        "params  = {'num_leaves': [8, 12, 16, 20, 25],  \n",
        "           'subsample': [0.5, 0.7, 0.9], \n",
        "           'colsample_bytree': [0.4, 0.5, 0.6, 0.7, 0.8],\n",
        "           'reg_alpha': [0, 1e-1, 1, 5, 7, 10, 50],\n",
        "           'reg_lambda': [0, 1e-1, 1, 5, 10, 50],\n",
        "           'learning_rate': [0.015, 0.02, 0.03, 0.05, 0.07, 0.1, 0.2, 0.3],\n",
        "           'n_estimators': [100, 120, 140, 150]}"
      ],
      "metadata": {
        "colab": {
          "base_uri": "https://localhost:8080/"
        },
        "id": "GtyCCVXGQeiJ",
        "outputId": "edbf815e-ce06-4689-876a-17ccdf8ff85b"
      },
      "execution_count": 121,
      "outputs": [
        {
          "output_type": "stream",
          "name": "stdout",
          "text": [
            "time: 1.95 ms (started: 2022-11-23 16:46:28 +00:00)\n"
          ]
        }
      ]
    },
    {
      "cell_type": "code",
      "source": [
        "lgbm = LGBMClassifier(objective = 'binary', is_unbalance = True, random_state = 1)\n"
      ],
      "metadata": {
        "colab": {
          "base_uri": "https://localhost:8080/"
        },
        "id": "8a9JE2_HQmqc",
        "outputId": "e90c6819-0427-4ce4-fc15-ab0a085ecc1d"
      },
      "execution_count": 122,
      "outputs": [
        {
          "output_type": "stream",
          "name": "stdout",
          "text": [
            "time: 1.04 ms (started: 2022-11-23 16:46:32 +00:00)\n"
          ]
        }
      ]
    },
    {
      "cell_type": "code",
      "source": [
        "# performing Random Search on the above mentioned hyperparameters with 'f1' score as a metric\n",
        "model_lgbm = RandomizedSearchCV(estimator = lgbm, \n",
        "                            param_distributions = params, \n",
        "                            n_iter = 30,\n",
        "                            scoring ='f1', \n",
        "                            cv = 3, \n",
        "                            random_state = 1, \n",
        "                            verbose = 1)\n",
        "\n",
        "model_lgbm.fit(x_train_final, y_train)"
      ],
      "metadata": {
        "colab": {
          "base_uri": "https://localhost:8080/"
        },
        "id": "5OSoiMJ2QrB4",
        "outputId": "4ba467ea-3674-481b-cacd-ff2106a51a36"
      },
      "execution_count": 123,
      "outputs": [
        {
          "output_type": "stream",
          "name": "stdout",
          "text": [
            "Fitting 3 folds for each of 30 candidates, totalling 90 fits\n"
          ]
        },
        {
          "output_type": "execute_result",
          "data": {
            "text/plain": [
              "RandomizedSearchCV(cv=3,\n",
              "                   estimator=LGBMClassifier(is_unbalance=True,\n",
              "                                            objective='binary',\n",
              "                                            random_state=1),\n",
              "                   n_iter=30,\n",
              "                   param_distributions={'colsample_bytree': [0.4, 0.5, 0.6, 0.7,\n",
              "                                                             0.8],\n",
              "                                        'learning_rate': [0.015, 0.02, 0.03,\n",
              "                                                          0.05, 0.07, 0.1, 0.2,\n",
              "                                                          0.3],\n",
              "                                        'n_estimators': [100, 120, 140, 150],\n",
              "                                        'num_leaves': [8, 12, 16, 20, 25],\n",
              "                                        'reg_alpha': [0, 0.1, 1, 5, 7, 10, 50],\n",
              "                                        'reg_lambda': [0, 0.1, 1, 5, 10, 50],\n",
              "                                        'subsample': [0.5, 0.7, 0.9]},\n",
              "                   random_state=1, scoring='f1', verbose=1)"
            ]
          },
          "metadata": {},
          "execution_count": 123
        },
        {
          "output_type": "stream",
          "name": "stdout",
          "text": [
            "time: 1min 14s (started: 2022-11-23 16:46:32 +00:00)\n"
          ]
        }
      ]
    },
    {
      "cell_type": "code",
      "source": [
        "# best score using our LGBM Model\n",
        "model_lgbm.best_score_"
      ],
      "metadata": {
        "colab": {
          "base_uri": "https://localhost:8080/"
        },
        "id": "g5ZsPcILQ7_y",
        "outputId": "c5997797-6438-47b4-d94a-cbdb59cfbfa1"
      },
      "execution_count": 124,
      "outputs": [
        {
          "output_type": "execute_result",
          "data": {
            "text/plain": [
              "0.1696347022813929"
            ]
          },
          "metadata": {},
          "execution_count": 124
        },
        {
          "output_type": "stream",
          "name": "stdout",
          "text": [
            "time: 4.18 ms (started: 2022-11-23 16:48:12 +00:00)\n"
          ]
        }
      ]
    },
    {
      "cell_type": "code",
      "source": [
        "# best Parameteres for our LGBM Model\n",
        "model_lgbm.best_params_"
      ],
      "metadata": {
        "colab": {
          "base_uri": "https://localhost:8080/"
        },
        "id": "x27l0LmuQ9eV",
        "outputId": "d773d0ee-9ee5-4c36-dc83-6daf1df9773e"
      },
      "execution_count": 125,
      "outputs": [
        {
          "output_type": "execute_result",
          "data": {
            "text/plain": [
              "{'subsample': 0.9,\n",
              " 'reg_lambda': 0,\n",
              " 'reg_alpha': 0.1,\n",
              " 'num_leaves': 8,\n",
              " 'n_estimators': 140,\n",
              " 'learning_rate': 0.015,\n",
              " 'colsample_bytree': 0.5}"
            ]
          },
          "metadata": {},
          "execution_count": 125
        },
        {
          "output_type": "stream",
          "name": "stdout",
          "text": [
            "time: 3.81 ms (started: 2022-11-23 16:48:15 +00:00)\n"
          ]
        }
      ]
    },
    {
      "cell_type": "code",
      "source": [
        "# defining LGBM Model based on Best parameters\n",
        "lgbm_best = LGBMClassifier(objective = 'binary',\n",
        "                           colsample_bytree = 0.5,\n",
        "                           subsample = 0.9,\n",
        "                           is_unbalance = True,\n",
        "                           learning_rate = 0.015,\n",
        "                           num_leaves = 8,\n",
        "                           max_depth = 5,\n",
        "                           reg_lambda = 0,\n",
        "                           reg_alpha = 0.1,\n",
        "                           n_estimators = 140,\n",
        "                           random_state = 1)"
      ],
      "metadata": {
        "colab": {
          "base_uri": "https://localhost:8080/"
        },
        "id": "eUbsxBXfQ_tl",
        "outputId": "f145c465-9996-401e-d3fe-bf951635a14c"
      },
      "execution_count": 126,
      "outputs": [
        {
          "output_type": "stream",
          "name": "stdout",
          "text": [
            "time: 1.51 ms (started: 2022-11-23 16:48:38 +00:00)\n"
          ]
        }
      ]
    },
    {
      "cell_type": "code",
      "source": [
        "# fitting on Train data\n",
        "y_pred_train_lgbm = lgbm_best.fit(x_train_final, y_train)\n"
      ],
      "metadata": {
        "colab": {
          "base_uri": "https://localhost:8080/"
        },
        "id": "Nt3nVQmPRGtM",
        "outputId": "d70f081d-1256-4486-9735-c3fb0392768b"
      },
      "execution_count": 127,
      "outputs": [
        {
          "output_type": "stream",
          "name": "stdout",
          "text": [
            "time: 1.16 s (started: 2022-11-23 16:48:41 +00:00)\n"
          ]
        }
      ]
    },
    {
      "cell_type": "code",
      "source": [
        "# predicting on the Test data\n",
        "y_pred_test_lgbm = lgbm_best.predict(x_test_final)"
      ],
      "metadata": {
        "colab": {
          "base_uri": "https://localhost:8080/"
        },
        "id": "BbXRLCV-RHHg",
        "outputId": "eb8e3da9-e3fb-439b-8455-432a5e9532ec"
      },
      "execution_count": 128,
      "outputs": [
        {
          "output_type": "stream",
          "name": "stdout",
          "text": [
            "time: 37.5 ms (started: 2022-11-23 16:48:48 +00:00)\n"
          ]
        }
      ]
    },
    {
      "cell_type": "code",
      "source": [
        "''' function to evaluate our model using different metrics '''\n",
        "\n",
        "# values to be passed :\n",
        "# model_name = Our Model name, model = classifier used used to predict, y_train_pred, y_test_pred, x_train, x_test\n",
        "def evaluate_model(model_name, model, y_train_pred, y_test_pred, x_train, x_test):\n",
        "\n",
        "    print('Printing various Evaluation metrics for our '+str(model_name)+' model...........')\n",
        "    print('\\n')\n",
        "\n",
        "    #***********************************************************************************************************#\n",
        "\n",
        "    # Printing Train & Test Accuracy scores\n",
        "    print(\"Train Accuracy :\", accuracy_score(y_train, model.predict(x_train)))\n",
        "    print(\"Test Accuracy :\", accuracy_score(y_test, model.predict(x_test)))\n",
        "\n",
        "    print('\\n')\n",
        "    print(\"=\"*60)\n",
        "    print('\\n')\n",
        "   \n",
        "    #***********************************************************************************************************#\n",
        "\n",
        "    # Printing Confusion Matrix for Train & Test data\n",
        "    print(\"Train Confusion Matrix:\")\n",
        "    print(confusion_matrix(y_train, model.predict(x_train)))\n",
        "    print(\"Test Confusion Matrix:\")\n",
        "    print(confusion_matrix(y_test, model.predict(x_test)))\n",
        "\n",
        "    print('\\n')\n",
        "    print(\"=\"*60)\n",
        "    print('\\n')\n",
        "\n",
        "    #************************************************************************************************************#\n",
        "    # Printing classification reports\n",
        "\n",
        "    # For Train Data\n",
        "    print(\"Classification report for our Model's Training data:\")\n",
        "    print(\"-\"*52)\n",
        "    print(classification_report(y_train, model.predict(x_train)))\n",
        "\n",
        "    print('\\n')\n",
        "    print(\"=\"*60)\n",
        "    print('\\n')\n",
        "    \n",
        "    # For Train Data\n",
        "    print(\"Classification report for our Model's Test data:\")\n",
        "    print(\"-\"*52)\n",
        "    print(classification_report(y_test, model.predict(x_test)))\n",
        "  \n",
        "    print('\\n')\n",
        "    print(\"=\"*60)\n",
        "    print('\\n')\n",
        "\n",
        "    #**************************************************************************************************************#\n",
        "    \n",
        "    # Calculating AUC ROC scores\n",
        "    auc_train_data = roc_auc_score(y_train, model.predict(x_train))\n",
        "    auc_test_data = roc_auc_score(y_test, model.predict(x_test))\n",
        "    print(\"AUC scores for \\nTrain data is :\", auc_train_data,\" & \\nTest data is :\", auc_test_data)\n",
        "  \n",
        "    print('\\n')\n",
        "    print(\"=\"*60)\n",
        "    print('\\n')\n",
        "\n",
        "    # Plotting AUC ROC scores for Train & Test data\n",
        "    # ROC Curve using predict_proba method \n",
        "    print(\"Plotting AUC ROC curves for Train and Test Data\")\n",
        "    tr_fpr, tr_tpr, tr_thresh = roc_curve(y_train, model.predict(x_train))\n",
        "    te_fpr, te_tpr, te_thresh = roc_curve(y_test, model.predict(x_test))\n",
        "\n",
        "    plt.style.use('seaborn')\n",
        "\n",
        "    # plot roc curves\n",
        "    plt.plot(tr_fpr, tr_tpr, linestyle='--', color='orange', label='Train AUC ='+str(auc(tr_fpr, tr_tpr).round(3)))\n",
        "    plt.plot(te_fpr, te_tpr, linestyle='--', color='green', label='Test AUC ='+str(auc(te_fpr, te_tpr).round(3)))\n",
        "\n",
        "    # title\n",
        "    plt.title('ROC curve using '+str(model_name)+' model')\n",
        "    # x label\n",
        "    plt.xlabel('False Positive Rate')\n",
        "    # y label\n",
        "    plt.ylabel('True Positive rate')\n",
        "\n",
        "    plt.legend(loc='best')\n",
        "\n",
        "    plt.show();\n",
        "    print('\\n')\n",
        "    \n",
        "    #******************************************************************************************************************#\n",
        "\n",
        "    # https://www.quantinsti.com/blog/creating-heatmap-using-python-seaborn\n",
        "\n",
        "    # Plotting Train & Test Confusion matrices\n",
        "    print(\"Plotting Train and Test Confusion matrices\")\n",
        "    sns.set()\n",
        "\n",
        "    con_m_train = confusion_matrix(y_train, model.predict(x_train))\n",
        "    con_m_test = confusion_matrix(y_test, model.predict(x_test))\n",
        "\n",
        "    key = (np.asarray([['TN','FP'], ['FN', 'TP']]))\n",
        "    fig, ax = plt.subplots(1,2, figsize=(12,5)) \n",
        "\n",
        "    labels_train = (np.asarray([\"{0} = {1:.2f}\" .format(key, value) for key, value in zip(key.flatten(), con_m_train.flatten())])).reshape(2,2)\n",
        "    labels_test = (np.asarray([\"{0} = {1:.2f}\" .format(key, value) for key, value in zip(key.flatten(), con_m_test.flatten())])).reshape(2,2)\n",
        "\n",
        "    sns.heatmap(con_m_train, linewidths=.5, xticklabels=['PREDICTED : 0', 'PREDICTED : 1'], yticklabels=['ACTUAL : 0', 'ACTUAL : 1'], annot = labels_train, fmt = '', ax=ax[0], cmap='Blues')\n",
        "    sns.heatmap(con_m_test, linewidths=.5, xticklabels=['PREDICTED : 0', 'PREDICTED : 1'], yticklabels=['ACTUAL : 0', 'ACTUAL : 1'], annot = labels_test, fmt = '', ax=ax[1], cmap='Blues')\n",
        "\n",
        "    ax[0].set_title('Train Data')\n",
        "    ax[1].set_title('Test Data')\n",
        "\n",
        "    plt.show()\n",
        "    print('\\n')\n",
        "\n",
        "    #*****************************************************************************************#\n",
        "\n",
        "    # printing F1-score for Train and Test Datasets\n",
        "    print('Printing F1-scores for our '+str(model_name)+' model')\n",
        "    print(\"=\"*60)\n",
        "    print('\\n')\n",
        "\n",
        "    # for Train Data\n",
        "    f1_score_train = f1_score(y_train, model.predict(x_train))\n",
        "    print('For Train data: \\n ', f1_score_train ) \n",
        "\n",
        "    # for test data\n",
        "    f1_score_test = f1_score(y_test, model.predict(x_test))\n",
        "    print('For Test data: \\n ', f1_score_test ) \n",
        "    print('\\n')\n",
        "   \n",
        "    #*****************************************************************************************#\n",
        "\n"
      ],
      "metadata": {
        "colab": {
          "base_uri": "https://localhost:8080/"
        },
        "id": "fKbPUu5eUA53",
        "outputId": "748beab3-8585-4135-d983-0aa139c9e2fa"
      },
      "execution_count": 173,
      "outputs": [
        {
          "output_type": "stream",
          "name": "stdout",
          "text": [
            "time: 44.3 ms (started: 2022-11-23 17:36:32 +00:00)\n"
          ]
        }
      ]
    },
    {
      "cell_type": "markdown",
      "source": [
        "## Evaluation Metrics"
      ],
      "metadata": {
        "id": "alSzGSI6bqGx"
      }
    },
    {
      "cell_type": "code",
      "source": [
        "# function to evaluate our model using different metrics\n",
        "\n",
        "# values to be passed :\n",
        "# model_name = Our Model name, model = classifier used used to predict, y_train_pred, y_test_pred, x_train, x_test\n",
        "\n",
        "model_name = 'LGBM'\n",
        "evaluate_model(model_name, lgbm_best, y_pred_train_lgbm, y_pred_test_lgbm, x_train_final, x_test_final);"
      ],
      "metadata": {
        "colab": {
          "base_uri": "https://localhost:8080/",
          "height": 1000
        },
        "id": "5KCMh1weVurL",
        "outputId": "3d4e665d-bd96-4173-e903-d98fb55df1bf"
      },
      "execution_count": 135,
      "outputs": [
        {
          "output_type": "stream",
          "name": "stdout",
          "text": [
            "Printing various Evaluation metrics for our LGBM model...........\n",
            "\n",
            "\n",
            "Train Accuracy : 0.7122240764621103\n",
            "Test Accuracy : 0.7136518771331058\n",
            "\n",
            "\n",
            "============================================================\n",
            "\n",
            "\n",
            "Train Confusion Matrix:\n",
            "[[35909 13450]\n",
            " [ 1725  1648]]\n",
            "Test Confusion Matrix:\n",
            "[[4000 1485]\n",
            " [ 193  182]]\n",
            "\n",
            "\n",
            "============================================================\n",
            "\n",
            "\n",
            "Classification report for our Model's Training data:\n",
            "----------------------------------------------------\n",
            "              precision    recall  f1-score   support\n",
            "\n",
            "           0       0.95      0.73      0.83     49359\n",
            "           1       0.11      0.49      0.18      3373\n",
            "\n",
            "    accuracy                           0.71     52732\n",
            "   macro avg       0.53      0.61      0.50     52732\n",
            "weighted avg       0.90      0.71      0.78     52732\n",
            "\n",
            "\n",
            "\n",
            "============================================================\n",
            "\n",
            "\n",
            "Classification report for our Model's Test data:\n",
            "----------------------------------------------------\n",
            "              precision    recall  f1-score   support\n",
            "\n",
            "           0       0.95      0.73      0.83      5485\n",
            "           1       0.11      0.49      0.18       375\n",
            "\n",
            "    accuracy                           0.71      5860\n",
            "   macro avg       0.53      0.61      0.50      5860\n",
            "weighted avg       0.90      0.71      0.79      5860\n",
            "\n",
            "\n",
            "\n",
            "============================================================\n",
            "\n",
            "\n",
            "Plotting Train and Test Confusion matrices\n"
          ]
        },
        {
          "output_type": "display_data",
          "data": {
            "text/plain": [
              "<Figure size 864x360 with 4 Axes>"
            ],
            "image/png": "[encoded data removed]"
          },
          "metadata": {}
        },
        {
          "output_type": "stream",
          "name": "stdout",
          "text": [
            "\n",
            "\n",
            "Printing F1-scores for our LGBM model\n",
            "============================================================\n",
            "\n",
            "\n",
            "For Train data: \n",
            "  0.17844188186887555\n",
            "For Test data: \n",
            "  0.178256611165524\n",
            "\n",
            "\n",
            "time: 2.1 s (started: 2022-11-23 16:53:32 +00:00)\n"
          ]
        }
      ]
    },
    {
      "cell_type": "code",
      "source": [
        "# storing f1 scores of Train and Test data in another variable to tabulate them at a larger stage\n",
        "f1_Score_train_LGBM = 0.17844188186887555\n",
        "f1_Score_test_LGBM = 0.178256611165524"
      ],
      "metadata": {
        "colab": {
          "base_uri": "https://localhost:8080/"
        },
        "id": "VDQZ2xfhaSxN",
        "outputId": "dbbd5866-6198-4f00-e5ba-db8823bd379c"
      },
      "execution_count": 175,
      "outputs": [
        {
          "output_type": "stream",
          "name": "stdout",
          "text": [
            "time: 621 µs (started: 2022-11-23 17:37:24 +00:00)\n"
          ]
        }
      ]
    },
    {
      "cell_type": "code",
      "source": [
        "print(\"F1-score of Train data using LGBM is : \", f1_Score_train_LGBM)\n",
        "print(\"F1-score of Test data using LGBM is : \", f1_Score_test_LGBM)"
      ],
      "metadata": {
        "colab": {
          "base_uri": "https://localhost:8080/"
        },
        "id": "tVGpCz3vadIe",
        "outputId": "f566828e-083a-4c15-d101-6c0dba607fdc"
      },
      "execution_count": 200,
      "outputs": [
        {
          "output_type": "stream",
          "name": "stdout",
          "text": [
            "F1-score of Train data using LGBM is :  0.17844188186887555\n",
            "F1-score of Test data using LGBM is :  0.178256611165524\n",
            "time: 1.66 ms (started: 2022-11-23 17:52:37 +00:00)\n"
          ]
        }
      ]
    },
    {
      "cell_type": "markdown",
      "source": [
        "# Modelling - Catboost\n",
        "---"
      ],
      "metadata": {
        "id": "YRFmiJuKbVrv"
      }
    },
    {
      "cell_type": "code",
      "source": [
        "# loading train data\n",
        "df_train = pd.read_csv('train_qWM28Yl.csv')\n",
        "df_train.head(2)\n"
      ],
      "metadata": {
        "colab": {
          "base_uri": "https://localhost:8080/",
          "height": 229
        },
        "id": "abYwmCaYWXwV",
        "outputId": "2fec6816-7f41-4be5-f1cb-8f2dba543212"
      },
      "execution_count": 143,
      "outputs": [
        {
          "output_type": "execute_result",
          "data": {
            "text/plain": [
              "  policy_id  policy_tenure  age_of_car  age_of_policyholder area_cluster  \\\n",
              "0   ID00001       0.515874        0.05             0.644231           C1   \n",
              "1   ID00002       0.672619        0.02             0.375000           C2   \n",
              "\n",
              "   population_density  make segment model fuel_type    max_torque  \\\n",
              "0                4990     1       A    M1       CNG  60Nm@3500rpm   \n",
              "1               27003     1       A    M1       CNG  60Nm@3500rpm   \n",
              "\n",
              "          max_power        engine_type  airbags is_esc is_adjustable_steering  \\\n",
              "0  40.36bhp@6000rpm  F8D Petrol Engine        2     No                     No   \n",
              "1  40.36bhp@6000rpm  F8D Petrol Engine        2     No                     No   \n",
              "\n",
              "  is_tpms is_parking_sensors is_parking_camera rear_brakes_type  displacement  \\\n",
              "0      No                Yes                No             Drum           796   \n",
              "1      No                Yes                No             Drum           796   \n",
              "\n",
              "   cylinder transmission_type  gear_box steering_type  turning_radius  length  \\\n",
              "0         3            Manual         5         Power             4.6    3445   \n",
              "1         3            Manual         5         Power             4.6    3445   \n",
              "\n",
              "   width  height  gross_weight is_front_fog_lights is_rear_window_wiper  \\\n",
              "0   1515    1475          1185                  No                   No   \n",
              "1   1515    1475          1185                  No                   No   \n",
              "\n",
              "  is_rear_window_washer is_rear_window_defogger is_brake_assist  \\\n",
              "0                    No                      No              No   \n",
              "1                    No                      No              No   \n",
              "\n",
              "  is_power_door_locks is_central_locking is_power_steering  \\\n",
              "0                  No                 No               Yes   \n",
              "1                  No                 No               Yes   \n",
              "\n",
              "  is_driver_seat_height_adjustable is_day_night_rear_view_mirror is_ecw  \\\n",
              "0                               No                            No     No   \n",
              "1                               No                            No     No   \n",
              "\n",
              "  is_speed_alert  ncap_rating  is_claim  \n",
              "0            Yes            0         0  \n",
              "1            Yes            0         0  "
            ],
            "text/html": [
              "\n",
              "  <div id=\"df-d580b0da-3225-4113-9e18-9c1a23c76780\">\n",
              "    <div class=\"colab-df-container\">\n",
              "      <div>\n",
              "<style scoped>\n",
              "    .dataframe tbody tr th:only-of-type {\n",
              "        vertical-align: middle;\n",
              "    }\n",
              "\n",
              "    .dataframe tbody tr th {\n",
              "        vertical-align: top;\n",
              "    }\n",
              "\n",
              "    .dataframe thead th {\n",
              "        text-align: right;\n",
              "    }\n",
              "</style>\n",
              "<table border=\"1\" class=\"dataframe\">\n",
              "  <thead>\n",
              "    <tr style=\"text-align: right;\">\n",
              "      <th></th>\n",
              "      <th>policy_id</th>\n",
              "      <th>policy_tenure</th>\n",
              "      <th>age_of_car</th>\n",
              "      <th>age_of_policyholder</th>\n",
              "      <th>area_cluster</th>\n",
              "      <th>population_density</th>\n",
              "      <th>make</th>\n",
              "      <th>segment</th>\n",
              "      <th>model</th>\n",
              "      <th>fuel_type</th>\n",
              "      <th>max_torque</th>\n",
              "      <th>max_power</th>\n",
              "      <th>engine_type</th>\n",
              "      <th>airbags</th>\n",
              "      <th>is_esc</th>\n",
              "      <th>is_adjustable_steering</th>\n",
              "      <th>is_tpms</th>\n",
              "      <th>is_parking_sensors</th>\n",
              "      <th>is_parking_camera</th>\n",
              "      <th>rear_brakes_type</th>\n",
              "      <th>displacement</th>\n",
              "      <th>cylinder</th>\n",
              "      <th>transmission_type</th>\n",
              "      <th>gear_box</th>\n",
              "      <th>steering_type</th>\n",
              "      <th>turning_radius</th>\n",
              "      <th>length</th>\n",
              "      <th>width</th>\n",
              "      <th>height</th>\n",
              "      <th>gross_weight</th>\n",
              "      <th>is_front_fog_lights</th>\n",
              "      <th>is_rear_window_wiper</th>\n",
              "      <th>is_rear_window_washer</th>\n",
              "      <th>is_rear_window_defogger</th>\n",
              "      <th>is_brake_assist</th>\n",
              "      <th>is_power_door_locks</th>\n",
              "      <th>is_central_locking</th>\n",
              "      <th>is_power_steering</th>\n",
              "      <th>is_driver_seat_height_adjustable</th>\n",
              "      <th>is_day_night_rear_view_mirror</th>\n",
              "      <th>is_ecw</th>\n",
              "      <th>is_speed_alert</th>\n",
              "      <th>ncap_rating</th>\n",
              "      <th>is_claim</th>\n",
              "    </tr>\n",
              "  </thead>\n",
              "  <tbody>\n",
              "    <tr>\n",
              "      <th>0</th>\n",
              "      <td>ID00001</td>\n",
              "      <td>0.515874</td>\n",
              "      <td>0.05</td>\n",
              "      <td>0.644231</td>\n",
              "      <td>C1</td>\n",
              "      <td>4990</td>\n",
              "      <td>1</td>\n",
              "      <td>A</td>\n",
              "      <td>M1</td>\n",
              "      <td>CNG</td>\n",
              "      <td>60Nm@3500rpm</td>\n",
              "      <td>40.36bhp@6000rpm</td>\n",
              "      <td>F8D Petrol Engine</td>\n",
              "      <td>2</td>\n",
              "      <td>No</td>\n",
              "      <td>No</td>\n",
              "      <td>No</td>\n",
              "      <td>Yes</td>\n",
              "      <td>No</td>\n",
              "      <td>Drum</td>\n",
              "      <td>796</td>\n",
              "      <td>3</td>\n",
              "      <td>Manual</td>\n",
              "      <td>5</td>\n",
              "      <td>Power</td>\n",
              "      <td>4.6</td>\n",
              "      <td>3445</td>\n",
              "      <td>1515</td>\n",
              "      <td>1475</td>\n",
              "      <td>1185</td>\n",
              "      <td>No</td>\n",
              "      <td>No</td>\n",
              "      <td>No</td>\n",
              "      <td>No</td>\n",
              "      <td>No</td>\n",
              "      <td>No</td>\n",
              "      <td>No</td>\n",
              "      <td>Yes</td>\n",
              "      <td>No</td>\n",
              "      <td>No</td>\n",
              "      <td>No</td>\n",
              "      <td>Yes</td>\n",
              "      <td>0</td>\n",
              "      <td>0</td>\n",
              "    </tr>\n",
              "    <tr>\n",
              "      <th>1</th>\n",
              "      <td>ID00002</td>\n",
              "      <td>0.672619</td>\n",
              "      <td>0.02</td>\n",
              "      <td>0.375000</td>\n",
              "      <td>C2</td>\n",
              "      <td>27003</td>\n",
              "      <td>1</td>\n",
              "      <td>A</td>\n",
              "      <td>M1</td>\n",
              "      <td>CNG</td>\n",
              "      <td>60Nm@3500rpm</td>\n",
              "      <td>40.36bhp@6000rpm</td>\n",
              "      <td>F8D Petrol Engine</td>\n",
              "      <td>2</td>\n",
              "      <td>No</td>\n",
              "      <td>No</td>\n",
              "      <td>No</td>\n",
              "      <td>Yes</td>\n",
              "      <td>No</td>\n",
              "      <td>Drum</td>\n",
              "      <td>796</td>\n",
              "      <td>3</td>\n",
              "      <td>Manual</td>\n",
              "      <td>5</td>\n",
              "      <td>Power</td>\n",
              "      <td>4.6</td>\n",
              "      <td>3445</td>\n",
              "      <td>1515</td>\n",
              "      <td>1475</td>\n",
              "      <td>1185</td>\n",
              "      <td>No</td>\n",
              "      <td>No</td>\n",
              "      <td>No</td>\n",
              "      <td>No</td>\n",
              "      <td>No</td>\n",
              "      <td>No</td>\n",
              "      <td>No</td>\n",
              "      <td>Yes</td>\n",
              "      <td>No</td>\n",
              "      <td>No</td>\n",
              "      <td>No</td>\n",
              "      <td>Yes</td>\n",
              "      <td>0</td>\n",
              "      <td>0</td>\n",
              "    </tr>\n",
              "  </tbody>\n",
              "</table>\n",
              "</div>\n",
              "      <button class=\"colab-df-convert\" onclick=\"convertToInteractive('df-d580b0da-3225-4113-9e18-9c1a23c76780')\"\n",
              "              title=\"Convert this dataframe to an interactive table.\"\n",
              "              style=\"display:none;\">\n",
              "        \n",
              "  <svg xmlns=\"http://www.w3.org/2000/svg\" height=\"24px\"viewBox=\"0 0 24 24\"\n",
              "       width=\"24px\">\n",
              "    <path d=\"M0 0h24v24H0V0z\" fill=\"none\"/>\n",
              "    <path d=\"M18.56 5.44l.94 2.06.94-2.06 2.06-.94-2.06-.94-.94-2.06-.94 2.06-2.06.94zm-11 1L8.5 8.5l.94-2.06 2.06-.94-2.06-.94L8.5 2.5l-.94 2.06-2.06.94zm10 10l.94 2.06.94-2.06 2.06-.94-2.06-.94-.94-2.06-.94 2.06-2.06.94z\"/><path d=\"M17.41 7.96l-1.37-1.37c-.4-.4-.92-.59-1.43-.59-.52 0-1.04.2-1.43.59L10.3 9.45l-7.72 7.72c-.78.78-.78 2.05 0 2.83L4 21.41c.39.39.9.59 1.41.59.51 0 1.02-.2 1.41-.59l7.78-7.78 2.81-2.81c.8-.78.8-2.07 0-2.86zM5.41 20L4 18.59l7.72-7.72 1.47 1.35L5.41 20z\"/>\n",
              "  </svg>\n",
              "      </button>\n",
              "      \n",
              "  <style>\n",
              "    .colab-df-container {\n",
              "      display:flex;\n",
              "      flex-wrap:wrap;\n",
              "      gap: 12px;\n",
              "    }\n",
              "\n",
              "    .colab-df-convert {\n",
              "      background-color: #E8F0FE;\n",
              "      border: none;\n",
              "      border-radius: 50%;\n",
              "      cursor: pointer;\n",
              "      display: none;\n",
              "      fill: #1967D2;\n",
              "      height: 32px;\n",
              "      padding: 0 0 0 0;\n",
              "      width: 32px;\n",
              "    }\n",
              "\n",
              "    .colab-df-convert:hover {\n",
              "      background-color: #E2EBFA;\n",
              "      box-shadow: 0px 1px 2px rgba(60, 64, 67, 0.3), 0px 1px 3px 1px rgba(60, 64, 67, 0.15);\n",
              "      fill: #174EA6;\n",
              "    }\n",
              "\n",
              "    [theme=dark] .colab-df-convert {\n",
              "      background-color: #3B4455;\n",
              "      fill: #D2E3FC;\n",
              "    }\n",
              "\n",
              "    [theme=dark] .colab-df-convert:hover {\n",
              "      background-color: #434B5C;\n",
              "      box-shadow: 0px 1px 3px 1px rgba(0, 0, 0, 0.15);\n",
              "      filter: drop-shadow(0px 1px 2px rgba(0, 0, 0, 0.3));\n",
              "      fill: #FFFFFF;\n",
              "    }\n",
              "  </style>\n",
              "\n",
              "      <script>\n",
              "        const buttonEl =\n",
              "          document.querySelector('#df-d580b0da-3225-4113-9e18-9c1a23c76780 button.colab-df-convert');\n",
              "        buttonEl.style.display =\n",
              "          google.colab.kernel.accessAllowed ? 'block' : 'none';\n",
              "\n",
              "        async function convertToInteractive(key) {\n",
              "          const element = document.querySelector('#df-d580b0da-3225-4113-9e18-9c1a23c76780');\n",
              "          const dataTable =\n",
              "            await google.colab.kernel.invokeFunction('convertToInteractive',\n",
              "                                                     [key], {});\n",
              "          if (!dataTable) return;\n",
              "\n",
              "          const docLinkHtml = 'Like what you see? Visit the ' +\n",
              "            '<a target=\"_blank\" href=https://colab.research.google.com/notebooks/data_table.ipynb>data table notebook</a>'\n",
              "            + ' to learn more about interactive tables.';\n",
              "          element.innerHTML = '';\n",
              "          dataTable['output_type'] = 'display_data';\n",
              "          await google.colab.output.renderOutput(dataTable, element);\n",
              "          const docLink = document.createElement('div');\n",
              "          docLink.innerHTML = docLinkHtml;\n",
              "          element.appendChild(docLink);\n",
              "        }\n",
              "      </script>\n",
              "    </div>\n",
              "  </div>\n",
              "  "
            ]
          },
          "metadata": {},
          "execution_count": 143
        },
        {
          "output_type": "stream",
          "name": "stdout",
          "text": [
            "time: 332 ms (started: 2022-11-23 16:58:23 +00:00)\n"
          ]
        }
      ]
    },
    {
      "cell_type": "markdown",
      "source": [
        "## References for Catboost classifier algorithm:\n",
        "1. https://dataaspirant.com/catboost-algorithm/#t-1609567161984 \n",
        "2. https://catboost.ai/en/docs/\n",
        "3. https://stackoverflow.com/questions/59746304/catboost-classifier-for-class-imbalance"
      ],
      "metadata": {
        "id": "Vgf7y50gbfTO"
      }
    },
    {
      "cell_type": "code",
      "source": [
        "# we have a total of 58k observations in our Train data\n",
        "df_train.shape"
      ],
      "metadata": {
        "colab": {
          "base_uri": "https://localhost:8080/"
        },
        "id": "4dzBIUU-aGB7",
        "outputId": "001790ed-528e-4e40-d599-986cf11cc10d"
      },
      "execution_count": 144,
      "outputs": [
        {
          "output_type": "execute_result",
          "data": {
            "text/plain": [
              "(58592, 44)"
            ]
          },
          "metadata": {},
          "execution_count": 144
        },
        {
          "output_type": "stream",
          "name": "stdout",
          "text": [
            "time: 7.54 ms (started: 2022-11-23 17:00:35 +00:00)\n"
          ]
        }
      ]
    },
    {
      "cell_type": "code",
      "source": [
        "df_train.info()\n",
        "# all the columns are not-null and this will help us a lot"
      ],
      "metadata": {
        "colab": {
          "base_uri": "https://localhost:8080/"
        },
        "id": "YCTtKHzmWf0_",
        "outputId": "33520ba8-456a-4ae3-bdc4-43039c329156"
      },
      "execution_count": 145,
      "outputs": [
        {
          "output_type": "stream",
          "name": "stdout",
          "text": [
            "<class 'pandas.core.frame.DataFrame'>\n",
            "RangeIndex: 58592 entries, 0 to 58591\n",
            "Data columns (total 44 columns):\n",
            " #   Column                            Non-Null Count  Dtype  \n",
            "---  ------                            --------------  -----  \n",
            " 0   policy_id                         58592 non-null  object \n",
            " 1   policy_tenure                     58592 non-null  float64\n",
            " 2   age_of_car                        58592 non-null  float64\n",
            " 3   age_of_policyholder               58592 non-null  float64\n",
            " 4   area_cluster                      58592 non-null  object \n",
            " 5   population_density                58592 non-null  int64  \n",
            " 6   make                              58592 non-null  int64  \n",
            " 7   segment                           58592 non-null  object \n",
            " 8   model                             58592 non-null  object \n",
            " 9   fuel_type                         58592 non-null  object \n",
            " 10  max_torque                        58592 non-null  object \n",
            " 11  max_power                         58592 non-null  object \n",
            " 12  engine_type                       58592 non-null  object \n",
            " 13  airbags                           58592 non-null  int64  \n",
            " 14  is_esc                            58592 non-null  object \n",
            " 15  is_adjustable_steering            58592 non-null  object \n",
            " 16  is_tpms                           58592 non-null  object \n",
            " 17  is_parking_sensors                58592 non-null  object \n",
            " 18  is_parking_camera                 58592 non-null  object \n",
            " 19  rear_brakes_type                  58592 non-null  object \n",
            " 20  displacement                      58592 non-null  int64  \n",
            " 21  cylinder                          58592 non-null  int64  \n",
            " 22  transmission_type                 58592 non-null  object \n",
            " 23  gear_box                          58592 non-null  int64  \n",
            " 24  steering_type                     58592 non-null  object \n",
            " 25  turning_radius                    58592 non-null  float64\n",
            " 26  length                            58592 non-null  int64  \n",
            " 27  width                             58592 non-null  int64  \n",
            " 28  height                            58592 non-null  int64  \n",
            " 29  gross_weight                      58592 non-null  int64  \n",
            " 30  is_front_fog_lights               58592 non-null  object \n",
            " 31  is_rear_window_wiper              58592 non-null  object \n",
            " 32  is_rear_window_washer             58592 non-null  object \n",
            " 33  is_rear_window_defogger           58592 non-null  object \n",
            " 34  is_brake_assist                   58592 non-null  object \n",
            " 35  is_power_door_locks               58592 non-null  object \n",
            " 36  is_central_locking                58592 non-null  object \n",
            " 37  is_power_steering                 58592 non-null  object \n",
            " 38  is_driver_seat_height_adjustable  58592 non-null  object \n",
            " 39  is_day_night_rear_view_mirror     58592 non-null  object \n",
            " 40  is_ecw                            58592 non-null  object \n",
            " 41  is_speed_alert                    58592 non-null  object \n",
            " 42  ncap_rating                       58592 non-null  int64  \n",
            " 43  is_claim                          58592 non-null  int64  \n",
            "dtypes: float64(4), int64(12), object(28)\n",
            "memory usage: 19.7+ MB\n",
            "time: 94.7 ms (started: 2022-11-23 17:00:39 +00:00)\n"
          ]
        }
      ]
    },
    {
      "cell_type": "code",
      "source": [
        "df_train.describe()\n"
      ],
      "metadata": {
        "colab": {
          "base_uri": "https://localhost:8080/",
          "height": 382
        },
        "id": "vXYrznLXWlqs",
        "outputId": "5b8845e0-20c6-4cb7-9a61-1549b84c692a"
      },
      "execution_count": 146,
      "outputs": [
        {
          "output_type": "execute_result",
          "data": {
            "text/plain": [
              "       policy_tenure    age_of_car  age_of_policyholder  population_density  \\\n",
              "count   58592.000000  58592.000000         58592.000000        58592.000000   \n",
              "mean        0.611246      0.069424             0.469420        18826.858667   \n",
              "std         0.414156      0.056721             0.122886        17660.174792   \n",
              "min         0.002735      0.000000             0.288462          290.000000   \n",
              "25%         0.210250      0.020000             0.365385         6112.000000   \n",
              "50%         0.573792      0.060000             0.451923         8794.000000   \n",
              "75%         1.039104      0.110000             0.548077        27003.000000   \n",
              "max         1.396641      1.000000             1.000000        73430.000000   \n",
              "\n",
              "               make       airbags  displacement      cylinder      gear_box  \\\n",
              "count  58592.000000  58592.000000  58592.000000  58592.000000  58592.000000   \n",
              "mean       1.763722      3.137066   1162.355851      3.626963      5.245443   \n",
              "std        1.136988      1.832641    266.304786      0.483616      0.430353   \n",
              "min        1.000000      1.000000    796.000000      3.000000      5.000000   \n",
              "25%        1.000000      2.000000    796.000000      3.000000      5.000000   \n",
              "50%        1.000000      2.000000   1197.000000      4.000000      5.000000   \n",
              "75%        3.000000      6.000000   1493.000000      4.000000      5.000000   \n",
              "max        5.000000      6.000000   1498.000000      4.000000      6.000000   \n",
              "\n",
              "       turning_radius        length         width       height  gross_weight  \\\n",
              "count    58592.000000  58592.000000  58592.000000  58592.00000  58592.000000   \n",
              "mean         4.852893   3850.476891   1672.233667   1553.33537   1385.276813   \n",
              "std          0.228061    311.457119    112.089135     79.62227    212.423085   \n",
              "min          4.500000   3445.000000   1475.000000   1475.00000   1051.000000   \n",
              "25%          4.600000   3445.000000   1515.000000   1475.00000   1185.000000   \n",
              "50%          4.800000   3845.000000   1735.000000   1530.00000   1335.000000   \n",
              "75%          5.000000   3995.000000   1755.000000   1635.00000   1510.000000   \n",
              "max          5.200000   4300.000000   1811.000000   1825.00000   1720.000000   \n",
              "\n",
              "        ncap_rating      is_claim  \n",
              "count  58592.000000  58592.000000  \n",
              "mean       1.759950      0.063968  \n",
              "std        1.389576      0.244698  \n",
              "min        0.000000      0.000000  \n",
              "25%        0.000000      0.000000  \n",
              "50%        2.000000      0.000000  \n",
              "75%        3.000000      0.000000  \n",
              "max        5.000000      1.000000  "
            ],
            "text/html": [
              "\n",
              "  <div id=\"df-1b32322e-d451-4c1d-afa1-36d8c3502e4f\">\n",
              "    <div class=\"colab-df-container\">\n",
              "      <div>\n",
              "<style scoped>\n",
              "    .dataframe tbody tr th:only-of-type {\n",
              "        vertical-align: middle;\n",
              "    }\n",
              "\n",
              "    .dataframe tbody tr th {\n",
              "        vertical-align: top;\n",
              "    }\n",
              "\n",
              "    .dataframe thead th {\n",
              "        text-align: right;\n",
              "    }\n",
              "</style>\n",
              "<table border=\"1\" class=\"dataframe\">\n",
              "  <thead>\n",
              "    <tr style=\"text-align: right;\">\n",
              "      <th></th>\n",
              "      <th>policy_tenure</th>\n",
              "      <th>age_of_car</th>\n",
              "      <th>age_of_policyholder</th>\n",
              "      <th>population_density</th>\n",
              "      <th>make</th>\n",
              "      <th>airbags</th>\n",
              "      <th>displacement</th>\n",
              "      <th>cylinder</th>\n",
              "      <th>gear_box</th>\n",
              "      <th>turning_radius</th>\n",
              "      <th>length</th>\n",
              "      <th>width</th>\n",
              "      <th>height</th>\n",
              "      <th>gross_weight</th>\n",
              "      <th>ncap_rating</th>\n",
              "      <th>is_claim</th>\n",
              "    </tr>\n",
              "  </thead>\n",
              "  <tbody>\n",
              "    <tr>\n",
              "      <th>count</th>\n",
              "      <td>58592.000000</td>\n",
              "      <td>58592.000000</td>\n",
              "      <td>58592.000000</td>\n",
              "      <td>58592.000000</td>\n",
              "      <td>58592.000000</td>\n",
              "      <td>58592.000000</td>\n",
              "      <td>58592.000000</td>\n",
              "      <td>58592.000000</td>\n",
              "      <td>58592.000000</td>\n",
              "      <td>58592.000000</td>\n",
              "      <td>58592.000000</td>\n",
              "      <td>58592.000000</td>\n",
              "      <td>58592.00000</td>\n",
              "      <td>58592.000000</td>\n",
              "      <td>58592.000000</td>\n",
              "      <td>58592.000000</td>\n",
              "    </tr>\n",
              "    <tr>\n",
              "      <th>mean</th>\n",
              "      <td>0.611246</td>\n",
              "      <td>0.069424</td>\n",
              "      <td>0.469420</td>\n",
              "      <td>18826.858667</td>\n",
              "      <td>1.763722</td>\n",
              "      <td>3.137066</td>\n",
              "      <td>1162.355851</td>\n",
              "      <td>3.626963</td>\n",
              "      <td>5.245443</td>\n",
              "      <td>4.852893</td>\n",
              "      <td>3850.476891</td>\n",
              "      <td>1672.233667</td>\n",
              "      <td>1553.33537</td>\n",
              "      <td>1385.276813</td>\n",
              "      <td>1.759950</td>\n",
              "      <td>0.063968</td>\n",
              "    </tr>\n",
              "    <tr>\n",
              "      <th>std</th>\n",
              "      <td>0.414156</td>\n",
              "      <td>0.056721</td>\n",
              "      <td>0.122886</td>\n",
              "      <td>17660.174792</td>\n",
              "      <td>1.136988</td>\n",
              "      <td>1.832641</td>\n",
              "      <td>266.304786</td>\n",
              "      <td>0.483616</td>\n",
              "      <td>0.430353</td>\n",
              "      <td>0.228061</td>\n",
              "      <td>311.457119</td>\n",
              "      <td>112.089135</td>\n",
              "      <td>79.62227</td>\n",
              "      <td>212.423085</td>\n",
              "      <td>1.389576</td>\n",
              "      <td>0.244698</td>\n",
              "    </tr>\n",
              "    <tr>\n",
              "      <th>min</th>\n",
              "      <td>0.002735</td>\n",
              "      <td>0.000000</td>\n",
              "      <td>0.288462</td>\n",
              "      <td>290.000000</td>\n",
              "      <td>1.000000</td>\n",
              "      <td>1.000000</td>\n",
              "      <td>796.000000</td>\n",
              "      <td>3.000000</td>\n",
              "      <td>5.000000</td>\n",
              "      <td>4.500000</td>\n",
              "      <td>3445.000000</td>\n",
              "      <td>1475.000000</td>\n",
              "      <td>1475.00000</td>\n",
              "      <td>1051.000000</td>\n",
              "      <td>0.000000</td>\n",
              "      <td>0.000000</td>\n",
              "    </tr>\n",
              "    <tr>\n",
              "      <th>25%</th>\n",
              "      <td>0.210250</td>\n",
              "      <td>0.020000</td>\n",
              "      <td>0.365385</td>\n",
              "      <td>6112.000000</td>\n",
              "      <td>1.000000</td>\n",
              "      <td>2.000000</td>\n",
              "      <td>796.000000</td>\n",
              "      <td>3.000000</td>\n",
              "      <td>5.000000</td>\n",
              "      <td>4.600000</td>\n",
              "      <td>3445.000000</td>\n",
              "      <td>1515.000000</td>\n",
              "      <td>1475.00000</td>\n",
              "      <td>1185.000000</td>\n",
              "      <td>0.000000</td>\n",
              "      <td>0.000000</td>\n",
              "    </tr>\n",
              "    <tr>\n",
              "      <th>50%</th>\n",
              "      <td>0.573792</td>\n",
              "      <td>0.060000</td>\n",
              "      <td>0.451923</td>\n",
              "      <td>8794.000000</td>\n",
              "      <td>1.000000</td>\n",
              "      <td>2.000000</td>\n",
              "      <td>1197.000000</td>\n",
              "      <td>4.000000</td>\n",
              "      <td>5.000000</td>\n",
              "      <td>4.800000</td>\n",
              "      <td>3845.000000</td>\n",
              "      <td>1735.000000</td>\n",
              "      <td>1530.00000</td>\n",
              "      <td>1335.000000</td>\n",
              "      <td>2.000000</td>\n",
              "      <td>0.000000</td>\n",
              "    </tr>\n",
              "    <tr>\n",
              "      <th>75%</th>\n",
              "      <td>1.039104</td>\n",
              "      <td>0.110000</td>\n",
              "      <td>0.548077</td>\n",
              "      <td>27003.000000</td>\n",
              "      <td>3.000000</td>\n",
              "      <td>6.000000</td>\n",
              "      <td>1493.000000</td>\n",
              "      <td>4.000000</td>\n",
              "      <td>5.000000</td>\n",
              "      <td>5.000000</td>\n",
              "      <td>3995.000000</td>\n",
              "      <td>1755.000000</td>\n",
              "      <td>1635.00000</td>\n",
              "      <td>1510.000000</td>\n",
              "      <td>3.000000</td>\n",
              "      <td>0.000000</td>\n",
              "    </tr>\n",
              "    <tr>\n",
              "      <th>max</th>\n",
              "      <td>1.396641</td>\n",
              "      <td>1.000000</td>\n",
              "      <td>1.000000</td>\n",
              "      <td>73430.000000</td>\n",
              "      <td>5.000000</td>\n",
              "      <td>6.000000</td>\n",
              "      <td>1498.000000</td>\n",
              "      <td>4.000000</td>\n",
              "      <td>6.000000</td>\n",
              "      <td>5.200000</td>\n",
              "      <td>4300.000000</td>\n",
              "      <td>1811.000000</td>\n",
              "      <td>1825.00000</td>\n",
              "      <td>1720.000000</td>\n",
              "      <td>5.000000</td>\n",
              "      <td>1.000000</td>\n",
              "    </tr>\n",
              "  </tbody>\n",
              "</table>\n",
              "</div>\n",
              "      <button class=\"colab-df-convert\" onclick=\"convertToInteractive('df-1b32322e-d451-4c1d-afa1-36d8c3502e4f')\"\n",
              "              title=\"Convert this dataframe to an interactive table.\"\n",
              "              style=\"display:none;\">\n",
              "        \n",
              "  <svg xmlns=\"http://www.w3.org/2000/svg\" height=\"24px\"viewBox=\"0 0 24 24\"\n",
              "       width=\"24px\">\n",
              "    <path d=\"M0 0h24v24H0V0z\" fill=\"none\"/>\n",
              "    <path d=\"M18.56 5.44l.94 2.06.94-2.06 2.06-.94-2.06-.94-.94-2.06-.94 2.06-2.06.94zm-11 1L8.5 8.5l.94-2.06 2.06-.94-2.06-.94L8.5 2.5l-.94 2.06-2.06.94zm10 10l.94 2.06.94-2.06 2.06-.94-2.06-.94-.94-2.06-.94 2.06-2.06.94z\"/><path d=\"M17.41 7.96l-1.37-1.37c-.4-.4-.92-.59-1.43-.59-.52 0-1.04.2-1.43.59L10.3 9.45l-7.72 7.72c-.78.78-.78 2.05 0 2.83L4 21.41c.39.39.9.59 1.41.59.51 0 1.02-.2 1.41-.59l7.78-7.78 2.81-2.81c.8-.78.8-2.07 0-2.86zM5.41 20L4 18.59l7.72-7.72 1.47 1.35L5.41 20z\"/>\n",
              "  </svg>\n",
              "      </button>\n",
              "      \n",
              "  <style>\n",
              "    .colab-df-container {\n",
              "      display:flex;\n",
              "      flex-wrap:wrap;\n",
              "      gap: 12px;\n",
              "    }\n",
              "\n",
              "    .colab-df-convert {\n",
              "      background-color: #E8F0FE;\n",
              "      border: none;\n",
              "      border-radius: 50%;\n",
              "      cursor: pointer;\n",
              "      display: none;\n",
              "      fill: #1967D2;\n",
              "      height: 32px;\n",
              "      padding: 0 0 0 0;\n",
              "      width: 32px;\n",
              "    }\n",
              "\n",
              "    .colab-df-convert:hover {\n",
              "      background-color: #E2EBFA;\n",
              "      box-shadow: 0px 1px 2px rgba(60, 64, 67, 0.3), 0px 1px 3px 1px rgba(60, 64, 67, 0.15);\n",
              "      fill: #174EA6;\n",
              "    }\n",
              "\n",
              "    [theme=dark] .colab-df-convert {\n",
              "      background-color: #3B4455;\n",
              "      fill: #D2E3FC;\n",
              "    }\n",
              "\n",
              "    [theme=dark] .colab-df-convert:hover {\n",
              "      background-color: #434B5C;\n",
              "      box-shadow: 0px 1px 3px 1px rgba(0, 0, 0, 0.15);\n",
              "      filter: drop-shadow(0px 1px 2px rgba(0, 0, 0, 0.3));\n",
              "      fill: #FFFFFF;\n",
              "    }\n",
              "  </style>\n",
              "\n",
              "      <script>\n",
              "        const buttonEl =\n",
              "          document.querySelector('#df-1b32322e-d451-4c1d-afa1-36d8c3502e4f button.colab-df-convert');\n",
              "        buttonEl.style.display =\n",
              "          google.colab.kernel.accessAllowed ? 'block' : 'none';\n",
              "\n",
              "        async function convertToInteractive(key) {\n",
              "          const element = document.querySelector('#df-1b32322e-d451-4c1d-afa1-36d8c3502e4f');\n",
              "          const dataTable =\n",
              "            await google.colab.kernel.invokeFunction('convertToInteractive',\n",
              "                                                     [key], {});\n",
              "          if (!dataTable) return;\n",
              "\n",
              "          const docLinkHtml = 'Like what you see? Visit the ' +\n",
              "            '<a target=\"_blank\" href=https://colab.research.google.com/notebooks/data_table.ipynb>data table notebook</a>'\n",
              "            + ' to learn more about interactive tables.';\n",
              "          element.innerHTML = '';\n",
              "          dataTable['output_type'] = 'display_data';\n",
              "          await google.colab.output.renderOutput(dataTable, element);\n",
              "          const docLink = document.createElement('div');\n",
              "          docLink.innerHTML = docLinkHtml;\n",
              "          element.appendChild(docLink);\n",
              "        }\n",
              "      </script>\n",
              "    </div>\n",
              "  </div>\n",
              "  "
            ]
          },
          "metadata": {},
          "execution_count": 146
        },
        {
          "output_type": "stream",
          "name": "stdout",
          "text": [
            "time: 92 ms (started: 2022-11-23 17:00:43 +00:00)\n"
          ]
        }
      ]
    },
    {
      "cell_type": "code",
      "source": [
        "# train.select_dtypes(include = ['int64']) This gives you a filtered dataframe where the dataframe is entirely NUMERIC dedicated.\n",
        "# Similarly, when you perform train_df.dscribe(include = ['O']) it pulls out the objects dtypes attributes and shows their count/frequency/max/quartiles. \n"
      ],
      "metadata": {
        "colab": {
          "base_uri": "https://localhost:8080/"
        },
        "id": "oT3SOILJW7no",
        "outputId": "5a25889d-594f-4226-f2e4-e11ab697b8d0"
      },
      "execution_count": 202,
      "outputs": [
        {
          "output_type": "stream",
          "name": "stdout",
          "text": [
            "time: 567 µs (started: 2022-11-23 17:59:57 +00:00)\n"
          ]
        }
      ]
    },
    {
      "cell_type": "code",
      "source": [
        "df_train.describe(include=['O'])\n"
      ],
      "metadata": {
        "colab": {
          "base_uri": "https://localhost:8080/",
          "height": 274
        },
        "id": "URdXA9a1WraY",
        "outputId": "02337318-58ff-4b00-bb0d-8245b1a8002e"
      },
      "execution_count": 147,
      "outputs": [
        {
          "output_type": "execute_result",
          "data": {
            "text/plain": [
              "       policy_id area_cluster segment  model fuel_type     max_torque  \\\n",
              "count      58592        58592   58592  58592     58592          58592   \n",
              "unique     58592           22       6     11         3              9   \n",
              "top      ID00001           C8      B2     M1    Petrol  113Nm@4400rpm   \n",
              "freq           1        13654   18314  14948     20532          17796   \n",
              "\n",
              "               max_power        engine_type is_esc is_adjustable_steering  \\\n",
              "count              58592              58592  58592                  58592   \n",
              "unique                 9                 11      2                      2   \n",
              "top     88.50bhp@6000rpm  F8D Petrol Engine     No                    Yes   \n",
              "freq               17796              14948  40191                  35526   \n",
              "\n",
              "       is_tpms is_parking_sensors is_parking_camera rear_brakes_type  \\\n",
              "count    58592              58592             58592            58592   \n",
              "unique       2                  2                 2                2   \n",
              "top         No                Yes                No             Drum   \n",
              "freq     44574              56219             35704            44574   \n",
              "\n",
              "       transmission_type steering_type is_front_fog_lights  \\\n",
              "count              58592         58592               58592   \n",
              "unique                 2             3                   2   \n",
              "top               Manual         Power                 Yes   \n",
              "freq               38181         33502               33928   \n",
              "\n",
              "       is_rear_window_wiper is_rear_window_washer is_rear_window_defogger  \\\n",
              "count                 58592                 58592                   58592   \n",
              "unique                    2                     2                       2   \n",
              "top                      No                    No                      No   \n",
              "freq                  41634                 41634                   38077   \n",
              "\n",
              "       is_brake_assist is_power_door_locks is_central_locking  \\\n",
              "count            58592               58592              58592   \n",
              "unique               2                   2                  2   \n",
              "top                Yes                 Yes                Yes   \n",
              "freq             32177               42435              42435   \n",
              "\n",
              "       is_power_steering is_driver_seat_height_adjustable  \\\n",
              "count              58592                            58592   \n",
              "unique                 2                                2   \n",
              "top                  Yes                              Yes   \n",
              "freq               57383                            34291   \n",
              "\n",
              "       is_day_night_rear_view_mirror is_ecw is_speed_alert  \n",
              "count                          58592  58592          58592  \n",
              "unique                             2      2              2  \n",
              "top                               No    Yes            Yes  \n",
              "freq                           36309  42435          58229  "
            ],
            "text/html": [
              "\n",
              "  <div id=\"df-75ec582b-e51d-4213-af2e-0da03ccc2f7d\">\n",
              "    <div class=\"colab-df-container\">\n",
              "      <div>\n",
              "<style scoped>\n",
              "    .dataframe tbody tr th:only-of-type {\n",
              "        vertical-align: middle;\n",
              "    }\n",
              "\n",
              "    .dataframe tbody tr th {\n",
              "        vertical-align: top;\n",
              "    }\n",
              "\n",
              "    .dataframe thead th {\n",
              "        text-align: right;\n",
              "    }\n",
              "</style>\n",
              "<table border=\"1\" class=\"dataframe\">\n",
              "  <thead>\n",
              "    <tr style=\"text-align: right;\">\n",
              "      <th></th>\n",
              "      <th>policy_id</th>\n",
              "      <th>area_cluster</th>\n",
              "      <th>segment</th>\n",
              "      <th>model</th>\n",
              "      <th>fuel_type</th>\n",
              "      <th>max_torque</th>\n",
              "      <th>max_power</th>\n",
              "      <th>engine_type</th>\n",
              "      <th>is_esc</th>\n",
              "      <th>is_adjustable_steering</th>\n",
              "      <th>is_tpms</th>\n",
              "      <th>is_parking_sensors</th>\n",
              "      <th>is_parking_camera</th>\n",
              "      <th>rear_brakes_type</th>\n",
              "      <th>transmission_type</th>\n",
              "      <th>steering_type</th>\n",
              "      <th>is_front_fog_lights</th>\n",
              "      <th>is_rear_window_wiper</th>\n",
              "      <th>is_rear_window_washer</th>\n",
              "      <th>is_rear_window_defogger</th>\n",
              "      <th>is_brake_assist</th>\n",
              "      <th>is_power_door_locks</th>\n",
              "      <th>is_central_locking</th>\n",
              "      <th>is_power_steering</th>\n",
              "      <th>is_driver_seat_height_adjustable</th>\n",
              "      <th>is_day_night_rear_view_mirror</th>\n",
              "      <th>is_ecw</th>\n",
              "      <th>is_speed_alert</th>\n",
              "    </tr>\n",
              "  </thead>\n",
              "  <tbody>\n",
              "    <tr>\n",
              "      <th>count</th>\n",
              "      <td>58592</td>\n",
              "      <td>58592</td>\n",
              "      <td>58592</td>\n",
              "      <td>58592</td>\n",
              "      <td>58592</td>\n",
              "      <td>58592</td>\n",
              "      <td>58592</td>\n",
              "      <td>58592</td>\n",
              "      <td>58592</td>\n",
              "      <td>58592</td>\n",
              "      <td>58592</td>\n",
              "      <td>58592</td>\n",
              "      <td>58592</td>\n",
              "      <td>58592</td>\n",
              "      <td>58592</td>\n",
              "      <td>58592</td>\n",
              "      <td>58592</td>\n",
              "      <td>58592</td>\n",
              "      <td>58592</td>\n",
              "      <td>58592</td>\n",
              "      <td>58592</td>\n",
              "      <td>58592</td>\n",
              "      <td>58592</td>\n",
              "      <td>58592</td>\n",
              "      <td>58592</td>\n",
              "      <td>58592</td>\n",
              "      <td>58592</td>\n",
              "      <td>58592</td>\n",
              "    </tr>\n",
              "    <tr>\n",
              "      <th>unique</th>\n",
              "      <td>58592</td>\n",
              "      <td>22</td>\n",
              "      <td>6</td>\n",
              "      <td>11</td>\n",
              "      <td>3</td>\n",
              "      <td>9</td>\n",
              "      <td>9</td>\n",
              "      <td>11</td>\n",
              "      <td>2</td>\n",
              "      <td>2</td>\n",
              "      <td>2</td>\n",
              "      <td>2</td>\n",
              "      <td>2</td>\n",
              "      <td>2</td>\n",
              "      <td>2</td>\n",
              "      <td>3</td>\n",
              "      <td>2</td>\n",
              "      <td>2</td>\n",
              "      <td>2</td>\n",
              "      <td>2</td>\n",
              "      <td>2</td>\n",
              "      <td>2</td>\n",
              "      <td>2</td>\n",
              "      <td>2</td>\n",
              "      <td>2</td>\n",
              "      <td>2</td>\n",
              "      <td>2</td>\n",
              "      <td>2</td>\n",
              "    </tr>\n",
              "    <tr>\n",
              "      <th>top</th>\n",
              "      <td>ID00001</td>\n",
              "      <td>C8</td>\n",
              "      <td>B2</td>\n",
              "      <td>M1</td>\n",
              "      <td>Petrol</td>\n",
              "      <td>113Nm@4400rpm</td>\n",
              "      <td>88.50bhp@6000rpm</td>\n",
              "      <td>F8D Petrol Engine</td>\n",
              "      <td>No</td>\n",
              "      <td>Yes</td>\n",
              "      <td>No</td>\n",
              "      <td>Yes</td>\n",
              "      <td>No</td>\n",
              "      <td>Drum</td>\n",
              "      <td>Manual</td>\n",
              "      <td>Power</td>\n",
              "      <td>Yes</td>\n",
              "      <td>No</td>\n",
              "      <td>No</td>\n",
              "      <td>No</td>\n",
              "      <td>Yes</td>\n",
              "      <td>Yes</td>\n",
              "      <td>Yes</td>\n",
              "      <td>Yes</td>\n",
              "      <td>Yes</td>\n",
              "      <td>No</td>\n",
              "      <td>Yes</td>\n",
              "      <td>Yes</td>\n",
              "    </tr>\n",
              "    <tr>\n",
              "      <th>freq</th>\n",
              "      <td>1</td>\n",
              "      <td>13654</td>\n",
              "      <td>18314</td>\n",
              "      <td>14948</td>\n",
              "      <td>20532</td>\n",
              "      <td>17796</td>\n",
              "      <td>17796</td>\n",
              "      <td>14948</td>\n",
              "      <td>40191</td>\n",
              "      <td>35526</td>\n",
              "      <td>44574</td>\n",
              "      <td>56219</td>\n",
              "      <td>35704</td>\n",
              "      <td>44574</td>\n",
              "      <td>38181</td>\n",
              "      <td>33502</td>\n",
              "      <td>33928</td>\n",
              "      <td>41634</td>\n",
              "      <td>41634</td>\n",
              "      <td>38077</td>\n",
              "      <td>32177</td>\n",
              "      <td>42435</td>\n",
              "      <td>42435</td>\n",
              "      <td>57383</td>\n",
              "      <td>34291</td>\n",
              "      <td>36309</td>\n",
              "      <td>42435</td>\n",
              "      <td>58229</td>\n",
              "    </tr>\n",
              "  </tbody>\n",
              "</table>\n",
              "</div>\n",
              "      <button class=\"colab-df-convert\" onclick=\"convertToInteractive('df-75ec582b-e51d-4213-af2e-0da03ccc2f7d')\"\n",
              "              title=\"Convert this dataframe to an interactive table.\"\n",
              "              style=\"display:none;\">\n",
              "        \n",
              "  <svg xmlns=\"http://www.w3.org/2000/svg\" height=\"24px\"viewBox=\"0 0 24 24\"\n",
              "       width=\"24px\">\n",
              "    <path d=\"M0 0h24v24H0V0z\" fill=\"none\"/>\n",
              "    <path d=\"M18.56 5.44l.94 2.06.94-2.06 2.06-.94-2.06-.94-.94-2.06-.94 2.06-2.06.94zm-11 1L8.5 8.5l.94-2.06 2.06-.94-2.06-.94L8.5 2.5l-.94 2.06-2.06.94zm10 10l.94 2.06.94-2.06 2.06-.94-2.06-.94-.94-2.06-.94 2.06-2.06.94z\"/><path d=\"M17.41 7.96l-1.37-1.37c-.4-.4-.92-.59-1.43-.59-.52 0-1.04.2-1.43.59L10.3 9.45l-7.72 7.72c-.78.78-.78 2.05 0 2.83L4 21.41c.39.39.9.59 1.41.59.51 0 1.02-.2 1.41-.59l7.78-7.78 2.81-2.81c.8-.78.8-2.07 0-2.86zM5.41 20L4 18.59l7.72-7.72 1.47 1.35L5.41 20z\"/>\n",
              "  </svg>\n",
              "      </button>\n",
              "      \n",
              "  <style>\n",
              "    .colab-df-container {\n",
              "      display:flex;\n",
              "      flex-wrap:wrap;\n",
              "      gap: 12px;\n",
              "    }\n",
              "\n",
              "    .colab-df-convert {\n",
              "      background-color: #E8F0FE;\n",
              "      border: none;\n",
              "      border-radius: 50%;\n",
              "      cursor: pointer;\n",
              "      display: none;\n",
              "      fill: #1967D2;\n",
              "      height: 32px;\n",
              "      padding: 0 0 0 0;\n",
              "      width: 32px;\n",
              "    }\n",
              "\n",
              "    .colab-df-convert:hover {\n",
              "      background-color: #E2EBFA;\n",
              "      box-shadow: 0px 1px 2px rgba(60, 64, 67, 0.3), 0px 1px 3px 1px rgba(60, 64, 67, 0.15);\n",
              "      fill: #174EA6;\n",
              "    }\n",
              "\n",
              "    [theme=dark] .colab-df-convert {\n",
              "      background-color: #3B4455;\n",
              "      fill: #D2E3FC;\n",
              "    }\n",
              "\n",
              "    [theme=dark] .colab-df-convert:hover {\n",
              "      background-color: #434B5C;\n",
              "      box-shadow: 0px 1px 3px 1px rgba(0, 0, 0, 0.15);\n",
              "      filter: drop-shadow(0px 1px 2px rgba(0, 0, 0, 0.3));\n",
              "      fill: #FFFFFF;\n",
              "    }\n",
              "  </style>\n",
              "\n",
              "      <script>\n",
              "        const buttonEl =\n",
              "          document.querySelector('#df-75ec582b-e51d-4213-af2e-0da03ccc2f7d button.colab-df-convert');\n",
              "        buttonEl.style.display =\n",
              "          google.colab.kernel.accessAllowed ? 'block' : 'none';\n",
              "\n",
              "        async function convertToInteractive(key) {\n",
              "          const element = document.querySelector('#df-75ec582b-e51d-4213-af2e-0da03ccc2f7d');\n",
              "          const dataTable =\n",
              "            await google.colab.kernel.invokeFunction('convertToInteractive',\n",
              "                                                     [key], {});\n",
              "          if (!dataTable) return;\n",
              "\n",
              "          const docLinkHtml = 'Like what you see? Visit the ' +\n",
              "            '<a target=\"_blank\" href=https://colab.research.google.com/notebooks/data_table.ipynb>data table notebook</a>'\n",
              "            + ' to learn more about interactive tables.';\n",
              "          element.innerHTML = '';\n",
              "          dataTable['output_type'] = 'display_data';\n",
              "          await google.colab.output.renderOutput(dataTable, element);\n",
              "          const docLink = document.createElement('div');\n",
              "          docLink.innerHTML = docLinkHtml;\n",
              "          element.appendChild(docLink);\n",
              "        }\n",
              "      </script>\n",
              "    </div>\n",
              "  </div>\n",
              "  "
            ]
          },
          "metadata": {},
          "execution_count": 147
        },
        {
          "output_type": "stream",
          "name": "stdout",
          "text": [
            "time: 271 ms (started: 2022-11-23 17:00:47 +00:00)\n"
          ]
        }
      ]
    },
    {
      "cell_type": "code",
      "source": [
        "# loading Test data\n",
        "df_test = pd.read_csv('test_zo1G9sv.csv')\n",
        "df_test.head(2)"
      ],
      "metadata": {
        "colab": {
          "base_uri": "https://localhost:8080/",
          "height": 229
        },
        "id": "kb_B6koxXCl8",
        "outputId": "9b637873-38ba-469a-c902-9fa3328d2936"
      },
      "execution_count": 148,
      "outputs": [
        {
          "output_type": "execute_result",
          "data": {
            "text/plain": [
              "  policy_id  policy_tenure  age_of_car  age_of_policyholder area_cluster  \\\n",
              "0   ID58593       0.341732        0.00             0.586538           C3   \n",
              "1   ID58594       0.307241        0.13             0.442308           C8   \n",
              "\n",
              "   population_density  make segment model fuel_type     max_torque  \\\n",
              "0                4076     1       A    M1       CNG   60Nm@3500rpm   \n",
              "1                8794     1      B2    M6    Petrol  113Nm@4400rpm   \n",
              "\n",
              "          max_power        engine_type  airbags is_esc is_adjustable_steering  \\\n",
              "0  40.36bhp@6000rpm  F8D Petrol Engine        2     No                     No   \n",
              "1  88.50bhp@6000rpm  K Series Dual jet        2     No                    Yes   \n",
              "\n",
              "  is_tpms is_parking_sensors is_parking_camera rear_brakes_type  displacement  \\\n",
              "0      No                Yes                No             Drum           796   \n",
              "1      No                Yes                No             Drum          1197   \n",
              "\n",
              "   cylinder transmission_type  gear_box steering_type  turning_radius  length  \\\n",
              "0         3            Manual         5         Power             4.6    3445   \n",
              "1         4            Manual         5      Electric             4.8    3845   \n",
              "\n",
              "   width  height  gross_weight is_front_fog_lights is_rear_window_wiper  \\\n",
              "0   1515    1475          1185                  No                   No   \n",
              "1   1735    1530          1335                 Yes                   No   \n",
              "\n",
              "  is_rear_window_washer is_rear_window_defogger is_brake_assist  \\\n",
              "0                    No                      No              No   \n",
              "1                    No                      No             Yes   \n",
              "\n",
              "  is_power_door_locks is_central_locking is_power_steering  \\\n",
              "0                  No                 No               Yes   \n",
              "1                 Yes                Yes               Yes   \n",
              "\n",
              "  is_driver_seat_height_adjustable is_day_night_rear_view_mirror is_ecw  \\\n",
              "0                               No                            No     No   \n",
              "1                              Yes                           Yes    Yes   \n",
              "\n",
              "  is_speed_alert  ncap_rating  \n",
              "0            Yes            0  \n",
              "1            Yes            2  "
            ],
            "text/html": [
              "\n",
              "  <div id=\"df-a7fea749-ebff-4c17-9d30-376a6bda18bf\">\n",
              "    <div class=\"colab-df-container\">\n",
              "      <div>\n",
              "<style scoped>\n",
              "    .dataframe tbody tr th:only-of-type {\n",
              "        vertical-align: middle;\n",
              "    }\n",
              "\n",
              "    .dataframe tbody tr th {\n",
              "        vertical-align: top;\n",
              "    }\n",
              "\n",
              "    .dataframe thead th {\n",
              "        text-align: right;\n",
              "    }\n",
              "</style>\n",
              "<table border=\"1\" class=\"dataframe\">\n",
              "  <thead>\n",
              "    <tr style=\"text-align: right;\">\n",
              "      <th></th>\n",
              "      <th>policy_id</th>\n",
              "      <th>policy_tenure</th>\n",
              "      <th>age_of_car</th>\n",
              "      <th>age_of_policyholder</th>\n",
              "      <th>area_cluster</th>\n",
              "      <th>population_density</th>\n",
              "      <th>make</th>\n",
              "      <th>segment</th>\n",
              "      <th>model</th>\n",
              "      <th>fuel_type</th>\n",
              "      <th>max_torque</th>\n",
              "      <th>max_power</th>\n",
              "      <th>engine_type</th>\n",
              "      <th>airbags</th>\n",
              "      <th>is_esc</th>\n",
              "      <th>is_adjustable_steering</th>\n",
              "      <th>is_tpms</th>\n",
              "      <th>is_parking_sensors</th>\n",
              "      <th>is_parking_camera</th>\n",
              "      <th>rear_brakes_type</th>\n",
              "      <th>displacement</th>\n",
              "      <th>cylinder</th>\n",
              "      <th>transmission_type</th>\n",
              "      <th>gear_box</th>\n",
              "      <th>steering_type</th>\n",
              "      <th>turning_radius</th>\n",
              "      <th>length</th>\n",
              "      <th>width</th>\n",
              "      <th>height</th>\n",
              "      <th>gross_weight</th>\n",
              "      <th>is_front_fog_lights</th>\n",
              "      <th>is_rear_window_wiper</th>\n",
              "      <th>is_rear_window_washer</th>\n",
              "      <th>is_rear_window_defogger</th>\n",
              "      <th>is_brake_assist</th>\n",
              "      <th>is_power_door_locks</th>\n",
              "      <th>is_central_locking</th>\n",
              "      <th>is_power_steering</th>\n",
              "      <th>is_driver_seat_height_adjustable</th>\n",
              "      <th>is_day_night_rear_view_mirror</th>\n",
              "      <th>is_ecw</th>\n",
              "      <th>is_speed_alert</th>\n",
              "      <th>ncap_rating</th>\n",
              "    </tr>\n",
              "  </thead>\n",
              "  <tbody>\n",
              "    <tr>\n",
              "      <th>0</th>\n",
              "      <td>ID58593</td>\n",
              "      <td>0.341732</td>\n",
              "      <td>0.00</td>\n",
              "      <td>0.586538</td>\n",
              "      <td>C3</td>\n",
              "      <td>4076</td>\n",
              "      <td>1</td>\n",
              "      <td>A</td>\n",
              "      <td>M1</td>\n",
              "      <td>CNG</td>\n",
              "      <td>60Nm@3500rpm</td>\n",
              "      <td>40.36bhp@6000rpm</td>\n",
              "      <td>F8D Petrol Engine</td>\n",
              "      <td>2</td>\n",
              "      <td>No</td>\n",
              "      <td>No</td>\n",
              "      <td>No</td>\n",
              "      <td>Yes</td>\n",
              "      <td>No</td>\n",
              "      <td>Drum</td>\n",
              "      <td>796</td>\n",
              "      <td>3</td>\n",
              "      <td>Manual</td>\n",
              "      <td>5</td>\n",
              "      <td>Power</td>\n",
              "      <td>4.6</td>\n",
              "      <td>3445</td>\n",
              "      <td>1515</td>\n",
              "      <td>1475</td>\n",
              "      <td>1185</td>\n",
              "      <td>No</td>\n",
              "      <td>No</td>\n",
              "      <td>No</td>\n",
              "      <td>No</td>\n",
              "      <td>No</td>\n",
              "      <td>No</td>\n",
              "      <td>No</td>\n",
              "      <td>Yes</td>\n",
              "      <td>No</td>\n",
              "      <td>No</td>\n",
              "      <td>No</td>\n",
              "      <td>Yes</td>\n",
              "      <td>0</td>\n",
              "    </tr>\n",
              "    <tr>\n",
              "      <th>1</th>\n",
              "      <td>ID58594</td>\n",
              "      <td>0.307241</td>\n",
              "      <td>0.13</td>\n",
              "      <td>0.442308</td>\n",
              "      <td>C8</td>\n",
              "      <td>8794</td>\n",
              "      <td>1</td>\n",
              "      <td>B2</td>\n",
              "      <td>M6</td>\n",
              "      <td>Petrol</td>\n",
              "      <td>113Nm@4400rpm</td>\n",
              "      <td>88.50bhp@6000rpm</td>\n",
              "      <td>K Series Dual jet</td>\n",
              "      <td>2</td>\n",
              "      <td>No</td>\n",
              "      <td>Yes</td>\n",
              "      <td>No</td>\n",
              "      <td>Yes</td>\n",
              "      <td>No</td>\n",
              "      <td>Drum</td>\n",
              "      <td>1197</td>\n",
              "      <td>4</td>\n",
              "      <td>Manual</td>\n",
              "      <td>5</td>\n",
              "      <td>Electric</td>\n",
              "      <td>4.8</td>\n",
              "      <td>3845</td>\n",
              "      <td>1735</td>\n",
              "      <td>1530</td>\n",
              "      <td>1335</td>\n",
              "      <td>Yes</td>\n",
              "      <td>No</td>\n",
              "      <td>No</td>\n",
              "      <td>No</td>\n",
              "      <td>Yes</td>\n",
              "      <td>Yes</td>\n",
              "      <td>Yes</td>\n",
              "      <td>Yes</td>\n",
              "      <td>Yes</td>\n",
              "      <td>Yes</td>\n",
              "      <td>Yes</td>\n",
              "      <td>Yes</td>\n",
              "      <td>2</td>\n",
              "    </tr>\n",
              "  </tbody>\n",
              "</table>\n",
              "</div>\n",
              "      <button class=\"colab-df-convert\" onclick=\"convertToInteractive('df-a7fea749-ebff-4c17-9d30-376a6bda18bf')\"\n",
              "              title=\"Convert this dataframe to an interactive table.\"\n",
              "              style=\"display:none;\">\n",
              "        \n",
              "  <svg xmlns=\"http://www.w3.org/2000/svg\" height=\"24px\"viewBox=\"0 0 24 24\"\n",
              "       width=\"24px\">\n",
              "    <path d=\"M0 0h24v24H0V0z\" fill=\"none\"/>\n",
              "    <path d=\"M18.56 5.44l.94 2.06.94-2.06 2.06-.94-2.06-.94-.94-2.06-.94 2.06-2.06.94zm-11 1L8.5 8.5l.94-2.06 2.06-.94-2.06-.94L8.5 2.5l-.94 2.06-2.06.94zm10 10l.94 2.06.94-2.06 2.06-.94-2.06-.94-.94-2.06-.94 2.06-2.06.94z\"/><path d=\"M17.41 7.96l-1.37-1.37c-.4-.4-.92-.59-1.43-.59-.52 0-1.04.2-1.43.59L10.3 9.45l-7.72 7.72c-.78.78-.78 2.05 0 2.83L4 21.41c.39.39.9.59 1.41.59.51 0 1.02-.2 1.41-.59l7.78-7.78 2.81-2.81c.8-.78.8-2.07 0-2.86zM5.41 20L4 18.59l7.72-7.72 1.47 1.35L5.41 20z\"/>\n",
              "  </svg>\n",
              "      </button>\n",
              "      \n",
              "  <style>\n",
              "    .colab-df-container {\n",
              "      display:flex;\n",
              "      flex-wrap:wrap;\n",
              "      gap: 12px;\n",
              "    }\n",
              "\n",
              "    .colab-df-convert {\n",
              "      background-color: #E8F0FE;\n",
              "      border: none;\n",
              "      border-radius: 50%;\n",
              "      cursor: pointer;\n",
              "      display: none;\n",
              "      fill: #1967D2;\n",
              "      height: 32px;\n",
              "      padding: 0 0 0 0;\n",
              "      width: 32px;\n",
              "    }\n",
              "\n",
              "    .colab-df-convert:hover {\n",
              "      background-color: #E2EBFA;\n",
              "      box-shadow: 0px 1px 2px rgba(60, 64, 67, 0.3), 0px 1px 3px 1px rgba(60, 64, 67, 0.15);\n",
              "      fill: #174EA6;\n",
              "    }\n",
              "\n",
              "    [theme=dark] .colab-df-convert {\n",
              "      background-color: #3B4455;\n",
              "      fill: #D2E3FC;\n",
              "    }\n",
              "\n",
              "    [theme=dark] .colab-df-convert:hover {\n",
              "      background-color: #434B5C;\n",
              "      box-shadow: 0px 1px 3px 1px rgba(0, 0, 0, 0.15);\n",
              "      filter: drop-shadow(0px 1px 2px rgba(0, 0, 0, 0.3));\n",
              "      fill: #FFFFFF;\n",
              "    }\n",
              "  </style>\n",
              "\n",
              "      <script>\n",
              "        const buttonEl =\n",
              "          document.querySelector('#df-a7fea749-ebff-4c17-9d30-376a6bda18bf button.colab-df-convert');\n",
              "        buttonEl.style.display =\n",
              "          google.colab.kernel.accessAllowed ? 'block' : 'none';\n",
              "\n",
              "        async function convertToInteractive(key) {\n",
              "          const element = document.querySelector('#df-a7fea749-ebff-4c17-9d30-376a6bda18bf');\n",
              "          const dataTable =\n",
              "            await google.colab.kernel.invokeFunction('convertToInteractive',\n",
              "                                                     [key], {});\n",
              "          if (!dataTable) return;\n",
              "\n",
              "          const docLinkHtml = 'Like what you see? Visit the ' +\n",
              "            '<a target=\"_blank\" href=https://colab.research.google.com/notebooks/data_table.ipynb>data table notebook</a>'\n",
              "            + ' to learn more about interactive tables.';\n",
              "          element.innerHTML = '';\n",
              "          dataTable['output_type'] = 'display_data';\n",
              "          await google.colab.output.renderOutput(dataTable, element);\n",
              "          const docLink = document.createElement('div');\n",
              "          docLink.innerHTML = docLinkHtml;\n",
              "          element.appendChild(docLink);\n",
              "        }\n",
              "      </script>\n",
              "    </div>\n",
              "  </div>\n",
              "  "
            ]
          },
          "metadata": {},
          "execution_count": 148
        },
        {
          "output_type": "stream",
          "name": "stdout",
          "text": [
            "time: 230 ms (started: 2022-11-23 17:00:55 +00:00)\n"
          ]
        }
      ]
    },
    {
      "cell_type": "code",
      "source": [
        "df_test.shape\n",
        "# we have a total of 39k observations in our Test data"
      ],
      "metadata": {
        "colab": {
          "base_uri": "https://localhost:8080/"
        },
        "id": "GN-ZJX3KcEWY",
        "outputId": "6d653ab5-9933-4ed2-d9ef-6a8768636e9f"
      },
      "execution_count": 149,
      "outputs": [
        {
          "output_type": "execute_result",
          "data": {
            "text/plain": [
              "(39063, 43)"
            ]
          },
          "metadata": {},
          "execution_count": 149
        },
        {
          "output_type": "stream",
          "name": "stdout",
          "text": [
            "time: 3.58 ms (started: 2022-11-23 17:00:55 +00:00)\n"
          ]
        }
      ]
    },
    {
      "cell_type": "code",
      "source": [
        "# copying Train and Test data into new DataFrames\n",
        "df_train_take = df_train.copy()\n",
        "df_test_take = df_test.copy()"
      ],
      "metadata": {
        "colab": {
          "base_uri": "https://localhost:8080/"
        },
        "id": "9L6Mv_jDXGvk",
        "outputId": "7398df32-2983-4ee7-f933-898913776526"
      },
      "execution_count": 150,
      "outputs": [
        {
          "output_type": "stream",
          "name": "stdout",
          "text": [
            "time: 20.5 ms (started: 2022-11-23 17:00:56 +00:00)\n"
          ]
        }
      ]
    },
    {
      "cell_type": "code",
      "source": [
        "# removing policy id columns from the new DataFrames\n",
        "df_train_take.drop(['policy_id'], axis = 1, inplace = True)\n",
        "df_test_take.drop(['policy_id'], axis =1, inplace = True)"
      ],
      "metadata": {
        "colab": {
          "base_uri": "https://localhost:8080/"
        },
        "id": "ti90kexgXI_2",
        "outputId": "640651b4-0a1e-4fb8-b9ae-ebc301917aab"
      },
      "execution_count": 151,
      "outputs": [
        {
          "output_type": "stream",
          "name": "stdout",
          "text": [
            "time: 30.5 ms (started: 2022-11-23 17:01:00 +00:00)\n"
          ]
        }
      ]
    },
    {
      "cell_type": "code",
      "source": [
        "df_train['is_claim'].value_counts()\n",
        "# this data is very much imbalanced"
      ],
      "metadata": {
        "colab": {
          "base_uri": "https://localhost:8080/"
        },
        "id": "XofsnNGOXNFS",
        "outputId": "f0ea9a85-d791-446c-c8ec-44d7d57e86d3"
      },
      "execution_count": 152,
      "outputs": [
        {
          "output_type": "execute_result",
          "data": {
            "text/plain": [
              "0    54844\n",
              "1     3748\n",
              "Name: is_claim, dtype: int64"
            ]
          },
          "metadata": {},
          "execution_count": 152
        },
        {
          "output_type": "stream",
          "name": "stdout",
          "text": [
            "time: 6.84 ms (started: 2022-11-23 17:01:00 +00:00)\n"
          ]
        }
      ]
    },
    {
      "cell_type": "code",
      "source": [
        "df_train['is_claim'].value_counts( normalize = True)\n",
        "# this data is very much imbalanced"
      ],
      "metadata": {
        "colab": {
          "base_uri": "https://localhost:8080/"
        },
        "id": "zPO5jniHjxfr",
        "outputId": "af41971f-3d55-4821-ba7b-3ebac76ff570"
      },
      "execution_count": 153,
      "outputs": [
        {
          "output_type": "execute_result",
          "data": {
            "text/plain": [
              "0    0.936032\n",
              "1    0.063968\n",
              "Name: is_claim, dtype: float64"
            ]
          },
          "metadata": {},
          "execution_count": 153
        },
        {
          "output_type": "stream",
          "name": "stdout",
          "text": [
            "time: 9.63 ms (started: 2022-11-23 17:01:03 +00:00)\n"
          ]
        }
      ]
    },
    {
      "cell_type": "code",
      "source": [
        "df_train['is_claim'].value_counts().plot(kind='barh')\n",
        "plt.xlabel('Counts')\n",
        "plt.ylabel('is_claim')\n",
        "plt.title('Distribution of is_claim')\n",
        "plt.show()\n",
        "\n",
        "# from the plot we can clearly see that Data is imbalanced"
      ],
      "metadata": {
        "colab": {
          "base_uri": "https://localhost:8080/",
          "height": 404
        },
        "id": "oZWrzeSgXQXc",
        "outputId": "10308121-1e6f-4304-d92f-82210542c87b"
      },
      "execution_count": 157,
      "outputs": [
        {
          "output_type": "display_data",
          "data": {
            "text/plain": [
              "<Figure size 576x396 with 1 Axes>"
            ],
            "image/png": "[encoded data removed]"
          },
          "metadata": {}
        },
        {
          "output_type": "stream",
          "name": "stdout",
          "text": [
            "time: 319 ms (started: 2022-11-23 17:26:09 +00:00)\n"
          ]
        }
      ]
    },
    {
      "cell_type": "code",
      "source": [
        "df_train_take.shape"
      ],
      "metadata": {
        "colab": {
          "base_uri": "https://localhost:8080/"
        },
        "id": "KHmTgycvddki",
        "outputId": "57d2974a-9851-4583-ed05-bfcf2ec59725"
      },
      "execution_count": 158,
      "outputs": [
        {
          "output_type": "execute_result",
          "data": {
            "text/plain": [
              "(58592, 43)"
            ]
          },
          "metadata": {},
          "execution_count": 158
        },
        {
          "output_type": "stream",
          "name": "stdout",
          "text": [
            "time: 4.13 ms (started: 2022-11-23 17:26:14 +00:00)\n"
          ]
        }
      ]
    },
    {
      "cell_type": "code",
      "source": [
        "# dropping the column 'is_claim' from X and storing it in y\n",
        "X = df_train_take.drop(['is_claim'], axis=1)\n",
        "y = df_train_take['is_claim']\n",
        "X_test = df_test_take.copy()"
      ],
      "metadata": {
        "colab": {
          "base_uri": "https://localhost:8080/"
        },
        "id": "8GwJTh6kXQ50",
        "outputId": "76959ebc-dd87-494a-f544-46fbd81df0f3"
      },
      "execution_count": 159,
      "outputs": [
        {
          "output_type": "stream",
          "name": "stdout",
          "text": [
            "time: 27 ms (started: 2022-11-23 17:26:18 +00:00)\n"
          ]
        }
      ]
    },
    {
      "cell_type": "markdown",
      "source": [
        "## Giving category as indexs to Catboost classifier"
      ],
      "metadata": {
        "id": "pLkTCHWNXXsd"
      }
    },
    {
      "cell_type": "code",
      "source": [
        "# storing all the categorical columns in a variable\n",
        "categorical_features_indices = np.where((df_train_take.dtypes == object).values.astype(int) == 1)[0]\n"
      ],
      "metadata": {
        "colab": {
          "base_uri": "https://localhost:8080/"
        },
        "id": "SRQiO47TXZZC",
        "outputId": "38a8e577-6145-45be-d91a-2af73a11ac8e"
      },
      "execution_count": 160,
      "outputs": [
        {
          "output_type": "stream",
          "name": "stdout",
          "text": [
            "time: 2.76 ms (started: 2022-11-23 17:26:25 +00:00)\n"
          ]
        }
      ]
    },
    {
      "cell_type": "code",
      "source": [
        "X.shape"
      ],
      "metadata": {
        "colab": {
          "base_uri": "https://localhost:8080/"
        },
        "id": "FKvbWpvIdiha",
        "outputId": "b615db75-47e7-45e7-eb7b-8e36b1c0637f"
      },
      "execution_count": 161,
      "outputs": [
        {
          "output_type": "execute_result",
          "data": {
            "text/plain": [
              "(58592, 42)"
            ]
          },
          "metadata": {},
          "execution_count": 161
        },
        {
          "output_type": "stream",
          "name": "stdout",
          "text": [
            "time: 4.62 ms (started: 2022-11-23 17:26:26 +00:00)\n"
          ]
        }
      ]
    },
    {
      "cell_type": "code",
      "source": [
        "# splitting data into train and validation with 30% of validation data\n",
        "X_train, X_val, y_train, y_val = train_test_split(X, y, test_size = 0.3, random_state = 42)\n"
      ],
      "metadata": {
        "colab": {
          "base_uri": "https://localhost:8080/"
        },
        "id": "HGtaJ5O2XeSU",
        "outputId": "dbb73739-0814-4a01-ee55-a6c1561e6172"
      },
      "execution_count": 168,
      "outputs": [
        {
          "output_type": "stream",
          "name": "stdout",
          "text": [
            "time: 43.9 ms (started: 2022-11-23 17:34:48 +00:00)\n"
          ]
        }
      ]
    },
    {
      "cell_type": "code",
      "source": [
        "# shape of training and testing data sets\n",
        "X_train.shape, X_val.shape"
      ],
      "metadata": {
        "colab": {
          "base_uri": "https://localhost:8080/"
        },
        "id": "mkl_qFLrdqSz",
        "outputId": "be6fdda4-4bea-4cb1-dbd6-63863a770b2f"
      },
      "execution_count": 169,
      "outputs": [
        {
          "output_type": "execute_result",
          "data": {
            "text/plain": [
              "((41014, 42), (17578, 42))"
            ]
          },
          "metadata": {},
          "execution_count": 169
        },
        {
          "output_type": "stream",
          "name": "stdout",
          "text": [
            "time: 4.08 ms (started: 2022-11-23 17:34:54 +00:00)\n"
          ]
        }
      ]
    },
    {
      "cell_type": "code",
      "source": [
        "# implementing Catboost with default parameters and scale_pos_weight = 10\n",
        "catboost_base = CatBoostClassifier( random_state = 1, scale_pos_weight = 10, verbose = False)\n",
        "catboost_base.fit(X_train, y_train, cat_features = categorical_features_indices, eval_set = (X_val, y_val))\n",
        "print('\\n')"
      ],
      "metadata": {
        "colab": {
          "base_uri": "https://localhost:8080/"
        },
        "id": "JDqaPppoXi5O",
        "outputId": "9dda549f-9583-4cdf-eed0-d8071521cf82"
      },
      "execution_count": 167,
      "outputs": [
        {
          "output_type": "stream",
          "name": "stdout",
          "text": [
            "\n",
            "\n",
            "time: 1min 54s (started: 2022-11-23 17:32:54 +00:00)\n"
          ]
        }
      ]
    },
    {
      "cell_type": "code",
      "source": [
        "# predicting on the Train data\n",
        "y_train_pred_CB = catboost_base.predict(X_train)\n",
        "\n",
        "# predicting on the Validaiton data\n",
        "y_test_pred_CB = catboost_base.predict(X_val)\n",
        "\n",
        "# predicting on the actual given Test data\n",
        "y_pred = catboost_base.predict(X_test)\n"
      ],
      "metadata": {
        "colab": {
          "base_uri": "https://localhost:8080/"
        },
        "id": "vwIe_ha7DcC4",
        "outputId": "4023d283-309b-4e47-ba4b-0821eda09aaf"
      },
      "execution_count": 170,
      "outputs": [
        {
          "output_type": "stream",
          "name": "stdout",
          "text": [
            "time: 655 ms (started: 2022-11-23 17:35:07 +00:00)\n"
          ]
        }
      ]
    },
    {
      "cell_type": "markdown",
      "source": [
        "## Evaluation Metrics"
      ],
      "metadata": {
        "id": "I4MI_EdPk2am"
      }
    },
    {
      "cell_type": "code",
      "source": [
        "# function to evaluate our model using different metrics\n",
        "\n",
        "# values to be passed :\n",
        "# model_name = Our Model name, model = classifier used used to predict, y_train_pred, y_test_pred, x_train, x_test\n",
        "\n",
        "y_test = y_val\n",
        "model_name = 'Catboost Classifier'\n",
        "evaluate_model(model_name, catboost_base, y_train_pred_CB, y_test_pred_CB, X_train, X_val);"
      ],
      "metadata": {
        "colab": {
          "base_uri": "https://localhost:8080/",
          "height": 1000
        },
        "id": "72kGndBOh5ZF",
        "outputId": "9d35d376-7543-48b9-aab5-fc2b05dcd9ba"
      },
      "execution_count": 174,
      "outputs": [
        {
          "output_type": "stream",
          "name": "stdout",
          "text": [
            "Printing various Evaluation metrics for our Catboost Classifier model...........\n",
            "\n",
            "\n",
            "Train Accuracy : 0.823621202516214\n",
            "Test Accuracy : 0.8152804642166345\n",
            "\n",
            "\n",
            "============================================================\n",
            "\n",
            "\n",
            "Train Confusion Matrix:\n",
            "[[32978  5449]\n",
            " [ 1785   802]]\n",
            "Test Confusion Matrix:\n",
            "[[13996  2421]\n",
            " [  826   335]]\n",
            "\n",
            "\n",
            "============================================================\n",
            "\n",
            "\n",
            "Classification report for our Model's Training data:\n",
            "----------------------------------------------------\n",
            "              precision    recall  f1-score   support\n",
            "\n",
            "           0       0.95      0.86      0.90     38427\n",
            "           1       0.13      0.31      0.18      2587\n",
            "\n",
            "    accuracy                           0.82     41014\n",
            "   macro avg       0.54      0.58      0.54     41014\n",
            "weighted avg       0.90      0.82      0.86     41014\n",
            "\n",
            "\n",
            "\n",
            "============================================================\n",
            "\n",
            "\n",
            "Classification report for our Model's Test data:\n",
            "----------------------------------------------------\n",
            "              precision    recall  f1-score   support\n",
            "\n",
            "           0       0.94      0.85      0.90     16417\n",
            "           1       0.12      0.29      0.17      1161\n",
            "\n",
            "    accuracy                           0.82     17578\n",
            "   macro avg       0.53      0.57      0.53     17578\n",
            "weighted avg       0.89      0.82      0.85     17578\n",
            "\n",
            "\n",
            "\n",
            "============================================================\n",
            "\n",
            "\n",
            "AUC scores for \n",
            "Train data is : 0.5841051294212958  & \n",
            "Test data is : 0.5705376356948536\n",
            "\n",
            "\n",
            "============================================================\n",
            "\n",
            "\n",
            "Plotting AUC ROC curves for Train and Test Data\n"
          ]
        },
        {
          "output_type": "display_data",
          "data": {
            "text/plain": [
              "<Figure size 576x396 with 1 Axes>"
            ],
            "image/png": "[encoded data removed]"
          },
          "metadata": {}
        },
        {
          "output_type": "stream",
          "name": "stdout",
          "text": [
            "\n",
            "\n",
            "Plotting Train and Test Confusion matrices\n"
          ]
        },
        {
          "output_type": "display_data",
          "data": {
            "text/plain": [
              "<Figure size 864x360 with 4 Axes>"
            ],
            "image/png": "[encoded data removed]"
          },
          "metadata": {}
        },
        {
          "output_type": "stream",
          "name": "stdout",
          "text": [
            "\n",
            "\n",
            "Printing F1-scores for our Catboost Classifier model\n",
            "============================================================\n",
            "\n",
            "\n",
            "For Train data: \n",
            "  0.18148902466621408\n",
            "For Test data: \n",
            "  0.17104927240234874\n",
            "\n",
            "\n",
            "time: 3.92 s (started: 2022-11-23 17:36:39 +00:00)\n"
          ]
        }
      ]
    },
    {
      "cell_type": "code",
      "source": [
        "# storing f1 scores of Train and Test data in another variable to tabulate them at a larger stage\n",
        "f1_Score_train_CB = 0.18148902466621408\n",
        "f1_Score_test_CB = 0.17104927240234874"
      ],
      "metadata": {
        "colab": {
          "base_uri": "https://localhost:8080/"
        },
        "id": "gJrUbuwwkG3m",
        "outputId": "2465223a-82e6-4469-db3b-a987e5a08b86"
      },
      "execution_count": 177,
      "outputs": [
        {
          "output_type": "stream",
          "name": "stdout",
          "text": [
            "time: 10.3 ms (started: 2022-11-23 17:38:19 +00:00)\n"
          ]
        }
      ]
    },
    {
      "cell_type": "code",
      "source": [
        "print(\"F1-score of Train data using Catboost Classifier is : \", f1_Score_train_CB)\n",
        "print(\"F1-score of Test data using Catboost Classifier is : \", f1_Score_test_CB)"
      ],
      "metadata": {
        "colab": {
          "base_uri": "https://localhost:8080/"
        },
        "id": "7YnkoDpjkYtS",
        "outputId": "1528af14-0ed0-48a6-c861-67fb123ba23f"
      },
      "execution_count": 201,
      "outputs": [
        {
          "output_type": "stream",
          "name": "stdout",
          "text": [
            "F1-score of Train data using Catboost Classifier is :  0.18148902466621408\n",
            "F1-score of Test data using Catboost Classifier is :  0.17104927240234874\n",
            "time: 3.09 ms (started: 2022-11-23 17:53:18 +00:00)\n"
          ]
        }
      ]
    },
    {
      "cell_type": "code",
      "source": [
        "# predicting the given test data with our model\n",
        "y_pred = catboost_base.predict(X_test)\n"
      ],
      "metadata": {
        "colab": {
          "base_uri": "https://localhost:8080/"
        },
        "id": "gUPheFt9XkdS",
        "outputId": "1896578d-6004-4406-8312-02c0b90ca758"
      },
      "execution_count": 179,
      "outputs": [
        {
          "output_type": "stream",
          "name": "stdout",
          "text": [
            "time: 269 ms (started: 2022-11-23 17:38:46 +00:00)\n"
          ]
        }
      ]
    },
    {
      "cell_type": "code",
      "source": [
        "# loading the sample submission file given to us\n",
        "submission_df = pd.read_csv('sample_submission_KvRh9Sx.csv')\n",
        "submission_df.head(2)"
      ],
      "metadata": {
        "colab": {
          "base_uri": "https://localhost:8080/",
          "height": 130
        },
        "id": "Bw_aye17ZBDr",
        "outputId": "537d4be8-abda-4580-cd5a-d07cc8f89b55"
      },
      "execution_count": 180,
      "outputs": [
        {
          "output_type": "execute_result",
          "data": {
            "text/plain": [
              "  policy_id  is_claim\n",
              "0   ID58593         1\n",
              "1   ID58594         1"
            ],
            "text/html": [
              "\n",
              "  <div id=\"df-ea498e27-af06-4e55-87ab-15a32f9d55c1\">\n",
              "    <div class=\"colab-df-container\">\n",
              "      <div>\n",
              "<style scoped>\n",
              "    .dataframe tbody tr th:only-of-type {\n",
              "        vertical-align: middle;\n",
              "    }\n",
              "\n",
              "    .dataframe tbody tr th {\n",
              "        vertical-align: top;\n",
              "    }\n",
              "\n",
              "    .dataframe thead th {\n",
              "        text-align: right;\n",
              "    }\n",
              "</style>\n",
              "<table border=\"1\" class=\"dataframe\">\n",
              "  <thead>\n",
              "    <tr style=\"text-align: right;\">\n",
              "      <th></th>\n",
              "      <th>policy_id</th>\n",
              "      <th>is_claim</th>\n",
              "    </tr>\n",
              "  </thead>\n",
              "  <tbody>\n",
              "    <tr>\n",
              "      <th>0</th>\n",
              "      <td>ID58593</td>\n",
              "      <td>1</td>\n",
              "    </tr>\n",
              "    <tr>\n",
              "      <th>1</th>\n",
              "      <td>ID58594</td>\n",
              "      <td>1</td>\n",
              "    </tr>\n",
              "  </tbody>\n",
              "</table>\n",
              "</div>\n",
              "      <button class=\"colab-df-convert\" onclick=\"convertToInteractive('df-ea498e27-af06-4e55-87ab-15a32f9d55c1')\"\n",
              "              title=\"Convert this dataframe to an interactive table.\"\n",
              "              style=\"display:none;\">\n",
              "        \n",
              "  <svg xmlns=\"http://www.w3.org/2000/svg\" height=\"24px\"viewBox=\"0 0 24 24\"\n",
              "       width=\"24px\">\n",
              "    <path d=\"M0 0h24v24H0V0z\" fill=\"none\"/>\n",
              "    <path d=\"M18.56 5.44l.94 2.06.94-2.06 2.06-.94-2.06-.94-.94-2.06-.94 2.06-2.06.94zm-11 1L8.5 8.5l.94-2.06 2.06-.94-2.06-.94L8.5 2.5l-.94 2.06-2.06.94zm10 10l.94 2.06.94-2.06 2.06-.94-2.06-.94-.94-2.06-.94 2.06-2.06.94z\"/><path d=\"M17.41 7.96l-1.37-1.37c-.4-.4-.92-.59-1.43-.59-.52 0-1.04.2-1.43.59L10.3 9.45l-7.72 7.72c-.78.78-.78 2.05 0 2.83L4 21.41c.39.39.9.59 1.41.59.51 0 1.02-.2 1.41-.59l7.78-7.78 2.81-2.81c.8-.78.8-2.07 0-2.86zM5.41 20L4 18.59l7.72-7.72 1.47 1.35L5.41 20z\"/>\n",
              "  </svg>\n",
              "      </button>\n",
              "      \n",
              "  <style>\n",
              "    .colab-df-container {\n",
              "      display:flex;\n",
              "      flex-wrap:wrap;\n",
              "      gap: 12px;\n",
              "    }\n",
              "\n",
              "    .colab-df-convert {\n",
              "      background-color: #E8F0FE;\n",
              "      border: none;\n",
              "      border-radius: 50%;\n",
              "      cursor: pointer;\n",
              "      display: none;\n",
              "      fill: #1967D2;\n",
              "      height: 32px;\n",
              "      padding: 0 0 0 0;\n",
              "      width: 32px;\n",
              "    }\n",
              "\n",
              "    .colab-df-convert:hover {\n",
              "      background-color: #E2EBFA;\n",
              "      box-shadow: 0px 1px 2px rgba(60, 64, 67, 0.3), 0px 1px 3px 1px rgba(60, 64, 67, 0.15);\n",
              "      fill: #174EA6;\n",
              "    }\n",
              "\n",
              "    [theme=dark] .colab-df-convert {\n",
              "      background-color: #3B4455;\n",
              "      fill: #D2E3FC;\n",
              "    }\n",
              "\n",
              "    [theme=dark] .colab-df-convert:hover {\n",
              "      background-color: #434B5C;\n",
              "      box-shadow: 0px 1px 3px 1px rgba(0, 0, 0, 0.15);\n",
              "      filter: drop-shadow(0px 1px 2px rgba(0, 0, 0, 0.3));\n",
              "      fill: #FFFFFF;\n",
              "    }\n",
              "  </style>\n",
              "\n",
              "      <script>\n",
              "        const buttonEl =\n",
              "          document.querySelector('#df-ea498e27-af06-4e55-87ab-15a32f9d55c1 button.colab-df-convert');\n",
              "        buttonEl.style.display =\n",
              "          google.colab.kernel.accessAllowed ? 'block' : 'none';\n",
              "\n",
              "        async function convertToInteractive(key) {\n",
              "          const element = document.querySelector('#df-ea498e27-af06-4e55-87ab-15a32f9d55c1');\n",
              "          const dataTable =\n",
              "            await google.colab.kernel.invokeFunction('convertToInteractive',\n",
              "                                                     [key], {});\n",
              "          if (!dataTable) return;\n",
              "\n",
              "          const docLinkHtml = 'Like what you see? Visit the ' +\n",
              "            '<a target=\"_blank\" href=https://colab.research.google.com/notebooks/data_table.ipynb>data table notebook</a>'\n",
              "            + ' to learn more about interactive tables.';\n",
              "          element.innerHTML = '';\n",
              "          dataTable['output_type'] = 'display_data';\n",
              "          await google.colab.output.renderOutput(dataTable, element);\n",
              "          const docLink = document.createElement('div');\n",
              "          docLink.innerHTML = docLinkHtml;\n",
              "          element.appendChild(docLink);\n",
              "        }\n",
              "      </script>\n",
              "    </div>\n",
              "  </div>\n",
              "  "
            ]
          },
          "metadata": {},
          "execution_count": 180
        },
        {
          "output_type": "stream",
          "name": "stdout",
          "text": [
            "time: 605 ms (started: 2022-11-23 17:38:50 +00:00)\n"
          ]
        }
      ]
    },
    {
      "cell_type": "code",
      "source": [
        "# taking the 'policy_id' given in our test data to our submission DataFrame\n",
        "submission_df['policy_id'] = df_test['policy_id']\n"
      ],
      "metadata": {
        "colab": {
          "base_uri": "https://localhost:8080/"
        },
        "id": "ddnzgqRrY6cO",
        "outputId": "f0f071e6-c37c-4536-b89c-87cba0801cfc"
      },
      "execution_count": 181,
      "outputs": [
        {
          "output_type": "stream",
          "name": "stdout",
          "text": [
            "time: 4.47 ms (started: 2022-11-23 17:38:54 +00:00)\n"
          ]
        }
      ]
    },
    {
      "cell_type": "code",
      "source": [
        "# storing the predicted value in 'is_claim' column of our submission DataFrame\n",
        "submission_df['is_claim'] = y_pred\n"
      ],
      "metadata": {
        "colab": {
          "base_uri": "https://localhost:8080/"
        },
        "id": "HWjyAaEfZDr4",
        "outputId": "d8da7865-93a4-43ee-a81b-7e40901fda51"
      },
      "execution_count": 182,
      "outputs": [
        {
          "output_type": "stream",
          "name": "stdout",
          "text": [
            "time: 1.44 ms (started: 2022-11-23 17:38:57 +00:00)\n"
          ]
        }
      ]
    },
    {
      "cell_type": "code",
      "source": [
        "print(\"Percentage of each status present in our column 'is_claim'\")\n",
        "(submission_df['is_claim'].value_counts(normalize = True) ) * 100"
      ],
      "metadata": {
        "colab": {
          "base_uri": "https://localhost:8080/"
        },
        "id": "HkbtxXiKloIc",
        "outputId": "b2061085-939f-4f33-cbf8-4f3fcdf71d2d"
      },
      "execution_count": 196,
      "outputs": [
        {
          "output_type": "stream",
          "name": "stdout",
          "text": [
            "Percentage of each status present in our column 'is_claim'\n"
          ]
        },
        {
          "output_type": "execute_result",
          "data": {
            "text/plain": [
              "0    84.3714\n",
              "1    15.6286\n",
              "Name: is_claim, dtype: float64"
            ]
          },
          "metadata": {},
          "execution_count": 196
        },
        {
          "output_type": "stream",
          "name": "stdout",
          "text": [
            "time: 18.7 ms (started: 2022-11-23 17:47:59 +00:00)\n"
          ]
        }
      ]
    },
    {
      "cell_type": "code",
      "source": [
        "print(\"Occurrences of each status present in our column 'is_claim'\")\n",
        "submission_df['is_claim'].value_counts()\n"
      ],
      "metadata": {
        "colab": {
          "base_uri": "https://localhost:8080/"
        },
        "id": "d5ocWjLtZFnk",
        "outputId": "1012194c-12b7-4fb1-b4c1-0c1569466c4a"
      },
      "execution_count": 197,
      "outputs": [
        {
          "output_type": "stream",
          "name": "stdout",
          "text": [
            "Occurrences of each status present in our column 'is_claim'\n"
          ]
        },
        {
          "output_type": "execute_result",
          "data": {
            "text/plain": [
              "0    32958\n",
              "1     6105\n",
              "Name: is_claim, dtype: int64"
            ]
          },
          "metadata": {},
          "execution_count": 197
        },
        {
          "output_type": "stream",
          "name": "stdout",
          "text": [
            "time: 14.8 ms (started: 2022-11-23 17:48:21 +00:00)\n"
          ]
        }
      ]
    },
    {
      "cell_type": "code",
      "source": [
        "# storing our submission results into a csv file\n",
        "submission_df.to_csv('submission_catboost_best.csv', index = False) # index = False to avoid row index values in our CSV\n"
      ],
      "metadata": {
        "colab": {
          "base_uri": "https://localhost:8080/"
        },
        "id": "Q5qZHmJSZIFZ",
        "outputId": "4c15c97d-f5e9-48ed-d907-a2e5d354016b"
      },
      "execution_count": 184,
      "outputs": [
        {
          "output_type": "stream",
          "name": "stdout",
          "text": [
            "time: 695 ms (started: 2022-11-23 17:39:05 +00:00)\n"
          ]
        }
      ]
    },
    {
      "cell_type": "markdown",
      "source": [
        "# Tabulating our results\n",
        "---"
      ],
      "metadata": {
        "id": "s4JK02POkp16"
      }
    },
    {
      "cell_type": "code",
      "source": [
        "from prettytable import PrettyTable\n",
        "\n",
        "# initializing a table\n",
        "table = PrettyTable()\n",
        "\n",
        "# adding title\n",
        "table.title = \"Peformance of Insurance Claim Prediction modelling overview\" \n",
        "# adding fields\n",
        "table.field_names = [\"Model\", \"Test F1-score\"] \n",
        "\n",
        "\n",
        "# adding rows to our table\n",
        "table.add_row(['LGBM', f1_Score_test_LGBM])\n",
        "table.add_row(['Catboost Classifier', f1_Score_test_CB])\n",
        "\n",
        "# printing the table\n",
        "print(table)"
      ],
      "metadata": {
        "colab": {
          "base_uri": "https://localhost:8080/"
        },
        "id": "LAkQEhkCkxPY",
        "outputId": "328cad2a-389d-49de-b005-ec387e24b389"
      },
      "execution_count": 199,
      "outputs": [
        {
          "output_type": "stream",
          "name": "stdout",
          "text": [
            "+-------------------------------------------------------------+\n",
            "| Peformance of Insurance Claim Prediction modelling overview |\n",
            "+------------------------------+------------------------------+\n",
            "|            Model             |        Test F1-score         |\n",
            "+------------------------------+------------------------------+\n",
            "|             LGBM             |      0.178256611165524       |\n",
            "|     Catboost Classifier      |     0.17104927240234874      |\n",
            "+------------------------------+------------------------------+\n",
            "time: 3.51 ms (started: 2022-11-23 17:49:10 +00:00)\n"
          ]
        }
      ]
    }
  ]
}