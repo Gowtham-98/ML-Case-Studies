{
  "nbformat": 4,
  "nbformat_minor": 0,
  "metadata": {
    "colab": {
      "provenance": [],
      "collapsed_sections": []
    },
    "kernelspec": {
      "name": "python3",
      "display_name": "Python 3"
    },
    "language_info": {
      "name": "python"
    }
  },
  "cells": [
    {
      "cell_type": "code",
      "source": [
        "# importing required libraries / packages\n",
        "\n",
        "%matplotlib inline\n",
        "\n",
        "import warnings \n",
        "warnings.filterwarnings(\"ignore\")\n",
        "\n",
        "import numpy as np\n",
        "import pandas as pd\n",
        "import nltk\n",
        "import matplotlib.pyplot as plt\n",
        "import seaborn as sns\n",
        "import re\n",
        "import pickle \n",
        "import os \n",
        "\n",
        "nltk.download('vader_lexicon')\n",
        "\n",
        "from scipy. sparse import csr_matrix\n",
        "from xgboost import XGBClassifier\n",
        "from sklearn import tree\n",
        "from nltk.corpus import stopwords\n",
        "from sklearn.tree import DecisionTreeClassifier\n",
        "from nltk.sentiment.vader import SentimentIntensityAnalyzer\n",
        "from collections import Counter\n",
        "from sklearn.feature_extraction.text import TfidfVectorizer\n",
        "from sklearn.feature_extraction.text import CountVectorizer\n",
        "from sklearn.metrics import confusion_matrix, roc_curve, auc, ConfusionMatrixDisplay, RocCurveDisplay, roc_auc_score, accuracy_score, classification_report\n",
        "from sklearn.model_selection import train_test_split, cross_val_score, KFold, StratifiedKFold, GridSearchCV, RandomizedSearchCV\n",
        "from sklearn import metrics \n",
        "from tqdm import tqdm\n",
        "from sklearn.preprocessing import Normalizer, StandardScaler, MinMaxScaler\n",
        "from scipy.sparse import hstack\n",
        "from sklearn.naive_bayes import MultinomialNB\n",
        "from scipy.stats import randint\n",
        "from prettytable import PrettyTable"
      ],
      "metadata": {
        "id": "N93g4EuuiCq0",
        "colab": {
          "base_uri": "https://localhost:8080/"
        },
        "outputId": "8e1c1db1-92a0-4595-ab4e-d0c2e30cf2d6"
      },
      "execution_count": 2,
      "outputs": [
        {
          "output_type": "stream",
          "name": "stderr",
          "text": [
            "[nltk_data] Downloading package vader_lexicon to /root/nltk_data...\n"
          ]
        }
      ]
    },
    {
      "cell_type": "code",
      "source": [
        "from sklearn.experimental import enable_halving_search_cv \n",
        "from sklearn.model_selection import HalvingGridSearchCV, HalvingRandomSearchCV"
      ],
      "metadata": {
        "id": "tNRNTrJdyErT"
      },
      "execution_count": 3,
      "outputs": []
    },
    {
      "cell_type": "code",
      "source": [
        "!pip install ipython-autotime"
      ],
      "metadata": {
        "id": "ieUjrznc6xib",
        "colab": {
          "base_uri": "https://localhost:8080/"
        },
        "outputId": "301551cd-7181-4c48-cd07-b2dd35711352"
      },
      "execution_count": 4,
      "outputs": [
        {
          "output_type": "stream",
          "name": "stdout",
          "text": [
            "Looking in indexes: https://pypi.org/simple, https://us-python.pkg.dev/colab-wheels/public/simple/\n",
            "Collecting ipython-autotime\n",
            "  Downloading ipython_autotime-0.3.1-py2.py3-none-any.whl (6.8 kB)\n",
            "Requirement already satisfied: ipython in /usr/local/lib/python3.7/dist-packages (from ipython-autotime) (7.9.0)\n",
            "Requirement already satisfied: pygments in /usr/local/lib/python3.7/dist-packages (from ipython->ipython-autotime) (2.6.1)\n",
            "Requirement already satisfied: pexpect in /usr/local/lib/python3.7/dist-packages (from ipython->ipython-autotime) (4.8.0)\n",
            "Requirement already satisfied: setuptools>=18.5 in /usr/local/lib/python3.7/dist-packages (from ipython->ipython-autotime) (57.4.0)\n",
            "Requirement already satisfied: prompt-toolkit<2.1.0,>=2.0.0 in /usr/local/lib/python3.7/dist-packages (from ipython->ipython-autotime) (2.0.10)\n",
            "Requirement already satisfied: backcall in /usr/local/lib/python3.7/dist-packages (from ipython->ipython-autotime) (0.2.0)\n",
            "Requirement already satisfied: pickleshare in /usr/local/lib/python3.7/dist-packages (from ipython->ipython-autotime) (0.7.5)\n",
            "Collecting jedi>=0.10\n",
            "  Downloading jedi-0.18.1-py2.py3-none-any.whl (1.6 MB)\n",
            "\u001b[K     |████████████████████████████████| 1.6 MB 15.8 MB/s \n",
            "\u001b[?25hRequirement already satisfied: decorator in /usr/local/lib/python3.7/dist-packages (from ipython->ipython-autotime) (4.4.2)\n",
            "Requirement already satisfied: traitlets>=4.2 in /usr/local/lib/python3.7/dist-packages (from ipython->ipython-autotime) (5.1.1)\n",
            "Requirement already satisfied: parso<0.9.0,>=0.8.0 in /usr/local/lib/python3.7/dist-packages (from jedi>=0.10->ipython->ipython-autotime) (0.8.3)\n",
            "Requirement already satisfied: wcwidth in /usr/local/lib/python3.7/dist-packages (from prompt-toolkit<2.1.0,>=2.0.0->ipython->ipython-autotime) (0.2.5)\n",
            "Requirement already satisfied: six>=1.9.0 in /usr/local/lib/python3.7/dist-packages (from prompt-toolkit<2.1.0,>=2.0.0->ipython->ipython-autotime) (1.15.0)\n",
            "Requirement already satisfied: ptyprocess>=0.5 in /usr/local/lib/python3.7/dist-packages (from pexpect->ipython->ipython-autotime) (0.7.0)\n",
            "Installing collected packages: jedi, ipython-autotime\n",
            "Successfully installed ipython-autotime-0.3.1 jedi-0.18.1\n"
          ]
        }
      ]
    },
    {
      "cell_type": "code",
      "source": [
        "%load_ext autotime"
      ],
      "metadata": {
        "colab": {
          "base_uri": "https://localhost:8080/"
        },
        "id": "pUeb42vu6x_V",
        "outputId": "7c6c1706-ad18-4414-f92a-d7f8074c8f49"
      },
      "execution_count": 5,
      "outputs": [
        {
          "output_type": "stream",
          "name": "stdout",
          "text": [
            "time: 530 µs (started: 2022-11-08 01:27:54 +00:00)\n"
          ]
        }
      ]
    },
    {
      "cell_type": "code",
      "source": [
        "#please use  glove vectors if you are using TFIDF + W2V vectorization in this code\n",
        "with open('glove_vectors', 'rb') as f:\n",
        "    model = pickle.load(f)\n",
        "    glove_words =  set(model.keys())"
      ],
      "metadata": {
        "id": "bp0hB4SYciKK",
        "colab": {
          "base_uri": "https://localhost:8080/"
        },
        "outputId": "403cf4c2-a95e-4c28-a953-f7b485dbb369"
      },
      "execution_count": 7,
      "outputs": [
        {
          "output_type": "stream",
          "name": "stdout",
          "text": [
            "time: 2.32 s (started: 2022-11-08 01:27:54 +00:00)\n"
          ]
        }
      ]
    },
    {
      "cell_type": "code",
      "source": [
        "# loading the preprocessed data, can check number of records using 'nrows'\n",
        "data = pd.read_csv('preprocessed_project_data.csv', nrows = 50000)"
      ],
      "metadata": {
        "id": "FHHoX1iLTHwG",
        "colab": {
          "base_uri": "https://localhost:8080/"
        },
        "outputId": "65239fa4-1f06-4e46-8b91-4d954015fb69"
      },
      "execution_count": 10,
      "outputs": [
        {
          "output_type": "stream",
          "name": "stdout",
          "text": [
            "time: 2.23 s (started: 2022-11-08 01:30:20 +00:00)\n"
          ]
        }
      ]
    },
    {
      "cell_type": "code",
      "source": [
        "# checking for any Null values\n",
        "data.isnull().sum()"
      ],
      "metadata": {
        "colab": {
          "base_uri": "https://localhost:8080/"
        },
        "id": "iF-CJxUZWz7z",
        "outputId": "9ed3185b-3424-4fdb-f15f-799ff8e3c058"
      },
      "execution_count": 11,
      "outputs": [
        {
          "output_type": "execute_result",
          "data": {
            "text/plain": [
              "teacher_prefix                                   0\n",
              "school_state                                     0\n",
              "project_grade_category                           0\n",
              "project_subject_categories                       0\n",
              "project_subject_subcategories                    0\n",
              "project_title                                   23\n",
              "project_resource_summary                         0\n",
              "teacher_number_of_previously_posted_projects     0\n",
              "project_is_approved                              0\n",
              "essay                                            0\n",
              "price                                            0\n",
              "quantity                                         0\n",
              "negative_score                                   0\n",
              "positive_score                                   0\n",
              "neutral_score                                    0\n",
              "compound_score                                   0\n",
              "dtype: int64"
            ]
          },
          "metadata": {},
          "execution_count": 11
        },
        {
          "output_type": "stream",
          "name": "stdout",
          "text": [
            "time: 44 ms (started: 2022-11-08 01:30:38 +00:00)\n"
          ]
        }
      ]
    },
    {
      "cell_type": "code",
      "source": [
        "data.shape"
      ],
      "metadata": {
        "colab": {
          "base_uri": "https://localhost:8080/"
        },
        "id": "eb0cGRIqXpNK",
        "outputId": "3f4da152-4862-4401-912a-2d3ed09e32c1"
      },
      "execution_count": 12,
      "outputs": [
        {
          "output_type": "execute_result",
          "data": {
            "text/plain": [
              "(50000, 16)"
            ]
          },
          "metadata": {},
          "execution_count": 12
        },
        {
          "output_type": "stream",
          "name": "stdout",
          "text": [
            "time: 4.51 ms (started: 2022-11-08 01:30:42 +00:00)\n"
          ]
        }
      ]
    },
    {
      "cell_type": "code",
      "source": [
        "# we are removing null values present in project title column since they are of very small in number\n",
        "data = data.dropna( axis=0, how=\"any\", thresh = None, subset = None, inplace = False)"
      ],
      "metadata": {
        "id": "PTztCo5iXJvX",
        "colab": {
          "base_uri": "https://localhost:8080/"
        },
        "outputId": "a754554f-8218-4ba2-c4af-f689f0f79d81"
      },
      "execution_count": 13,
      "outputs": [
        {
          "output_type": "stream",
          "name": "stdout",
          "text": [
            "time: 43.8 ms (started: 2022-11-08 01:30:44 +00:00)\n"
          ]
        }
      ]
    },
    {
      "cell_type": "code",
      "source": [
        "data.shape"
      ],
      "metadata": {
        "colab": {
          "base_uri": "https://localhost:8080/"
        },
        "id": "UJTkWIRQVIj-",
        "outputId": "e937afad-1751-4419-dce9-5db2a208244b"
      },
      "execution_count": 14,
      "outputs": [
        {
          "output_type": "execute_result",
          "data": {
            "text/plain": [
              "(49977, 16)"
            ]
          },
          "metadata": {},
          "execution_count": 14
        },
        {
          "output_type": "stream",
          "name": "stdout",
          "text": [
            "time: 4.85 ms (started: 2022-11-08 01:30:47 +00:00)\n"
          ]
        }
      ]
    },
    {
      "cell_type": "code",
      "source": [
        "data.isnull().sum() # now we have no null values in our data"
      ],
      "metadata": {
        "colab": {
          "base_uri": "https://localhost:8080/"
        },
        "id": "V9xUvIslcLbw",
        "outputId": "17bbfe91-8ae1-4684-9712-c27e31f51e30"
      },
      "execution_count": 15,
      "outputs": [
        {
          "output_type": "execute_result",
          "data": {
            "text/plain": [
              "teacher_prefix                                  0\n",
              "school_state                                    0\n",
              "project_grade_category                          0\n",
              "project_subject_categories                      0\n",
              "project_subject_subcategories                   0\n",
              "project_title                                   0\n",
              "project_resource_summary                        0\n",
              "teacher_number_of_previously_posted_projects    0\n",
              "project_is_approved                             0\n",
              "essay                                           0\n",
              "price                                           0\n",
              "quantity                                        0\n",
              "negative_score                                  0\n",
              "positive_score                                  0\n",
              "neutral_score                                   0\n",
              "compound_score                                  0\n",
              "dtype: int64"
            ]
          },
          "metadata": {},
          "execution_count": 15
        },
        {
          "output_type": "stream",
          "name": "stdout",
          "text": [
            "time: 51.6 ms (started: 2022-11-08 01:30:50 +00:00)\n"
          ]
        }
      ]
    },
    {
      "cell_type": "code",
      "source": [
        "y = data['project_is_approved'].values # storing the values of the column 'project_is_approved' in a variable 'y'\n",
        "x = data.drop(['project_is_approved'], axis = 1)  # droping the column 'project_is_approved' from our original data and storing rest of the values in 'x'"
      ],
      "metadata": {
        "id": "03Eq94_QVUkN",
        "colab": {
          "base_uri": "https://localhost:8080/"
        },
        "outputId": "26646bc3-d392-4243-9e56-1030bd2c51dc"
      },
      "execution_count": 16,
      "outputs": [
        {
          "output_type": "stream",
          "name": "stdout",
          "text": [
            "time: 11.4 ms (started: 2022-11-08 01:30:53 +00:00)\n"
          ]
        }
      ]
    },
    {
      "cell_type": "code",
      "source": [
        "#yy = pd.DataFrame(y)"
      ],
      "metadata": {
        "colab": {
          "base_uri": "https://localhost:8080/"
        },
        "id": "o8ERhAifmIH7",
        "outputId": "f9cc9040-cc93-40f5-bf94-6b22db05ff11"
      },
      "execution_count": null,
      "outputs": [
        {
          "output_type": "stream",
          "name": "stdout",
          "text": [
            "time: 1.11 ms (started: 2022-09-02 05:36:53 +00:00)\n"
          ]
        }
      ]
    },
    {
      "cell_type": "code",
      "source": [
        "#yy.value_counts() "
      ],
      "metadata": {
        "colab": {
          "base_uri": "https://localhost:8080/"
        },
        "id": "XZZfnWIemMmp",
        "outputId": "7c870892-b936-4de4-e27f-351a26e0ff43"
      },
      "execution_count": null,
      "outputs": [
        {
          "output_type": "execute_result",
          "data": {
            "text/plain": [
              "1    29614\n",
              "0     5366\n",
              "dtype: int64"
            ]
          },
          "metadata": {},
          "execution_count": 41
        },
        {
          "output_type": "stream",
          "name": "stdout",
          "text": [
            "time: 9.83 ms (started: 2022-09-02 05:36:53 +00:00)\n"
          ]
        }
      ]
    },
    {
      "cell_type": "code",
      "source": [
        "x.head(1)"
      ],
      "metadata": {
        "colab": {
          "base_uri": "https://localhost:8080/",
          "height": 249
        },
        "id": "Ra7e5oz5VWWR",
        "outputId": "111cd96e-4696-49b6-849a-2074d8e74080"
      },
      "execution_count": 17,
      "outputs": [
        {
          "output_type": "execute_result",
          "data": {
            "text/plain": [
              "  teacher_prefix school_state project_grade_category  \\\n",
              "0            mrs           in          grades_prek_2   \n",
              "\n",
              "  project_subject_categories project_subject_subcategories  \\\n",
              "0          literacy_language                  esl_literacy   \n",
              "\n",
              "                               project_title  \\\n",
              "0  educational support english learners home   \n",
              "\n",
              "                            project_resource_summary  \\\n",
              "0  students need opportunities practice beginning...   \n",
              "\n",
              "   teacher_number_of_previously_posted_projects  \\\n",
              "0                                             0   \n",
              "\n",
              "                                               essay  price  quantity  \\\n",
              "0  students english learners working english seco...  154.6        23   \n",
              "\n",
              "   negative_score  positive_score  neutral_score  compound_score  \n",
              "0           0.013           0.154          0.833          0.9694  "
            ],
            "text/html": [
              "\n",
              "  <div id=\"df-4e53d920-96a6-41e7-9088-d2e20347b4a9\">\n",
              "    <div class=\"colab-df-container\">\n",
              "      <div>\n",
              "<style scoped>\n",
              "    .dataframe tbody tr th:only-of-type {\n",
              "        vertical-align: middle;\n",
              "    }\n",
              "\n",
              "    .dataframe tbody tr th {\n",
              "        vertical-align: top;\n",
              "    }\n",
              "\n",
              "    .dataframe thead th {\n",
              "        text-align: right;\n",
              "    }\n",
              "</style>\n",
              "<table border=\"1\" class=\"dataframe\">\n",
              "  <thead>\n",
              "    <tr style=\"text-align: right;\">\n",
              "      <th></th>\n",
              "      <th>teacher_prefix</th>\n",
              "      <th>school_state</th>\n",
              "      <th>project_grade_category</th>\n",
              "      <th>project_subject_categories</th>\n",
              "      <th>project_subject_subcategories</th>\n",
              "      <th>project_title</th>\n",
              "      <th>project_resource_summary</th>\n",
              "      <th>teacher_number_of_previously_posted_projects</th>\n",
              "      <th>essay</th>\n",
              "      <th>price</th>\n",
              "      <th>quantity</th>\n",
              "      <th>negative_score</th>\n",
              "      <th>positive_score</th>\n",
              "      <th>neutral_score</th>\n",
              "      <th>compound_score</th>\n",
              "    </tr>\n",
              "  </thead>\n",
              "  <tbody>\n",
              "    <tr>\n",
              "      <th>0</th>\n",
              "      <td>mrs</td>\n",
              "      <td>in</td>\n",
              "      <td>grades_prek_2</td>\n",
              "      <td>literacy_language</td>\n",
              "      <td>esl_literacy</td>\n",
              "      <td>educational support english learners home</td>\n",
              "      <td>students need opportunities practice beginning...</td>\n",
              "      <td>0</td>\n",
              "      <td>students english learners working english seco...</td>\n",
              "      <td>154.6</td>\n",
              "      <td>23</td>\n",
              "      <td>0.013</td>\n",
              "      <td>0.154</td>\n",
              "      <td>0.833</td>\n",
              "      <td>0.9694</td>\n",
              "    </tr>\n",
              "  </tbody>\n",
              "</table>\n",
              "</div>\n",
              "      <button class=\"colab-df-convert\" onclick=\"convertToInteractive('df-4e53d920-96a6-41e7-9088-d2e20347b4a9')\"\n",
              "              title=\"Convert this dataframe to an interactive table.\"\n",
              "              style=\"display:none;\">\n",
              "        \n",
              "  <svg xmlns=\"http://www.w3.org/2000/svg\" height=\"24px\"viewBox=\"0 0 24 24\"\n",
              "       width=\"24px\">\n",
              "    <path d=\"M0 0h24v24H0V0z\" fill=\"none\"/>\n",
              "    <path d=\"M18.56 5.44l.94 2.06.94-2.06 2.06-.94-2.06-.94-.94-2.06-.94 2.06-2.06.94zm-11 1L8.5 8.5l.94-2.06 2.06-.94-2.06-.94L8.5 2.5l-.94 2.06-2.06.94zm10 10l.94 2.06.94-2.06 2.06-.94-2.06-.94-.94-2.06-.94 2.06-2.06.94z\"/><path d=\"M17.41 7.96l-1.37-1.37c-.4-.4-.92-.59-1.43-.59-.52 0-1.04.2-1.43.59L10.3 9.45l-7.72 7.72c-.78.78-.78 2.05 0 2.83L4 21.41c.39.39.9.59 1.41.59.51 0 1.02-.2 1.41-.59l7.78-7.78 2.81-2.81c.8-.78.8-2.07 0-2.86zM5.41 20L4 18.59l7.72-7.72 1.47 1.35L5.41 20z\"/>\n",
              "  </svg>\n",
              "      </button>\n",
              "      \n",
              "  <style>\n",
              "    .colab-df-container {\n",
              "      display:flex;\n",
              "      flex-wrap:wrap;\n",
              "      gap: 12px;\n",
              "    }\n",
              "\n",
              "    .colab-df-convert {\n",
              "      background-color: #E8F0FE;\n",
              "      border: none;\n",
              "      border-radius: 50%;\n",
              "      cursor: pointer;\n",
              "      display: none;\n",
              "      fill: #1967D2;\n",
              "      height: 32px;\n",
              "      padding: 0 0 0 0;\n",
              "      width: 32px;\n",
              "    }\n",
              "\n",
              "    .colab-df-convert:hover {\n",
              "      background-color: #E2EBFA;\n",
              "      box-shadow: 0px 1px 2px rgba(60, 64, 67, 0.3), 0px 1px 3px 1px rgba(60, 64, 67, 0.15);\n",
              "      fill: #174EA6;\n",
              "    }\n",
              "\n",
              "    [theme=dark] .colab-df-convert {\n",
              "      background-color: #3B4455;\n",
              "      fill: #D2E3FC;\n",
              "    }\n",
              "\n",
              "    [theme=dark] .colab-df-convert:hover {\n",
              "      background-color: #434B5C;\n",
              "      box-shadow: 0px 1px 3px 1px rgba(0, 0, 0, 0.15);\n",
              "      filter: drop-shadow(0px 1px 2px rgba(0, 0, 0, 0.3));\n",
              "      fill: #FFFFFF;\n",
              "    }\n",
              "  </style>\n",
              "\n",
              "      <script>\n",
              "        const buttonEl =\n",
              "          document.querySelector('#df-4e53d920-96a6-41e7-9088-d2e20347b4a9 button.colab-df-convert');\n",
              "        buttonEl.style.display =\n",
              "          google.colab.kernel.accessAllowed ? 'block' : 'none';\n",
              "\n",
              "        async function convertToInteractive(key) {\n",
              "          const element = document.querySelector('#df-4e53d920-96a6-41e7-9088-d2e20347b4a9');\n",
              "          const dataTable =\n",
              "            await google.colab.kernel.invokeFunction('convertToInteractive',\n",
              "                                                     [key], {});\n",
              "          if (!dataTable) return;\n",
              "\n",
              "          const docLinkHtml = 'Like what you see? Visit the ' +\n",
              "            '<a target=\"_blank\" href=https://colab.research.google.com/notebooks/data_table.ipynb>data table notebook</a>'\n",
              "            + ' to learn more about interactive tables.';\n",
              "          element.innerHTML = '';\n",
              "          dataTable['output_type'] = 'display_data';\n",
              "          await google.colab.output.renderOutput(dataTable, element);\n",
              "          const docLink = document.createElement('div');\n",
              "          docLink.innerHTML = docLinkHtml;\n",
              "          element.appendChild(docLink);\n",
              "        }\n",
              "      </script>\n",
              "    </div>\n",
              "  </div>\n",
              "  "
            ]
          },
          "metadata": {},
          "execution_count": 17
        },
        {
          "output_type": "stream",
          "name": "stdout",
          "text": [
            "time: 30.7 ms (started: 2022-11-08 01:30:55 +00:00)\n"
          ]
        }
      ]
    },
    {
      "cell_type": "markdown",
      "source": [
        "# Task 1 \n",
        "Splitting the data into Train and Test"
      ],
      "metadata": {
        "id": "Cly5pjNfVf2V"
      }
    },
    {
      "cell_type": "code",
      "source": [
        "x_train, x_test, y_train, y_test = train_test_split(x, y, test_size = 0.25, stratify = y ) # splitting the data into train, test with test data= 25% of values and  strtify on 'Y' label"
      ],
      "metadata": {
        "id": "K9EsPt4fVZ-j",
        "colab": {
          "base_uri": "https://localhost:8080/"
        },
        "outputId": "78764021-7043-438b-b628-1ae266f96118"
      },
      "execution_count": 18,
      "outputs": [
        {
          "output_type": "stream",
          "name": "stdout",
          "text": [
            "time: 36.1 ms (started: 2022-11-08 01:30:57 +00:00)\n"
          ]
        }
      ]
    },
    {
      "cell_type": "code",
      "source": [
        "'''\n",
        "y_testtt = pd.DataFrame(y_test)\n",
        "y_testtt.value_counts()\n",
        "'''"
      ],
      "metadata": {
        "colab": {
          "base_uri": "https://localhost:8080/"
        },
        "id": "ggxtIFiTmVKD",
        "outputId": "a017e7b4-4da5-4e42-d813-90e85f830c63"
      },
      "execution_count": null,
      "outputs": [
        {
          "output_type": "execute_result",
          "data": {
            "text/plain": [
              "1    7404\n",
              "0    1341\n",
              "dtype: int64"
            ]
          },
          "metadata": {},
          "execution_count": 44
        },
        {
          "output_type": "stream",
          "name": "stdout",
          "text": [
            "time: 8.38 ms (started: 2022-09-02 05:36:53 +00:00)\n"
          ]
        }
      ]
    },
    {
      "cell_type": "code",
      "source": [
        "print(\" Number of rows and columns in Training data \", x_train.shape)\n",
        "print(\" Number of rows and columns in Test data \", x_test.shape)"
      ],
      "metadata": {
        "colab": {
          "base_uri": "https://localhost:8080/"
        },
        "id": "PQCczKOJVyIa",
        "outputId": "2ff7f46a-0454-43b6-bce5-bc8cb6ea72dc"
      },
      "execution_count": 20,
      "outputs": [
        {
          "output_type": "stream",
          "name": "stdout",
          "text": [
            " Number of rows and columns in Training data  (37482, 15)\n",
            " Number of rows and columns in Test data  (12495, 15)\n",
            "time: 1.11 ms (started: 2022-11-08 01:31:11 +00:00)\n"
          ]
        }
      ]
    },
    {
      "cell_type": "markdown",
      "source": [
        "### Applying TFIDF to the 'essay' column"
      ],
      "metadata": {
        "id": "qyiPLJyeWAmu"
      }
    },
    {
      "cell_type": "code",
      "source": [
        "vectorizer_tfidf = TfidfVectorizer(min_df = 10, max_features = 5000)        \n",
        "vectorizer_tfidf.fit(x_train['essay'].values)\n",
        "\n",
        "# we use fitted TFIDF to convert the text to vector \n",
        "x_train_essay_tfidf = vectorizer_tfidf.transform(x_train['essay'].values)\n",
        "x_test_essay_tfidf = vectorizer_tfidf.transform(x_test['essay'].values)"
      ],
      "metadata": {
        "id": "sczXcFTnWEvN",
        "colab": {
          "base_uri": "https://localhost:8080/"
        },
        "outputId": "99fcafee-8216-4e29-a3ce-36ec3ce89267"
      },
      "execution_count": 21,
      "outputs": [
        {
          "output_type": "stream",
          "name": "stdout",
          "text": [
            "time: 9.35 s (started: 2022-11-08 01:31:19 +00:00)\n"
          ]
        }
      ]
    },
    {
      "cell_type": "code",
      "source": [
        "type(x_train_essay_tfidf)"
      ],
      "metadata": {
        "colab": {
          "base_uri": "https://localhost:8080/"
        },
        "id": "7z2D225-X5ES",
        "outputId": "7c5edb1a-6fdf-41c2-c7ba-035e2fe6af18"
      },
      "execution_count": 22,
      "outputs": [
        {
          "output_type": "execute_result",
          "data": {
            "text/plain": [
              "scipy.sparse.csr.csr_matrix"
            ]
          },
          "metadata": {},
          "execution_count": 22
        },
        {
          "output_type": "stream",
          "name": "stdout",
          "text": [
            "time: 4.81 ms (started: 2022-11-08 01:31:31 +00:00)\n"
          ]
        }
      ]
    },
    {
      "cell_type": "code",
      "source": [
        "print(\"Using TFIDF representation on 'Essay' column\")\n",
        "print(\"=\"*30)\n",
        "print(\"Before Vectorization:\")\n",
        "print(\"-\"*22)\n",
        "print(\"Number of rows and columns in Train data are\", x_train.shape)\n",
        "print(\"Number of rows and columns in Test data are\", x_test.shape)\n",
        "print('\\n')\n",
        "print(\"After Vectorization:\")\n",
        "print(\"-\"*21)\n",
        "print(\"Number of rows and columns in Train data are\", x_train_essay_tfidf.shape)\n",
        "print(\"Number of rows and columns in Test data are\", x_test_essay_tfidf.shape)\n",
        "print('\\n')"
      ],
      "metadata": {
        "colab": {
          "base_uri": "https://localhost:8080/"
        },
        "id": "FdDM85UfY1uW",
        "outputId": "17bbe43f-07dd-4c8c-a097-fc61f8854365"
      },
      "execution_count": 23,
      "outputs": [
        {
          "output_type": "stream",
          "name": "stdout",
          "text": [
            "Using TFIDF representation on 'Essay' column\n",
            "==============================\n",
            "Before Vectorization:\n",
            "----------------------\n",
            "Number of rows and columns in Train data are (37482, 15)\n",
            "Number of rows and columns in Test data are (12495, 15)\n",
            "\n",
            "\n",
            "After Vectorization:\n",
            "---------------------\n",
            "Number of rows and columns in Train data are (37482, 5000)\n",
            "Number of rows and columns in Test data are (12495, 5000)\n",
            "\n",
            "\n",
            "time: 3.54 ms (started: 2022-11-08 01:31:34 +00:00)\n"
          ]
        }
      ]
    },
    {
      "cell_type": "markdown",
      "source": [
        "### Applying TFIDF to the 'project_title' column"
      ],
      "metadata": {
        "id": "LuJHlhUoWbVA"
      }
    },
    {
      "cell_type": "code",
      "source": [
        "vectorizer_tfidf_title = TfidfVectorizer(min_df = 10, max_features = 5000)        \n",
        "vectorizer_tfidf_title.fit(x_train['project_title'].values)\n",
        "\n",
        "# we use fitted TFIDF to convert the text to vector \n",
        "x_train_title_tfidf = vectorizer_tfidf_title.transform(x_train['project_title'].values)\n",
        "x_test_title_tfidf = vectorizer_tfidf_title.transform(x_test['project_title'].values)"
      ],
      "metadata": {
        "id": "JlTEOZ4JWZ-C",
        "colab": {
          "base_uri": "https://localhost:8080/"
        },
        "outputId": "7e2f7af7-dd34-43bf-c332-91bfa6b548e7"
      },
      "execution_count": 24,
      "outputs": [
        {
          "output_type": "stream",
          "name": "stdout",
          "text": [
            "time: 551 ms (started: 2022-11-08 01:31:39 +00:00)\n"
          ]
        }
      ]
    },
    {
      "cell_type": "code",
      "source": [
        "type(x_train_title_tfidf)"
      ],
      "metadata": {
        "colab": {
          "base_uri": "https://localhost:8080/"
        },
        "id": "rZHpH933ZCQM",
        "outputId": "83620655-f618-4a3b-a956-3878dc25ca82"
      },
      "execution_count": 25,
      "outputs": [
        {
          "output_type": "execute_result",
          "data": {
            "text/plain": [
              "scipy.sparse.csr.csr_matrix"
            ]
          },
          "metadata": {},
          "execution_count": 25
        },
        {
          "output_type": "stream",
          "name": "stdout",
          "text": [
            "time: 4.2 ms (started: 2022-11-08 01:31:41 +00:00)\n"
          ]
        }
      ]
    },
    {
      "cell_type": "code",
      "source": [
        "print(\"Using TFIDF representation on 'Project Title' column\")\n",
        "print(\"=\"*30)\n",
        "print(\"Before Vectorization:\")\n",
        "print(\"-\"*22)\n",
        "print(\"Number of rows and columns in Train data are\", x_train.shape)\n",
        "print(\"Number of rows and columns in Test data are\", x_test.shape)\n",
        "print('\\n')\n",
        "print(\"After Vectorization:\")\n",
        "print(\"-\"*21)\n",
        "print(\"Number of rows and columns in Train data are\", x_train_title_tfidf.shape)\n",
        "print(\"Number of rows and columns in Test data are\", x_test_title_tfidf.shape)"
      ],
      "metadata": {
        "colab": {
          "base_uri": "https://localhost:8080/"
        },
        "id": "EJBv53TQZG1K",
        "outputId": "5999824e-a348-4244-c358-97690d225e80"
      },
      "execution_count": 26,
      "outputs": [
        {
          "output_type": "stream",
          "name": "stdout",
          "text": [
            "Using TFIDF representation on 'Project Title' column\n",
            "==============================\n",
            "Before Vectorization:\n",
            "----------------------\n",
            "Number of rows and columns in Train data are (37482, 15)\n",
            "Number of rows and columns in Test data are (12495, 15)\n",
            "\n",
            "\n",
            "After Vectorization:\n",
            "---------------------\n",
            "Number of rows and columns in Train data are (37482, 1694)\n",
            "Number of rows and columns in Test data are (12495, 1694)\n",
            "time: 10.5 ms (started: 2022-11-08 01:31:44 +00:00)\n"
          ]
        }
      ]
    },
    {
      "cell_type": "markdown",
      "source": [
        "## Applying TFIDF to the 'project_resource_summary' column"
      ],
      "metadata": {
        "id": "lnmc3kL3YWs_"
      }
    },
    {
      "cell_type": "code",
      "source": [
        "vectorizer_tfidf_project_resource_summary = TfidfVectorizer(min_df = 10, max_features = 5000)        \n",
        "vectorizer_tfidf_project_resource_summary.fit(x_train['project_resource_summary'].values)\n",
        "\n",
        "# we use fitted TFIDF to convert the text to vector \n",
        "x_train_project_resource_summary_tfidf = vectorizer_tfidf_project_resource_summary.transform(x_train['project_resource_summary'].values)\n",
        "x_test_project_resource_summary_tfidf = vectorizer_tfidf_project_resource_summary.transform(x_test['project_resource_summary'].values)"
      ],
      "metadata": {
        "colab": {
          "base_uri": "https://localhost:8080/"
        },
        "id": "vNdnTxY5YbDT",
        "outputId": "e7e4c418-883d-4c20-f5c3-62babf7cfaf9"
      },
      "execution_count": 27,
      "outputs": [
        {
          "output_type": "stream",
          "name": "stdout",
          "text": [
            "time: 1.17 s (started: 2022-11-08 01:31:47 +00:00)\n"
          ]
        }
      ]
    },
    {
      "cell_type": "code",
      "source": [
        "print(\"Using TFIDF representation on 'Project Resource Summary' column\")\n",
        "print(\"=\"*65)\n",
        "print(\"Before Vectorization:\")\n",
        "print(\"-\"*22)\n",
        "print(\"Number of rows and columns in Train data are\", x_train.shape)\n",
        "print(\"Number of rows and columns in Test data are\", x_test.shape)\n",
        "print('\\n')\n",
        "print(\"After Vectorization:\")\n",
        "print(\"-\"*21)\n",
        "print(\"Number of rows and columns in Train data are\", x_train_project_resource_summary_tfidf.shape)\n",
        "print(\"Number of rows and columns in Test data are\", x_test_project_resource_summary_tfidf.shape)\n",
        "\n",
        "print('\\n')\n"
      ],
      "metadata": {
        "colab": {
          "base_uri": "https://localhost:8080/"
        },
        "id": "5spb5ZtSYbao",
        "outputId": "365a2256-537f-4775-cdb1-daf8e6f4fd9f"
      },
      "execution_count": 28,
      "outputs": [
        {
          "output_type": "stream",
          "name": "stdout",
          "text": [
            "Using TFIDF representation on 'Project Resource Summary' column\n",
            "=================================================================\n",
            "Before Vectorization:\n",
            "----------------------\n",
            "Number of rows and columns in Train data are (37482, 15)\n",
            "Number of rows and columns in Test data are (12495, 15)\n",
            "\n",
            "\n",
            "After Vectorization:\n",
            "---------------------\n",
            "Number of rows and columns in Train data are (37482, 3342)\n",
            "Number of rows and columns in Test data are (12495, 3342)\n",
            "\n",
            "\n",
            "time: 5.21 ms (started: 2022-11-08 01:31:49 +00:00)\n"
          ]
        }
      ]
    },
    {
      "cell_type": "markdown",
      "source": [
        "### Applying TFIDF + W2V to the 'essay' column"
      ],
      "metadata": {
        "id": "_BDaUoGwZp43"
      }
    },
    {
      "cell_type": "code",
      "source": [
        "# S = [\"abc def pqr\", \"def def def abc\", \"pqr pqr def\"]\n",
        "tfidf_model = TfidfVectorizer()\n",
        "tfidf_model.fit(x_train['essay'])\n",
        "# we are converting a dictionary with word as a key, and the idf as a value\n",
        "dictionary = dict(zip(tfidf_model.get_feature_names(), list(tfidf_model.idf_)))\n",
        "tfidf_words = set(tfidf_model.get_feature_names())"
      ],
      "metadata": {
        "id": "aNur0F0NZgix",
        "colab": {
          "base_uri": "https://localhost:8080/"
        },
        "outputId": "2258599c-1cff-47e7-b094-0ef809af47cf"
      },
      "execution_count": 29,
      "outputs": [
        {
          "output_type": "stream",
          "name": "stdout",
          "text": [
            "time: 4.01 s (started: 2022-11-08 01:31:53 +00:00)\n"
          ]
        }
      ]
    },
    {
      "cell_type": "markdown",
      "source": [
        "for Train data"
      ],
      "metadata": {
        "id": "RURGMeV8dN06"
      }
    },
    {
      "cell_type": "code",
      "source": [
        "# average Word2Vec\n",
        "# compute average word2vec for each review.\n",
        "train_essay_tfidf_w2v = []; # the avg-w2v for each sentence/review is stored in this list\n",
        "for sentence in tqdm(x_train['essay']): # for each review/sentence\n",
        "    vector = np.zeros(300) # as word vectors are of zero length\n",
        "    tf_idf_weight =0; # num of words with a valid vector in the sentence/review\n",
        "    for word in sentence.split(): # for each word in a review/sentence\n",
        "        if (word in glove_words) and (word in tfidf_words):\n",
        "            vec = model[word] # getting the vector for each word\n",
        "            # here we are multiplying idf value(dictionary[word]) and the tf value((sentence.count(word)/len(sentence.split())))\n",
        "            tf_idf = dictionary[word]*(sentence.count(word)/len(sentence.split())) # getting the tfidf value for each word\n",
        "            vector += (vec * tf_idf) # calculating tfidf weighted w2v\n",
        "            tf_idf_weight += tf_idf\n",
        "    if tf_idf_weight != 0:\n",
        "        vector /= tf_idf_weight\n",
        "    train_essay_tfidf_w2v.append(vector)\n",
        "\n",
        "print(len(train_essay_tfidf_w2v))\n",
        "print(len(train_essay_tfidf_w2v[0]))"
      ],
      "metadata": {
        "colab": {
          "base_uri": "https://localhost:8080/"
        },
        "id": "7UU7TQiBcYxY",
        "outputId": "141bd674-dda7-442a-d4b1-dc46d1d3100f"
      },
      "execution_count": 30,
      "outputs": [
        {
          "output_type": "stream",
          "name": "stderr",
          "text": [
            "100%|██████████| 37482/37482 [01:23<00:00, 450.63it/s]"
          ]
        },
        {
          "output_type": "stream",
          "name": "stdout",
          "text": [
            "37482\n",
            "300\n",
            "time: 1min 23s (started: 2022-11-08 01:32:00 +00:00)\n"
          ]
        },
        {
          "output_type": "stream",
          "name": "stderr",
          "text": [
            "\n"
          ]
        }
      ]
    },
    {
      "cell_type": "code",
      "source": [
        "x_train_essay_tfidf_w2v = csr_matrix(train_essay_tfidf_w2v)"
      ],
      "metadata": {
        "colab": {
          "base_uri": "https://localhost:8080/"
        },
        "id": "7dBXjXWtkpwe",
        "outputId": "5de7c15f-9307-412e-cfc9-2918b8ed3bef"
      },
      "execution_count": 31,
      "outputs": [
        {
          "output_type": "stream",
          "name": "stdout",
          "text": [
            "time: 537 ms (started: 2022-11-08 01:33:25 +00:00)\n"
          ]
        }
      ]
    },
    {
      "cell_type": "markdown",
      "source": [
        "for Test data"
      ],
      "metadata": {
        "id": "6u2n-aWvdPsr"
      }
    },
    {
      "cell_type": "code",
      "source": [
        "# Similarly you can vectorize for title also\n",
        "# average Word2Vec\n",
        "# compute average word2vec for each review.\n",
        "test_essay_tfidf_w2v = []; # the avg-w2v for each sentence/review is stored in this list\n",
        "for sentence in tqdm(x_test['essay']): # for each review/sentence\n",
        "    vector = np.zeros(300) # as word vectors are of zero length\n",
        "    tf_idf_weight =0; # num of words with a valid vector in the sentence/review\n",
        "    for word in sentence.split(): # for each word in a review/sentence\n",
        "        if (word in glove_words) and (word in tfidf_words):\n",
        "            vec = model[word] # getting the vector for each word\n",
        "            # here we are multiplying idf value(dictionary[word]) and the tf value((sentence.count(word)/len(sentence.split())))\n",
        "            tf_idf = dictionary[word]*(sentence.count(word)/len(sentence.split())) # getting the tfidf value for each word\n",
        "            vector += (vec * tf_idf) # calculating tfidf weighted w2v\n",
        "            tf_idf_weight += tf_idf\n",
        "    if tf_idf_weight != 0:\n",
        "        vector /= tf_idf_weight\n",
        "    test_essay_tfidf_w2v.append(vector)\n",
        "\n",
        "print(len(test_essay_tfidf_w2v))\n",
        "print(len(test_essay_tfidf_w2v[0]))"
      ],
      "metadata": {
        "colab": {
          "base_uri": "https://localhost:8080/"
        },
        "id": "-JS9MlHcdSRA",
        "outputId": "1459f0e1-8920-42ba-bbac-860ad95c2e4a"
      },
      "execution_count": 32,
      "outputs": [
        {
          "output_type": "stream",
          "name": "stderr",
          "text": [
            "100%|██████████| 12495/12495 [00:27<00:00, 459.42it/s]"
          ]
        },
        {
          "output_type": "stream",
          "name": "stdout",
          "text": [
            "12495\n",
            "300\n",
            "time: 27.2 s (started: 2022-11-08 01:33:26 +00:00)\n"
          ]
        },
        {
          "output_type": "stream",
          "name": "stderr",
          "text": [
            "\n"
          ]
        }
      ]
    },
    {
      "cell_type": "code",
      "source": [
        "x_test_essay_tfidf_w2v = csr_matrix (test_essay_tfidf_w2v)"
      ],
      "metadata": {
        "colab": {
          "base_uri": "https://localhost:8080/"
        },
        "id": "LfFhRqXak8dm",
        "outputId": "0492e0ed-ee1a-4d12-a3fd-d631ab5dac3b"
      },
      "execution_count": 33,
      "outputs": [
        {
          "output_type": "stream",
          "name": "stdout",
          "text": [
            "time: 144 ms (started: 2022-11-08 01:33:53 +00:00)\n"
          ]
        }
      ]
    },
    {
      "cell_type": "code",
      "source": [
        "print(\"Training data of 'Essay' column:\")\n",
        "print(\"=\"*30)\n",
        "print(\"total rows in our Test data :\",x_train_essay_tfidf_w2v.shape)\n",
        "print('\\n')\n",
        "print(\"Testing data of 'Essay' column:\")\n",
        "print(\"=\"*30)\n",
        "print(\"total rows in our Train data :\",x_test_essay_tfidf_w2v.shape)\n",
        "print('\\n')"
      ],
      "metadata": {
        "colab": {
          "base_uri": "https://localhost:8080/"
        },
        "id": "arKdvLpFdtTe",
        "outputId": "6d1089d3-e787-405f-fdf7-f08898c4f65c"
      },
      "execution_count": 34,
      "outputs": [
        {
          "output_type": "stream",
          "name": "stdout",
          "text": [
            "Training data of 'Essay' column:\n",
            "==============================\n",
            "total rows in our Test data : (37482, 300)\n",
            "\n",
            "\n",
            "Testing data of 'Essay' column:\n",
            "==============================\n",
            "total rows in our Train data : (12495, 300)\n",
            "\n",
            "\n",
            "time: 3.2 ms (started: 2022-11-08 01:33:53 +00:00)\n"
          ]
        }
      ]
    },
    {
      "cell_type": "code",
      "source": [
        "x_train.head(1)"
      ],
      "metadata": {
        "colab": {
          "base_uri": "https://localhost:8080/",
          "height": 249
        },
        "id": "GGK_DdyO1CFh",
        "outputId": "3de8dcd3-9df7-4eb0-e816-00d44fcf9ae2"
      },
      "execution_count": 35,
      "outputs": [
        {
          "output_type": "execute_result",
          "data": {
            "text/plain": [
              "     teacher_prefix school_state project_grade_category  \\\n",
              "4840            mrs           fl             grades_6_8   \n",
              "\n",
              "     project_subject_categories project_subject_subcategories  \\\n",
              "4840               math_science                   mathematics   \n",
              "\n",
              "                  project_title  \\\n",
              "4840  algebraic thinkers action   \n",
              "\n",
              "                               project_resource_summary  \\\n",
              "4840  students need laptop class things make success...   \n",
              "\n",
              "      teacher_number_of_previously_posted_projects  \\\n",
              "4840                                             5   \n",
              "\n",
              "                                                  essay   price  quantity  \\\n",
              "4840  students wonderful bunch bright motivated year...  999.99         1   \n",
              "\n",
              "      negative_score  positive_score  neutral_score  compound_score  \n",
              "4840           0.017           0.306          0.677          0.9932  "
            ],
            "text/html": [
              "\n",
              "  <div id=\"df-b6f6efea-5e75-4c80-b220-34facf963f0d\">\n",
              "    <div class=\"colab-df-container\">\n",
              "      <div>\n",
              "<style scoped>\n",
              "    .dataframe tbody tr th:only-of-type {\n",
              "        vertical-align: middle;\n",
              "    }\n",
              "\n",
              "    .dataframe tbody tr th {\n",
              "        vertical-align: top;\n",
              "    }\n",
              "\n",
              "    .dataframe thead th {\n",
              "        text-align: right;\n",
              "    }\n",
              "</style>\n",
              "<table border=\"1\" class=\"dataframe\">\n",
              "  <thead>\n",
              "    <tr style=\"text-align: right;\">\n",
              "      <th></th>\n",
              "      <th>teacher_prefix</th>\n",
              "      <th>school_state</th>\n",
              "      <th>project_grade_category</th>\n",
              "      <th>project_subject_categories</th>\n",
              "      <th>project_subject_subcategories</th>\n",
              "      <th>project_title</th>\n",
              "      <th>project_resource_summary</th>\n",
              "      <th>teacher_number_of_previously_posted_projects</th>\n",
              "      <th>essay</th>\n",
              "      <th>price</th>\n",
              "      <th>quantity</th>\n",
              "      <th>negative_score</th>\n",
              "      <th>positive_score</th>\n",
              "      <th>neutral_score</th>\n",
              "      <th>compound_score</th>\n",
              "    </tr>\n",
              "  </thead>\n",
              "  <tbody>\n",
              "    <tr>\n",
              "      <th>4840</th>\n",
              "      <td>mrs</td>\n",
              "      <td>fl</td>\n",
              "      <td>grades_6_8</td>\n",
              "      <td>math_science</td>\n",
              "      <td>mathematics</td>\n",
              "      <td>algebraic thinkers action</td>\n",
              "      <td>students need laptop class things make success...</td>\n",
              "      <td>5</td>\n",
              "      <td>students wonderful bunch bright motivated year...</td>\n",
              "      <td>999.99</td>\n",
              "      <td>1</td>\n",
              "      <td>0.017</td>\n",
              "      <td>0.306</td>\n",
              "      <td>0.677</td>\n",
              "      <td>0.9932</td>\n",
              "    </tr>\n",
              "  </tbody>\n",
              "</table>\n",
              "</div>\n",
              "      <button class=\"colab-df-convert\" onclick=\"convertToInteractive('df-b6f6efea-5e75-4c80-b220-34facf963f0d')\"\n",
              "              title=\"Convert this dataframe to an interactive table.\"\n",
              "              style=\"display:none;\">\n",
              "        \n",
              "  <svg xmlns=\"http://www.w3.org/2000/svg\" height=\"24px\"viewBox=\"0 0 24 24\"\n",
              "       width=\"24px\">\n",
              "    <path d=\"M0 0h24v24H0V0z\" fill=\"none\"/>\n",
              "    <path d=\"M18.56 5.44l.94 2.06.94-2.06 2.06-.94-2.06-.94-.94-2.06-.94 2.06-2.06.94zm-11 1L8.5 8.5l.94-2.06 2.06-.94-2.06-.94L8.5 2.5l-.94 2.06-2.06.94zm10 10l.94 2.06.94-2.06 2.06-.94-2.06-.94-.94-2.06-.94 2.06-2.06.94z\"/><path d=\"M17.41 7.96l-1.37-1.37c-.4-.4-.92-.59-1.43-.59-.52 0-1.04.2-1.43.59L10.3 9.45l-7.72 7.72c-.78.78-.78 2.05 0 2.83L4 21.41c.39.39.9.59 1.41.59.51 0 1.02-.2 1.41-.59l7.78-7.78 2.81-2.81c.8-.78.8-2.07 0-2.86zM5.41 20L4 18.59l7.72-7.72 1.47 1.35L5.41 20z\"/>\n",
              "  </svg>\n",
              "      </button>\n",
              "      \n",
              "  <style>\n",
              "    .colab-df-container {\n",
              "      display:flex;\n",
              "      flex-wrap:wrap;\n",
              "      gap: 12px;\n",
              "    }\n",
              "\n",
              "    .colab-df-convert {\n",
              "      background-color: #E8F0FE;\n",
              "      border: none;\n",
              "      border-radius: 50%;\n",
              "      cursor: pointer;\n",
              "      display: none;\n",
              "      fill: #1967D2;\n",
              "      height: 32px;\n",
              "      padding: 0 0 0 0;\n",
              "      width: 32px;\n",
              "    }\n",
              "\n",
              "    .colab-df-convert:hover {\n",
              "      background-color: #E2EBFA;\n",
              "      box-shadow: 0px 1px 2px rgba(60, 64, 67, 0.3), 0px 1px 3px 1px rgba(60, 64, 67, 0.15);\n",
              "      fill: #174EA6;\n",
              "    }\n",
              "\n",
              "    [theme=dark] .colab-df-convert {\n",
              "      background-color: #3B4455;\n",
              "      fill: #D2E3FC;\n",
              "    }\n",
              "\n",
              "    [theme=dark] .colab-df-convert:hover {\n",
              "      background-color: #434B5C;\n",
              "      box-shadow: 0px 1px 3px 1px rgba(0, 0, 0, 0.15);\n",
              "      filter: drop-shadow(0px 1px 2px rgba(0, 0, 0, 0.3));\n",
              "      fill: #FFFFFF;\n",
              "    }\n",
              "  </style>\n",
              "\n",
              "      <script>\n",
              "        const buttonEl =\n",
              "          document.querySelector('#df-b6f6efea-5e75-4c80-b220-34facf963f0d button.colab-df-convert');\n",
              "        buttonEl.style.display =\n",
              "          google.colab.kernel.accessAllowed ? 'block' : 'none';\n",
              "\n",
              "        async function convertToInteractive(key) {\n",
              "          const element = document.querySelector('#df-b6f6efea-5e75-4c80-b220-34facf963f0d');\n",
              "          const dataTable =\n",
              "            await google.colab.kernel.invokeFunction('convertToInteractive',\n",
              "                                                     [key], {});\n",
              "          if (!dataTable) return;\n",
              "\n",
              "          const docLinkHtml = 'Like what you see? Visit the ' +\n",
              "            '<a target=\"_blank\" href=https://colab.research.google.com/notebooks/data_table.ipynb>data table notebook</a>'\n",
              "            + ' to learn more about interactive tables.';\n",
              "          element.innerHTML = '';\n",
              "          dataTable['output_type'] = 'display_data';\n",
              "          await google.colab.output.renderOutput(dataTable, element);\n",
              "          const docLink = document.createElement('div');\n",
              "          docLink.innerHTML = docLinkHtml;\n",
              "          element.appendChild(docLink);\n",
              "        }\n",
              "      </script>\n",
              "    </div>\n",
              "  </div>\n",
              "  "
            ]
          },
          "metadata": {},
          "execution_count": 35
        },
        {
          "output_type": "stream",
          "name": "stdout",
          "text": [
            "time: 24.1 ms (started: 2022-11-08 01:33:53 +00:00)\n"
          ]
        }
      ]
    },
    {
      "cell_type": "markdown",
      "source": [
        "### Applying TFIDF + W2V to the 'project_title' column"
      ],
      "metadata": {
        "id": "MgkZVqroehce"
      }
    },
    {
      "cell_type": "code",
      "source": [
        "# S = [\"abc def pqr\", \"def def def abc\", \"pqr pqr def\"]\n",
        "tfidf_model = TfidfVectorizer()\n",
        "tfidf_model.fit(x_train['project_title'].values)\n",
        "# we are converting a dictionary with word as a key, and the idf as a value\n",
        "dictionary = dict(zip(tfidf_model.get_feature_names(), list(tfidf_model.idf_)))\n",
        "tfidf_words = set(tfidf_model.get_feature_names())"
      ],
      "metadata": {
        "id": "t-ahIDCrelx0",
        "colab": {
          "base_uri": "https://localhost:8080/"
        },
        "outputId": "e6f18c07-9f77-4e9b-d44e-0837d522b273"
      },
      "execution_count": 36,
      "outputs": [
        {
          "output_type": "stream",
          "name": "stdout",
          "text": [
            "time: 293 ms (started: 2022-11-08 01:33:53 +00:00)\n"
          ]
        }
      ]
    },
    {
      "cell_type": "markdown",
      "source": [
        "for Train data"
      ],
      "metadata": {
        "id": "EHidgFjKe8SM"
      }
    },
    {
      "cell_type": "code",
      "source": [
        "# average Word2Vec\n",
        "# compute average word2vec for each review.\n",
        "train_title_tfidf_w2v = []; # the avg-w2v for each sentence/review is stored in this list\n",
        "for sentence in tqdm(x_train['project_title']): # for each review/sentence\n",
        "    vector = np.zeros(300) # as word vectors are of zero length\n",
        "    tf_idf_weight =0; # num of words with a valid vector in the sentence/review\n",
        "    for word in sentence.split(): # for each word in a review/sentence\n",
        "        if (word in glove_words) and (word in tfidf_words):\n",
        "            vec = model[word] # getting the vector for each word\n",
        "            # here we are multiplying idf value(dictionary[word]) and the tf value((sentence.count(word)/len(sentence.split())))\n",
        "            tf_idf = dictionary[word]*(sentence.count(word)/len(sentence.split())) # getting the tfidf value for each word\n",
        "            vector += (vec * tf_idf) # calculating tfidf weighted w2v\n",
        "            tf_idf_weight += tf_idf\n",
        "    if tf_idf_weight != 0:\n",
        "        vector /= tf_idf_weight\n",
        "    train_title_tfidf_w2v.append(vector)\n",
        "\n",
        "print(len(train_title_tfidf_w2v))\n",
        "print(len(train_title_tfidf_w2v[0]))"
      ],
      "metadata": {
        "colab": {
          "base_uri": "https://localhost:8080/"
        },
        "id": "XbEkUVQ3e57J",
        "outputId": "88728d4f-5e82-42ac-9a85-ded44ef9cb13"
      },
      "execution_count": 37,
      "outputs": [
        {
          "output_type": "stream",
          "name": "stderr",
          "text": [
            "100%|██████████| 37482/37482 [00:01<00:00, 21866.18it/s]"
          ]
        },
        {
          "output_type": "stream",
          "name": "stdout",
          "text": [
            "37482\n",
            "300\n",
            "time: 1.73 s (started: 2022-11-08 01:33:54 +00:00)\n"
          ]
        },
        {
          "output_type": "stream",
          "name": "stderr",
          "text": [
            "\n"
          ]
        }
      ]
    },
    {
      "cell_type": "code",
      "source": [
        "x_train_title_tfidf_w2v = csr_matrix (train_title_tfidf_w2v)"
      ],
      "metadata": {
        "colab": {
          "base_uri": "https://localhost:8080/"
        },
        "id": "weskO998mP3E",
        "outputId": "16dc98cc-ac98-40d3-e431-c231cb51e85e"
      },
      "execution_count": 38,
      "outputs": [
        {
          "output_type": "stream",
          "name": "stdout",
          "text": [
            "time: 512 ms (started: 2022-11-08 01:33:55 +00:00)\n"
          ]
        }
      ]
    },
    {
      "cell_type": "markdown",
      "source": [
        "for Test data"
      ],
      "metadata": {
        "id": "_eOry_qog2WA"
      }
    },
    {
      "cell_type": "code",
      "source": [
        "\n",
        "# compute tfidf word2vec for each review.\n",
        "test_title_tfidf_w2v = []; # the avg-w2v for each sentence/review is stored in this list\n",
        "for sentence in tqdm(x_test['project_title']): # for each review/sentence\n",
        "    vector = np.zeros(300) # as word vectors are of zero length\n",
        "    tf_idf_weight =0; # num of words with a valid vector in the sentence/review\n",
        "    for word in sentence.split(): # for each word in a review/sentence\n",
        "        if (word in glove_words) and (word in tfidf_words):\n",
        "            vec = model[word] # getting the vector for each word\n",
        "            # here we are multiplying idf value(dictionary[word]) and the tf value((sentence.count(word)/len(sentence.split())))\n",
        "            tf_idf = dictionary[word]*(sentence.count(word)/len(sentence.split())) # getting the tfidf value for each word\n",
        "            vector += (vec * tf_idf) # calculating tfidf weighted w2v\n",
        "            tf_idf_weight += tf_idf\n",
        "    if tf_idf_weight != 0:\n",
        "        vector /= tf_idf_weight\n",
        "    test_title_tfidf_w2v.append(vector)\n",
        "\n",
        "print(len(test_title_tfidf_w2v))\n",
        "print(len(test_title_tfidf_w2v[0]))"
      ],
      "metadata": {
        "colab": {
          "base_uri": "https://localhost:8080/"
        },
        "id": "qyhjKHo0g4WZ",
        "outputId": "51c4f064-7ab2-4443-e8a1-d9a10342cf53"
      },
      "execution_count": 39,
      "outputs": [
        {
          "output_type": "stream",
          "name": "stderr",
          "text": [
            "100%|██████████| 12495/12495 [00:00<00:00, 26541.04it/s]"
          ]
        },
        {
          "output_type": "stream",
          "name": "stdout",
          "text": [
            "12495\n",
            "300\n",
            "time: 484 ms (started: 2022-11-08 01:33:56 +00:00)\n"
          ]
        },
        {
          "output_type": "stream",
          "name": "stderr",
          "text": [
            "\n"
          ]
        }
      ]
    },
    {
      "cell_type": "code",
      "source": [
        "x_test_title_tfidf_w2v = csr_matrix (test_title_tfidf_w2v)"
      ],
      "metadata": {
        "colab": {
          "base_uri": "https://localhost:8080/"
        },
        "id": "wY-_SUoRgYlt",
        "outputId": "8bc7d380-14c9-41ca-ba75-9b2bbdd35467"
      },
      "execution_count": 40,
      "outputs": [
        {
          "output_type": "stream",
          "name": "stdout",
          "text": [
            "time: 155 ms (started: 2022-11-08 01:33:56 +00:00)\n"
          ]
        }
      ]
    },
    {
      "cell_type": "code",
      "source": [
        "print(\"Training data of 'Project_title column':\")\n",
        "print(\"=\"*37)\n",
        "print(\"Shape of our Test data :\",x_train_title_tfidf_w2v.shape)\n",
        "print('\\n')\n",
        "print(\"Testing data of 'Project_title column':\")\n",
        "print(\"=\"*37)\n",
        "print(\"Shape of our Train data :\",x_test_title_tfidf_w2v.shape)\n",
        "print('\\n')\n"
      ],
      "metadata": {
        "colab": {
          "base_uri": "https://localhost:8080/"
        },
        "id": "iXg_rCdWhGdy",
        "outputId": "bc20fcab-999b-4d93-c8cb-e6b173dd8aa1"
      },
      "execution_count": 41,
      "outputs": [
        {
          "output_type": "stream",
          "name": "stdout",
          "text": [
            "Training data of 'Project_title column':\n",
            "=====================================\n",
            "Shape of our Test data : (37482, 300)\n",
            "\n",
            "\n",
            "Testing data of 'Project_title column':\n",
            "=====================================\n",
            "Shape of our Train data : (12495, 300)\n",
            "\n",
            "\n",
            "time: 2.29 ms (started: 2022-11-08 01:33:57 +00:00)\n"
          ]
        }
      ]
    },
    {
      "cell_type": "markdown",
      "source": [
        "## Applying TFIDF + W2V to the 'project_resource_summary' column"
      ],
      "metadata": {
        "id": "aURFKTv5ZCOn"
      }
    },
    {
      "cell_type": "code",
      "source": [
        "# S = [\"abc def pqr\", \"def def def abc\", \"pqr pqr def\"]\n",
        "tfidf_model = TfidfVectorizer()\n",
        "tfidf_model.fit(x_train['project_resource_summary'].values)\n",
        "# we are converting a dictionary with word as a key, and the idf as a value\n",
        "dictionary = dict(zip(tfidf_model.get_feature_names(), list(tfidf_model.idf_)))\n",
        "tfidf_words = set(tfidf_model.get_feature_names())"
      ],
      "metadata": {
        "colab": {
          "base_uri": "https://localhost:8080/"
        },
        "id": "DPg1A4YNZHCM",
        "outputId": "a4e0d9ad-51c9-4be4-e95e-e1b247471850"
      },
      "execution_count": 42,
      "outputs": [
        {
          "output_type": "stream",
          "name": "stdout",
          "text": [
            "time: 669 ms (started: 2022-11-08 01:34:06 +00:00)\n"
          ]
        }
      ]
    },
    {
      "cell_type": "markdown",
      "source": [
        "for Train data"
      ],
      "metadata": {
        "id": "Fi_90uZuZKAB"
      }
    },
    {
      "cell_type": "code",
      "source": [
        "# average Word2Vec\n",
        "# compute average word2vec for each review.\n",
        "train_project_resource_summary_tfidf_w2v = []; # the avg-w2v for each sentence/review is stored in this list\n",
        "for sentence in tqdm(x_train['project_resource_summary']): # for each review/sentence\n",
        "    vector = np.zeros(300) # as word vectors are of zero length\n",
        "    tf_idf_weight =0; # num of words with a valid vector in the sentence/review\n",
        "    for word in sentence.split(): # for each word in a review/sentence\n",
        "        if (word in glove_words) and (word in tfidf_words):\n",
        "            vec = model[word] # getting the vector for each word\n",
        "            # here we are multiplying idf value(dictionary[word]) and the tf value((sentence.count(word)/len(sentence.split())))\n",
        "            tf_idf = dictionary[word]*(sentence.count(word)/len(sentence.split())) # getting the tfidf value for each word\n",
        "            vector += (vec * tf_idf) # calculating tfidf weighted w2v\n",
        "            tf_idf_weight += tf_idf\n",
        "    if tf_idf_weight != 0:\n",
        "        vector /= tf_idf_weight\n",
        "    train_project_resource_summary_tfidf_w2v.append(vector)\n",
        "\n",
        "print(len(train_project_resource_summary_tfidf_w2v))\n",
        "print(len(train_project_resource_summary_tfidf_w2v[0]))"
      ],
      "metadata": {
        "colab": {
          "base_uri": "https://localhost:8080/"
        },
        "id": "1g27_VDpZHZ3",
        "outputId": "e1c1b67b-20b0-4ed0-fe0a-ba44717c458a"
      },
      "execution_count": 43,
      "outputs": [
        {
          "output_type": "stream",
          "name": "stderr",
          "text": [
            "100%|██████████| 37482/37482 [00:04<00:00, 8233.93it/s]"
          ]
        },
        {
          "output_type": "stream",
          "name": "stdout",
          "text": [
            "37482\n",
            "300\n",
            "time: 4.56 s (started: 2022-11-08 01:34:11 +00:00)\n"
          ]
        },
        {
          "output_type": "stream",
          "name": "stderr",
          "text": [
            "\n"
          ]
        }
      ]
    },
    {
      "cell_type": "code",
      "source": [
        "x_train_project_resource_summary_tfidf_w2v = csr_matrix (train_project_resource_summary_tfidf_w2v)"
      ],
      "metadata": {
        "colab": {
          "base_uri": "https://localhost:8080/"
        },
        "id": "z7MeEag7ZPQe",
        "outputId": "0168849b-c847-42c9-9a6a-e04be4c46690"
      },
      "execution_count": 44,
      "outputs": [
        {
          "output_type": "stream",
          "name": "stdout",
          "text": [
            "time: 529 ms (started: 2022-11-08 01:34:17 +00:00)\n"
          ]
        }
      ]
    },
    {
      "cell_type": "markdown",
      "source": [
        "for Test data"
      ],
      "metadata": {
        "id": "_AgG7LtqZLIr"
      }
    },
    {
      "cell_type": "code",
      "source": [
        "# compute tfidf word2vec for each review.\n",
        "test_project_resource_summary_tfidf_w2v = []; # the avg-w2v for each sentence/review is stored in this list\n",
        "for sentence in tqdm(x_test['project_resource_summary']): # for each review/sentence\n",
        "    vector = np.zeros(300) # as word vectors are of zero length\n",
        "    tf_idf_weight =0; # num of words with a valid vector in the sentence/review\n",
        "    for word in sentence.split(): # for each word in a review/sentence\n",
        "        if (word in glove_words) and (word in tfidf_words):\n",
        "            vec = model[word] # getting the vector for each word\n",
        "            # here we are multiplying idf value(dictionary[word]) and the tf value((sentence.count(word)/len(sentence.split())))\n",
        "            tf_idf = dictionary[word]*(sentence.count(word)/len(sentence.split())) # getting the tfidf value for each word\n",
        "            vector += (vec * tf_idf) # calculating tfidf weighted w2v\n",
        "            tf_idf_weight += tf_idf\n",
        "    if tf_idf_weight != 0:\n",
        "        vector /= tf_idf_weight\n",
        "    test_project_resource_summary_tfidf_w2v.append(vector)\n",
        "\n",
        "print(len(test_project_resource_summary_tfidf_w2v))\n",
        "print(len(test_project_resource_summary_tfidf_w2v[0]))"
      ],
      "metadata": {
        "colab": {
          "base_uri": "https://localhost:8080/"
        },
        "id": "aopK03YcZQHJ",
        "outputId": "e2cb1202-3b13-422e-9583-8001101d029a"
      },
      "execution_count": 45,
      "outputs": [
        {
          "output_type": "stream",
          "name": "stderr",
          "text": [
            "100%|██████████| 12495/12495 [00:01<00:00, 7551.98it/s]"
          ]
        },
        {
          "output_type": "stream",
          "name": "stdout",
          "text": [
            "12495\n",
            "300\n",
            "time: 1.67 s (started: 2022-11-08 01:34:19 +00:00)\n"
          ]
        },
        {
          "output_type": "stream",
          "name": "stderr",
          "text": [
            "\n"
          ]
        }
      ]
    },
    {
      "cell_type": "code",
      "source": [
        "x_test_project_resource_summary_tfidf_w2v = csr_matrix (test_project_resource_summary_tfidf_w2v)"
      ],
      "metadata": {
        "colab": {
          "base_uri": "https://localhost:8080/"
        },
        "id": "ZH9wjr8EZM0f",
        "outputId": "15fdc8ad-9737-483e-cd2a-9b4a65281ee4"
      },
      "execution_count": 46,
      "outputs": [
        {
          "output_type": "stream",
          "name": "stdout",
          "text": [
            "time: 158 ms (started: 2022-11-08 01:34:23 +00:00)\n"
          ]
        }
      ]
    },
    {
      "cell_type": "code",
      "source": [
        "print(\"Training data of 'Project resource summary column':\")\n",
        "print(\"=\"*37)\n",
        "print(\"Shape of our Test data :\",x_train_project_resource_summary_tfidf_w2v.shape)\n",
        "print('\\n')\n",
        "print(\"Testing data of 'Project_title column':\")\n",
        "print(\"=\"*37)\n",
        "print(\"Shape of our Train data :\",x_test_project_resource_summary_tfidf_w2v.shape)\n",
        "print('\\n')"
      ],
      "metadata": {
        "colab": {
          "base_uri": "https://localhost:8080/"
        },
        "id": "ydrekWnfZUbu",
        "outputId": "bf682c1e-e64a-451b-b873-5950aa07c7ae"
      },
      "execution_count": 47,
      "outputs": [
        {
          "output_type": "stream",
          "name": "stdout",
          "text": [
            "Training data of 'Project resource summary column':\n",
            "=====================================\n",
            "Shape of our Test data : (37482, 300)\n",
            "\n",
            "\n",
            "Testing data of 'Project_title column':\n",
            "=====================================\n",
            "Shape of our Train data : (12495, 300)\n",
            "\n",
            "\n",
            "time: 8.6 ms (started: 2022-11-08 01:34:23 +00:00)\n"
          ]
        }
      ]
    },
    {
      "cell_type": "markdown",
      "source": [
        "## Normalization of numerical features\n",
        "\n",
        "1. price\n",
        "2. Quantity\n",
        "3. teacher_number_of_previously_posted_projects\n",
        "4. Sentiment score related columns"
      ],
      "metadata": {
        "id": "mdAHP0QbJ1z5"
      }
    },
    {
      "cell_type": "code",
      "source": [
        "standard_scaler = StandardScaler() # using standardization as I can use either Normalizer or MinMaxScaler on the price column\n",
        "\n",
        "# Standardization of 'Price' column\n",
        "price_train = standard_scaler.fit_transform(x_train[['price']])\n",
        "price_test = standard_scaler.transform(x_test[['price']])\n",
        "\n",
        "# Standardization of 'teacher_number_of_previously_posted_projects' column\n",
        "teacher_number_of_previously_posted_projects_train = standard_scaler.fit_transform(x_train[['teacher_number_of_previously_posted_projects']])\n",
        "teacher_number_of_previously_posted_projects_test = standard_scaler.transform(x_test[['teacher_number_of_previously_posted_projects']])\n",
        "\n",
        "# Standardization of 'quantity' column\n",
        "quantity_train = standard_scaler.fit_transform(x_train[['quantity']])\n",
        "quantity_test = standard_scaler.transform(x_test[['quantity']])\n",
        "\n",
        "# Standardization of 'negative_score' column of Sentiment score \n",
        "neg_score_train = standard_scaler.fit_transform(x_train[['negative_score']])\n",
        "neg_score_test = standard_scaler.transform(x_test[['negative_score']])\n",
        "\n",
        "# Standardization of 'positive_score' column of Sentiment score \n",
        "pos_score_train = standard_scaler.fit_transform(x_train[['positive_score']])\n",
        "pos_score_test = standard_scaler.transform(x_test[['positive_score']])\n",
        "\n",
        "# Standardization of 'neutral_score' column of Sentiment score \n",
        "neu_score_train = standard_scaler.fit_transform(x_train[['neutral_score']])\n",
        "neu_score_test = standard_scaler.transform(x_test[['neutral_score']])\n",
        "\n",
        "# Standardization of 'compound_score' column of Sentiment score \n",
        "comp_score_train = standard_scaler.fit_transform(x_train[['compound_score']])\n",
        "comp_score_test = standard_scaler.transform(x_test[['compound_score']])\n"
      ],
      "metadata": {
        "id": "dG-pQYJIJ3yc",
        "colab": {
          "base_uri": "https://localhost:8080/"
        },
        "outputId": "1b7050dc-3f4a-4042-efd0-9831ad0216ee"
      },
      "execution_count": 48,
      "outputs": [
        {
          "output_type": "stream",
          "name": "stdout",
          "text": [
            "time: 61.4 ms (started: 2022-11-08 01:35:44 +00:00)\n"
          ]
        }
      ]
    },
    {
      "cell_type": "code",
      "source": [
        "print(type(comp_score_train))"
      ],
      "metadata": {
        "colab": {
          "base_uri": "https://localhost:8080/"
        },
        "id": "s1WvirKCNj85",
        "outputId": "546968d5-f78f-4b27-fb1e-a8b1bdc54bc8"
      },
      "execution_count": 49,
      "outputs": [
        {
          "output_type": "stream",
          "name": "stdout",
          "text": [
            "<class 'numpy.ndarray'>\n",
            "time: 1.06 ms (started: 2022-11-08 01:35:47 +00:00)\n"
          ]
        }
      ]
    },
    {
      "cell_type": "markdown",
      "source": [
        "## Encoding of Categorical features using Response coding:\n",
        "\n",
        "Categorical features are:\n",
        "\n",
        "1. teacher_prefix\n",
        "\n",
        "2. project_grade_category\n",
        "\n",
        "3. school_state\n",
        "\n",
        "4. clean_categories\n",
        "\n",
        "5. clean_subcategories"
      ],
      "metadata": {
        "id": "1u2CfbZ0LSSK"
      }
    },
    {
      "cell_type": "code",
      "source": [
        "# function for generating response code\n",
        "def response_code(xtr,ytr,xte):\n",
        "    pos = []\n",
        "    neg = []\n",
        "    dictionary = dict(xtr.value_counts())\n",
        "    cat = dictionary.keys()\n",
        "    cat_values = dictionary.values()\n",
        "    for k in cat:\n",
        "        po_count = 0\n",
        "        neg_count = 0\n",
        "        for n,i in enumerate(xtr.values):\n",
        "            if k == i and ytr[n]==0 :\n",
        "                neg_count += 1\n",
        "            elif k == i and ytr[n]==1:\n",
        "                po_count += 1\n",
        "            else:\n",
        "                continue\n",
        "        pos.append(po_count)\n",
        "        neg.append(neg_count)\n",
        "    pos_prob = np.divide(pos,list(cat_values))\n",
        "    neg_prob = np.divide(neg,list(cat_values))\n",
        "    xtr_0 = np.zeros(len(xtr))\n",
        "    xtr_1 = np.zeros(len(xtr))\n",
        "    for n,k in enumerate(cat):\n",
        "        for m,i in enumerate(xtr.values):\n",
        "            if i == k :\n",
        "                xtr_0[m] = neg_prob[n]\n",
        "                xtr_1[m] = pos_prob[n]\n",
        "            else:\n",
        "                continue\n",
        "    only_xte_cat = set(xte.values)-set(xtr.values)\n",
        "    xte_0 = np.zeros(len(xte))\n",
        "    xte_1 = np.zeros(len(xte)) \n",
        "    for cat in only_xte_cat:\n",
        "        for m,i in enumerate(xte.values):\n",
        "            if i == cat:\n",
        "                xte_0[m]=0.5\n",
        "                xte_1[m]=0.5\n",
        "            else:\n",
        "                continue\n",
        "    for n,k in enumerate(cat):\n",
        "        for m,i in enumerate(xte.values):\n",
        "            if i == k :\n",
        "                xte_0[m] = neg_prob[n]\n",
        "                xte_1[m] = pos_prob[n]\n",
        "            else:\n",
        "                continue           \n",
        "    return xtr_0.reshape(-1,1),xtr_1.reshape(-1,1),xte_0.reshape(-1,1),xte_1.reshape(-1,1)"
      ],
      "metadata": {
        "colab": {
          "base_uri": "https://localhost:8080/"
        },
        "id": "MdwLc_um5JWl",
        "outputId": "4cd7fd72-650f-4d40-f766-b44f9b539a69"
      },
      "execution_count": 50,
      "outputs": [
        {
          "output_type": "stream",
          "name": "stdout",
          "text": [
            "time: 4.88 ms (started: 2022-11-08 01:35:48 +00:00)\n"
          ]
        }
      ]
    },
    {
      "cell_type": "markdown",
      "source": [
        "## Response encoding for the Categorical columns"
      ],
      "metadata": {
        "id": "KJFSE39i6hEI"
      }
    },
    {
      "cell_type": "code",
      "source": [
        "# project_subject_categories project_subject_subcategories\n",
        "# implementing Response encoding for the column 'teacher_prefix'\n",
        "teacher_prefix_tr_0_rc, teacher_prefix_tr_1_rc, teacher_prefix_te_0_rc, teacher_prefix_te_1_rc = response_code (x_train['teacher_prefix'], \n",
        "                                                                                                                y_train, \n",
        "                                                                                                                x_test['teacher_prefix'])\n",
        "\n",
        "\n",
        "# implementing Response encoding for the column 'project_grade_category'\n",
        "project_grade_cat_tr_0_rc, project_grade_cat_tr_1_rc, project_grade_cat_te_0_rc, project_grade_cat_te_1_rc = response_code (x_train['project_grade_category'],\n",
        "                                                                                                                            y_train,\n",
        "                                                                                                                            x_test['project_grade_category'])\n",
        "\n",
        "# implementing Response encoding for the column 'school_state'\n",
        "school_state_tr_0_rc, school_state_tr_1_rc, school_state_te_0_rc, school_state_te_1_rc = response_code (x_train['school_state'],\n",
        "                                                                                                        y_train,\n",
        "                                                                                                        x_test['school_state'])\n",
        "\n",
        "# implementing Response encoding for the column 'project_subject_categories'\n",
        "clean_cat_tr_0_rc, clean_cat_tr_1_rc, clean_cat_te_0_rc, clean_cat_te_1_rc = response_code (x_train['project_subject_categories'],\n",
        "                                                                                           y_train,\n",
        "                                                                                           x_test['project_subject_categories'])\n",
        "\n",
        "# implementing Response encoding for the column 'project_subject_subcategories'\n",
        "clean_subcat_tr_0_rc, clean_subcat_tr_1_rc, clean_subcat_te_0_rc, clean_subcat_te_1_rc = response_code (x_train['project_subject_subcategories'],\n",
        "                                                                                                        y_train,\n",
        "                                                                                                        x_test['project_subject_subcategories'])\n",
        "                                                                                                                                    "
      ],
      "metadata": {
        "colab": {
          "base_uri": "https://localhost:8080/"
        },
        "id": "8ql1TtgT5YTl",
        "outputId": "0172abaf-d0c9-4669-b2e2-6de5f8027080"
      },
      "execution_count": 51,
      "outputs": [
        {
          "output_type": "stream",
          "name": "stdout",
          "text": [
            "time: 4.55 s (started: 2022-11-08 01:35:52 +00:00)\n"
          ]
        }
      ]
    },
    {
      "cell_type": "code",
      "source": [
        "'''\n",
        "# Performing One Hot encoding on Categortical features \n",
        "# shud use alternatively fit_tranform and transfomr for each column or else we get wrong values as the fit will be updated with the latest values\n",
        "\n",
        "vectorizer_oneHot = CountVectorizer(binary = True)\n",
        "\n",
        "\n",
        "school_state_oneHot_tr = vectorizer_oneHot.fit_transform(x_train['school_state'].values)\n",
        "school_state_oneHot_te = vectorizer_oneHot.transform(x_test['school_state'].values)\n",
        "\n",
        "teacher_prefix_oneHot_tr = vectorizer_oneHot.fit_transform(x_train['teacher_prefix'].values)\n",
        "teacher_prefix_oneHot_te = vectorizer_oneHot.transform(x_test['teacher_prefix'].values)\n",
        "\n",
        "project_grade_category_oneHot_tr = vectorizer_oneHot.fit_transform(x_train['project_grade_category'].values)\n",
        "project_grade_category_oneHot_te = vectorizer_oneHot.transform(x_test['project_grade_category'].values)\n",
        "\n",
        "clean_categories_oneHot_tr = vectorizer_oneHot.fit_transform(x_train['clean_categories'].values)\n",
        "clean_categories_oneHot_te = vectorizer_oneHot.transform(x_test['clean_categories'].values)\n",
        "\n",
        "clean_subcategories_oneHot_tr = vectorizer_oneHot.fit_transform(x_train['clean_subcategories'].values)\n",
        "clean_subcategories_oneHot_te = vectorizer_oneHot.transform(x_test['clean_subcategories'].values)\n",
        "\n",
        "'''"
      ],
      "metadata": {
        "id": "8cpBSXg9LcxQ",
        "colab": {
          "base_uri": "https://localhost:8080/"
        },
        "outputId": "bc720fd2-2635-462b-b9de-b83dfdafb65f"
      },
      "execution_count": null,
      "outputs": [
        {
          "output_type": "stream",
          "name": "stdout",
          "text": [
            "time: 390 ms (started: 2022-08-30 06:09:18 +00:00)\n"
          ]
        }
      ]
    },
    {
      "cell_type": "code",
      "source": [
        "'''\n",
        "print(\"Shape of various columns after performing One Hot encoding  on Train data are:\")\n",
        "print(\"=\"*79)\n",
        "print(\"school_state after One hot encoding:           \",school_state_oneHot_tr.shape)\n",
        "print(\"teacher_prefix after One hot encoding:         \",teacher_prefix_oneHot_tr.shape)\n",
        "print(\"project_grade_category after One hot encoding: \",project_grade_category_oneHot_tr.shape)\n",
        "print(\"clean_categories after One hot encoding:       \",clean_categories_oneHot_tr.shape)\n",
        "print(\"clean_subcategories after One hot encoding:    \",clean_subcategories_oneHot_tr.shape)\n",
        "\n",
        "print('\\n')\n",
        "\n",
        "print(\"Shape of various columns after performing One Hot encoding  on Test data are:\")\n",
        "print(\"=\"*79)\n",
        "print(\"school_state after One hot encoding:           \",school_state_oneHot_te.shape)\n",
        "print(\"teacher_prefix after One hot encoding:         \",teacher_prefix_oneHot_te.shape)\n",
        "print(\"project_grade_category after One hot encoding: \",project_grade_category_oneHot_te.shape)\n",
        "print(\"clean_categories after One hot encoding:       \",clean_categories_oneHot_te.shape)\n",
        "print(\"clean_subcategories after One hot encoding:    \",clean_subcategories_oneHot_te.shape)\n",
        "\n",
        "'''"
      ],
      "metadata": {
        "id": "aY_qDI71T7pC"
      },
      "execution_count": null,
      "outputs": []
    },
    {
      "cell_type": "markdown",
      "source": [
        "Concatinating all the above features\n"
      ],
      "metadata": {
        "id": "21RO2BwTUIq4"
      }
    },
    {
      "cell_type": "markdown",
      "source": [
        "\n",
        "Set 1:\n",
        "\n",
        "Categorical(instead of one hot encoding, try response coding: use probability values), numerical features + project_title(TFIDF)+ preprocessed_eassay (TFIDF)+sentiment Score of eassay(check the bellow example, include all 4 values as 4 features)"
      ],
      "metadata": {
        "id": "uB9HYb0oUOzm"
      }
    },
    {
      "cell_type": "code",
      "source": [
        "from scipy.sparse import hstack\n",
        "\n",
        "x_tr_tfidf = hstack((x_train_essay_tfidf, school_state_tr_0_rc, school_state_tr_1_rc, teacher_prefix_tr_0_rc, teacher_prefix_tr_1_rc, \n",
        "                     project_grade_cat_tr_0_rc, project_grade_cat_tr_1_rc, clean_cat_tr_0_rc, clean_cat_tr_1_rc, clean_subcat_tr_0_rc, \n",
        "                     clean_subcat_tr_1_rc, price_train, teacher_number_of_previously_posted_projects_train, x_train_title_tfidf, \n",
        "                     x_train_project_resource_summary_tfidf, neg_score_train, pos_score_train, neu_score_train, comp_score_train, quantity_train)).tocsr()\n",
        "\n",
        "x_te_tfidf = hstack((x_test_essay_tfidf, school_state_te_0_rc, school_state_te_1_rc, teacher_prefix_te_0_rc, teacher_prefix_te_1_rc, \n",
        "                     project_grade_cat_te_0_rc, project_grade_cat_te_1_rc, clean_cat_te_0_rc, clean_cat_te_1_rc, clean_subcat_te_0_rc, \n",
        "                     clean_subcat_te_1_rc, price_test, teacher_number_of_previously_posted_projects_test, x_test_title_tfidf, \n",
        "                     x_test_project_resource_summary_tfidf, neg_score_test, pos_score_test, neu_score_test, comp_score_test, quantity_test )).tocsr()"
      ],
      "metadata": {
        "id": "1BvQFOFqUARr",
        "colab": {
          "base_uri": "https://localhost:8080/"
        },
        "outputId": "fe0ea5c3-3f39-45ba-dc44-6c1d6310eb39"
      },
      "execution_count": 52,
      "outputs": [
        {
          "output_type": "stream",
          "name": "stdout",
          "text": [
            "time: 667 ms (started: 2022-11-08 01:35:56 +00:00)\n"
          ]
        }
      ]
    },
    {
      "cell_type": "markdown",
      "source": [
        "Set 2: \n",
        "\n",
        "Categorical(instead of one hot encoding, try response coding: use probability values), numerical features + project_title(TFIDF W2V)+ preprocessed_eassay (TFIDF W2V)"
      ],
      "metadata": {
        "id": "AzydCIyUdeT2"
      }
    },
    {
      "cell_type": "code",
      "source": [
        "from scipy.sparse import hstack\n",
        "\n",
        "x_tr_tfidf_w2v = hstack((x_train_essay_tfidf_w2v, school_state_tr_0_rc, school_state_tr_1_rc, teacher_prefix_tr_0_rc, teacher_prefix_tr_1_rc, \n",
        "                         project_grade_cat_tr_0_rc, project_grade_cat_tr_1_rc, clean_cat_tr_0_rc, clean_cat_tr_1_rc, clean_subcat_tr_0_rc, \n",
        "                         clean_subcat_tr_1_rc, price_train, teacher_number_of_previously_posted_projects_train, x_train_title_tfidf_w2v, quantity_train, \n",
        "                         x_train_project_resource_summary_tfidf_w2v ,neg_score_train, pos_score_train, neu_score_train, comp_score_train)).tocsr()\n",
        "                         \n",
        "\n",
        "x_te_tfidf_w2v = hstack((x_test_essay_tfidf_w2v, school_state_te_0_rc, school_state_te_1_rc, teacher_prefix_te_0_rc, teacher_prefix_te_1_rc, \n",
        "                         project_grade_cat_te_0_rc, project_grade_cat_te_1_rc, clean_cat_te_0_rc, clean_cat_te_1_rc, clean_subcat_te_0_rc, \n",
        "                         clean_subcat_te_1_rc, price_test, teacher_number_of_previously_posted_projects_test,x_test_title_tfidf_w2v, quantity_test,\n",
        "                         x_test_project_resource_summary_tfidf_w2v, neg_score_test, pos_score_test, neu_score_test, comp_score_test )).tocsr()\n",
        "                         "
      ],
      "metadata": {
        "id": "omZ--sy_dhOD",
        "colab": {
          "base_uri": "https://localhost:8080/"
        },
        "outputId": "459a3323-219d-414c-e33c-3fffa16dbeba"
      },
      "execution_count": 53,
      "outputs": [
        {
          "output_type": "stream",
          "name": "stdout",
          "text": [
            "time: 1.68 s (started: 2022-11-08 01:35:59 +00:00)\n"
          ]
        }
      ]
    },
    {
      "cell_type": "code",
      "source": [
        "print(\"Final Data Matrix is :\")\n",
        "print('*'*22)\n",
        "print('\\n')\n",
        "\n",
        "print(\"Using TFIDF:\")\n",
        "print('='*12)\n",
        "print(\"Training data:\",x_tr_tfidf.shape, y_train.shape )\n",
        "print(\"Testing data:\",x_te_tfidf.shape, y_test.shape )\n",
        "print('\\n')\n",
        "print(\"Using TFIDF + W2V:\")\n",
        "print('='*20)\n",
        "print(\"Training data:\",x_tr_tfidf_w2v.shape, y_train.shape )\n",
        "print(\"Testing data:\",x_te_tfidf_w2v.shape, y_test.shape )\n",
        "print('\\n')"
      ],
      "metadata": {
        "colab": {
          "base_uri": "https://localhost:8080/"
        },
        "id": "tordk_mgd4ar",
        "outputId": "c14e829f-e840-4a32-89b9-9c5e5a8f258c"
      },
      "execution_count": 54,
      "outputs": [
        {
          "output_type": "stream",
          "name": "stdout",
          "text": [
            "Final Data Matrix is :\n",
            "**********************\n",
            "\n",
            "\n",
            "Using TFIDF:\n",
            "============\n",
            "Training data: (37482, 10053) (37482,)\n",
            "Testing data: (12495, 10053) (12495,)\n",
            "\n",
            "\n",
            "Using TFIDF + W2V:\n",
            "====================\n",
            "Training data: (37482, 917) (37482,)\n",
            "Testing data: (12495, 917) (12495,)\n",
            "\n",
            "\n",
            "time: 11 ms (started: 2022-11-08 01:36:01 +00:00)\n"
          ]
        }
      ]
    },
    {
      "cell_type": "markdown",
      "source": [
        "## Function to Evaluate our Model using different metrics"
      ],
      "metadata": {
        "id": "yxDDHXc_fwMW"
      }
    },
    {
      "cell_type": "code",
      "source": [
        "# function to evaluate our model using different metrics\n",
        "\n",
        "# values to be passed :\n",
        "# model_name = Our Model name, model = classifier used used to predict, y_train_pred, y_test_pred, x_train, x_test\n",
        "def evaluate_model(model_name, model, y_train_pred, y_test_pred, x_train, x_test):\n",
        "\n",
        "    # Printing Train & Test Accuracy scores\n",
        "    print(\"Train Accuracy :\", accuracy_score(y_train, model.predict(x_train)))\n",
        "    print(\"Test Accuracy :\", accuracy_score(y_test, model.predict(x_test)))\n",
        "\n",
        "    print('\\n')\n",
        "    print(\"=\"*60)\n",
        "    print('\\n')\n",
        "   \n",
        "    #***********************************************************************************************************#\n",
        "\n",
        "    # Printing Confusion Matrix for Train & Test data\n",
        "    print(\"Train Confusion Matrix:\")\n",
        "    print(confusion_matrix(y_train, model.predict(x_train)))\n",
        "    print(\"Test Confusion Matrix:\")\n",
        "    print(confusion_matrix(y_test, model.predict(x_test)))\n",
        "\n",
        "    print('\\n')\n",
        "    print(\"=\"*60)\n",
        "    print('\\n')\n",
        "\n",
        "    #************************************************************************************************************#\n",
        "    # Printing classification reports\n",
        "\n",
        "    # For Train Data\n",
        "    print(\"Classification report for our Model's Training data:\")\n",
        "    print(\"-\"*52)\n",
        "    print(classification_report(y_train, model.predict(x_train)))\n",
        "\n",
        "    print('\\n')\n",
        "    print(\"=\"*60)\n",
        "    print('\\n')\n",
        "    \n",
        "    # For Train Data\n",
        "    print(\"Classification report for our Model's Test data:\")\n",
        "    print(\"-\"*52)\n",
        "    print(classification_report(y_test, model.predict(x_test)))\n",
        "  \n",
        "    print('\\n')\n",
        "    print(\"=\"*60)\n",
        "    print('\\n')\n",
        "\n",
        "    #**************************************************************************************************************#\n",
        "\n",
        "    # Calculating AUC ROC scores\n",
        "    auc_train_data = roc_auc_score(y_train, y_train_pred[:,1])\n",
        "    auc_test_data = roc_auc_score(y_test, y_test_pred[:,1])\n",
        "    print(\"AUC scores for \\nTrain data is :\", auc_train_data,\" & \\nTest data is :\", auc_test_data)\n",
        "  \n",
        "    print('\\n')\n",
        "    print(\"=\"*60)\n",
        "    print('\\n')\n",
        "\n",
        "    # Plotting AUC ROC scores for Train & Test data\n",
        "    # ROC Curve using predict_proba method \n",
        "    print(\"Plotting AUC ROC curves for Train and Test Data\")\n",
        "    tr_fpr, tr_tpr, tr_thresh = roc_curve(y_train, y_train_pred[:,1], pos_label=1)\n",
        "    te_fpr, te_tpr, te_thresh = roc_curve(y_test, y_test_pred[:,1], pos_label=1)\n",
        "\n",
        "    plt.style.use('seaborn')\n",
        "\n",
        "    # plot roc curves\n",
        "    plt.plot(tr_fpr, tr_tpr, linestyle='--', color='orange', label='Train AUC ='+str(auc(tr_fpr, tr_tpr).round(3)))\n",
        "    plt.plot(te_fpr, te_tpr, linestyle='--', color='green', label='Test AUC ='+str(auc(te_fpr, te_tpr).round(3)))\n",
        "\n",
        "    # title\n",
        "    plt.title('ROC curve using '+str(model_name)+' model')\n",
        "    # x label\n",
        "    plt.xlabel('False Positive Rate')\n",
        "    # y label\n",
        "    plt.ylabel('True Positive rate')\n",
        "\n",
        "    plt.legend(loc='best')\n",
        "\n",
        "    plt.show();\n",
        "    print('\\n')\n",
        "\n",
        "    #******************************************************************************************************************#\n",
        "\n",
        "    # https://www.quantinsti.com/blog/creating-heatmap-using-python-seaborn\n",
        "\n",
        "    # Plotting Train & Test Confusion matrices\n",
        "    print(\"Plotting Train and Test Confusion matrices\")\n",
        "    sns.set()\n",
        "\n",
        "    con_m_train = confusion_matrix(y_train, model.predict(x_train))\n",
        "    con_m_test = confusion_matrix(y_test, model.predict(x_test))\n",
        "\n",
        "    key = (np.asarray([['TN','FP'], ['FN', 'TP']]))\n",
        "    fig, ax = plt.subplots(1,2, figsize=(12,5)) \n",
        "\n",
        "    labels_train = (np.asarray([\"{0} = {1:.2f}\" .format(key, value) for key, value in zip(key.flatten(), con_m_train.flatten())])).reshape(2,2)\n",
        "    labels_test = (np.asarray([\"{0} = {1:.2f}\" .format(key, value) for key, value in zip(key.flatten(), con_m_test.flatten())])).reshape(2,2)\n",
        "\n",
        "    sns.heatmap(con_m_train, linewidths=.5, xticklabels=['PREDICTED : 0', 'PREDICTED : 1'], yticklabels=['ACTUAL : 0', 'ACTUAL : 1'], annot = labels_train, fmt = '', ax=ax[0], cmap='Blues')\n",
        "    sns.heatmap(con_m_test, linewidths=.5, xticklabels=['PREDICTED : 0', 'PREDICTED : 1'], yticklabels=['ACTUAL : 0', 'ACTUAL : 1'], annot = labels_test, fmt = '', ax=ax[1], cmap='Blues')\n",
        "\n",
        "    ax[0].set_title('Train Data')\n",
        "    ax[1].set_title('Test Data')\n",
        "\n",
        "    plt.show()\n",
        "\n",
        "    #*****************************************************************************************#\n",
        "\n",
        "    \n"
      ],
      "metadata": {
        "colab": {
          "base_uri": "https://localhost:8080/"
        },
        "id": "1NIFznn_fxBc",
        "outputId": "6dcaf462-7244-4569-c244-f2131b01d729"
      },
      "execution_count": 55,
      "outputs": [
        {
          "output_type": "stream",
          "name": "stdout",
          "text": [
            "time: 7.69 ms (started: 2022-11-08 01:36:09 +00:00)\n"
          ]
        }
      ]
    },
    {
      "cell_type": "markdown",
      "source": [
        "## Performing Hyperparameter tuning and plot either heatmap or 3d plot."
      ],
      "metadata": {
        "id": "6EhIJMEXd_mU"
      }
    },
    {
      "cell_type": "markdown",
      "source": [
        "## using Set 1 TFIDF"
      ],
      "metadata": {
        "id": "jNWOVOY4t6wk"
      }
    },
    {
      "cell_type": "code",
      "source": [
        "model = XGBClassifier()\n",
        "\n",
        "param = { 'learning_rate' : [0.0001, 0.001, 0.01, 0.1, 0.2, 0.3],\n",
        "          'n_estimators' : [5, 10, 50, 75, 100, 200]\n",
        "        }\n",
        "\n",
        "clf_gbdt = RandomizedSearchCV(model, param_distributions = param, scoring='roc_auc', cv = 3, \n",
        "                              return_train_score = True, n_jobs = -1, n_iter = 5, verbose = 3)  \n",
        "clf_gbdt.fit(x_tr_tfidf, y_train)\n",
        "\n",
        "print(\"Best value of Parameters for our XGBoost GBDT with TFIDF model are  :\", clf_gbdt.best_estimator_)"
      ],
      "metadata": {
        "colab": {
          "base_uri": "https://localhost:8080/"
        },
        "id": "CwEPC75veAot",
        "outputId": "19d9acad-e00a-47ad-a87e-a8f083d1ec3d"
      },
      "execution_count": 56,
      "outputs": [
        {
          "output_type": "stream",
          "name": "stdout",
          "text": [
            "Fitting 3 folds for each of 5 candidates, totalling 15 fits\n",
            "Best value of Parameters for our XGBoost GBDT with TFIDF model are  : XGBClassifier(learning_rate=0.2, n_estimators=200)\n",
            "time: 6min 20s (started: 2022-11-08 01:36:27 +00:00)\n"
          ]
        }
      ]
    },
    {
      "cell_type": "code",
      "source": [
        "clf_gbdt.score(x_te_tfidf, y_test)    # just to test the values"
      ],
      "metadata": {
        "colab": {
          "base_uri": "https://localhost:8080/"
        },
        "id": "nS9ZAOkujPvA",
        "outputId": "7dc6ed53-e60f-4fa5-d8f4-ba3a9aa7a515"
      },
      "execution_count": 57,
      "outputs": [
        {
          "output_type": "execute_result",
          "data": {
            "text/plain": [
              "0.7390945344871613"
            ]
          },
          "metadata": {},
          "execution_count": 57
        },
        {
          "output_type": "stream",
          "name": "stdout",
          "text": [
            "time: 600 ms (started: 2022-11-08 01:44:51 +00:00)\n"
          ]
        }
      ]
    },
    {
      "cell_type": "code",
      "source": [
        "'''\n",
        "#clf_gbdt.cv_results_\n",
        "results = pd.DataFrame.from_dict(clf_gbdt.cv_results_)\n",
        "results.groupby(['param_n_estimators', 'param_learning_rate']).max()\n",
        "'''"
      ],
      "metadata": {
        "id": "6PqhW5YhhJtB"
      },
      "execution_count": null,
      "outputs": []
    },
    {
      "cell_type": "code",
      "source": [
        "results = pd.DataFrame.from_dict(clf_gbdt.cv_results_)\n",
        "\n",
        "max_scores = results.groupby(['param_n_estimators', 'param_learning_rate']).max()\n",
        "max_scores = max_scores.unstack()[['mean_test_score', 'mean_train_score']]\n",
        "sns.heatmap(max_scores.mean_test_score, annot=True, fmt='.4g', cmap = 'Greens');"
      ],
      "metadata": {
        "colab": {
          "base_uri": "https://localhost:8080/",
          "height": 301
        },
        "id": "XMQ1o96OjfGV",
        "outputId": "a0fe7a03-a8a4-40d7-e7ee-24894b1735ad"
      },
      "execution_count": 58,
      "outputs": [
        {
          "output_type": "display_data",
          "data": {
            "text/plain": [
              "<Figure size 432x288 with 2 Axes>"
            ],
            "image/png": "[encoded data removed]"
          },
          "metadata": {
            "needs_background": "light"
          }
        },
        {
          "output_type": "stream",
          "name": "stdout",
          "text": [
            "time: 348 ms (started: 2022-11-08 01:44:59 +00:00)\n"
          ]
        }
      ]
    },
    {
      "cell_type": "markdown",
      "source": [
        "## Applying our Best paramerters obtained by Hyperparameter tuning to our Model"
      ],
      "metadata": {
        "id": "1WZiM5YIj5Kx"
      }
    },
    {
      "cell_type": "code",
      "source": [
        "# best parameters for our Decision Tree\n",
        "\n",
        "best_learning_rate_tfidf = 0.2\n",
        "best_estimator_tfidf = 200\n",
        "\n",
        "print(\" Best parameters for our XG Boost GBDT model based on TFIDF are:\\n Best Learning rate = {0} &  \\n Best estimator tfidf = {1}\"\n",
        "       .format(best_learning_rate_tfidf, best_estimator_tfidf))\n",
        "\n",
        "\n",
        "gbdt_tfidf = XGBClassifier( learning_rate = best_learning_rate_tfidf, n_estimators = best_estimator_tfidf )\n",
        "\n",
        "# fitting our model on Train data of TFIDF\n",
        "gbdt_tfidf.fit(x_tr_tfidf, y_train )\n",
        "\n",
        "# predicting on train and test data using predict_proba method\n",
        "y_train_pred_tfidf = gbdt_tfidf.predict_proba(x_tr_tfidf)\n",
        "y_test_pred_tfidf = gbdt_tfidf.predict_proba(x_te_tfidf)"
      ],
      "metadata": {
        "id": "5fdoqdX6j50u",
        "colab": {
          "base_uri": "https://localhost:8080/"
        },
        "outputId": "ce2ab596-9821-4bb9-ee45-a6dc8a08feab"
      },
      "execution_count": 59,
      "outputs": [
        {
          "output_type": "stream",
          "name": "stdout",
          "text": [
            " Best parameters for our XG Boost GBDT model based on TFIDF are:\n",
            " Best Learning rate = 0.2 &  \n",
            " Best estimator tfidf = 200\n",
            "time: 1min 48s (started: 2022-11-08 01:45:15 +00:00)\n"
          ]
        }
      ]
    },
    {
      "cell_type": "code",
      "source": [
        "# model_name = Our Model name, model = classifier used used to predict, y_train_pred, y_test_pred, x_train, x_test\n",
        "\n",
        "evaluate_model ('XG Boost GBDT (TFIDF)', gbdt_tfidf, y_train_pred_tfidf, y_test_pred_tfidf, x_tr_tfidf, x_te_tfidf )"
      ],
      "metadata": {
        "colab": {
          "base_uri": "https://localhost:8080/",
          "height": 1000
        },
        "id": "kxBnjzengH0j",
        "outputId": "ee6550e9-84de-42c6-adb4-d226d46dbad8"
      },
      "execution_count": 60,
      "outputs": [
        {
          "output_type": "stream",
          "name": "stdout",
          "text": [
            "Train Accuracy : 0.8648684701990289\n",
            "Test Accuracy : 0.8462585034013606\n",
            "\n",
            "\n",
            "============================================================\n",
            "\n",
            "\n",
            "Train Confusion Matrix:\n",
            "[[  842  4935]\n",
            " [  130 31575]]\n",
            "Test Confusion Matrix:\n",
            "[[    7  1919]\n",
            " [    2 10567]]\n",
            "\n",
            "\n",
            "============================================================\n",
            "\n",
            "\n",
            "Classification report for our Model's Training data:\n",
            "----------------------------------------------------\n",
            "              precision    recall  f1-score   support\n",
            "\n",
            "           0       0.87      0.15      0.25      5777\n",
            "           1       0.86      1.00      0.93     31705\n",
            "\n",
            "    accuracy                           0.86     37482\n",
            "   macro avg       0.87      0.57      0.59     37482\n",
            "weighted avg       0.87      0.86      0.82     37482\n",
            "\n",
            "\n",
            "\n",
            "============================================================\n",
            "\n",
            "\n",
            "Classification report for our Model's Test data:\n",
            "----------------------------------------------------\n",
            "              precision    recall  f1-score   support\n",
            "\n",
            "           0       0.78      0.00      0.01      1926\n",
            "           1       0.85      1.00      0.92     10569\n",
            "\n",
            "    accuracy                           0.85     12495\n",
            "   macro avg       0.81      0.50      0.46     12495\n",
            "weighted avg       0.84      0.85      0.78     12495\n",
            "\n",
            "\n",
            "\n",
            "============================================================\n",
            "\n",
            "\n",
            "AUC scores for \n",
            "Train data is : 0.8721273777428817  & \n",
            "Test data is : 0.7390945344871613\n",
            "\n",
            "\n",
            "============================================================\n",
            "\n",
            "\n",
            "Plotting AUC ROC curves for Train and Test Data\n"
          ]
        },
        {
          "output_type": "display_data",
          "data": {
            "text/plain": [
              "<Figure size 576x396 with 1 Axes>"
            ],
            "image/png": "[encoded data removed]"
          },
          "metadata": {}
        },
        {
          "output_type": "stream",
          "name": "stdout",
          "text": [
            "\n",
            "\n",
            "Plotting Train and Test Confusion matrices\n"
          ]
        },
        {
          "output_type": "display_data",
          "data": {
            "text/plain": [
              "<Figure size 864x360 with 4 Axes>"
            ],
            "image/png": "[encoded data removed]"
          },
          "metadata": {}
        },
        {
          "output_type": "stream",
          "name": "stdout",
          "text": [
            "time: 8.43 s (started: 2022-11-08 01:47:25 +00:00)\n"
          ]
        }
      ]
    },
    {
      "cell_type": "markdown",
      "source": [
        "## using Set 2 TFIDF + W2V"
      ],
      "metadata": {
        "id": "5xeuhfSKuFKc"
      }
    },
    {
      "cell_type": "code",
      "source": [
        "model_W2V = XGBClassifier()\n",
        "\n",
        "param = { 'learning_rate' : [0.0001, 0.001, 0.01, 0.1, 0.2, 0.3],\n",
        "          'n_estimators' : [5, 10, 50, 75, 100, 200]\n",
        "        }\n",
        "\n",
        "clf_gbdt_W2V = RandomizedSearchCV(model_W2V, param_distributions = param, scoring = 'roc_auc',\n",
        "                                  cv = 5, n_jobs = -1, n_iter = 5, return_train_score = True, verbose = 10)  \n",
        "clf_gbdt_W2V.fit(x_tr_tfidf_w2v, y_train)\n",
        "\n",
        "print(\"Best value of Parameters for our XGBoost GBDT with TFIDF + W2V model are  :\", clf_gbdt_W2V.best_estimator_)"
      ],
      "metadata": {
        "colab": {
          "base_uri": "https://localhost:8080/"
        },
        "id": "Vt75w64atg6j",
        "outputId": "986abef9-048a-4f78-db9c-b5ab4f3bd566"
      },
      "execution_count": 61,
      "outputs": [
        {
          "output_type": "stream",
          "name": "stdout",
          "text": [
            "Fitting 5 folds for each of 5 candidates, totalling 25 fits\n",
            "Best value of Parameters for our XGBoost GBDT with TFIDF + W2V model are  : XGBClassifier(learning_rate=0.2, n_estimators=75)\n",
            "time: 55min 58s (started: 2022-11-08 01:48:21 +00:00)\n"
          ]
        }
      ]
    },
    {
      "cell_type": "code",
      "source": [
        "clf_gbdt_W2V.score(x_te_tfidf_w2v, y_test)      # just to test the values"
      ],
      "metadata": {
        "colab": {
          "base_uri": "https://localhost:8080/"
        },
        "id": "7wx7eRDHu31Z",
        "outputId": "f0b51e0a-6613-4411-b12e-fe5ae3a719c5"
      },
      "execution_count": 62,
      "outputs": [
        {
          "output_type": "execute_result",
          "data": {
            "text/plain": [
              "0.7173001588630792"
            ]
          },
          "metadata": {},
          "execution_count": 62
        },
        {
          "output_type": "stream",
          "name": "stdout",
          "text": [
            "time: 3.56 s (started: 2022-11-08 02:48:09 +00:00)\n"
          ]
        }
      ]
    },
    {
      "cell_type": "code",
      "source": [
        "results_w2v = pd.DataFrame.from_dict(clf_gbdt_W2V.cv_results_)\n",
        "\n",
        "max_scores = results_w2v.groupby(['param_n_estimators', 'param_learning_rate']).max()\n",
        "max_scores = max_scores.unstack()[['mean_test_score', 'mean_train_score']]\n",
        "sns.heatmap(max_scores.mean_test_score, annot=True, fmt='.4g', cmap = 'Greens');"
      ],
      "metadata": {
        "colab": {
          "base_uri": "https://localhost:8080/",
          "height": 388
        },
        "id": "Bh6dz9ixu4oM",
        "outputId": "07a90936-d096-45e8-d34b-f790d2cee53f"
      },
      "execution_count": 63,
      "outputs": [
        {
          "output_type": "display_data",
          "data": {
            "text/plain": [
              "<Figure size 576x396 with 2 Axes>"
            ],
            "image/png": "[encoded data removed]"
          },
          "metadata": {}
        },
        {
          "output_type": "stream",
          "name": "stdout",
          "text": [
            "time: 358 ms (started: 2022-11-08 02:48:24 +00:00)\n"
          ]
        }
      ]
    },
    {
      "cell_type": "markdown",
      "source": [
        "## Applying our Best paramerters obtained by Hyperparameter tuning to our Model"
      ],
      "metadata": {
        "id": "aRtZry06vDVF"
      }
    },
    {
      "cell_type": "code",
      "source": [
        "# best parameters for our Decision Tree\n",
        "\n",
        "best_learning_rate_tfidf_w2v = 0.2\n",
        "best_estimator_tfidf_w2v = 75\n",
        "\n",
        "print(\" Best parameters for our XG Boost GBDT model based on TFIDF are:\\n Best Learning rate = {0} &  \\n Best estimator tfidf = {1}\"\n",
        "       .format(best_learning_rate_tfidf_w2v, best_estimator_tfidf_w2v))\n",
        "\n",
        "\n",
        "gbdt_tfidf_w2v = XGBClassifier( learning_rate = best_learning_rate_tfidf_w2v, n_estimators = best_estimator_tfidf_w2v )\n",
        "\n",
        "# fitting our model on Train data of TFIDF + W2V\n",
        "gbdt_tfidf_w2v.fit(x_tr_tfidf_w2v, y_train )\n",
        "\n",
        "# predicting on train and test data using predict_proba method\n",
        "y_train_pred_tfidf_w2v = gbdt_tfidf_w2v.predict_proba(x_tr_tfidf_w2v)\n",
        "y_test_pred_tfidf_w2v = gbdt_tfidf_w2v.predict_proba(x_te_tfidf_w2v)"
      ],
      "metadata": {
        "colab": {
          "base_uri": "https://localhost:8080/"
        },
        "id": "D5TQpmt1i_LA",
        "outputId": "23b2bc13-b4cf-4f40-8fc8-3c06daa58072"
      },
      "execution_count": 64,
      "outputs": [
        {
          "output_type": "stream",
          "name": "stdout",
          "text": [
            " Best parameters for our XG Boost GBDT model based on TFIDF are:\n",
            " Best Learning rate = 0.2 &  \n",
            " Best estimator tfidf = 75\n",
            "time: 3min 51s (started: 2022-11-08 02:49:10 +00:00)\n"
          ]
        }
      ]
    },
    {
      "cell_type": "code",
      "source": [
        "# model_name = Our Model name, model = classifier used used to predict, y_train_pred, y_test_pred, x_train, x_test\n",
        "\n",
        "evaluate_model ('XG Boost GBDT (TFIDF + W2V)', gbdt_tfidf_w2v, y_train_pred_tfidf_w2v, y_test_pred_tfidf_w2v, x_tr_tfidf_w2v, x_te_tfidf_w2v )"
      ],
      "metadata": {
        "colab": {
          "base_uri": "https://localhost:8080/",
          "height": 1000
        },
        "id": "_sq7x2SujZYm",
        "outputId": "88e087ff-4947-40be-95b5-bd3af6cb7e59"
      },
      "execution_count": 65,
      "outputs": [
        {
          "output_type": "stream",
          "name": "stdout",
          "text": [
            "Train Accuracy : 0.8564644362627395\n",
            "Test Accuracy : 0.8458583433373349\n",
            "\n",
            "\n",
            "============================================================\n",
            "\n",
            "\n",
            "Train Confusion Matrix:\n",
            "[[  524  5253]\n",
            " [  127 31578]]\n",
            "Test Confusion Matrix:\n",
            "[[    1  1925]\n",
            " [    1 10568]]\n",
            "\n",
            "\n",
            "============================================================\n",
            "\n",
            "\n",
            "Classification report for our Model's Training data:\n",
            "----------------------------------------------------\n",
            "              precision    recall  f1-score   support\n",
            "\n",
            "           0       0.80      0.09      0.16      5777\n",
            "           1       0.86      1.00      0.92     31705\n",
            "\n",
            "    accuracy                           0.86     37482\n",
            "   macro avg       0.83      0.54      0.54     37482\n",
            "weighted avg       0.85      0.86      0.80     37482\n",
            "\n",
            "\n",
            "\n",
            "============================================================\n",
            "\n",
            "\n",
            "Classification report for our Model's Test data:\n",
            "----------------------------------------------------\n",
            "              precision    recall  f1-score   support\n",
            "\n",
            "           0       0.50      0.00      0.00      1926\n",
            "           1       0.85      1.00      0.92     10569\n",
            "\n",
            "    accuracy                           0.85     12495\n",
            "   macro avg       0.67      0.50      0.46     12495\n",
            "weighted avg       0.79      0.85      0.78     12495\n",
            "\n",
            "\n",
            "\n",
            "============================================================\n",
            "\n",
            "\n",
            "AUC scores for \n",
            "Train data is : 0.8184661059740816  & \n",
            "Test data is : 0.7173001588630792\n",
            "\n",
            "\n",
            "============================================================\n",
            "\n",
            "\n",
            "Plotting AUC ROC curves for Train and Test Data\n"
          ]
        },
        {
          "output_type": "display_data",
          "data": {
            "text/plain": [
              "<Figure size 576x396 with 1 Axes>"
            ],
            "image/png": "[encoded data removed]"
          },
          "metadata": {}
        },
        {
          "output_type": "stream",
          "name": "stdout",
          "text": [
            "\n",
            "\n",
            "Plotting Train and Test Confusion matrices\n"
          ]
        },
        {
          "output_type": "display_data",
          "data": {
            "text/plain": [
              "<Figure size 864x360 with 4 Axes>"
            ],
            "image/png": "[encoded data removed]"
          },
          "metadata": {}
        },
        {
          "output_type": "stream",
          "name": "stdout",
          "text": [
            "time: 50.2 s (started: 2022-11-08 02:55:33 +00:00)\n"
          ]
        }
      ]
    },
    {
      "cell_type": "code",
      "source": [
        "# initializing a table\n",
        "table = PrettyTable()\n",
        "\n",
        "# adding title to our table\n",
        "table.title = \"XG Boost GBDT on Donoros Choose Dataset\"\n",
        "# adding column names to our table\n",
        "table.field_names = [\"Vectorizer\", \"Model\", \"Learning rate\", \"Estimator\",\" AUC\"]\n",
        "\n",
        "# adding rows to our table\n",
        "table.add_row(['TFIDF', 'XG Boost GBDT', best_learning_rate_tfidf, best_estimator_tfidf, '0.739'])\n",
        "table.add_row(['TFIDF + W2V', 'XG Boost GBDT', best_learning_rate_tfidf_w2v, best_estimator_tfidf_w2v, '0.717' ])\n",
        "  \n",
        "# printing the table\n",
        "print(table)"
      ],
      "metadata": {
        "colab": {
          "base_uri": "https://localhost:8080/"
        },
        "id": "kZpqtn7HxX9u",
        "outputId": "17dc3248-9e26-4c47-96af-f098337252c7"
      },
      "execution_count": 66,
      "outputs": [
        {
          "output_type": "stream",
          "name": "stdout",
          "text": [
            "+-----------------------------------------------------------------+\n",
            "|             XG Boost GBDT on Donoros Choose Dataset             |\n",
            "+-------------+---------------+---------------+-----------+-------+\n",
            "|  Vectorizer |     Model     | Learning rate | Estimator |   AUC |\n",
            "+-------------+---------------+---------------+-----------+-------+\n",
            "|    TFIDF    | XG Boost GBDT |      0.2      |    200    | 0.739 |\n",
            "| TFIDF + W2V | XG Boost GBDT |      0.2      |     75    | 0.717 |\n",
            "+-------------+---------------+---------------+-----------+-------+\n",
            "time: 2.61 ms (started: 2022-11-08 02:56:51 +00:00)\n"
          ]
        }
      ]
    }
  ]
}