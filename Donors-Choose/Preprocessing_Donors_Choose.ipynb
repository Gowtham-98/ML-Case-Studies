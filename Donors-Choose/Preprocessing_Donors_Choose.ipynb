{
  "cells": [
    {
      "cell_type": "markdown",
      "source": [
        "## Preprocessing of the Data"
      ],
      "metadata": {
        "id": "PMIzDkvLQPgm"
      }
    },
    {
      "cell_type": "code",
      "execution_count": 1,
      "metadata": {
        "colab": {
          "base_uri": "https://localhost:8080/"
        },
        "id": "okIpccRgAAPL",
        "outputId": "84a245c5-a7ec-48df-8f9b-4122f4acaee2"
      },
      "outputs": [
        {
          "output_type": "stream",
          "name": "stderr",
          "text": [
            "[nltk_data] Downloading package vader_lexicon to /root/nltk_data...\n"
          ]
        }
      ],
      "source": [
        "%matplotlib inline\n",
        "\n",
        "import warnings\n",
        "warnings.filterwarnings(\"ignore\")\n",
        "\n",
        "import pandas as pd\n",
        "import numpy as np\n",
        "import pickle\n",
        "import re\n",
        "import os\n",
        "import nltk\n",
        "# Tutorial about Python regular expressions: https://pymotw.com/2/re/\n",
        "\n",
        "from nltk.corpus import stopwords\n",
        "from tqdm import tqdm\n",
        "from sklearn.feature_extraction.text import TfidfVectorizer\n",
        "from sklearn.feature_extraction.text import CountVectorizer\n",
        "from nltk.sentiment.vader import SentimentIntensityAnalyzer\n",
        "nltk.download('vader_lexicon')\n",
        "from tqdm import tqdm\n",
        "\n"
      ]
    },
    {
      "cell_type": "markdown",
      "metadata": {
        "id": "jFwSGrNIAAPL"
      },
      "source": [
        "## 1. Reading Data"
      ]
    },
    {
      "cell_type": "code",
      "execution_count": 4,
      "metadata": {
        "id": "3k6ByiB7AAPM"
      },
      "outputs": [],
      "source": [
        "project_data = pd.read_csv('train_data.csv')\n",
        "resource_data = pd.read_csv('resources.csv')"
      ]
    },
    {
      "cell_type": "code",
      "execution_count": 5,
      "metadata": {
        "colab": {
          "base_uri": "https://localhost:8080/"
        },
        "id": "vgxTWX6XAAPM",
        "outputId": "3cdd586f-bd69-44e5-8162-509e9c8fe312"
      },
      "outputs": [
        {
          "output_type": "stream",
          "name": "stdout",
          "text": [
            "Number of data points in train data (109248, 17)\n",
            "--------------------------------------------------\n",
            "The attributes of data : ['Unnamed: 0' 'id' 'teacher_id' 'teacher_prefix' 'school_state'\n",
            " 'project_submitted_datetime' 'project_grade_category'\n",
            " 'project_subject_categories' 'project_subject_subcategories'\n",
            " 'project_title' 'project_essay_1' 'project_essay_2' 'project_essay_3'\n",
            " 'project_essay_4' 'project_resource_summary'\n",
            " 'teacher_number_of_previously_posted_projects' 'project_is_approved']\n"
          ]
        }
      ],
      "source": [
        "print(\"Number of data points in train data\", project_data.shape)\n",
        "print('-'*50)\n",
        "print(\"The attributes of data :\", project_data.columns.values)"
      ]
    },
    {
      "cell_type": "code",
      "execution_count": 6,
      "metadata": {
        "colab": {
          "base_uri": "https://localhost:8080/",
          "height": 148
        },
        "id": "Jz-VyPqzAAPN",
        "outputId": "216effed-72bc-4cb0-8755-d9e83e4b013b"
      },
      "outputs": [
        {
          "output_type": "stream",
          "name": "stdout",
          "text": [
            "Number of data points in train data (1541272, 4)\n",
            "['id' 'description' 'quantity' 'price']\n"
          ]
        },
        {
          "output_type": "execute_result",
          "data": {
            "text/plain": [
              "        id                                        description  quantity  \\\n",
              "0  p233245  LC652 - Lakeshore Double-Space Mobile Drying Rack         1   \n",
              "1  p069063        Bouncy Bands for Desks (Blue support pipes)         3   \n",
              "\n",
              "    price  \n",
              "0  149.00  \n",
              "1   14.95  "
            ],
            "text/html": [
              "\n",
              "  <div id=\"df-d0aa9095-4953-46ce-8c98-cb5c6cd30fe3\">\n",
              "    <div class=\"colab-df-container\">\n",
              "      <div>\n",
              "<style scoped>\n",
              "    .dataframe tbody tr th:only-of-type {\n",
              "        vertical-align: middle;\n",
              "    }\n",
              "\n",
              "    .dataframe tbody tr th {\n",
              "        vertical-align: top;\n",
              "    }\n",
              "\n",
              "    .dataframe thead th {\n",
              "        text-align: right;\n",
              "    }\n",
              "</style>\n",
              "<table border=\"1\" class=\"dataframe\">\n",
              "  <thead>\n",
              "    <tr style=\"text-align: right;\">\n",
              "      <th></th>\n",
              "      <th>id</th>\n",
              "      <th>description</th>\n",
              "      <th>quantity</th>\n",
              "      <th>price</th>\n",
              "    </tr>\n",
              "  </thead>\n",
              "  <tbody>\n",
              "    <tr>\n",
              "      <th>0</th>\n",
              "      <td>p233245</td>\n",
              "      <td>LC652 - Lakeshore Double-Space Mobile Drying Rack</td>\n",
              "      <td>1</td>\n",
              "      <td>149.00</td>\n",
              "    </tr>\n",
              "    <tr>\n",
              "      <th>1</th>\n",
              "      <td>p069063</td>\n",
              "      <td>Bouncy Bands for Desks (Blue support pipes)</td>\n",
              "      <td>3</td>\n",
              "      <td>14.95</td>\n",
              "    </tr>\n",
              "  </tbody>\n",
              "</table>\n",
              "</div>\n",
              "      <button class=\"colab-df-convert\" onclick=\"convertToInteractive('df-d0aa9095-4953-46ce-8c98-cb5c6cd30fe3')\"\n",
              "              title=\"Convert this dataframe to an interactive table.\"\n",
              "              style=\"display:none;\">\n",
              "        \n",
              "  <svg xmlns=\"http://www.w3.org/2000/svg\" height=\"24px\"viewBox=\"0 0 24 24\"\n",
              "       width=\"24px\">\n",
              "    <path d=\"M0 0h24v24H0V0z\" fill=\"none\"/>\n",
              "    <path d=\"M18.56 5.44l.94 2.06.94-2.06 2.06-.94-2.06-.94-.94-2.06-.94 2.06-2.06.94zm-11 1L8.5 8.5l.94-2.06 2.06-.94-2.06-.94L8.5 2.5l-.94 2.06-2.06.94zm10 10l.94 2.06.94-2.06 2.06-.94-2.06-.94-.94-2.06-.94 2.06-2.06.94z\"/><path d=\"M17.41 7.96l-1.37-1.37c-.4-.4-.92-.59-1.43-.59-.52 0-1.04.2-1.43.59L10.3 9.45l-7.72 7.72c-.78.78-.78 2.05 0 2.83L4 21.41c.39.39.9.59 1.41.59.51 0 1.02-.2 1.41-.59l7.78-7.78 2.81-2.81c.8-.78.8-2.07 0-2.86zM5.41 20L4 18.59l7.72-7.72 1.47 1.35L5.41 20z\"/>\n",
              "  </svg>\n",
              "      </button>\n",
              "      \n",
              "  <style>\n",
              "    .colab-df-container {\n",
              "      display:flex;\n",
              "      flex-wrap:wrap;\n",
              "      gap: 12px;\n",
              "    }\n",
              "\n",
              "    .colab-df-convert {\n",
              "      background-color: #E8F0FE;\n",
              "      border: none;\n",
              "      border-radius: 50%;\n",
              "      cursor: pointer;\n",
              "      display: none;\n",
              "      fill: #1967D2;\n",
              "      height: 32px;\n",
              "      padding: 0 0 0 0;\n",
              "      width: 32px;\n",
              "    }\n",
              "\n",
              "    .colab-df-convert:hover {\n",
              "      background-color: #E2EBFA;\n",
              "      box-shadow: 0px 1px 2px rgba(60, 64, 67, 0.3), 0px 1px 3px 1px rgba(60, 64, 67, 0.15);\n",
              "      fill: #174EA6;\n",
              "    }\n",
              "\n",
              "    [theme=dark] .colab-df-convert {\n",
              "      background-color: #3B4455;\n",
              "      fill: #D2E3FC;\n",
              "    }\n",
              "\n",
              "    [theme=dark] .colab-df-convert:hover {\n",
              "      background-color: #434B5C;\n",
              "      box-shadow: 0px 1px 3px 1px rgba(0, 0, 0, 0.15);\n",
              "      filter: drop-shadow(0px 1px 2px rgba(0, 0, 0, 0.3));\n",
              "      fill: #FFFFFF;\n",
              "    }\n",
              "  </style>\n",
              "\n",
              "      <script>\n",
              "        const buttonEl =\n",
              "          document.querySelector('#df-d0aa9095-4953-46ce-8c98-cb5c6cd30fe3 button.colab-df-convert');\n",
              "        buttonEl.style.display =\n",
              "          google.colab.kernel.accessAllowed ? 'block' : 'none';\n",
              "\n",
              "        async function convertToInteractive(key) {\n",
              "          const element = document.querySelector('#df-d0aa9095-4953-46ce-8c98-cb5c6cd30fe3');\n",
              "          const dataTable =\n",
              "            await google.colab.kernel.invokeFunction('convertToInteractive',\n",
              "                                                     [key], {});\n",
              "          if (!dataTable) return;\n",
              "\n",
              "          const docLinkHtml = 'Like what you see? Visit the ' +\n",
              "            '<a target=\"_blank\" href=https://colab.research.google.com/notebooks/data_table.ipynb>data table notebook</a>'\n",
              "            + ' to learn more about interactive tables.';\n",
              "          element.innerHTML = '';\n",
              "          dataTable['output_type'] = 'display_data';\n",
              "          await google.colab.output.renderOutput(dataTable, element);\n",
              "          const docLink = document.createElement('div');\n",
              "          docLink.innerHTML = docLinkHtml;\n",
              "          element.appendChild(docLink);\n",
              "        }\n",
              "      </script>\n",
              "    </div>\n",
              "  </div>\n",
              "  "
            ]
          },
          "metadata": {},
          "execution_count": 6
        }
      ],
      "source": [
        "print(\"Number of data points in train data\", resource_data.shape)\n",
        "print(resource_data.columns.values)\n",
        "resource_data.head(2)"
      ]
    },
    {
      "cell_type": "markdown",
      "metadata": {
        "id": "KPN0he-RAAPN"
      },
      "source": [
        "# 2. Preprocessing Categorical Features: project_grade_category"
      ]
    },
    {
      "cell_type": "code",
      "execution_count": 8,
      "metadata": {
        "colab": {
          "base_uri": "https://localhost:8080/"
        },
        "id": "EJLPoatoAAPN",
        "outputId": "4f08eb7e-6413-44a2-87a2-e64c32b0f3dc"
      },
      "outputs": [
        {
          "output_type": "execute_result",
          "data": {
            "text/plain": [
              "Grades PreK-2    44225\n",
              "Grades 3-5       37137\n",
              "Grades 6-8       16923\n",
              "Grades 9-12      10963\n",
              "Name: project_grade_category, dtype: int64"
            ]
          },
          "metadata": {},
          "execution_count": 8
        }
      ],
      "source": [
        "project_data['project_grade_category'].value_counts() # we have only 4 different types of grade categories available"
      ]
    },
    {
      "cell_type": "markdown",
      "metadata": {
        "id": "iaaFdopJAAPN"
      },
      "source": [
        "we need to remove the spaces, replace the '-' with '_' and convert all the letters to small"
      ]
    },
    {
      "cell_type": "code",
      "execution_count": 9,
      "metadata": {
        "colab": {
          "base_uri": "https://localhost:8080/"
        },
        "id": "OI3kEtx7AAPN",
        "outputId": "0ca5cb1e-e129-4465-fd94-900bab18a0a8"
      },
      "outputs": [
        {
          "output_type": "execute_result",
          "data": {
            "text/plain": [
              "grades_prek_2    44225\n",
              "grades_3_5       37137\n",
              "grades_6_8       16923\n",
              "grades_9_12      10963\n",
              "Name: project_grade_category, dtype: int64"
            ]
          },
          "metadata": {},
          "execution_count": 9
        }
      ],
      "source": [
        "# https://stackoverflow.com/questions/36383821/pandas-dataframe-apply-function-to-column-strings-based-on-other-column-value\n",
        "# replacing space with  '_'\n",
        "project_data['project_grade_category'] = project_data['project_grade_category'].str.replace(' ','_')\n",
        "project_data['project_grade_category'] = project_data['project_grade_category'].str.replace('-','_')\n",
        "project_data['project_grade_category'] = project_data['project_grade_category'].str.lower()\n",
        "project_data['project_grade_category'].value_counts()"
      ]
    },
    {
      "cell_type": "markdown",
      "metadata": {
        "id": "S7p8aC1YAAPO"
      },
      "source": [
        "# 3. Preprocessing Categorical Features: project_subject_categories"
      ]
    },
    {
      "cell_type": "code",
      "execution_count": 12,
      "metadata": {
        "scrolled": true,
        "colab": {
          "base_uri": "https://localhost:8080/"
        },
        "id": "0utGlLSSAAPO",
        "outputId": "262efbc1-4792-4b31-ea16-74efaccdbb17"
      },
      "outputs": [
        {
          "output_type": "stream",
          "name": "stdout",
          "text": [
            "Number of categories for each type:\n",
            "========================================\n"
          ]
        },
        {
          "output_type": "execute_result",
          "data": {
            "text/plain": [
              "Literacy & Language                           23655\n",
              "Math & Science                                17072\n",
              "Literacy & Language, Math & Science           14636\n",
              "Health & Sports                               10177\n",
              "Music & The Arts                               5180\n",
              "Special Needs                                  4226\n",
              "Literacy & Language, Special Needs             3961\n",
              "Applied Learning                               3771\n",
              "Math & Science, Literacy & Language            2289\n",
              "Applied Learning, Literacy & Language          2191\n",
              "History & Civics                               1851\n",
              "Math & Science, Special Needs                  1840\n",
              "Literacy & Language, Music & The Arts          1757\n",
              "Math & Science, Music & The Arts               1642\n",
              "Applied Learning, Special Needs                1467\n",
              "History & Civics, Literacy & Language          1421\n",
              "Health & Sports, Special Needs                 1391\n",
              "Warmth, Care & Hunger                          1309\n",
              "Math & Science, Applied Learning               1220\n",
              "Applied Learning, Math & Science               1052\n",
              "Literacy & Language, History & Civics           809\n",
              "Health & Sports, Literacy & Language            803\n",
              "Applied Learning, Music & The Arts              758\n",
              "Math & Science, History & Civics                652\n",
              "Literacy & Language, Applied Learning           636\n",
              "Applied Learning, Health & Sports               608\n",
              "Math & Science, Health & Sports                 414\n",
              "History & Civics, Math & Science                322\n",
              "History & Civics, Music & The Arts              312\n",
              "Special Needs, Music & The Arts                 302\n",
              "Health & Sports, Math & Science                 271\n",
              "History & Civics, Special Needs                 252\n",
              "Health & Sports, Applied Learning               192\n",
              "Applied Learning, History & Civics              178\n",
              "Health & Sports, Music & The Arts               155\n",
              "Music & The Arts, Special Needs                 138\n",
              "Literacy & Language, Health & Sports             72\n",
              "Health & Sports, History & Civics                43\n",
              "History & Civics, Applied Learning               42\n",
              "Special Needs, Health & Sports                   42\n",
              "Special Needs, Warmth, Care & Hunger             23\n",
              "Health & Sports, Warmth, Care & Hunger           23\n",
              "Music & The Arts, Health & Sports                19\n",
              "Music & The Arts, History & Civics               18\n",
              "History & Civics, Health & Sports                13\n",
              "Math & Science, Warmth, Care & Hunger            11\n",
              "Music & The Arts, Applied Learning               10\n",
              "Applied Learning, Warmth, Care & Hunger          10\n",
              "Literacy & Language, Warmth, Care & Hunger        9\n",
              "Music & The Arts, Warmth, Care & Hunger           2\n",
              "History & Civics, Warmth, Care & Hunger           1\n",
              "Name: project_subject_categories, dtype: int64"
            ]
          },
          "metadata": {},
          "execution_count": 12
        }
      ],
      "source": [
        "print(\"Number of categories for each type:\")\n",
        "print(\"=\"*40)\n",
        "project_data['project_subject_categories'].value_counts()"
      ]
    },
    {
      "cell_type": "markdown",
      "metadata": {
        "id": "Y6SXIF39AAPO"
      },
      "source": [
        ">remove spaces, 'the' <br>\n",
        "replace '&' with '\\_', and ',' with '_'"
      ]
    },
    {
      "cell_type": "code",
      "execution_count": 90,
      "metadata": {
        "scrolled": true,
        "colab": {
          "base_uri": "https://localhost:8080/"
        },
        "id": "HvaKUlj_AAPO",
        "outputId": "50b34165-4011-4bdc-d86f-ecfd44a678db"
      },
      "outputs": [
        {
          "output_type": "execute_result",
          "data": {
            "text/plain": [
              "literacy_language                       23655\n",
              "math_science                            17072\n",
              "literacy_language_math_science          14636\n",
              "health_sports                           10177\n",
              "music_arts                               5180\n",
              "specialneeds                             4226\n",
              "literacy_language_specialneeds           3961\n",
              "appliedlearning                          3771\n",
              "math_science_literacy_language           2289\n",
              "appliedlearning_literacy_language        2191\n",
              "history_civics                           1851\n",
              "math_science_specialneeds                1840\n",
              "literacy_language_music_arts             1757\n",
              "math_science_music_arts                  1642\n",
              "appliedlearning_specialneeds             1467\n",
              "history_civics_literacy_language         1421\n",
              "health_sports_specialneeds               1391\n",
              "warmth_care_hunger                       1309\n",
              "math_science_appliedlearning             1220\n",
              "appliedlearning_math_science             1052\n",
              "literacy_language_history_civics          809\n",
              "health_sports_literacy_language           803\n",
              "appliedlearning_music_arts                758\n",
              "math_science_history_civics               652\n",
              "literacy_language_appliedlearning         636\n",
              "appliedlearning_health_sports             608\n",
              "math_science_health_sports                414\n",
              "history_civics_math_science               322\n",
              "history_civics_music_arts                 312\n",
              "specialneeds_music_arts                   302\n",
              "health_sports_math_science                271\n",
              "history_civics_specialneeds               252\n",
              "health_sports_appliedlearning             192\n",
              "appliedlearning_history_civics            178\n",
              "health_sports_music_arts                  155\n",
              "music_arts_specialneeds                   138\n",
              "literacy_language_health_sports            72\n",
              "health_sports_history_civics               43\n",
              "history_civics_appliedlearning             42\n",
              "specialneeds_health_sports                 42\n",
              "specialneeds_warmth_care_hunger            23\n",
              "health_sports_warmth_care_hunger           23\n",
              "music_arts_health_sports                   19\n",
              "music_arts_history_civics                  18\n",
              "history_civics_health_sports               13\n",
              "math_science_warmth_care_hunger            11\n",
              "music_arts_appliedlearning                 10\n",
              "appliedlearning_warmth_care_hunger         10\n",
              "literacy_language_warmth_care_hunger        9\n",
              "music_arts_warmth_care_hunger               2\n",
              "history_civics_warmth_care_hunger           1\n",
              "Name: project_subject_categories, dtype: int64"
            ]
          },
          "metadata": {},
          "execution_count": 90
        }
      ],
      "source": [
        "project_data['project_subject_categories'] = project_data['project_subject_categories'].str.replace(' The ','')\n",
        "project_data['project_subject_categories'] = project_data['project_subject_categories'].str.replace(' ','')\n",
        "project_data['project_subject_categories'] = project_data['project_subject_categories'].str.replace('&','_')\n",
        "project_data['project_subject_categories'] = project_data['project_subject_categories'].str.replace(',','_')\n",
        "project_data['project_subject_categories'] = project_data['project_subject_categories'].str.lower()\n",
        "project_data['project_subject_categories'].value_counts()"
      ]
    },
    {
      "cell_type": "markdown",
      "metadata": {
        "id": "zMPHRE6cAAPO"
      },
      "source": [
        "# 4. Preprocessing Categorical Features: teacher_prefix"
      ]
    },
    {
      "cell_type": "code",
      "execution_count": 91,
      "metadata": {
        "colab": {
          "base_uri": "https://localhost:8080/"
        },
        "id": "ONy4jVvTAAPO",
        "outputId": "fb5df003-151a-442a-a6b0-8bb7bdcde02a"
      },
      "outputs": [
        {
          "output_type": "execute_result",
          "data": {
            "text/plain": [
              "Mrs.       57269\n",
              "Ms.        38955\n",
              "Mr.        10648\n",
              "Teacher     2360\n",
              "Dr.           13\n",
              "Name: teacher_prefix, dtype: int64"
            ]
          },
          "metadata": {},
          "execution_count": 91
        }
      ],
      "source": [
        "project_data['teacher_prefix'].value_counts()"
      ]
    },
    {
      "cell_type": "code",
      "execution_count": 92,
      "metadata": {
        "colab": {
          "base_uri": "https://localhost:8080/"
        },
        "id": "A-r0fwopAAPO",
        "outputId": "0ef74f4c-d1eb-408d-acdc-96779da27fa6"
      },
      "outputs": [
        {
          "output_type": "stream",
          "name": "stdout",
          "text": [
            "True\n",
            "number of nan values 3\n"
          ]
        }
      ],
      "source": [
        "# check if we have any nan values are there\n",
        "print(project_data['teacher_prefix'].isnull().values.any())\n",
        "print(\"number of nan values\",project_data['teacher_prefix'].isnull().values.sum())"
      ]
    },
    {
      "cell_type": "markdown",
      "metadata": {
        "id": "ez9dPy3vAAPO"
      },
      "source": [
        ">numebr of missing values are very less in number, we can replace it with Mrs. as most of the projects are submitted by Mrs."
      ]
    },
    {
      "cell_type": "code",
      "execution_count": 93,
      "metadata": {
        "id": "Xp7rr-jXAAPP"
      },
      "outputs": [],
      "source": [
        "project_data['teacher_prefix']=project_data['teacher_prefix'].fillna('Mrs.')"
      ]
    },
    {
      "cell_type": "code",
      "execution_count": 94,
      "metadata": {
        "colab": {
          "base_uri": "https://localhost:8080/"
        },
        "id": "9uXHsWFOAAPP",
        "outputId": "faa668a4-b7f0-4c47-cf8f-8d2ecd3d68d2"
      },
      "outputs": [
        {
          "output_type": "execute_result",
          "data": {
            "text/plain": [
              "Mrs.       57272\n",
              "Ms.        38955\n",
              "Mr.        10648\n",
              "Teacher     2360\n",
              "Dr.           13\n",
              "Name: teacher_prefix, dtype: int64"
            ]
          },
          "metadata": {},
          "execution_count": 94
        }
      ],
      "source": [
        "project_data['teacher_prefix'].value_counts()"
      ]
    },
    {
      "cell_type": "markdown",
      "metadata": {
        "id": "E3MoBerpAAPP"
      },
      "source": [
        ">Remove '.' <br>\n",
        ">convert all the chars to small"
      ]
    },
    {
      "cell_type": "code",
      "execution_count": 95,
      "metadata": {
        "colab": {
          "base_uri": "https://localhost:8080/"
        },
        "id": "twKiKkuAAAPP",
        "outputId": "8c80fc36-2a62-4524-92b6-76dc466f5c93"
      },
      "outputs": [
        {
          "output_type": "execute_result",
          "data": {
            "text/plain": [
              "mrs        57272\n",
              "ms         38955\n",
              "mr         10648\n",
              "teacher     2360\n",
              "dr            13\n",
              "Name: teacher_prefix, dtype: int64"
            ]
          },
          "metadata": {},
          "execution_count": 95
        }
      ],
      "source": [
        "project_data['teacher_prefix'] = project_data['teacher_prefix'].str.replace('.','')\n",
        "project_data['teacher_prefix'] = project_data['teacher_prefix'].str.lower()\n",
        "project_data['teacher_prefix'].value_counts()"
      ]
    },
    {
      "cell_type": "markdown",
      "metadata": {
        "id": "fjVoCPLhAAPP"
      },
      "source": [
        "# 5. Preprocessing Categorical Features: project_subject_subcategories"
      ]
    },
    {
      "cell_type": "code",
      "execution_count": 96,
      "metadata": {
        "scrolled": true,
        "colab": {
          "base_uri": "https://localhost:8080/"
        },
        "id": "pAkm7QA3AAPP",
        "outputId": "6df106e8-9065-4c07-f1da-0b54030df26e"
      },
      "outputs": [
        {
          "output_type": "execute_result",
          "data": {
            "text/plain": [
              "Literacy                             9486\n",
              "Literacy, Mathematics                8325\n",
              "Literature & Writing, Mathematics    5923\n",
              "Literacy, Literature & Writing       5571\n",
              "Mathematics                          5379\n",
              "                                     ... \n",
              "Community Service, Gym & Fitness        1\n",
              "Parent Involvement, Team Sports         1\n",
              "Gym & Fitness, Social Sciences          1\n",
              "Community Service, Music                1\n",
              "Economics, Foreign Languages            1\n",
              "Name: project_subject_subcategories, Length: 401, dtype: int64"
            ]
          },
          "metadata": {},
          "execution_count": 96
        }
      ],
      "source": [
        "project_data['project_subject_subcategories'].value_counts()"
      ]
    },
    {
      "cell_type": "markdown",
      "metadata": {
        "id": "hDd7UK01AAPP"
      },
      "source": [
        "> same process we did in project_subject_categories"
      ]
    },
    {
      "cell_type": "code",
      "execution_count": 97,
      "metadata": {
        "scrolled": true,
        "colab": {
          "base_uri": "https://localhost:8080/"
        },
        "id": "0wFAqStBAAPP",
        "outputId": "e55a1afd-e6c5-44fb-a815-06ee839549d3"
      },
      "outputs": [
        {
          "output_type": "execute_result",
          "data": {
            "text/plain": [
              "literacy                          9486\n",
              "literacy_mathematics              8325\n",
              "literature_writing_mathematics    5923\n",
              "literacy_literature_writing       5571\n",
              "mathematics                       5379\n",
              "                                  ... \n",
              "communityservice_gym_fitness         1\n",
              "parentinvolvement_teamsports         1\n",
              "gym_fitness_socialsciences           1\n",
              "communityservice_music               1\n",
              "economics_foreignlanguages           1\n",
              "Name: project_subject_subcategories, Length: 401, dtype: int64"
            ]
          },
          "metadata": {},
          "execution_count": 97
        }
      ],
      "source": [
        "project_data['project_subject_subcategories'] = project_data['project_subject_subcategories'].str.replace(' The ','')\n",
        "project_data['project_subject_subcategories'] = project_data['project_subject_subcategories'].str.replace(' ','')\n",
        "project_data['project_subject_subcategories'] = project_data['project_subject_subcategories'].str.replace('&','_')\n",
        "project_data['project_subject_subcategories'] = project_data['project_subject_subcategories'].str.replace(',','_')\n",
        "project_data['project_subject_subcategories'] = project_data['project_subject_subcategories'].str.lower()\n",
        "project_data['project_subject_subcategories'].value_counts()"
      ]
    },
    {
      "cell_type": "markdown",
      "metadata": {
        "id": "uat7Kx8bAAPP"
      },
      "source": [
        "# 6. Preprocessing Categorical Features: school_state"
      ]
    },
    {
      "cell_type": "code",
      "execution_count": 15,
      "metadata": {
        "scrolled": true,
        "colab": {
          "base_uri": "https://localhost:8080/"
        },
        "id": "w5KD1H-nAAPP",
        "outputId": "dfebaafc-f451-45cc-b7a6-c41e5b70e12a"
      },
      "outputs": [
        {
          "output_type": "stream",
          "name": "stdout",
          "text": [
            "Number of projects submitted from each state:\n",
            "=============================================\n"
          ]
        },
        {
          "output_type": "execute_result",
          "data": {
            "text/plain": [
              "CA    15388\n",
              "TX     7396\n",
              "NY     7318\n",
              "FL     6185\n",
              "NC     5091\n",
              "IL     4350\n",
              "GA     3963\n",
              "SC     3936\n",
              "MI     3161\n",
              "PA     3109\n",
              "IN     2620\n",
              "MO     2576\n",
              "OH     2467\n",
              "LA     2394\n",
              "MA     2389\n",
              "WA     2334\n",
              "OK     2276\n",
              "NJ     2237\n",
              "AZ     2147\n",
              "VA     2045\n",
              "WI     1827\n",
              "AL     1762\n",
              "UT     1731\n",
              "TN     1688\n",
              "CT     1663\n",
              "MD     1514\n",
              "NV     1367\n",
              "MS     1323\n",
              "KY     1304\n",
              "OR     1242\n",
              "MN     1208\n",
              "CO     1111\n",
              "AR     1049\n",
              "ID      693\n",
              "IA      666\n",
              "KS      634\n",
              "NM      557\n",
              "DC      516\n",
              "HI      507\n",
              "ME      505\n",
              "WV      503\n",
              "NH      348\n",
              "AK      345\n",
              "DE      343\n",
              "NE      309\n",
              "SD      300\n",
              "RI      285\n",
              "MT      245\n",
              "ND      143\n",
              "WY       98\n",
              "VT       80\n",
              "Name: school_state, dtype: int64"
            ]
          },
          "metadata": {},
          "execution_count": 15
        }
      ],
      "source": [
        "print(\"Number of projects submitted from each state:\")\n",
        "print(\"=\"*45)\n",
        "project_data['school_state'].value_counts()"
      ]
    },
    {
      "cell_type": "markdown",
      "metadata": {
        "id": "GOfUQE8YAAPP"
      },
      "source": [
        ">convert all of them into small letters"
      ]
    },
    {
      "cell_type": "code",
      "execution_count": 16,
      "metadata": {
        "scrolled": true,
        "colab": {
          "base_uri": "https://localhost:8080/"
        },
        "id": "s0t_j-fSAAPP",
        "outputId": "75150094-acbf-43fb-fc8a-17141e72f485"
      },
      "outputs": [
        {
          "output_type": "execute_result",
          "data": {
            "text/plain": [
              "ca    15388\n",
              "tx     7396\n",
              "ny     7318\n",
              "fl     6185\n",
              "nc     5091\n",
              "il     4350\n",
              "ga     3963\n",
              "sc     3936\n",
              "mi     3161\n",
              "pa     3109\n",
              "in     2620\n",
              "mo     2576\n",
              "oh     2467\n",
              "la     2394\n",
              "ma     2389\n",
              "wa     2334\n",
              "ok     2276\n",
              "nj     2237\n",
              "az     2147\n",
              "va     2045\n",
              "wi     1827\n",
              "al     1762\n",
              "ut     1731\n",
              "tn     1688\n",
              "ct     1663\n",
              "md     1514\n",
              "nv     1367\n",
              "ms     1323\n",
              "ky     1304\n",
              "or     1242\n",
              "mn     1208\n",
              "co     1111\n",
              "ar     1049\n",
              "id      693\n",
              "ia      666\n",
              "ks      634\n",
              "nm      557\n",
              "dc      516\n",
              "hi      507\n",
              "me      505\n",
              "wv      503\n",
              "nh      348\n",
              "ak      345\n",
              "de      343\n",
              "ne      309\n",
              "sd      300\n",
              "ri      285\n",
              "mt      245\n",
              "nd      143\n",
              "wy       98\n",
              "vt       80\n",
              "Name: school_state, dtype: int64"
            ]
          },
          "metadata": {},
          "execution_count": 16
        }
      ],
      "source": [
        "# converting all the state names into lower case\n",
        "project_data['school_state'] = project_data['school_state'].str.lower()\n",
        "project_data['school_state'].value_counts()"
      ]
    },
    {
      "cell_type": "markdown",
      "metadata": {
        "id": "V75cWOi6AAPQ"
      },
      "source": [
        "# 7. Preprocessing Categorical Features: project_title"
      ]
    },
    {
      "cell_type": "code",
      "execution_count": 17,
      "metadata": {
        "id": "z44HqNwWAAPQ"
      },
      "outputs": [],
      "source": [
        "# https://stackoverflow.com/a/47091490/4084039\n",
        "import re\n",
        "\n",
        "def decontracted(phrase):\n",
        "    # specific\n",
        "    phrase = re.sub(r\"won't\", \"will not\", phrase)\n",
        "    phrase = re.sub(r\"can\\'t\", \"can not\", phrase)\n",
        "\n",
        "    # general\n",
        "    phrase = re.sub(r\"n\\'t\", \" not\", phrase)\n",
        "    phrase = re.sub(r\"\\'re\", \" are\", phrase)\n",
        "    phrase = re.sub(r\"\\'s\", \" is\", phrase)\n",
        "    phrase = re.sub(r\"\\'d\", \" would\", phrase)\n",
        "    phrase = re.sub(r\"\\'ll\", \" will\", phrase)\n",
        "    phrase = re.sub(r\"\\'t\", \" not\", phrase)\n",
        "    phrase = re.sub(r\"\\'ve\", \" have\", phrase)\n",
        "    phrase = re.sub(r\"\\'m\", \" am\", phrase)\n",
        "    return phrase"
      ]
    },
    {
      "cell_type": "code",
      "execution_count": 18,
      "metadata": {
        "id": "Mc2huvjKAAPQ"
      },
      "outputs": [],
      "source": [
        "# https://gist.github.com/sebleier/554280\n",
        "# we are removing the words from the stop words list: 'no', 'nor', 'not'\n",
        "stopwords= ['i', 'me', 'my', 'myself', 'we', 'our', 'ours', 'ourselves', 'you', \"you're\", \"you've\",\\\n",
        "            \"you'll\", \"you'd\", 'your', 'yours', 'yourself', 'yourselves', 'he', 'him', 'his', 'himself', \\\n",
        "            'she', \"she's\", 'her', 'hers', 'herself', 'it', \"it's\", 'its', 'itself', 'they', 'them', 'their',\\\n",
        "            'theirs', 'themselves', 'what', 'which', 'who', 'whom', 'this', 'that', \"that'll\", 'these', 'those', \\\n",
        "            'am', 'is', 'are', 'was', 'were', 'be', 'been', 'being', 'have', 'has', 'had', 'having', 'do', 'does', \\\n",
        "            'did', 'doing', 'a', 'an', 'the', 'and', 'but', 'if', 'or', 'because', 'as', 'until', 'while', 'of', \\\n",
        "            'at', 'by', 'for', 'with', 'about', 'against', 'between', 'into', 'through', 'during', 'before', 'after',\\\n",
        "            'above', 'below', 'to', 'from', 'up', 'down', 'in', 'out', 'on', 'off', 'over', 'under', 'again', 'further',\\\n",
        "            'then', 'once', 'here', 'there', 'when', 'where', 'why', 'how', 'all', 'any', 'both', 'each', 'few', 'more',\\\n",
        "            'most', 'other', 'some', 'such', 'only', 'own', 'same', 'so', 'than', 'too', 'very', \\\n",
        "            's', 't', 'can', 'will', 'just', 'don', \"don't\", 'should', \"should've\", 'now', 'd', 'll', 'm', 'o', 're', \\\n",
        "            've', 'y', 'ain', 'aren', \"aren't\", 'couldn', \"couldn't\", 'didn', \"didn't\", 'doesn', \"doesn't\", 'hadn',\\\n",
        "            \"hadn't\", 'hasn', \"hasn't\", 'haven', \"haven't\", 'isn', \"isn't\", 'ma', 'mightn', \"mightn't\", 'mustn',\\\n",
        "            \"mustn't\", 'needn', \"needn't\", 'shan', \"shan't\", 'shouldn', \"shouldn't\", 'wasn', \"wasn't\", 'weren', \"weren't\", \\\n",
        "            'won', \"won't\", 'wouldn', \"wouldn't\"]"
      ]
    },
    {
      "cell_type": "code",
      "execution_count": 19,
      "metadata": {
        "colab": {
          "base_uri": "https://localhost:8080/"
        },
        "id": "MqgL5HtnAAPQ",
        "outputId": "a0aa6209-1186-4f85-d2f4-e18281aeeab7"
      },
      "outputs": [
        {
          "output_type": "execute_result",
          "data": {
            "text/plain": [
              "0     Educational Support for English Learners at Home\n",
              "1                Wanted: Projector for Hungry Learners\n",
              "2    Soccer Equipment for AWESOME Middle School Stu...\n",
              "3                               Techie Kindergarteners\n",
              "4                               Interactive Math Tools\n",
              "Name: project_title, dtype: object"
            ]
          },
          "metadata": {},
          "execution_count": 19
        }
      ],
      "source": [
        "project_data['project_title'].head(5)"
      ]
    },
    {
      "cell_type": "code",
      "execution_count": 20,
      "metadata": {
        "colab": {
          "base_uri": "https://localhost:8080/"
        },
        "id": "Mr1Iq3piAAPQ",
        "outputId": "348569ad-56c8-4fcc-8629-8ca8f2f3863e"
      },
      "outputs": [
        {
          "output_type": "stream",
          "name": "stdout",
          "text": [
            "printing some random reviews\n",
            "9 Just For the Love of Reading--\\r\\nPure Pleasure\n",
            "34 \\\"Have A Ball!!!\\\"\n",
            "147 Who needs a Chromebook?\\r\\nWE DO!!\n"
          ]
        }
      ],
      "source": [
        "print(\"printing some random reviews\")\n",
        "print(9, project_data['project_title'].values[9])\n",
        "print(34, project_data['project_title'].values[34])\n",
        "print(147, project_data['project_title'].values[147])"
      ]
    },
    {
      "cell_type": "code",
      "execution_count": 21,
      "metadata": {
        "id": "yD1TWazfAAPQ"
      },
      "outputs": [],
      "source": [
        "# Combining all the above statements \n",
        "from tqdm import tqdm\n",
        "def preprocess_text(text_data):\n",
        "    preprocessed_text = []\n",
        "    # tqdm is for printing the status bar\n",
        "    for sentance in tqdm(text_data):\n",
        "        sent = decontracted(sentance)\n",
        "        sent = sent.replace('\\\\r', ' ')\n",
        "        sent = sent.replace('\\\\n', ' ')\n",
        "        sent = sent.replace('\\\\\"', ' ')\n",
        "        sent = re.sub('[^A-Za-z0-9]+', ' ', sent)\n",
        "        # https://gist.github.com/sebleier/554280\n",
        "        sent = ' '.join(e for e in sent.split() if e.lower() not in stopwords)\n",
        "        preprocessed_text.append(sent.lower().strip())\n",
        "    return preprocessed_text"
      ]
    },
    {
      "cell_type": "code",
      "execution_count": 105,
      "metadata": {
        "colab": {
          "base_uri": "https://localhost:8080/"
        },
        "id": "PyyBMjIIAAPQ",
        "outputId": "5d925642-41f3-4009-ef2d-95d73428371a"
      },
      "outputs": [
        {
          "output_type": "stream",
          "name": "stderr",
          "text": [
            "100%|██████████| 109248/109248 [00:03<00:00, 31681.43it/s]\n"
          ]
        }
      ],
      "source": [
        "project_data['project_title'] = preprocess_text(project_data['project_title'].values)"
      ]
    },
    {
      "cell_type": "markdown",
      "metadata": {
        "id": "PcWPj6n-AAPQ"
      },
      "source": [
        "# 8. Preprocessing Categorical Features: essay"
      ]
    },
    {
      "cell_type": "code",
      "execution_count": 22,
      "metadata": {
        "id": "DEyRNiUzAAPQ"
      },
      "outputs": [],
      "source": [
        "# merge two column text dataframe: \n",
        "project_data[\"essay\"] = project_data[\"project_essay_1\"].map(str) +\\\n",
        "                        project_data[\"project_essay_2\"].map(str) + \\\n",
        "                        project_data[\"project_essay_3\"].map(str) + \\\n",
        "                        project_data[\"project_essay_4\"].map(str)"
      ]
    },
    {
      "cell_type": "code",
      "execution_count": 23,
      "metadata": {
        "scrolled": true,
        "colab": {
          "base_uri": "https://localhost:8080/"
        },
        "id": "0MCqLPUOAAPQ",
        "outputId": "2d9ee0a9-e413-472d-9a02-b0c9109d1cbb"
      },
      "outputs": [
        {
          "output_type": "stream",
          "name": "stdout",
          "text": [
            "printing some random essay\n",
            "9 Over 95% of my students are on free or reduced lunch.  I have a few who are homeless, but despite that, they come to school with an eagerness to learn.  My students are inquisitive eager learners who  embrace the challenge of not having great books and other resources  every day.  Many of them are not afforded the opportunity to engage with these big colorful pages of a book on a regular basis at home and they don't travel to the public library.  \\r\\nIt is my duty as a teacher to do all I can to provide each student an opportunity to succeed in every aspect of life. \\r\\nReading is Fundamental! My students will read these books over and over again while boosting their comprehension skills. These books will be used for read alouds, partner reading and for Independent reading. \\r\\nThey will engage in reading to build their \\\"Love for Reading\\\" by reading for pure enjoyment. They will be introduced to some new authors as well as some old favorites. I want my students to be ready for the 21st Century and know the pleasure of holding a good hard back book in hand. There's nothing like a good book to read!  \\r\\nMy students will soar in Reading, and more because of your consideration and generous funding contribution. This will help build stamina and prepare for 3rd grade. Thank you so much for reading our proposal!nannan\n",
            "--------------------------------------------------\n",
            "34 My students mainly come from extremely low-income families, and the majority of them come from homes where both parents work full time. Most of my students are at school from 7:30 am to 6:00 pm (2:30 to 6:00 pm in the after-school program), and they all receive free and reduced meals for breakfast and lunch. \\r\\n\\r\\n\\r\\nI want my students to feel  as comfortable in my classroom as they do at home. Many of my students take on multiple roles both at home as well as in school. They are sometimes the caretakers of younger siblings, cooks, babysitters, academics, friends, and most of all, they are developing who they are going to become as adults.  I consider it an essential part of my job to model helping others gain knowledge in a positive manner. As a result, I have a community of students who love helping each other in and outside of the classroom. They consistently look for opportunities to support each other's learning in a kind and helpful way.I am excited to be experimenting with alternative seating in my classroom this school year. Studies have shown that giving students the option of where they sit in a classroom increases focus as well as motivation.  \\r\\n\\r\\nBy allowing students choice in the classroom, they are able to explore and create in a welcoming environment. Alternative classroom seating has been experimented with more frequently in recent years. I believe (along with many others), that every child learns differently. This does not only apply to how multiplication is memorized, or a paper is written, but applies to the space in which they are asked to work. I have had students in the past ask \\\"Can I work in the library? Can I work on the carpet?\\\" My answer was always, \\\"As long as you're learning, you can work wherever you want!\\\" \\r\\n\\r\\nWith the yoga balls and the lap-desks, I will be able to increase the options for seating in my classroom and expand its imaginable space.nannan\n",
            "--------------------------------------------------\n",
            "147 My students are eager to learn and make their mark on the world.\\r\\n\\r\\nThey come from a Title 1 school and need extra love.\\r\\n\\r\\nMy fourth grade students are in a high poverty area and still come to school every day to get their education. I am trying to make it fun and educational for them so they can get the most out of their schooling. I created a caring environment for the students to bloom! They deserve the best.\\r\\nThank you!\\r\\nI am requesting 1 Chromebook to access online interventions, differentiate instruction, and get extra practice. The Chromebook will be used to supplement ELA and math instruction. Students will play ELA and math games that are engaging and fun, as well as participate in assignments online. This in turn will help my students improve their skills. Having a Chromebook in the classroom would not only allow students to use the programs at their own pace, but would ensure more students are getting adequate time to use the programs. The online programs have been especially beneficial to my students with special needs. They are able to work at their level as well as be challenged with some different materials. This is making these students more confident in their abilities.\\r\\n\\r\\nThe Chromebook would allow my students to have daily access to computers and increase their computing skills.\\r\\nThis will change their lives for the better as they become more successful in school. Having access to technology in the classroom would help bridge the achievement gap.nannan\n"
          ]
        }
      ],
      "source": [
        "print(\"printing some random essays\")\n",
        "print(9, project_data['essay'].values[9])\n",
        "print('-'*50)\n",
        "print(34, project_data['essay'].values[34])\n",
        "print('-'*50)\n",
        "print(147, project_data['essay'].values[147])"
      ]
    },
    {
      "cell_type": "code",
      "execution_count": 24,
      "metadata": {
        "colab": {
          "base_uri": "https://localhost:8080/"
        },
        "id": "b9O-jbcOAAPQ",
        "outputId": "68166d2d-a1cd-471d-9be4-78cb59be2191"
      },
      "outputs": [
        {
          "output_type": "stream",
          "name": "stderr",
          "text": [
            "100%|██████████| 109248/109248 [01:27<00:00, 1242.28it/s]\n"
          ]
        }
      ],
      "source": [
        "project_data['essay'] = preprocess_text(project_data['essay'].values)"
      ]
    },
    {
      "cell_type": "code",
      "source": [
        "print(\"printing some random essays after pre-processing\")\n",
        "print(9, project_data['essay'].values[9])\n",
        "print('-'*50)\n",
        "print(34, project_data['essay'].values[34])\n",
        "print('-'*50)\n",
        "print(147, project_data['essay'].values[147])"
      ],
      "metadata": {
        "colab": {
          "base_uri": "https://localhost:8080/"
        },
        "id": "NyZaI4a6SZ5p",
        "outputId": "7303e6e9-398d-4f99-f561-645bca099e7e"
      },
      "execution_count": 25,
      "outputs": [
        {
          "output_type": "stream",
          "name": "stdout",
          "text": [
            "printing some random essays after pre-processing\n",
            "9 95 students free reduced lunch homeless despite come school eagerness learn students inquisitive eager learners embrace challenge not great books resources every day many not afforded opportunity engage big colorful pages book regular basis home not travel public library duty teacher provide student opportunity succeed every aspect life reading fundamental students read books boosting comprehension skills books used read alouds partner reading independent reading engage reading build love reading reading pure enjoyment introduced new authors well old favorites want students ready 21st century know pleasure holding good hard back book hand nothing like good book read students soar reading consideration generous funding contribution help build stamina prepare 3rd grade thank much reading proposal nannan\n",
            "--------------------------------------------------\n",
            "34 students mainly come extremely low income families majority come homes parents work full time students school 7 30 6 00 pm 2 30 6 00 pm school program receive free reduced meals breakfast lunch want students feel comfortable classroom home many students take multiple roles home well school sometimes caretakers younger siblings cooks babysitters academics friends developing going become adults consider essential part job model helping others gain knowledge positive manner result community students love helping outside classroom consistently look opportunities support learning kind helpful way excited experimenting alternative seating classroom school year studies shown giving students option sit classroom increases focus well motivation allowing students choice classroom able explore create welcoming environment alternative classroom seating experimented frequently recent years believe along many others every child learns differently not apply multiplication memorized paper written applies space asked work students past ask work library work carpet answer always long learning work wherever want yoga balls lap desks able increase options seating classroom expand imaginable space nannan\n",
            "--------------------------------------------------\n",
            "147 students eager learn make mark world come title 1 school need extra love fourth grade students high poverty area still come school every day get education trying make fun educational get schooling created caring environment students bloom deserve best thank requesting 1 chromebook access online interventions differentiate instruction get extra practice chromebook used supplement ela math instruction students play ela math games engaging fun well participate assignments online turn help students improve skills chromebook classroom would not allow students use programs pace would ensure students getting adequate time use programs online programs especially beneficial students special needs able work level well challenged different materials making students confident abilities chromebook would allow students daily access computers increase computing skills change lives better become successful school access technology classroom would help bridge achievement gap nannan\n"
          ]
        }
      ]
    },
    {
      "cell_type": "code",
      "source": [
        "# preprocessing project_resource_summary column\n",
        "project_data['project_resource_summary'] = preprocess_text(project_data['project_resource_summary'].values)"
      ],
      "metadata": {
        "colab": {
          "base_uri": "https://localhost:8080/"
        },
        "id": "5tsOsVMmAbQ3",
        "outputId": "8619b431-1c09-4fc6-fed4-624070f73b05"
      },
      "execution_count": 26,
      "outputs": [
        {
          "output_type": "stream",
          "name": "stderr",
          "text": [
            "100%|██████████| 109248/109248 [00:08<00:00, 12982.65it/s]\n"
          ]
        }
      ]
    },
    {
      "cell_type": "code",
      "source": [
        "project_data.head()"
      ],
      "metadata": {
        "colab": {
          "base_uri": "https://localhost:8080/",
          "height": 739
        },
        "id": "_OHluOECJ9dO",
        "outputId": "55b6059d-3083-4e60-f97b-1e853d5400d3"
      },
      "execution_count": 27,
      "outputs": [
        {
          "output_type": "execute_result",
          "data": {
            "text/plain": [
              "   Unnamed: 0       id                        teacher_id teacher_prefix  \\\n",
              "0      160221  p253737  c90749f5d961ff158d4b4d1e7dc665fc           Mrs.   \n",
              "1      140945  p258326  897464ce9ddc600bced1151f324dd63a            Mr.   \n",
              "2       21895  p182444  3465aaf82da834c0582ebd0ef8040ca0            Ms.   \n",
              "3          45  p246581  f3cb9bffbba169bef1a77b243e620b60           Mrs.   \n",
              "4      172407  p104768  be1f7507a41f8479dc06f047086a39ec           Mrs.   \n",
              "\n",
              "  school_state project_submitted_datetime project_grade_category  \\\n",
              "0           in        2016-12-05 13:43:57          grades_prek_2   \n",
              "1           fl        2016-10-25 09:22:10             grades_6_8   \n",
              "2           az        2016-08-31 12:03:56             grades_6_8   \n",
              "3           ky        2016-10-06 21:16:17          grades_prek_2   \n",
              "4           tx        2016-07-11 01:10:09          grades_prek_2   \n",
              "\n",
              "            project_subject_categories     project_subject_subcategories  \\\n",
              "0                  Literacy & Language                     ESL, Literacy   \n",
              "1    History & Civics, Health & Sports  Civics & Government, Team Sports   \n",
              "2                      Health & Sports    Health & Wellness, Team Sports   \n",
              "3  Literacy & Language, Math & Science             Literacy, Mathematics   \n",
              "4                       Math & Science                       Mathematics   \n",
              "\n",
              "                                       project_title  \\\n",
              "0   Educational Support for English Learners at Home   \n",
              "1              Wanted: Projector for Hungry Learners   \n",
              "2  Soccer Equipment for AWESOME Middle School Stu...   \n",
              "3                             Techie Kindergarteners   \n",
              "4                             Interactive Math Tools   \n",
              "\n",
              "                                     project_essay_1  \\\n",
              "0  My students are English learners that are work...   \n",
              "1  Our students arrive to our school eager to lea...   \n",
              "2  \\r\\n\\\"True champions aren't always the ones th...   \n",
              "3  I work at a unique school filled with both ESL...   \n",
              "4  Our second grade classroom next year will be m...   \n",
              "\n",
              "                                     project_essay_2 project_essay_3  \\\n",
              "0  \\\"The limits of your language are the limits o...             NaN   \n",
              "1  The projector we need for our school is very c...             NaN   \n",
              "2  The students on the campus come to school know...             NaN   \n",
              "3  My students live in high poverty conditions wi...             NaN   \n",
              "4  For many students, math is a subject that does...             NaN   \n",
              "\n",
              "  project_essay_4                           project_resource_summary  \\\n",
              "0             NaN  students need opportunities practice beginning...   \n",
              "1             NaN  students need projector help viewing education...   \n",
              "2             NaN  students need shine guards athletic socks socc...   \n",
              "3             NaN  students need engage reading math way inspire ...   \n",
              "4             NaN  students need hands practice mathematics fun p...   \n",
              "\n",
              "   teacher_number_of_previously_posted_projects  project_is_approved  \\\n",
              "0                                             0                    0   \n",
              "1                                             7                    1   \n",
              "2                                             1                    0   \n",
              "3                                             4                    1   \n",
              "4                                             1                    1   \n",
              "\n",
              "                                               essay  \n",
              "0  students english learners working english seco...  \n",
              "1  students arrive school eager learn polite gene...  \n",
              "2  true champions not always ones win guts mia ha...  \n",
              "3  work unique school filled esl english second l...  \n",
              "4  second grade classroom next year made around 2...  "
            ],
            "text/html": [
              "\n",
              "  <div id=\"df-31150cdd-a12e-46ff-bd21-f825c8d8d932\">\n",
              "    <div class=\"colab-df-container\">\n",
              "      <div>\n",
              "<style scoped>\n",
              "    .dataframe tbody tr th:only-of-type {\n",
              "        vertical-align: middle;\n",
              "    }\n",
              "\n",
              "    .dataframe tbody tr th {\n",
              "        vertical-align: top;\n",
              "    }\n",
              "\n",
              "    .dataframe thead th {\n",
              "        text-align: right;\n",
              "    }\n",
              "</style>\n",
              "<table border=\"1\" class=\"dataframe\">\n",
              "  <thead>\n",
              "    <tr style=\"text-align: right;\">\n",
              "      <th></th>\n",
              "      <th>Unnamed: 0</th>\n",
              "      <th>id</th>\n",
              "      <th>teacher_id</th>\n",
              "      <th>teacher_prefix</th>\n",
              "      <th>school_state</th>\n",
              "      <th>project_submitted_datetime</th>\n",
              "      <th>project_grade_category</th>\n",
              "      <th>project_subject_categories</th>\n",
              "      <th>project_subject_subcategories</th>\n",
              "      <th>project_title</th>\n",
              "      <th>project_essay_1</th>\n",
              "      <th>project_essay_2</th>\n",
              "      <th>project_essay_3</th>\n",
              "      <th>project_essay_4</th>\n",
              "      <th>project_resource_summary</th>\n",
              "      <th>teacher_number_of_previously_posted_projects</th>\n",
              "      <th>project_is_approved</th>\n",
              "      <th>essay</th>\n",
              "    </tr>\n",
              "  </thead>\n",
              "  <tbody>\n",
              "    <tr>\n",
              "      <th>0</th>\n",
              "      <td>160221</td>\n",
              "      <td>p253737</td>\n",
              "      <td>c90749f5d961ff158d4b4d1e7dc665fc</td>\n",
              "      <td>Mrs.</td>\n",
              "      <td>in</td>\n",
              "      <td>2016-12-05 13:43:57</td>\n",
              "      <td>grades_prek_2</td>\n",
              "      <td>Literacy &amp; Language</td>\n",
              "      <td>ESL, Literacy</td>\n",
              "      <td>Educational Support for English Learners at Home</td>\n",
              "      <td>My students are English learners that are work...</td>\n",
              "      <td>\\\"The limits of your language are the limits o...</td>\n",
              "      <td>NaN</td>\n",
              "      <td>NaN</td>\n",
              "      <td>students need opportunities practice beginning...</td>\n",
              "      <td>0</td>\n",
              "      <td>0</td>\n",
              "      <td>students english learners working english seco...</td>\n",
              "    </tr>\n",
              "    <tr>\n",
              "      <th>1</th>\n",
              "      <td>140945</td>\n",
              "      <td>p258326</td>\n",
              "      <td>897464ce9ddc600bced1151f324dd63a</td>\n",
              "      <td>Mr.</td>\n",
              "      <td>fl</td>\n",
              "      <td>2016-10-25 09:22:10</td>\n",
              "      <td>grades_6_8</td>\n",
              "      <td>History &amp; Civics, Health &amp; Sports</td>\n",
              "      <td>Civics &amp; Government, Team Sports</td>\n",
              "      <td>Wanted: Projector for Hungry Learners</td>\n",
              "      <td>Our students arrive to our school eager to lea...</td>\n",
              "      <td>The projector we need for our school is very c...</td>\n",
              "      <td>NaN</td>\n",
              "      <td>NaN</td>\n",
              "      <td>students need projector help viewing education...</td>\n",
              "      <td>7</td>\n",
              "      <td>1</td>\n",
              "      <td>students arrive school eager learn polite gene...</td>\n",
              "    </tr>\n",
              "    <tr>\n",
              "      <th>2</th>\n",
              "      <td>21895</td>\n",
              "      <td>p182444</td>\n",
              "      <td>3465aaf82da834c0582ebd0ef8040ca0</td>\n",
              "      <td>Ms.</td>\n",
              "      <td>az</td>\n",
              "      <td>2016-08-31 12:03:56</td>\n",
              "      <td>grades_6_8</td>\n",
              "      <td>Health &amp; Sports</td>\n",
              "      <td>Health &amp; Wellness, Team Sports</td>\n",
              "      <td>Soccer Equipment for AWESOME Middle School Stu...</td>\n",
              "      <td>\\r\\n\\\"True champions aren't always the ones th...</td>\n",
              "      <td>The students on the campus come to school know...</td>\n",
              "      <td>NaN</td>\n",
              "      <td>NaN</td>\n",
              "      <td>students need shine guards athletic socks socc...</td>\n",
              "      <td>1</td>\n",
              "      <td>0</td>\n",
              "      <td>true champions not always ones win guts mia ha...</td>\n",
              "    </tr>\n",
              "    <tr>\n",
              "      <th>3</th>\n",
              "      <td>45</td>\n",
              "      <td>p246581</td>\n",
              "      <td>f3cb9bffbba169bef1a77b243e620b60</td>\n",
              "      <td>Mrs.</td>\n",
              "      <td>ky</td>\n",
              "      <td>2016-10-06 21:16:17</td>\n",
              "      <td>grades_prek_2</td>\n",
              "      <td>Literacy &amp; Language, Math &amp; Science</td>\n",
              "      <td>Literacy, Mathematics</td>\n",
              "      <td>Techie Kindergarteners</td>\n",
              "      <td>I work at a unique school filled with both ESL...</td>\n",
              "      <td>My students live in high poverty conditions wi...</td>\n",
              "      <td>NaN</td>\n",
              "      <td>NaN</td>\n",
              "      <td>students need engage reading math way inspire ...</td>\n",
              "      <td>4</td>\n",
              "      <td>1</td>\n",
              "      <td>work unique school filled esl english second l...</td>\n",
              "    </tr>\n",
              "    <tr>\n",
              "      <th>4</th>\n",
              "      <td>172407</td>\n",
              "      <td>p104768</td>\n",
              "      <td>be1f7507a41f8479dc06f047086a39ec</td>\n",
              "      <td>Mrs.</td>\n",
              "      <td>tx</td>\n",
              "      <td>2016-07-11 01:10:09</td>\n",
              "      <td>grades_prek_2</td>\n",
              "      <td>Math &amp; Science</td>\n",
              "      <td>Mathematics</td>\n",
              "      <td>Interactive Math Tools</td>\n",
              "      <td>Our second grade classroom next year will be m...</td>\n",
              "      <td>For many students, math is a subject that does...</td>\n",
              "      <td>NaN</td>\n",
              "      <td>NaN</td>\n",
              "      <td>students need hands practice mathematics fun p...</td>\n",
              "      <td>1</td>\n",
              "      <td>1</td>\n",
              "      <td>second grade classroom next year made around 2...</td>\n",
              "    </tr>\n",
              "  </tbody>\n",
              "</table>\n",
              "</div>\n",
              "      <button class=\"colab-df-convert\" onclick=\"convertToInteractive('df-31150cdd-a12e-46ff-bd21-f825c8d8d932')\"\n",
              "              title=\"Convert this dataframe to an interactive table.\"\n",
              "              style=\"display:none;\">\n",
              "        \n",
              "  <svg xmlns=\"http://www.w3.org/2000/svg\" height=\"24px\"viewBox=\"0 0 24 24\"\n",
              "       width=\"24px\">\n",
              "    <path d=\"M0 0h24v24H0V0z\" fill=\"none\"/>\n",
              "    <path d=\"M18.56 5.44l.94 2.06.94-2.06 2.06-.94-2.06-.94-.94-2.06-.94 2.06-2.06.94zm-11 1L8.5 8.5l.94-2.06 2.06-.94-2.06-.94L8.5 2.5l-.94 2.06-2.06.94zm10 10l.94 2.06.94-2.06 2.06-.94-2.06-.94-.94-2.06-.94 2.06-2.06.94z\"/><path d=\"M17.41 7.96l-1.37-1.37c-.4-.4-.92-.59-1.43-.59-.52 0-1.04.2-1.43.59L10.3 9.45l-7.72 7.72c-.78.78-.78 2.05 0 2.83L4 21.41c.39.39.9.59 1.41.59.51 0 1.02-.2 1.41-.59l7.78-7.78 2.81-2.81c.8-.78.8-2.07 0-2.86zM5.41 20L4 18.59l7.72-7.72 1.47 1.35L5.41 20z\"/>\n",
              "  </svg>\n",
              "      </button>\n",
              "      \n",
              "  <style>\n",
              "    .colab-df-container {\n",
              "      display:flex;\n",
              "      flex-wrap:wrap;\n",
              "      gap: 12px;\n",
              "    }\n",
              "\n",
              "    .colab-df-convert {\n",
              "      background-color: #E8F0FE;\n",
              "      border: none;\n",
              "      border-radius: 50%;\n",
              "      cursor: pointer;\n",
              "      display: none;\n",
              "      fill: #1967D2;\n",
              "      height: 32px;\n",
              "      padding: 0 0 0 0;\n",
              "      width: 32px;\n",
              "    }\n",
              "\n",
              "    .colab-df-convert:hover {\n",
              "      background-color: #E2EBFA;\n",
              "      box-shadow: 0px 1px 2px rgba(60, 64, 67, 0.3), 0px 1px 3px 1px rgba(60, 64, 67, 0.15);\n",
              "      fill: #174EA6;\n",
              "    }\n",
              "\n",
              "    [theme=dark] .colab-df-convert {\n",
              "      background-color: #3B4455;\n",
              "      fill: #D2E3FC;\n",
              "    }\n",
              "\n",
              "    [theme=dark] .colab-df-convert:hover {\n",
              "      background-color: #434B5C;\n",
              "      box-shadow: 0px 1px 3px 1px rgba(0, 0, 0, 0.15);\n",
              "      filter: drop-shadow(0px 1px 2px rgba(0, 0, 0, 0.3));\n",
              "      fill: #FFFFFF;\n",
              "    }\n",
              "  </style>\n",
              "\n",
              "      <script>\n",
              "        const buttonEl =\n",
              "          document.querySelector('#df-31150cdd-a12e-46ff-bd21-f825c8d8d932 button.colab-df-convert');\n",
              "        buttonEl.style.display =\n",
              "          google.colab.kernel.accessAllowed ? 'block' : 'none';\n",
              "\n",
              "        async function convertToInteractive(key) {\n",
              "          const element = document.querySelector('#df-31150cdd-a12e-46ff-bd21-f825c8d8d932');\n",
              "          const dataTable =\n",
              "            await google.colab.kernel.invokeFunction('convertToInteractive',\n",
              "                                                     [key], {});\n",
              "          if (!dataTable) return;\n",
              "\n",
              "          const docLinkHtml = 'Like what you see? Visit the ' +\n",
              "            '<a target=\"_blank\" href=https://colab.research.google.com/notebooks/data_table.ipynb>data table notebook</a>'\n",
              "            + ' to learn more about interactive tables.';\n",
              "          element.innerHTML = '';\n",
              "          dataTable['output_type'] = 'display_data';\n",
              "          await google.colab.output.renderOutput(dataTable, element);\n",
              "          const docLink = document.createElement('div');\n",
              "          docLink.innerHTML = docLinkHtml;\n",
              "          element.appendChild(docLink);\n",
              "        }\n",
              "      </script>\n",
              "    </div>\n",
              "  </div>\n",
              "  "
            ]
          },
          "metadata": {},
          "execution_count": 27
        }
      ]
    },
    {
      "cell_type": "markdown",
      "metadata": {
        "id": "F0yCci7KAAPR"
      },
      "source": [
        "# 8. Preprocessing Numerical Values: price"
      ]
    },
    {
      "cell_type": "code",
      "execution_count": 28,
      "metadata": {
        "colab": {
          "base_uri": "https://localhost:8080/",
          "height": 112
        },
        "id": "bNlH1RQkAAPR",
        "outputId": "89a8ef98-0f0b-4f65-c448-f0455e99dc5a"
      },
      "outputs": [
        {
          "output_type": "execute_result",
          "data": {
            "text/plain": [
              "        id   price  quantity\n",
              "0  p000001  459.56         7\n",
              "1  p000002  515.89        21"
            ],
            "text/html": [
              "\n",
              "  <div id=\"df-054c6bc2-0587-42ca-8b56-8ccfe6a1c6aa\">\n",
              "    <div class=\"colab-df-container\">\n",
              "      <div>\n",
              "<style scoped>\n",
              "    .dataframe tbody tr th:only-of-type {\n",
              "        vertical-align: middle;\n",
              "    }\n",
              "\n",
              "    .dataframe tbody tr th {\n",
              "        vertical-align: top;\n",
              "    }\n",
              "\n",
              "    .dataframe thead th {\n",
              "        text-align: right;\n",
              "    }\n",
              "</style>\n",
              "<table border=\"1\" class=\"dataframe\">\n",
              "  <thead>\n",
              "    <tr style=\"text-align: right;\">\n",
              "      <th></th>\n",
              "      <th>id</th>\n",
              "      <th>price</th>\n",
              "      <th>quantity</th>\n",
              "    </tr>\n",
              "  </thead>\n",
              "  <tbody>\n",
              "    <tr>\n",
              "      <th>0</th>\n",
              "      <td>p000001</td>\n",
              "      <td>459.56</td>\n",
              "      <td>7</td>\n",
              "    </tr>\n",
              "    <tr>\n",
              "      <th>1</th>\n",
              "      <td>p000002</td>\n",
              "      <td>515.89</td>\n",
              "      <td>21</td>\n",
              "    </tr>\n",
              "  </tbody>\n",
              "</table>\n",
              "</div>\n",
              "      <button class=\"colab-df-convert\" onclick=\"convertToInteractive('df-054c6bc2-0587-42ca-8b56-8ccfe6a1c6aa')\"\n",
              "              title=\"Convert this dataframe to an interactive table.\"\n",
              "              style=\"display:none;\">\n",
              "        \n",
              "  <svg xmlns=\"http://www.w3.org/2000/svg\" height=\"24px\"viewBox=\"0 0 24 24\"\n",
              "       width=\"24px\">\n",
              "    <path d=\"M0 0h24v24H0V0z\" fill=\"none\"/>\n",
              "    <path d=\"M18.56 5.44l.94 2.06.94-2.06 2.06-.94-2.06-.94-.94-2.06-.94 2.06-2.06.94zm-11 1L8.5 8.5l.94-2.06 2.06-.94-2.06-.94L8.5 2.5l-.94 2.06-2.06.94zm10 10l.94 2.06.94-2.06 2.06-.94-2.06-.94-.94-2.06-.94 2.06-2.06.94z\"/><path d=\"M17.41 7.96l-1.37-1.37c-.4-.4-.92-.59-1.43-.59-.52 0-1.04.2-1.43.59L10.3 9.45l-7.72 7.72c-.78.78-.78 2.05 0 2.83L4 21.41c.39.39.9.59 1.41.59.51 0 1.02-.2 1.41-.59l7.78-7.78 2.81-2.81c.8-.78.8-2.07 0-2.86zM5.41 20L4 18.59l7.72-7.72 1.47 1.35L5.41 20z\"/>\n",
              "  </svg>\n",
              "      </button>\n",
              "      \n",
              "  <style>\n",
              "    .colab-df-container {\n",
              "      display:flex;\n",
              "      flex-wrap:wrap;\n",
              "      gap: 12px;\n",
              "    }\n",
              "\n",
              "    .colab-df-convert {\n",
              "      background-color: #E8F0FE;\n",
              "      border: none;\n",
              "      border-radius: 50%;\n",
              "      cursor: pointer;\n",
              "      display: none;\n",
              "      fill: #1967D2;\n",
              "      height: 32px;\n",
              "      padding: 0 0 0 0;\n",
              "      width: 32px;\n",
              "    }\n",
              "\n",
              "    .colab-df-convert:hover {\n",
              "      background-color: #E2EBFA;\n",
              "      box-shadow: 0px 1px 2px rgba(60, 64, 67, 0.3), 0px 1px 3px 1px rgba(60, 64, 67, 0.15);\n",
              "      fill: #174EA6;\n",
              "    }\n",
              "\n",
              "    [theme=dark] .colab-df-convert {\n",
              "      background-color: #3B4455;\n",
              "      fill: #D2E3FC;\n",
              "    }\n",
              "\n",
              "    [theme=dark] .colab-df-convert:hover {\n",
              "      background-color: #434B5C;\n",
              "      box-shadow: 0px 1px 3px 1px rgba(0, 0, 0, 0.15);\n",
              "      filter: drop-shadow(0px 1px 2px rgba(0, 0, 0, 0.3));\n",
              "      fill: #FFFFFF;\n",
              "    }\n",
              "  </style>\n",
              "\n",
              "      <script>\n",
              "        const buttonEl =\n",
              "          document.querySelector('#df-054c6bc2-0587-42ca-8b56-8ccfe6a1c6aa button.colab-df-convert');\n",
              "        buttonEl.style.display =\n",
              "          google.colab.kernel.accessAllowed ? 'block' : 'none';\n",
              "\n",
              "        async function convertToInteractive(key) {\n",
              "          const element = document.querySelector('#df-054c6bc2-0587-42ca-8b56-8ccfe6a1c6aa');\n",
              "          const dataTable =\n",
              "            await google.colab.kernel.invokeFunction('convertToInteractive',\n",
              "                                                     [key], {});\n",
              "          if (!dataTable) return;\n",
              "\n",
              "          const docLinkHtml = 'Like what you see? Visit the ' +\n",
              "            '<a target=\"_blank\" href=https://colab.research.google.com/notebooks/data_table.ipynb>data table notebook</a>'\n",
              "            + ' to learn more about interactive tables.';\n",
              "          element.innerHTML = '';\n",
              "          dataTable['output_type'] = 'display_data';\n",
              "          await google.colab.output.renderOutput(dataTable, element);\n",
              "          const docLink = document.createElement('div');\n",
              "          docLink.innerHTML = docLinkHtml;\n",
              "          element.appendChild(docLink);\n",
              "        }\n",
              "      </script>\n",
              "    </div>\n",
              "  </div>\n",
              "  "
            ]
          },
          "metadata": {},
          "execution_count": 28
        }
      ],
      "source": [
        "# https://stackoverflow.com/questions/22407798/how-to-reset-a-dataframes-indexes-for-all-groups-in-one-step\n",
        "price_data = resource_data.groupby('id').agg({'price':'sum', 'quantity':'sum'}).reset_index()\n",
        "price_data.head(2)"
      ]
    },
    {
      "cell_type": "code",
      "execution_count": 29,
      "metadata": {
        "id": "ZpjZD8yGAAPR"
      },
      "outputs": [],
      "source": [
        "# join two dataframes in python: \n",
        "project_data = pd.merge(project_data, price_data, on='id', how='left')"
      ]
    },
    {
      "cell_type": "code",
      "execution_count": 30,
      "metadata": {
        "colab": {
          "base_uri": "https://localhost:8080/",
          "height": 739
        },
        "id": "e3UxU3uBAAPR",
        "outputId": "61fe5d5a-ab54-46ac-ada3-f48f7f0d3d12"
      },
      "outputs": [
        {
          "output_type": "execute_result",
          "data": {
            "text/plain": [
              "   Unnamed: 0       id                        teacher_id teacher_prefix  \\\n",
              "0      160221  p253737  c90749f5d961ff158d4b4d1e7dc665fc           Mrs.   \n",
              "1      140945  p258326  897464ce9ddc600bced1151f324dd63a            Mr.   \n",
              "2       21895  p182444  3465aaf82da834c0582ebd0ef8040ca0            Ms.   \n",
              "3          45  p246581  f3cb9bffbba169bef1a77b243e620b60           Mrs.   \n",
              "4      172407  p104768  be1f7507a41f8479dc06f047086a39ec           Mrs.   \n",
              "\n",
              "  school_state project_submitted_datetime project_grade_category  \\\n",
              "0           in        2016-12-05 13:43:57          grades_prek_2   \n",
              "1           fl        2016-10-25 09:22:10             grades_6_8   \n",
              "2           az        2016-08-31 12:03:56             grades_6_8   \n",
              "3           ky        2016-10-06 21:16:17          grades_prek_2   \n",
              "4           tx        2016-07-11 01:10:09          grades_prek_2   \n",
              "\n",
              "            project_subject_categories     project_subject_subcategories  \\\n",
              "0                  Literacy & Language                     ESL, Literacy   \n",
              "1    History & Civics, Health & Sports  Civics & Government, Team Sports   \n",
              "2                      Health & Sports    Health & Wellness, Team Sports   \n",
              "3  Literacy & Language, Math & Science             Literacy, Mathematics   \n",
              "4                       Math & Science                       Mathematics   \n",
              "\n",
              "                                       project_title  \\\n",
              "0   Educational Support for English Learners at Home   \n",
              "1              Wanted: Projector for Hungry Learners   \n",
              "2  Soccer Equipment for AWESOME Middle School Stu...   \n",
              "3                             Techie Kindergarteners   \n",
              "4                             Interactive Math Tools   \n",
              "\n",
              "                                     project_essay_1  \\\n",
              "0  My students are English learners that are work...   \n",
              "1  Our students arrive to our school eager to lea...   \n",
              "2  \\r\\n\\\"True champions aren't always the ones th...   \n",
              "3  I work at a unique school filled with both ESL...   \n",
              "4  Our second grade classroom next year will be m...   \n",
              "\n",
              "                                     project_essay_2 project_essay_3  \\\n",
              "0  \\\"The limits of your language are the limits o...             NaN   \n",
              "1  The projector we need for our school is very c...             NaN   \n",
              "2  The students on the campus come to school know...             NaN   \n",
              "3  My students live in high poverty conditions wi...             NaN   \n",
              "4  For many students, math is a subject that does...             NaN   \n",
              "\n",
              "  project_essay_4                           project_resource_summary  \\\n",
              "0             NaN  students need opportunities practice beginning...   \n",
              "1             NaN  students need projector help viewing education...   \n",
              "2             NaN  students need shine guards athletic socks socc...   \n",
              "3             NaN  students need engage reading math way inspire ...   \n",
              "4             NaN  students need hands practice mathematics fun p...   \n",
              "\n",
              "   teacher_number_of_previously_posted_projects  project_is_approved  \\\n",
              "0                                             0                    0   \n",
              "1                                             7                    1   \n",
              "2                                             1                    0   \n",
              "3                                             4                    1   \n",
              "4                                             1                    1   \n",
              "\n",
              "                                               essay   price  quantity  \n",
              "0  students english learners working english seco...  154.60        23  \n",
              "1  students arrive school eager learn polite gene...  299.00         1  \n",
              "2  true champions not always ones win guts mia ha...  516.85        22  \n",
              "3  work unique school filled esl english second l...  232.90         4  \n",
              "4  second grade classroom next year made around 2...   67.98         4  "
            ],
            "text/html": [
              "\n",
              "  <div id=\"df-9f0d07d6-0ab4-4637-a951-3b00bb02fa84\">\n",
              "    <div class=\"colab-df-container\">\n",
              "      <div>\n",
              "<style scoped>\n",
              "    .dataframe tbody tr th:only-of-type {\n",
              "        vertical-align: middle;\n",
              "    }\n",
              "\n",
              "    .dataframe tbody tr th {\n",
              "        vertical-align: top;\n",
              "    }\n",
              "\n",
              "    .dataframe thead th {\n",
              "        text-align: right;\n",
              "    }\n",
              "</style>\n",
              "<table border=\"1\" class=\"dataframe\">\n",
              "  <thead>\n",
              "    <tr style=\"text-align: right;\">\n",
              "      <th></th>\n",
              "      <th>Unnamed: 0</th>\n",
              "      <th>id</th>\n",
              "      <th>teacher_id</th>\n",
              "      <th>teacher_prefix</th>\n",
              "      <th>school_state</th>\n",
              "      <th>project_submitted_datetime</th>\n",
              "      <th>project_grade_category</th>\n",
              "      <th>project_subject_categories</th>\n",
              "      <th>project_subject_subcategories</th>\n",
              "      <th>project_title</th>\n",
              "      <th>project_essay_1</th>\n",
              "      <th>project_essay_2</th>\n",
              "      <th>project_essay_3</th>\n",
              "      <th>project_essay_4</th>\n",
              "      <th>project_resource_summary</th>\n",
              "      <th>teacher_number_of_previously_posted_projects</th>\n",
              "      <th>project_is_approved</th>\n",
              "      <th>essay</th>\n",
              "      <th>price</th>\n",
              "      <th>quantity</th>\n",
              "    </tr>\n",
              "  </thead>\n",
              "  <tbody>\n",
              "    <tr>\n",
              "      <th>0</th>\n",
              "      <td>160221</td>\n",
              "      <td>p253737</td>\n",
              "      <td>c90749f5d961ff158d4b4d1e7dc665fc</td>\n",
              "      <td>Mrs.</td>\n",
              "      <td>in</td>\n",
              "      <td>2016-12-05 13:43:57</td>\n",
              "      <td>grades_prek_2</td>\n",
              "      <td>Literacy &amp; Language</td>\n",
              "      <td>ESL, Literacy</td>\n",
              "      <td>Educational Support for English Learners at Home</td>\n",
              "      <td>My students are English learners that are work...</td>\n",
              "      <td>\\\"The limits of your language are the limits o...</td>\n",
              "      <td>NaN</td>\n",
              "      <td>NaN</td>\n",
              "      <td>students need opportunities practice beginning...</td>\n",
              "      <td>0</td>\n",
              "      <td>0</td>\n",
              "      <td>students english learners working english seco...</td>\n",
              "      <td>154.60</td>\n",
              "      <td>23</td>\n",
              "    </tr>\n",
              "    <tr>\n",
              "      <th>1</th>\n",
              "      <td>140945</td>\n",
              "      <td>p258326</td>\n",
              "      <td>897464ce9ddc600bced1151f324dd63a</td>\n",
              "      <td>Mr.</td>\n",
              "      <td>fl</td>\n",
              "      <td>2016-10-25 09:22:10</td>\n",
              "      <td>grades_6_8</td>\n",
              "      <td>History &amp; Civics, Health &amp; Sports</td>\n",
              "      <td>Civics &amp; Government, Team Sports</td>\n",
              "      <td>Wanted: Projector for Hungry Learners</td>\n",
              "      <td>Our students arrive to our school eager to lea...</td>\n",
              "      <td>The projector we need for our school is very c...</td>\n",
              "      <td>NaN</td>\n",
              "      <td>NaN</td>\n",
              "      <td>students need projector help viewing education...</td>\n",
              "      <td>7</td>\n",
              "      <td>1</td>\n",
              "      <td>students arrive school eager learn polite gene...</td>\n",
              "      <td>299.00</td>\n",
              "      <td>1</td>\n",
              "    </tr>\n",
              "    <tr>\n",
              "      <th>2</th>\n",
              "      <td>21895</td>\n",
              "      <td>p182444</td>\n",
              "      <td>3465aaf82da834c0582ebd0ef8040ca0</td>\n",
              "      <td>Ms.</td>\n",
              "      <td>az</td>\n",
              "      <td>2016-08-31 12:03:56</td>\n",
              "      <td>grades_6_8</td>\n",
              "      <td>Health &amp; Sports</td>\n",
              "      <td>Health &amp; Wellness, Team Sports</td>\n",
              "      <td>Soccer Equipment for AWESOME Middle School Stu...</td>\n",
              "      <td>\\r\\n\\\"True champions aren't always the ones th...</td>\n",
              "      <td>The students on the campus come to school know...</td>\n",
              "      <td>NaN</td>\n",
              "      <td>NaN</td>\n",
              "      <td>students need shine guards athletic socks socc...</td>\n",
              "      <td>1</td>\n",
              "      <td>0</td>\n",
              "      <td>true champions not always ones win guts mia ha...</td>\n",
              "      <td>516.85</td>\n",
              "      <td>22</td>\n",
              "    </tr>\n",
              "    <tr>\n",
              "      <th>3</th>\n",
              "      <td>45</td>\n",
              "      <td>p246581</td>\n",
              "      <td>f3cb9bffbba169bef1a77b243e620b60</td>\n",
              "      <td>Mrs.</td>\n",
              "      <td>ky</td>\n",
              "      <td>2016-10-06 21:16:17</td>\n",
              "      <td>grades_prek_2</td>\n",
              "      <td>Literacy &amp; Language, Math &amp; Science</td>\n",
              "      <td>Literacy, Mathematics</td>\n",
              "      <td>Techie Kindergarteners</td>\n",
              "      <td>I work at a unique school filled with both ESL...</td>\n",
              "      <td>My students live in high poverty conditions wi...</td>\n",
              "      <td>NaN</td>\n",
              "      <td>NaN</td>\n",
              "      <td>students need engage reading math way inspire ...</td>\n",
              "      <td>4</td>\n",
              "      <td>1</td>\n",
              "      <td>work unique school filled esl english second l...</td>\n",
              "      <td>232.90</td>\n",
              "      <td>4</td>\n",
              "    </tr>\n",
              "    <tr>\n",
              "      <th>4</th>\n",
              "      <td>172407</td>\n",
              "      <td>p104768</td>\n",
              "      <td>be1f7507a41f8479dc06f047086a39ec</td>\n",
              "      <td>Mrs.</td>\n",
              "      <td>tx</td>\n",
              "      <td>2016-07-11 01:10:09</td>\n",
              "      <td>grades_prek_2</td>\n",
              "      <td>Math &amp; Science</td>\n",
              "      <td>Mathematics</td>\n",
              "      <td>Interactive Math Tools</td>\n",
              "      <td>Our second grade classroom next year will be m...</td>\n",
              "      <td>For many students, math is a subject that does...</td>\n",
              "      <td>NaN</td>\n",
              "      <td>NaN</td>\n",
              "      <td>students need hands practice mathematics fun p...</td>\n",
              "      <td>1</td>\n",
              "      <td>1</td>\n",
              "      <td>second grade classroom next year made around 2...</td>\n",
              "      <td>67.98</td>\n",
              "      <td>4</td>\n",
              "    </tr>\n",
              "  </tbody>\n",
              "</table>\n",
              "</div>\n",
              "      <button class=\"colab-df-convert\" onclick=\"convertToInteractive('df-9f0d07d6-0ab4-4637-a951-3b00bb02fa84')\"\n",
              "              title=\"Convert this dataframe to an interactive table.\"\n",
              "              style=\"display:none;\">\n",
              "        \n",
              "  <svg xmlns=\"http://www.w3.org/2000/svg\" height=\"24px\"viewBox=\"0 0 24 24\"\n",
              "       width=\"24px\">\n",
              "    <path d=\"M0 0h24v24H0V0z\" fill=\"none\"/>\n",
              "    <path d=\"M18.56 5.44l.94 2.06.94-2.06 2.06-.94-2.06-.94-.94-2.06-.94 2.06-2.06.94zm-11 1L8.5 8.5l.94-2.06 2.06-.94-2.06-.94L8.5 2.5l-.94 2.06-2.06.94zm10 10l.94 2.06.94-2.06 2.06-.94-2.06-.94-.94-2.06-.94 2.06-2.06.94z\"/><path d=\"M17.41 7.96l-1.37-1.37c-.4-.4-.92-.59-1.43-.59-.52 0-1.04.2-1.43.59L10.3 9.45l-7.72 7.72c-.78.78-.78 2.05 0 2.83L4 21.41c.39.39.9.59 1.41.59.51 0 1.02-.2 1.41-.59l7.78-7.78 2.81-2.81c.8-.78.8-2.07 0-2.86zM5.41 20L4 18.59l7.72-7.72 1.47 1.35L5.41 20z\"/>\n",
              "  </svg>\n",
              "      </button>\n",
              "      \n",
              "  <style>\n",
              "    .colab-df-container {\n",
              "      display:flex;\n",
              "      flex-wrap:wrap;\n",
              "      gap: 12px;\n",
              "    }\n",
              "\n",
              "    .colab-df-convert {\n",
              "      background-color: #E8F0FE;\n",
              "      border: none;\n",
              "      border-radius: 50%;\n",
              "      cursor: pointer;\n",
              "      display: none;\n",
              "      fill: #1967D2;\n",
              "      height: 32px;\n",
              "      padding: 0 0 0 0;\n",
              "      width: 32px;\n",
              "    }\n",
              "\n",
              "    .colab-df-convert:hover {\n",
              "      background-color: #E2EBFA;\n",
              "      box-shadow: 0px 1px 2px rgba(60, 64, 67, 0.3), 0px 1px 3px 1px rgba(60, 64, 67, 0.15);\n",
              "      fill: #174EA6;\n",
              "    }\n",
              "\n",
              "    [theme=dark] .colab-df-convert {\n",
              "      background-color: #3B4455;\n",
              "      fill: #D2E3FC;\n",
              "    }\n",
              "\n",
              "    [theme=dark] .colab-df-convert:hover {\n",
              "      background-color: #434B5C;\n",
              "      box-shadow: 0px 1px 3px 1px rgba(0, 0, 0, 0.15);\n",
              "      filter: drop-shadow(0px 1px 2px rgba(0, 0, 0, 0.3));\n",
              "      fill: #FFFFFF;\n",
              "    }\n",
              "  </style>\n",
              "\n",
              "      <script>\n",
              "        const buttonEl =\n",
              "          document.querySelector('#df-9f0d07d6-0ab4-4637-a951-3b00bb02fa84 button.colab-df-convert');\n",
              "        buttonEl.style.display =\n",
              "          google.colab.kernel.accessAllowed ? 'block' : 'none';\n",
              "\n",
              "        async function convertToInteractive(key) {\n",
              "          const element = document.querySelector('#df-9f0d07d6-0ab4-4637-a951-3b00bb02fa84');\n",
              "          const dataTable =\n",
              "            await google.colab.kernel.invokeFunction('convertToInteractive',\n",
              "                                                     [key], {});\n",
              "          if (!dataTable) return;\n",
              "\n",
              "          const docLinkHtml = 'Like what you see? Visit the ' +\n",
              "            '<a target=\"_blank\" href=https://colab.research.google.com/notebooks/data_table.ipynb>data table notebook</a>'\n",
              "            + ' to learn more about interactive tables.';\n",
              "          element.innerHTML = '';\n",
              "          dataTable['output_type'] = 'display_data';\n",
              "          await google.colab.output.renderOutput(dataTable, element);\n",
              "          const docLink = document.createElement('div');\n",
              "          docLink.innerHTML = docLinkHtml;\n",
              "          element.appendChild(docLink);\n",
              "        }\n",
              "      </script>\n",
              "    </div>\n",
              "  </div>\n",
              "  "
            ]
          },
          "metadata": {},
          "execution_count": 30
        }
      ],
      "source": [
        "project_data.head()"
      ]
    },
    {
      "cell_type": "code",
      "source": [
        "\n",
        "# dropping the columns which dont add value to our Model\n",
        "\n",
        "project_data = project_data.drop(['Unnamed: 0', 'id', 'teacher_id', 'project_submitted_datetime', 'project_essay_1', 'project_essay_2', \n",
        "                   'project_essay_3', 'project_essay_4'], axis=1)\n"
      ],
      "metadata": {
        "id": "VsEDSDKJBI7G"
      },
      "execution_count": 31,
      "outputs": []
    },
    {
      "cell_type": "code",
      "source": [
        "project_data.shape"
      ],
      "metadata": {
        "colab": {
          "base_uri": "https://localhost:8080/"
        },
        "id": "fEv4c9HIBbm6",
        "outputId": "0d1d32d1-36fa-4507-9d1a-63a4d2a61d85"
      },
      "execution_count": 32,
      "outputs": [
        {
          "output_type": "execute_result",
          "data": {
            "text/plain": [
              "(109248, 12)"
            ]
          },
          "metadata": {},
          "execution_count": 32
        }
      ]
    },
    {
      "cell_type": "code",
      "source": [
        "project_data.head()"
      ],
      "metadata": {
        "colab": {
          "base_uri": "https://localhost:8080/",
          "height": 722
        },
        "id": "B0eiwz22Bphi",
        "outputId": "6c6699fe-e05a-41ac-bfd4-214bc1f1f6fd"
      },
      "execution_count": 33,
      "outputs": [
        {
          "output_type": "execute_result",
          "data": {
            "text/plain": [
              "  teacher_prefix school_state project_grade_category  \\\n",
              "0           Mrs.           in          grades_prek_2   \n",
              "1            Mr.           fl             grades_6_8   \n",
              "2            Ms.           az             grades_6_8   \n",
              "3           Mrs.           ky          grades_prek_2   \n",
              "4           Mrs.           tx          grades_prek_2   \n",
              "\n",
              "            project_subject_categories     project_subject_subcategories  \\\n",
              "0                  Literacy & Language                     ESL, Literacy   \n",
              "1    History & Civics, Health & Sports  Civics & Government, Team Sports   \n",
              "2                      Health & Sports    Health & Wellness, Team Sports   \n",
              "3  Literacy & Language, Math & Science             Literacy, Mathematics   \n",
              "4                       Math & Science                       Mathematics   \n",
              "\n",
              "                                       project_title  \\\n",
              "0   Educational Support for English Learners at Home   \n",
              "1              Wanted: Projector for Hungry Learners   \n",
              "2  Soccer Equipment for AWESOME Middle School Stu...   \n",
              "3                             Techie Kindergarteners   \n",
              "4                             Interactive Math Tools   \n",
              "\n",
              "                            project_resource_summary  \\\n",
              "0  students need opportunities practice beginning...   \n",
              "1  students need projector help viewing education...   \n",
              "2  students need shine guards athletic socks socc...   \n",
              "3  students need engage reading math way inspire ...   \n",
              "4  students need hands practice mathematics fun p...   \n",
              "\n",
              "   teacher_number_of_previously_posted_projects  project_is_approved  \\\n",
              "0                                             0                    0   \n",
              "1                                             7                    1   \n",
              "2                                             1                    0   \n",
              "3                                             4                    1   \n",
              "4                                             1                    1   \n",
              "\n",
              "                                               essay   price  quantity  \n",
              "0  students english learners working english seco...  154.60        23  \n",
              "1  students arrive school eager learn polite gene...  299.00         1  \n",
              "2  true champions not always ones win guts mia ha...  516.85        22  \n",
              "3  work unique school filled esl english second l...  232.90         4  \n",
              "4  second grade classroom next year made around 2...   67.98         4  "
            ],
            "text/html": [
              "\n",
              "  <div id=\"df-fec034db-770d-400c-9e48-cfa51781bece\">\n",
              "    <div class=\"colab-df-container\">\n",
              "      <div>\n",
              "<style scoped>\n",
              "    .dataframe tbody tr th:only-of-type {\n",
              "        vertical-align: middle;\n",
              "    }\n",
              "\n",
              "    .dataframe tbody tr th {\n",
              "        vertical-align: top;\n",
              "    }\n",
              "\n",
              "    .dataframe thead th {\n",
              "        text-align: right;\n",
              "    }\n",
              "</style>\n",
              "<table border=\"1\" class=\"dataframe\">\n",
              "  <thead>\n",
              "    <tr style=\"text-align: right;\">\n",
              "      <th></th>\n",
              "      <th>teacher_prefix</th>\n",
              "      <th>school_state</th>\n",
              "      <th>project_grade_category</th>\n",
              "      <th>project_subject_categories</th>\n",
              "      <th>project_subject_subcategories</th>\n",
              "      <th>project_title</th>\n",
              "      <th>project_resource_summary</th>\n",
              "      <th>teacher_number_of_previously_posted_projects</th>\n",
              "      <th>project_is_approved</th>\n",
              "      <th>essay</th>\n",
              "      <th>price</th>\n",
              "      <th>quantity</th>\n",
              "    </tr>\n",
              "  </thead>\n",
              "  <tbody>\n",
              "    <tr>\n",
              "      <th>0</th>\n",
              "      <td>Mrs.</td>\n",
              "      <td>in</td>\n",
              "      <td>grades_prek_2</td>\n",
              "      <td>Literacy &amp; Language</td>\n",
              "      <td>ESL, Literacy</td>\n",
              "      <td>Educational Support for English Learners at Home</td>\n",
              "      <td>students need opportunities practice beginning...</td>\n",
              "      <td>0</td>\n",
              "      <td>0</td>\n",
              "      <td>students english learners working english seco...</td>\n",
              "      <td>154.60</td>\n",
              "      <td>23</td>\n",
              "    </tr>\n",
              "    <tr>\n",
              "      <th>1</th>\n",
              "      <td>Mr.</td>\n",
              "      <td>fl</td>\n",
              "      <td>grades_6_8</td>\n",
              "      <td>History &amp; Civics, Health &amp; Sports</td>\n",
              "      <td>Civics &amp; Government, Team Sports</td>\n",
              "      <td>Wanted: Projector for Hungry Learners</td>\n",
              "      <td>students need projector help viewing education...</td>\n",
              "      <td>7</td>\n",
              "      <td>1</td>\n",
              "      <td>students arrive school eager learn polite gene...</td>\n",
              "      <td>299.00</td>\n",
              "      <td>1</td>\n",
              "    </tr>\n",
              "    <tr>\n",
              "      <th>2</th>\n",
              "      <td>Ms.</td>\n",
              "      <td>az</td>\n",
              "      <td>grades_6_8</td>\n",
              "      <td>Health &amp; Sports</td>\n",
              "      <td>Health &amp; Wellness, Team Sports</td>\n",
              "      <td>Soccer Equipment for AWESOME Middle School Stu...</td>\n",
              "      <td>students need shine guards athletic socks socc...</td>\n",
              "      <td>1</td>\n",
              "      <td>0</td>\n",
              "      <td>true champions not always ones win guts mia ha...</td>\n",
              "      <td>516.85</td>\n",
              "      <td>22</td>\n",
              "    </tr>\n",
              "    <tr>\n",
              "      <th>3</th>\n",
              "      <td>Mrs.</td>\n",
              "      <td>ky</td>\n",
              "      <td>grades_prek_2</td>\n",
              "      <td>Literacy &amp; Language, Math &amp; Science</td>\n",
              "      <td>Literacy, Mathematics</td>\n",
              "      <td>Techie Kindergarteners</td>\n",
              "      <td>students need engage reading math way inspire ...</td>\n",
              "      <td>4</td>\n",
              "      <td>1</td>\n",
              "      <td>work unique school filled esl english second l...</td>\n",
              "      <td>232.90</td>\n",
              "      <td>4</td>\n",
              "    </tr>\n",
              "    <tr>\n",
              "      <th>4</th>\n",
              "      <td>Mrs.</td>\n",
              "      <td>tx</td>\n",
              "      <td>grades_prek_2</td>\n",
              "      <td>Math &amp; Science</td>\n",
              "      <td>Mathematics</td>\n",
              "      <td>Interactive Math Tools</td>\n",
              "      <td>students need hands practice mathematics fun p...</td>\n",
              "      <td>1</td>\n",
              "      <td>1</td>\n",
              "      <td>second grade classroom next year made around 2...</td>\n",
              "      <td>67.98</td>\n",
              "      <td>4</td>\n",
              "    </tr>\n",
              "  </tbody>\n",
              "</table>\n",
              "</div>\n",
              "      <button class=\"colab-df-convert\" onclick=\"convertToInteractive('df-fec034db-770d-400c-9e48-cfa51781bece')\"\n",
              "              title=\"Convert this dataframe to an interactive table.\"\n",
              "              style=\"display:none;\">\n",
              "        \n",
              "  <svg xmlns=\"http://www.w3.org/2000/svg\" height=\"24px\"viewBox=\"0 0 24 24\"\n",
              "       width=\"24px\">\n",
              "    <path d=\"M0 0h24v24H0V0z\" fill=\"none\"/>\n",
              "    <path d=\"M18.56 5.44l.94 2.06.94-2.06 2.06-.94-2.06-.94-.94-2.06-.94 2.06-2.06.94zm-11 1L8.5 8.5l.94-2.06 2.06-.94-2.06-.94L8.5 2.5l-.94 2.06-2.06.94zm10 10l.94 2.06.94-2.06 2.06-.94-2.06-.94-.94-2.06-.94 2.06-2.06.94z\"/><path d=\"M17.41 7.96l-1.37-1.37c-.4-.4-.92-.59-1.43-.59-.52 0-1.04.2-1.43.59L10.3 9.45l-7.72 7.72c-.78.78-.78 2.05 0 2.83L4 21.41c.39.39.9.59 1.41.59.51 0 1.02-.2 1.41-.59l7.78-7.78 2.81-2.81c.8-.78.8-2.07 0-2.86zM5.41 20L4 18.59l7.72-7.72 1.47 1.35L5.41 20z\"/>\n",
              "  </svg>\n",
              "      </button>\n",
              "      \n",
              "  <style>\n",
              "    .colab-df-container {\n",
              "      display:flex;\n",
              "      flex-wrap:wrap;\n",
              "      gap: 12px;\n",
              "    }\n",
              "\n",
              "    .colab-df-convert {\n",
              "      background-color: #E8F0FE;\n",
              "      border: none;\n",
              "      border-radius: 50%;\n",
              "      cursor: pointer;\n",
              "      display: none;\n",
              "      fill: #1967D2;\n",
              "      height: 32px;\n",
              "      padding: 0 0 0 0;\n",
              "      width: 32px;\n",
              "    }\n",
              "\n",
              "    .colab-df-convert:hover {\n",
              "      background-color: #E2EBFA;\n",
              "      box-shadow: 0px 1px 2px rgba(60, 64, 67, 0.3), 0px 1px 3px 1px rgba(60, 64, 67, 0.15);\n",
              "      fill: #174EA6;\n",
              "    }\n",
              "\n",
              "    [theme=dark] .colab-df-convert {\n",
              "      background-color: #3B4455;\n",
              "      fill: #D2E3FC;\n",
              "    }\n",
              "\n",
              "    [theme=dark] .colab-df-convert:hover {\n",
              "      background-color: #434B5C;\n",
              "      box-shadow: 0px 1px 3px 1px rgba(0, 0, 0, 0.15);\n",
              "      filter: drop-shadow(0px 1px 2px rgba(0, 0, 0, 0.3));\n",
              "      fill: #FFFFFF;\n",
              "    }\n",
              "  </style>\n",
              "\n",
              "      <script>\n",
              "        const buttonEl =\n",
              "          document.querySelector('#df-fec034db-770d-400c-9e48-cfa51781bece button.colab-df-convert');\n",
              "        buttonEl.style.display =\n",
              "          google.colab.kernel.accessAllowed ? 'block' : 'none';\n",
              "\n",
              "        async function convertToInteractive(key) {\n",
              "          const element = document.querySelector('#df-fec034db-770d-400c-9e48-cfa51781bece');\n",
              "          const dataTable =\n",
              "            await google.colab.kernel.invokeFunction('convertToInteractive',\n",
              "                                                     [key], {});\n",
              "          if (!dataTable) return;\n",
              "\n",
              "          const docLinkHtml = 'Like what you see? Visit the ' +\n",
              "            '<a target=\"_blank\" href=https://colab.research.google.com/notebooks/data_table.ipynb>data table notebook</a>'\n",
              "            + ' to learn more about interactive tables.';\n",
              "          element.innerHTML = '';\n",
              "          dataTable['output_type'] = 'display_data';\n",
              "          await google.colab.output.renderOutput(dataTable, element);\n",
              "          const docLink = document.createElement('div');\n",
              "          docLink.innerHTML = docLinkHtml;\n",
              "          element.appendChild(docLink);\n",
              "        }\n",
              "      </script>\n",
              "    </div>\n",
              "  </div>\n",
              "  "
            ]
          },
          "metadata": {},
          "execution_count": 33
        }
      ]
    },
    {
      "cell_type": "markdown",
      "source": [
        "## Performing sentiment analysis"
      ],
      "metadata": {
        "id": "dEFNhRuFCgWE"
      }
    },
    {
      "cell_type": "code",
      "source": [
        "# examples for sentiment analysis\n",
        "# this gives us the sentiment score based on the type of sentance\n",
        "\n",
        "# below are some of the examples\n",
        "\n",
        "sid = SentimentIntensityAnalyzer()\n",
        "\n",
        "sample_sentence_1='you went off!!!'\n",
        "ss_1 = sid.polarity_scores(sample_sentence_1)\n",
        "print('sentiment score for sentence 1',ss_1)\n",
        "\n",
        "sample_sentence_2='I am sad.'\n",
        "ss_2 = sid.polarity_scores(sample_sentence_2)\n",
        "print('sentiment score for sentence 2',ss_2)\n",
        "\n",
        "sample_sentence_3='I am going to New Delhi tommorow.'\n",
        "ss_3 = sid.polarity_scores(sample_sentence_3)\n",
        "print('sentiment score for sentence 3',ss_3)"
      ],
      "metadata": {
        "colab": {
          "base_uri": "https://localhost:8080/"
        },
        "id": "L52kIaquChmW",
        "outputId": "2fdfa634-4b1b-426f-8459-8dd0585b280f"
      },
      "execution_count": 34,
      "outputs": [
        {
          "output_type": "stream",
          "name": "stdout",
          "text": [
            "sentiment score for sentence 1 {'neg': 0.0, 'neu': 1.0, 'pos': 0.0, 'compound': 0.0}\n",
            "sentiment score for sentence 2 {'neg': 0.756, 'neu': 0.244, 'pos': 0.0, 'compound': -0.4767}\n",
            "sentiment score for sentence 3 {'neg': 0.0, 'neu': 1.0, 'pos': 0.0, 'compound': 0.0}\n"
          ]
        }
      ]
    },
    {
      "cell_type": "code",
      "source": [
        "print(\"Number of columns in our Data before adding Sentiment Analysis featues are:\", project_data.shape[1])"
      ],
      "metadata": {
        "colab": {
          "base_uri": "https://localhost:8080/"
        },
        "id": "TAFdgLPcDLe0",
        "outputId": "9fe7be2e-6a81-4496-e71e-106bb0c8cf12"
      },
      "execution_count": 35,
      "outputs": [
        {
          "output_type": "stream",
          "name": "stdout",
          "text": [
            "Number of columns in our Data before adding Sentiment Analysis featues are: 12\n"
          ]
        }
      ]
    },
    {
      "cell_type": "code",
      "source": [
        "project_data.shape"
      ],
      "metadata": {
        "colab": {
          "base_uri": "https://localhost:8080/"
        },
        "id": "7F_pb7OzDhlp",
        "outputId": "2941cefc-820a-41e9-f204-a056cc94b5db"
      },
      "execution_count": 36,
      "outputs": [
        {
          "output_type": "execute_result",
          "data": {
            "text/plain": [
              "(109248, 12)"
            ]
          },
          "metadata": {},
          "execution_count": 36
        }
      ]
    },
    {
      "cell_type": "code",
      "source": [
        "# adding required columns to our Data to add the features of Sentiment Analysis\n",
        "project_data['negative_score']='' \n",
        "project_data['positive_score']=''\n",
        "project_data['neutral_score']=''\n",
        "project_data['compound_score']=''"
      ],
      "metadata": {
        "id": "PACZXr4kDwQc"
      },
      "execution_count": 37,
      "outputs": []
    },
    {
      "cell_type": "code",
      "source": [
        "print(\"Number of columns in our Data after adding necessary columns for Sentiment Analysis featues are:\", project_data.shape[1])"
      ],
      "metadata": {
        "colab": {
          "base_uri": "https://localhost:8080/"
        },
        "id": "wWhFsSYPD0pt",
        "outputId": "29e099f4-d3fa-4044-fb2d-b6f2de8ecc47"
      },
      "execution_count": 38,
      "outputs": [
        {
          "output_type": "stream",
          "name": "stdout",
          "text": [
            "Number of columns in our Data after adding necessary columns for Sentiment Analysis featues are: 16\n"
          ]
        }
      ]
    },
    {
      "cell_type": "code",
      "source": [
        "sid = SentimentIntensityAnalyzer()\n",
        "\n",
        "for k in tqdm(range(project_data.shape[0])):\n",
        "  #print(k)\n",
        "  ss = sid.polarity_scores(project_data['essay'][k])\n",
        "  #print(ss)\n",
        "  #print(ss['neg'])\n",
        "  project_data['negative_score'][k] = ss['neg']\n",
        "  project_data['neutral_score'][k] = ss['neu']\n",
        "  project_data['positive_score'][k] = ss['pos']\n",
        "  project_data['compound_score'][k] = ss['compound']"
      ],
      "metadata": {
        "colab": {
          "base_uri": "https://localhost:8080/"
        },
        "id": "sia9XaClDhHb",
        "outputId": "e8f27de2-9aa9-42a5-fc52-dba52a04e134"
      },
      "execution_count": 134,
      "outputs": [
        {
          "output_type": "stream",
          "name": "stderr",
          "text": [
            "100%|██████████| 109248/109248 [15:04<00:00, 120.80it/s]\n"
          ]
        }
      ]
    },
    {
      "cell_type": "code",
      "source": [
        "# columns that has null values\n",
        "project_data.isna().sum()\n"
      ],
      "metadata": {
        "colab": {
          "base_uri": "https://localhost:8080/"
        },
        "id": "vEc_uO7HD_1A",
        "outputId": "26b9953a-9f33-4f3d-9979-886a0fd395dc"
      },
      "execution_count": 135,
      "outputs": [
        {
          "output_type": "execute_result",
          "data": {
            "text/plain": [
              "teacher_prefix                                  0\n",
              "school_state                                    0\n",
              "project_grade_category                          0\n",
              "project_subject_categories                      0\n",
              "project_subject_subcategories                   0\n",
              "project_title                                   0\n",
              "project_resource_summary                        0\n",
              "teacher_number_of_previously_posted_projects    0\n",
              "project_is_approved                             0\n",
              "essay                                           0\n",
              "price                                           0\n",
              "quantity                                        0\n",
              "negative_score                                  0\n",
              "positive_score                                  0\n",
              "neutral_score                                   0\n",
              "compound_score                                  0\n",
              "dtype: int64"
            ]
          },
          "metadata": {},
          "execution_count": 135
        }
      ]
    },
    {
      "cell_type": "code",
      "source": [
        "print(\"Printing the indexs that of the rows that have Null value in 'project_title' column\")\n",
        "project_data[project_data['project_title'].isnull()].index.tolist()"
      ],
      "metadata": {
        "colab": {
          "base_uri": "https://localhost:8080/"
        },
        "id": "Nn-L0EQBECMb",
        "outputId": "46260c0f-78f0-449e-ec94-8c4af9017862"
      },
      "execution_count": 136,
      "outputs": [
        {
          "output_type": "stream",
          "name": "stdout",
          "text": [
            "Printing the indexs that of the rows that have Null value in 'project_title' column\n"
          ]
        },
        {
          "output_type": "execute_result",
          "data": {
            "text/plain": [
              "[]"
            ]
          },
          "metadata": {},
          "execution_count": 136
        }
      ]
    },
    {
      "cell_type": "code",
      "source": [
        "preprocessed_project_data = project_data"
      ],
      "metadata": {
        "id": "RV4eL1jgG0Vr"
      },
      "execution_count": 137,
      "outputs": []
    },
    {
      "cell_type": "code",
      "source": [
        "# converting into a new csv file without storing index values but with headers (column names)\n",
        "# index = False --- to not include row numbers\n",
        "\n",
        "preprocessed_project_data.to_csv('preprocessed_project_data.csv', index = False) "
      ],
      "metadata": {
        "id": "4l2xOKo7GsB7"
      },
      "execution_count": 139,
      "outputs": []
    },
    {
      "cell_type": "code",
      "source": [
        "preprocessed_project_data.shape"
      ],
      "metadata": {
        "colab": {
          "base_uri": "https://localhost:8080/"
        },
        "id": "hEqO7oFIHj_r",
        "outputId": "a47b15e1-fdbe-4bcc-bc65-4b9107d779d9"
      },
      "execution_count": 141,
      "outputs": [
        {
          "output_type": "execute_result",
          "data": {
            "text/plain": [
              "(109248, 16)"
            ]
          },
          "metadata": {},
          "execution_count": 141
        }
      ]
    }
  ],
  "metadata": {
    "kernelspec": {
      "display_name": "Python 3",
      "language": "python",
      "name": "python3"
    },
    "language_info": {
      "codemirror_mode": {
        "name": "ipython",
        "version": 3
      },
      "file_extension": ".py",
      "mimetype": "text/x-python",
      "name": "python",
      "nbconvert_exporter": "python",
      "pygments_lexer": "ipython3",
      "version": "3.6.8"
    },
    "colab": {
      "provenance": [],
      "collapsed_sections": []
    }
  },
  "nbformat": 4,
  "nbformat_minor": 0
}